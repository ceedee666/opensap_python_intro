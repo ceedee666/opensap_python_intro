{
 "cells": [
  {
   "cell_type": "markdown",
   "metadata": {},
   "source": [
    "# Week 3 - Additional Exercises\n",
    "## Tuples, Dictionaries"
   ]
  },
  {
   "cell_type": "markdown",
   "metadata": {},
   "source": [
    "### Exercise 1: Create Tuple\n",
    "The Guardian publishes the current [football tables](https://www.theguardian.com/football/tables) of the major European football leagues ⚽️. (If you like to do this task with your own league, you can of course choose any other webpage hosting your team, your sports, your league 🙂).\n",
    "\n",
    "For each of the first three teams of your favourite league create a tuple consisting of *Name of the Team, Position, Games Played* and *Points*. Use three variables `team1`, `team2`, `team3` to store these tuples. Using a `for` loop iterate over one team and print the individual elements."
   ]
  },
  {
   "cell_type": "code",
   "execution_count": null,
   "metadata": {},
   "outputs": [],
   "source": [
    "team1 = (\"Man City\", 1, 31, 74)\n",
    "team2 = (\"Liverpool\", 2, 31, 73)\n",
    "team3 = (\"Chelsea\", 3, 30, 62)\n",
    "for element in team2:\n",
    "    print(element)"
   ]
  },
  {
   "cell_type": "markdown",
   "metadata": {},
   "source": [
    "### Exercise 2: Add these tuples to a list\n",
    "Create a list called `league` and add each team to this list. Iterate over this list and output each team."
   ]
  },
  {
   "cell_type": "code",
   "execution_count": null,
   "metadata": {},
   "outputs": [],
   "source": [
    "league = [team1, team2, team3]\n",
    "for team in league:\n",
    "    print(team)"
   ]
  },
  {
   "cell_type": "markdown",
   "metadata": {},
   "source": [
    "### Exercise 3: Using `input()` add three more teams to the league\n",
    "Three teams are not enough! Add three more teams to your league. Use a `for` loop iterating over `range(3)`. Within the `for` loop use `input()` to get the required values (name, position, games played, points). Do not forget to cast the input, if a certain data type is preferred. At the end of the loop create a tuple and append it to your `league`. Once the enlarged `league` is built up, again print all the teams. (If you run the program several times, you can really increase the number of teams in your league.)"
   ]
  },
  {
   "cell_type": "code",
   "execution_count": null,
   "metadata": {},
   "outputs": [],
   "source": [
    "for i in range(3):\n",
    "    name = input(\"Name of team: \")\n",
    "    position = int(input(\"Position of team: \"))\n",
    "    games_played = int(input(\"Games played: \"))\n",
    "    points = int(input(\"Points achieved so far: \"))\n",
    "    team = (name, position, games_played, points)\n",
    "    league.append(team)\n",
    "    \n",
    "for team in league:\n",
    "    print(team)"
   ]
  },
  {
   "cell_type": "markdown",
   "metadata": {},
   "source": [
    "### Exercise 4: Print out the position of a team\n",
    "Using `input()` ask for a name of a team. If the team is in the list, output the current position of this team. If the team is not in the list, then output, that the team does not play in your league."
   ]
  },
  {
   "cell_type": "code",
   "execution_count": null,
   "metadata": {},
   "outputs": [],
   "source": [
    "name = input(\"From which team do you want to have the position: \")\n",
    "\n",
    "found = False\n",
    "for team in league:\n",
    "    if team[0] == name:\n",
    "        print(team[0], \"is currently on position\", team[1])\n",
    "        found = True\n",
    "if not found:\n",
    "    print(name, \"does not play in the league\")"
   ]
  },
  {
   "cell_type": "markdown",
   "metadata": {},
   "source": [
    "### Exercise 5: Convert the list into a dictionary\n",
    "As you have seen in the last exercise, it is necessary to loop over the list to find a certain team. Maybe, we should convert the *list of tuples* into a *dictionary of tuples* named `new_league`. Take the name of each team as the key and the other values as a (new) tuple which is the value assigned to that key. Finally, iterate over the dictionary and print each key-value-pair."
   ]
  },
  {
   "cell_type": "code",
   "execution_count": null,
   "metadata": {},
   "outputs": [],
   "source": [
    "new_league = {}\n",
    "\n",
    "for team in league:\n",
    "    values =  (team[1], team [2], team[3])\n",
    "    new_league[team[0]] = values\n",
    "    \n",
    "for team, values in new_league.items():\n",
    "    print(team, values)"
   ]
  },
  {
   "cell_type": "markdown",
   "metadata": {},
   "source": [
    "### Exercise 6: Print out the position of a team\n",
    "Redo exercise 4. Of course you should use the dictionary `new_league` to get the data."
   ]
  },
  {
   "cell_type": "code",
   "execution_count": null,
   "metadata": {},
   "outputs": [],
   "source": [
    "team = input(\"From which team do you want to have the position: \")\n",
    "\n",
    "if team in new_league:\n",
    "    print(team, \"is currently on position\", new_league[team][0])\n",
    "else:\n",
    "    print(team, \"does not play in the league\")"
   ]
  },
  {
   "cell_type": "markdown",
   "metadata": {},
   "source": [
    "### Exercise 7: Add the goal difference\n",
    "You realize, that to position two teams with same number of points the *goal difference (GD)* is required. Add the goal difference to the tuple containing the team values. As a tuple is unmutable, you have to first deconstruct the tuple, then add the goal difference and finally construct a new tuple. You can get the goal difference again using `input()`. Finally print the values of all teams of `new_league`."
   ]
  },
  {
   "cell_type": "code",
   "execution_count": null,
   "metadata": {},
   "outputs": [],
   "source": [
    "for team, values in new_league.items():\n",
    "    question = \"What is the goal difference for \" + team + \"? \"\n",
    "    goal_difference = int(input(question))\n",
    "    new_values = (values[0], values[1], values[2], goal_difference)\n",
    "    new_league[team] = new_values\n",
    "    \n",
    "for team, values in new_league.items():\n",
    "    print(team, values)"
   ]
  },
  {
   "cell_type": "markdown",
   "metadata": {},
   "source": [
    "### Exercise 8: Convert the tuples into dictionaries\n",
    "As you have experienced in the above exercise, adding new information to the teams is quite cumbersome as a tuple is immutable. That means all values from the old tuple have to be picked and placed into a new tuple with the additional values. To make live easier in the future, the tuples should next be changed into a dictionary. Iterate over the dictionary `new_league`. For each team create a new dictionary `team_info`. For the keys use descriptive names like `\"points\"` or `\"goal difference\"`. Assign the value from the tuples as value to these keys. Assign the dictionary `team_info` as the value to the team in the dictionary of the teams. Finally, loop over the dictionary and display the team information."
   ]
  },
  {
   "cell_type": "code",
   "execution_count": null,
   "metadata": {},
   "outputs": [],
   "source": [
    "for key, values in new_league.items():\n",
    "    team_info = {}\n",
    "    team_info[\"position\"] = values[0]\n",
    "    team_info[\"games played\"] = values[1]\n",
    "    team_info[\"points\"] = values[2]\n",
    "    team_info[\"goal difference\"] = values[3]\n",
    "    new_league[key] = team_info\n",
    "    \n",
    "for key, values in new_league.items():\n",
    "    print(key, values)"
   ]
  },
  {
   "cell_type": "markdown",
   "metadata": {},
   "source": [
    "### Exercise 9: Add Points/Game\n",
    "As another indicator per team, the average number of points per game should be calculated and added as info to each team. Loop over `new_league`, calculate this new indicator and add it to the team values. Finally, for each team print the name and the points per game."
   ]
  },
  {
   "cell_type": "code",
   "execution_count": null,
   "metadata": {},
   "outputs": [],
   "source": [
    "for team, values in new_league.items():\n",
    "    points_per_game = values[\"points\"] / values[\"games played\"]\n",
    "    values[\"points per game\"] = points_per_game\n",
    "\n",
    "for team, values in new_league.items():\n",
    "    print(team, values[\"points per game\"])"
   ]
  }
 ],
 "metadata": {
  "kernelspec": {
   "display_name": "Python 3",
   "language": "python",
   "name": "python3"
  },
  "language_info": {
   "codemirror_mode": {
    "name": "ipython",
    "version": 3
   },
   "file_extension": ".py",
   "mimetype": "text/x-python",
   "name": "python",
   "nbconvert_exporter": "python",
   "pygments_lexer": "ipython3",
   "version": "3.7.7"
  }
 },
 "nbformat": 4,
 "nbformat_minor": 4
}
