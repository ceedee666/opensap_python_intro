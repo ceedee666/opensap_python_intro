{
 "cells": [
  {
   "cell_type": "markdown",
   "metadata": {},
   "source": [
    "# Additional Exercises: Lists and for loops\n",
    "If you are eager to practise a little more, here are some exercises. "
   ]
  },
  {
   "cell_type": "markdown",
   "metadata": {},
   "source": [
    "### Exercise 1: Combine Lists\n",
    "In the following cell, three lists are defined. Combine the three lists to one list containing all the elements of the lists `l1`, `l2` and `l3`."
   ]
  },
  {
   "cell_type": "code",
   "execution_count": 3,
   "metadata": {},
   "outputs": [
    {
     "name": "stdout",
     "output_type": "stream",
     "text": [
      "[1, 2, 3, 4, 11, 12, 13, 14, 101, 102, 103, 104]\n"
     ]
    }
   ],
   "source": [
    "l1 = [1, 2, 3, 4]\n",
    "l2 = [11, 12, 13, 14]\n",
    "l3 = [101, 102, 103, 104]\n",
    "\n",
    "combined_list = l1 + l2 + l3\n",
    "print(combined_list)"
   ]
  },
  {
   "cell_type": "markdown",
   "metadata": {},
   "source": [
    "### Exercise 2: Which of the numbers are even?\n",
    "List `l1` contains some random numbers. Which of these numbers are even (that means they are divisible by 2)? Use a `for` loop to iterate through the `l1` and output all even numbers."
   ]
  },
  {
   "cell_type": "code",
   "execution_count": 5,
   "metadata": {},
   "outputs": [
    {
     "name": "stdout",
     "output_type": "stream",
     "text": [
      "464\n",
      "522\n",
      "634\n",
      "102\n",
      "40\n",
      "180\n",
      "44\n",
      "478\n",
      "104\n",
      "668\n",
      "664\n",
      "920\n",
      "92\n",
      "986\n",
      "978\n",
      "140\n",
      "628\n",
      "98\n",
      "424\n",
      "24\n",
      "38\n",
      "92\n",
      "80\n",
      "610\n",
      "966\n",
      "934\n",
      "892\n",
      "210\n",
      "752\n",
      "310\n",
      "478\n",
      "864\n",
      "620\n",
      "650\n",
      "922\n",
      "894\n",
      "588\n",
      "44\n",
      "102\n",
      "538\n",
      "620\n",
      "138\n",
      "842\n",
      "378\n",
      "458\n",
      "388\n",
      "710\n",
      "476\n",
      "352\n",
      "764\n",
      "162\n",
      "934\n",
      "300\n",
      "48\n",
      "338\n",
      "734\n",
      "808\n",
      "28\n",
      "638\n",
      "290\n",
      "398\n",
      "66\n"
     ]
    }
   ],
   "source": [
    "l1 = [199, 339, 269, 464, 522, 634, 591, 863, 102, 31, 835, 40, 180, 655, 44, 478, 449, 833, 569, 423, 104, 27, 467, 668, 317, 413, 664, 111, 920, 561, 193, 29, 563, 841, 441, 92, 986, 905, 85, 555, 978, 140, 443, 628, 175, 549, 98, 424, 745, 63, 24, 38, 92, 80, 610, 73, 966, 934, 385, 892, 210, 471, 752, 55, 310, 478, 921, 864, 620, 973, 219, 650, 922, 893, 103, 789, 271, 894, 117, 588, 473, 823, 44, 102, 538, 620, 138, 569, 842, 378, 458, 535, 547, 913, 388, 710, 476, 352, 764, 162, 301, 435, 257, 934, 769, 365, 300, 947, 509, 48, 817, 338, 734, 808, 895, 613, 28, 269, 638, 290, 398, 66, 887]\n",
    "\n",
    "for i in l1:\n",
    "    if i % 2 == 0:\n",
    "        print(i)"
   ]
  },
  {
   "cell_type": "markdown",
   "metadata": {},
   "source": [
    "### Exercise 3: Create sublists of odd and even numbers\n",
    "The same list a before is given. Now iterate through this list and add the odd numberst to `odd_list` and the even numbers to `even_list`. Output how many numbers are contained in each list."
   ]
  },
  {
   "cell_type": "code",
   "execution_count": 6,
   "metadata": {},
   "outputs": [
    {
     "name": "stdout",
     "output_type": "stream",
     "text": [
      "123\n",
      "61\n",
      "62\n"
     ]
    }
   ],
   "source": [
    "l1 = [199, 339, 269, 464, 522, 634, 591, 863, 102, 31, 835, 40, 180, 655, 44, 478, 449, 833, 569, 423, 104, 27, 467, 668, 317, 413, 664, 111, 920, 561, 193, 29, 563, 841, 441, 92, 986, 905, 85, 555, 978, 140, 443, 628, 175, 549, 98, 424, 745, 63, 24, 38, 92, 80, 610, 73, 966, 934, 385, 892, 210, 471, 752, 55, 310, 478, 921, 864, 620, 973, 219, 650, 922, 893, 103, 789, 271, 894, 117, 588, 473, 823, 44, 102, 538, 620, 138, 569, 842, 378, 458, 535, 547, 913, 388, 710, 476, 352, 764, 162, 301, 435, 257, 934, 769, 365, 300, 947, 509, 48, 817, 338, 734, 808, 895, 613, 28, 269, 638, 290, 398, 66, 887]\n",
    "\n",
    "odd_list = []\n",
    "even_list = []\n",
    "\n",
    "for i in l1:\n",
    "    if i % 2 == 0:\n",
    "        even_list.append(i)\n",
    "    else:\n",
    "        odd_list.append(i)\n",
    "\n",
    "print(len(l1))\n",
    "print(len(odd_list))\n",
    "print(len(even_list))"
   ]
  },
  {
   "cell_type": "markdown",
   "metadata": {},
   "source": [
    "### Exercise 4: Create a list of sublists\n",
    "The same lists as in exercise 1 are given. Put the lists into one new list. However, this new list should **not** contain the items of the original lists, but the original lists itself. There should be a list of lists."
   ]
  },
  {
   "cell_type": "code",
   "execution_count": 7,
   "metadata": {},
   "outputs": [
    {
     "name": "stdout",
     "output_type": "stream",
     "text": [
      "[[1, 2, 3, 4], [11, 12, 13, 14], [101, 102, 103, 104]]\n"
     ]
    }
   ],
   "source": [
    "l1 = [1, 2, 3, 4]\n",
    "l2 = [11, 12, 13, 14]\n",
    "l3 = [101, 102, 103, 104]\n",
    "\n",
    "combined_list = [l1, l2, l3]\n",
    "print(combined_list)"
   ]
  },
  {
   "cell_type": "markdown",
   "metadata": {},
   "source": [
    "### Exercise 5: Create list of lists using ranges\n",
    "Create a list of lists. The first *inner* list contains the values [1, 2, ... 10]. The second list contains the values [2, 4, ... 20], ... the tenth list contains the values [10, 20, ... 100]. All these lists should be included in a the *outer* list. Finally, iterate through the outer list and print all the inner lists. There should be the multiplication table from primary school.\n",
    "\n",
    "Hint: You need two nested `for` loops, which iterate from 1 to 10."
   ]
  },
  {
   "cell_type": "code",
   "execution_count": 8,
   "metadata": {},
   "outputs": [
    {
     "name": "stdout",
     "output_type": "stream",
     "text": [
      "[1, 2, 3, 4, 5, 6, 7, 8, 9, 10]\n",
      "[2, 4, 6, 8, 10, 12, 14, 16, 18, 20]\n",
      "[3, 6, 9, 12, 15, 18, 21, 24, 27, 30]\n",
      "[4, 8, 12, 16, 20, 24, 28, 32, 36, 40]\n",
      "[5, 10, 15, 20, 25, 30, 35, 40, 45, 50]\n",
      "[6, 12, 18, 24, 30, 36, 42, 48, 54, 60]\n",
      "[7, 14, 21, 28, 35, 42, 49, 56, 63, 70]\n",
      "[8, 16, 24, 32, 40, 48, 56, 64, 72, 80]\n",
      "[9, 18, 27, 36, 45, 54, 63, 72, 81, 90]\n",
      "[10, 20, 30, 40, 50, 60, 70, 80, 90, 100]\n"
     ]
    }
   ],
   "source": [
    "multiplication_table = []\n",
    "\n",
    "for i in range (1, 11):\n",
    "    l = []\n",
    "    for j in range (1, 11):\n",
    "        l.append(i * j)\n",
    "    multiplication_table.append(l)\n",
    "    \n",
    "for l in multiplication_table:\n",
    "    print(l)"
   ]
  },
  {
   "cell_type": "markdown",
   "metadata": {},
   "source": [
    "### Exercise 6: Range and divisibtility\n",
    "Implement a program that outputs all numbers between 1500 and 3000 which are divisible by 5 and 7."
   ]
  },
  {
   "cell_type": "code",
   "execution_count": 9,
   "metadata": {},
   "outputs": [
    {
     "name": "stdout",
     "output_type": "stream",
     "text": [
      "1505\n",
      "1540\n",
      "1575\n",
      "1610\n",
      "1645\n",
      "1680\n",
      "1715\n",
      "1750\n",
      "1785\n",
      "1820\n",
      "1855\n",
      "1890\n",
      "1925\n",
      "1960\n",
      "1995\n",
      "2030\n",
      "2065\n",
      "2100\n",
      "2135\n",
      "2170\n",
      "2205\n",
      "2240\n",
      "2275\n",
      "2310\n",
      "2345\n",
      "2380\n",
      "2415\n",
      "2450\n",
      "2485\n",
      "2520\n",
      "2555\n",
      "2590\n",
      "2625\n",
      "2660\n",
      "2695\n",
      "2730\n",
      "2765\n",
      "2800\n",
      "2835\n",
      "2870\n",
      "2905\n",
      "2940\n",
      "2975\n"
     ]
    }
   ],
   "source": [
    "for i in range(1500, 3001):\n",
    "    if i % 5 == 0 and i % 7 == 0:\n",
    "        print(i)"
   ]
  },
  {
   "cell_type": "markdown",
   "metadata": {},
   "source": [
    "### Exercise 7: Turn a list\n",
    "Again, there is the list containing the random numbers. Create a new list `l2`, which contains the same numbers but in inverse order, that means  [887, 66, 398, ..., 339, 199]"
   ]
  },
  {
   "cell_type": "code",
   "execution_count": 11,
   "metadata": {},
   "outputs": [
    {
     "name": "stdout",
     "output_type": "stream",
     "text": [
      "[887, 66, 398, 290, 638, 269, 28, 613, 895, 808, 734, 338, 817, 48, 509, 947, 300, 365, 769, 934, 257, 435, 301, 162, 764, 352, 476, 710, 388, 913, 547, 535, 458, 378, 842, 569, 138, 620, 538, 102, 44, 823, 473, 588, 117, 894, 271, 789, 103, 893, 922, 650, 219, 973, 620, 864, 921, 478, 310, 55, 752, 471, 210, 892, 385, 934, 966, 73, 610, 80, 92, 38, 24, 63, 745, 424, 98, 549, 175, 628, 443, 140, 978, 555, 85, 905, 986, 92, 441, 841, 563, 29, 193, 561, 920, 111, 664, 413, 317, 668, 467, 27, 104, 423, 569, 833, 449, 478, 44, 655, 180, 40, 835, 31, 102, 863, 591, 634, 522, 464, 269, 339, 199]\n"
     ]
    }
   ],
   "source": [
    "l1 = [199, 339, 269, 464, 522, 634, 591, 863, 102, 31, 835, 40, 180, 655, 44, 478, 449, 833, 569, 423, 104, 27, 467, 668, 317, 413, 664, 111, 920, 561, 193, 29, 563, 841, 441, 92, 986, 905, 85, 555, 978, 140, 443, 628, 175, 549, 98, 424, 745, 63, 24, 38, 92, 80, 610, 73, 966, 934, 385, 892, 210, 471, 752, 55, 310, 478, 921, 864, 620, 973, 219, 650, 922, 893, 103, 789, 271, 894, 117, 588, 473, 823, 44, 102, 538, 620, 138, 569, 842, 378, 458, 535, 547, 913, 388, 710, 476, 352, 764, 162, 301, 435, 257, 934, 769, 365, 300, 947, 509, 48, 817, 338, 734, 808, 895, 613, 28, 269, 638, 290, 398, 66, 887]\n",
    "\n",
    "inv_list = []\n",
    "for i in l1:\n",
    "    inv_list.insert(0, i)\n",
    "\n",
    "print(inv_list)"
   ]
  },
  {
   "cell_type": "markdown",
   "metadata": {},
   "source": [
    "### Exercise 8: Sum up all the numbers of a list\n",
    "There is the Python-function `sum()` which should be simulated by your program. So do not use this `sum()` function. \n",
    "\n",
    "Hint: Iterate through this list and add each number to a variable, which has been defined before."
   ]
  },
  {
   "cell_type": "code",
   "execution_count": 12,
   "metadata": {},
   "outputs": [
    {
     "name": "stdout",
     "output_type": "stream",
     "text": [
      "58377\n"
     ]
    }
   ],
   "source": [
    "l1 = [199, 339, 269, 464, 522, 634, 591, 863, 102, 31, 835, 40, 180, 655, 44, 478, 449, 833, 569, 423, 104, 27, 467, 668, 317, 413, 664, 111, 920, 561, 193, 29, 563, 841, 441, 92, 986, 905, 85, 555, 978, 140, 443, 628, 175, 549, 98, 424, 745, 63, 24, 38, 92, 80, 610, 73, 966, 934, 385, 892, 210, 471, 752, 55, 310, 478, 921, 864, 620, 973, 219, 650, 922, 893, 103, 789, 271, 894, 117, 588, 473, 823, 44, 102, 538, 620, 138, 569, 842, 378, 458, 535, 547, 913, 388, 710, 476, 352, 764, 162, 301, 435, 257, 934, 769, 365, 300, 947, 509, 48, 817, 338, 734, 808, 895, 613, 28, 269, 638, 290, 398, 66, 887]\n",
    "\n",
    "s = 0\n",
    "for i in l1:\n",
    "    s += i\n",
    "\n",
    "print(s)"
   ]
  }
 ],
 "metadata": {
  "kernelspec": {
   "display_name": "Python 3",
   "language": "python",
   "name": "python3"
  },
  "language_info": {
   "codemirror_mode": {
    "name": "ipython",
    "version": 3
   },
   "file_extension": ".py",
   "mimetype": "text/x-python",
   "name": "python",
   "nbconvert_exporter": "python",
   "pygments_lexer": "ipython3",
   "version": "3.7.7"
  }
 },
 "nbformat": 4,
 "nbformat_minor": 4
}
