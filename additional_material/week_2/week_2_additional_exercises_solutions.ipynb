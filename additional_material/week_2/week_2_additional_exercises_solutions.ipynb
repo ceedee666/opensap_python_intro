{
 "cells": [
  {
   "cell_type": "markdown",
   "metadata": {},
   "source": [
    "# Additional Exercises: Lists and for loops\n",
    "If you are eager to practise a little more, here are some exercises. "
   ]
  },
  {
   "cell_type": "markdown",
   "metadata": {},
   "source": [
    "### Exercise 1: Combine Lists\n",
    "In the following cell, three lists are defined. Combine the three lists to one list containing all the elements of the lists `l1`, `l2` and `l3`.\n",
    "\n",
    "Example output:\n",
    "\n",
    "    [1, 2, 3, 4, 11, 12, 13, 14, 101, 102, 103, 104]\n",
    "    \n",
    "#### Hint\n",
    "It is important to distinguish between adding lists or creating a list of given lists (cf. exercise below).     "
   ]
  },
  {
   "cell_type": "code",
   "execution_count": null,
   "metadata": {},
   "outputs": [],
   "source": [
    "l1 = [1, 2, 3, 4]\n",
    "l2 = [11, 12, 13, 14]\n",
    "l3 = [101, 102, 103, 104]\n",
    "\n",
    "combined_list = l1 + l2 + l3\n",
    "print(combined_list)"
   ]
  },
  {
   "cell_type": "markdown",
   "metadata": {},
   "source": [
    "### Exercise 2: Which of the numbers are even?\n",
    "List `l1` contains some random numbers. Which of these numbers are even (that means they are divisible by 2)? Use a `for` loop to iterate through the `l1` and output all even numbers.\n",
    "\n",
    "Example output:\n",
    "\n",
    "    464\n",
    "    522\n",
    "    634\n",
    "    ...\n",
    "    \n",
    "#### Hint\n",
    "This is a combination of a `for` loop containing an `if` statement. This is an often used pattern. Divisibility can easily be checked using the modulo operand `%`. "
   ]
  },
  {
   "cell_type": "code",
   "execution_count": null,
   "metadata": {},
   "outputs": [],
   "source": [
    "l1 = [199, 339, 269, 464, 522, 634, 591, 863, 102, 31, 835, 40, 180, 655, 44, 478, 449, 833, 569, 423, 104, 27, 467, 668, 317, 413, 664, 111, 920, 561, 193, 29, 563, 841, 441, 92, 986, 905, 85, 555, 978, 140, 443, 628, 175, 549, 98, 424, 745, 63, 24, 38, 92, 80, 610, 73, 966, 934, 385, 892, 210, 471, 752, 55, 310, 478, 921, 864, 620, 973, 219, 650, 922, 893, 103, 789, 271, 894, 117, 588, 473, 823, 44, 102, 538, 620, 138, 569, 842, 378, 458, 535, 547, 913, 388, 710, 476, 352, 764, 162, 301, 435, 257, 934, 769, 365, 300, 947, 509, 48, 817, 338, 734, 808, 895, 613, 28, 269, 638, 290, 398, 66, 887]\n",
    "\n",
    "for i in l1:\n",
    "    if i % 2 == 0:\n",
    "        print(i)"
   ]
  },
  {
   "cell_type": "markdown",
   "metadata": {},
   "source": [
    "### Exercise 3: Create sublists of odd and even numbers\n",
    "The same list a before is given. Now iterate through this list and add the odd numberst to `odd_list` and the even numbers to `even_list`. Output how many numbers are contained in each list.\n",
    "\n",
    "Example output:\n",
    "\n",
    "    The odd list contains 62 numbers.\n",
    "    The even list contains 61 numbers.\n",
    "    \n",
    "#### Hint\n",
    "Similar to the last exercise. Now new lists have to be filled up. Important: It is necessary to initialize `odd_list` and `even_list` before you iterate through the given list. The length of the inital list is given, to double check, that the result is plausible."
   ]
  },
  {
   "cell_type": "code",
   "execution_count": null,
   "metadata": {},
   "outputs": [],
   "source": [
    "l1 = [199, 339, 269, 464, 522, 634, 591, 863, 102, 31, 835, 40, 180, 655, 44, 478, 449, 833, 569, 423, 104, 27, 467, 668, 317, 413, 664, 111, 920, 561, 193, 29, 563, 841, 441, 92, 986, 905, 85, 555, 978, 140, 443, 628, 175, 549, 98, 424, 745, 63, 24, 38, 92, 80, 610, 73, 966, 934, 385, 892, 210, 471, 752, 55, 310, 478, 921, 864, 620, 973, 219, 650, 922, 893, 103, 789, 271, 894, 117, 588, 473, 823, 44, 102, 538, 620, 138, 569, 842, 378, 458, 535, 547, 913, 388, 710, 476, 352, 764, 162, 301, 435, 257, 934, 769, 365, 300, 947, 509, 48, 817, 338, 734, 808, 895, 613, 28, 269, 638, 290, 398, 66, 887]\n",
    "\n",
    "odd_list = []\n",
    "even_list = []\n",
    "\n",
    "for i in l1:\n",
    "    if i % 2 == 0:\n",
    "        even_list.append(i)\n",
    "    else:\n",
    "        odd_list.append(i)\n",
    "\n",
    "print(\"The initial list contains\", len(l1), \"numbers.\")\n",
    "print(\"The odd list contains\", len(odd_list), \"numbers.\")\n",
    "print(\"The even list contains\", len(even_list), \"numbers.\")"
   ]
  },
  {
   "cell_type": "markdown",
   "metadata": {},
   "source": [
    "### Exercise 4: Create a list of sublists\n",
    "The same lists as in exercise 1 are given. Put the lists into one new list. However, this new list should **not** contain the items of the original lists, but the original lists itself. There should be a list of lists.\n",
    "\n",
    "Example output:\n",
    "\n",
    "    [[1, 2, 3, 4], [11, 12, 13, 14], [101, 102, 103, 104]]\n",
    "    \n",
    "#### Hint\n",
    "Check the difference to exercise 1."
   ]
  },
  {
   "cell_type": "code",
   "execution_count": null,
   "metadata": {},
   "outputs": [],
   "source": [
    "l1 = [1, 2, 3, 4]\n",
    "l2 = [11, 12, 13, 14]\n",
    "l3 = [101, 102, 103, 104]\n",
    "\n",
    "combined_list = [l1, l2, l3]\n",
    "print(combined_list)"
   ]
  },
  {
   "cell_type": "markdown",
   "metadata": {},
   "source": [
    "### Exercise 5: Create list of lists using ranges\n",
    "Create a list of lists. The first *inner* list contains the values [1, 2, ... 10]. The second list contains the values [2, 4, ... 20], ... the tenth list contains the values [10, 20, ... 100]. All these lists should be included in a the *outer* list. Finally, iterate through the outer list and print all the inner lists. There should be the multiplication table from primary school.\n",
    "\n",
    "Hint: You need two nested `for` loops, which iterate from 1 to 10.\n",
    "\n",
    "Example output:\n",
    "\n",
    "    [1, 2, 3, 4, 5, 6, 7, 8, 9, 10]\n",
    "    [2, 4, 6, 8, 10, 12, 14, 16, 18, 20]\n",
    "    ...\n",
    "    \n",
    "#### Hint\n",
    "If you have two dimensional data like the multiplication table, then typically two nested loops are required. To iterate over the sequence 1 to 10, the range has to be from 1 to 11 as the last element is the first one, which is **not** part of the range."
   ]
  },
  {
   "cell_type": "code",
   "execution_count": null,
   "metadata": {},
   "outputs": [],
   "source": [
    "multiplication_table = []\n",
    "\n",
    "for i in range (1, 11):\n",
    "    l = []\n",
    "    for j in range (1, 11):\n",
    "        l.append(i * j)\n",
    "    multiplication_table.append(l)\n",
    "    \n",
    "for l in multiplication_table:\n",
    "    print(l)"
   ]
  },
  {
   "cell_type": "markdown",
   "metadata": {},
   "source": [
    "### Exercise 6: Range and divisibtility\n",
    "Implement a program that outputs all numbers between 1500 and 3000 which are divisible by 5 and 7.\n",
    "\n",
    "Example output:\n",
    "\n",
    "    1505\n",
    "    1540\n",
    "    1575\n",
    "    ...\n",
    "    \n",
    "#### Hint\n",
    "Not much to say ..."
   ]
  },
  {
   "cell_type": "code",
   "execution_count": null,
   "metadata": {},
   "outputs": [],
   "source": [
    "for i in range(1500, 3001):\n",
    "    if i % 5 == 0 and i % 7 == 0:\n",
    "        print(i)"
   ]
  },
  {
   "cell_type": "markdown",
   "metadata": {},
   "source": [
    "### Exercise 7: Reverse a list\n",
    "Again, there is the list containing the random numbers. Create a new list `l2`, which contains the same numbers but in reverse order, that means  [887, 66, 398, ..., 339, 199]\n",
    "\n",
    "Example output:\n",
    "\n",
    "    [887, 66, 398, ...]\n",
    "    \n",
    "#### Hint\n",
    "There are different solutions to this exercise. The first one takes the elements of the initial list from the beginning to the end and inserts the current element into the first place of the new list. All other elements, which have been inserted before are pushed one position further. To demonstrate this behaviour, an additional `print()` has been added into the `for` loop. If you just want to print out the final solution, then comment the statement out, that means, add a `#` at the beginning of the line. Before starting the loop, the new list has to be initialized.\n",
    "\n",
    "The second solution starts from the end of the initial list and appends the values to the new list. To do so, the method `.pop()` is helpful. It returns the last element of a list and deletes this element from the list. Again, an addition `print()` within the loop demonstrates, how the list is built up. Important: At the end of the for loop, the initial list is empty. So, if this initial list is still required, you should take a copy first.\n",
    "\n",
    "The last solution uses the method `.reverse()`. We have not introduced this method, so this is a cheat :-)\n"
   ]
  },
  {
   "cell_type": "code",
   "execution_count": null,
   "metadata": {},
   "outputs": [],
   "source": [
    "# Solution 1\n",
    "l1 = [199, 339, 269, 464, 522, 634, 591, 863, 102, 31, 835, 40, 180, 655, 44, 478, 449, 833, 569, 423, 104, 27, 467, 668, 317, 413, 664, 111, 920, 561, 193, 29, 563, 841, 441, 92, 986, 905, 85, 555, 978, 140, 443, 628, 175, 549, 98, 424, 745, 63, 24, 38, 92, 80, 610, 73, 966, 934, 385, 892, 210, 471, 752, 55, 310, 478, 921, 864, 620, 973, 219, 650, 922, 893, 103, 789, 271, 894, 117, 588, 473, 823, 44, 102, 538, 620, 138, 569, 842, 378, 458, 535, 547, 913, 388, 710, 476, 352, 764, 162, 301, 435, 257, 934, 769, 365, 300, 947, 509, 48, 817, 338, 734, 808, 895, 613, 28, 269, 638, 290, 398, 66, 887]\n",
    "\n",
    "rev_list = []\n",
    "for i in l1:\n",
    "    rev_list.insert(0, i)\n",
    "    print(rev_list)\n",
    "\n",
    "print(rev_list)"
   ]
  },
  {
   "cell_type": "code",
   "execution_count": null,
   "metadata": {},
   "outputs": [],
   "source": [
    "# Solution 2\n",
    "l1 = [199, 339, 269, 464, 522, 634, 591, 863, 102, 31, 835, 40, 180, 655, 44, 478, 449, 833, 569, 423, 104, 27, 467, 668, 317, 413, 664, 111, 920, 561, 193, 29, 563, 841, 441, 92, 986, 905, 85, 555, 978, 140, 443, 628, 175, 549, 98, 424, 745, 63, 24, 38, 92, 80, 610, 73, 966, 934, 385, 892, 210, 471, 752, 55, 310, 478, 921, 864, 620, 973, 219, 650, 922, 893, 103, 789, 271, 894, 117, 588, 473, 823, 44, 102, 538, 620, 138, 569, 842, 378, 458, 535, 547, 913, 388, 710, 476, 352, 764, 162, 301, 435, 257, 934, 769, 365, 300, 947, 509, 48, 817, 338, 734, 808, 895, 613, 28, 269, 638, 290, 398, 66, 887]\n",
    "\n",
    "rev_list = []\n",
    "for i in range(len(l1)):\n",
    "    x = l1.pop()\n",
    "    rev_list.append(x)\n",
    "    print(rev_list)\n",
    "\n",
    "print(rev_list)\n",
    "print(l1)"
   ]
  },
  {
   "cell_type": "code",
   "execution_count": null,
   "metadata": {},
   "outputs": [],
   "source": [
    "# Solution 3\n",
    "l1 = [199, 339, 269, 464, 522, 634, 591, 863, 102, 31, 835, 40, 180, 655, 44, 478, 449, 833, 569, 423, 104, 27, 467, 668, 317, 413, 664, 111, 920, 561, 193, 29, 563, 841, 441, 92, 986, 905, 85, 555, 978, 140, 443, 628, 175, 549, 98, 424, 745, 63, 24, 38, 92, 80, 610, 73, 966, 934, 385, 892, 210, 471, 752, 55, 310, 478, 921, 864, 620, 973, 219, 650, 922, 893, 103, 789, 271, 894, 117, 588, 473, 823, 44, 102, 538, 620, 138, 569, 842, 378, 458, 535, 547, 913, 388, 710, 476, 352, 764, 162, 301, 435, 257, 934, 769, 365, 300, 947, 509, 48, 817, 338, 734, 808, 895, 613, 28, 269, 638, 290, 398, 66, 887]\n",
    "\n",
    "l1.reverse()\n",
    "print(l1)"
   ]
  },
  {
   "cell_type": "markdown",
   "metadata": {},
   "source": [
    "### Exercise 8: Sum up all the numbers of a list\n",
    "There is the Python-function `sum()` which should be simulated by your program. So do not use this `sum()` function. \n",
    "\n",
    "Hint: Iterate through this list and add each number to a variable, which has been defined before.\n",
    "\n",
    "Example output:\n",
    "\n",
    "    The sum of the list is 58377\n",
    "    \n",
    "#### Hint\n",
    "If you want to aggregate (e.g. calculate the sum or the product) a certain list (or any other object), it is usually required to initialize a variable which \"collects\" the values. In the given situation, the variable has to be initialized with the value 0. If you would like to create the product of all elements of this list, what would be the correct initializaytion then?"
   ]
  },
  {
   "cell_type": "code",
   "execution_count": null,
   "metadata": {},
   "outputs": [],
   "source": [
    "l1 = [199, 339, 269, 464, 522, 634, 591, 863, 102, 31, 835, 40, 180, 655, 44, 478, 449, 833, 569, 423, 104, 27, 467, 668, 317, 413, 664, 111, 920, 561, 193, 29, 563, 841, 441, 92, 986, 905, 85, 555, 978, 140, 443, 628, 175, 549, 98, 424, 745, 63, 24, 38, 92, 80, 610, 73, 966, 934, 385, 892, 210, 471, 752, 55, 310, 478, 921, 864, 620, 973, 219, 650, 922, 893, 103, 789, 271, 894, 117, 588, 473, 823, 44, 102, 538, 620, 138, 569, 842, 378, 458, 535, 547, 913, 388, 710, 476, 352, 764, 162, 301, 435, 257, 934, 769, 365, 300, 947, 509, 48, 817, 338, 734, 808, 895, 613, 28, 269, 638, 290, 398, 66, 887]\n",
    "\n",
    "s = 0\n",
    "for i in l1:\n",
    "    s += i\n",
    "\n",
    "print(s)"
   ]
  }
 ],
 "metadata": {
  "kernelspec": {
   "display_name": "Python 3",
   "language": "python",
   "name": "python3"
  },
  "language_info": {
   "codemirror_mode": {
    "name": "ipython",
    "version": 3
   },
   "file_extension": ".py",
   "mimetype": "text/x-python",
   "name": "python",
   "nbconvert_exporter": "python",
   "pygments_lexer": "ipython3",
   "version": "3.7.7"
  }
 },
 "nbformat": 4,
 "nbformat_minor": 4
}
