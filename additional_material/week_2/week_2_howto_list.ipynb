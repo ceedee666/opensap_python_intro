{
 "cells": [
  {
   "cell_type": "markdown",
   "metadata": {},
   "source": [
    "# HowTo - List\n",
    "`HowTo`s are just a quick reference with the most important issues about a topic.\n",
    "\n",
    "- [Create empty list](#EmptyList)\n",
    "- [Create a list with elements](#CreateList)\n",
    "- [Append element to the end of a list](#ElementAppend)\n",
    "- [Insert element in the middle of a list](#InsertElement)\n",
    "- [Clear list](#ClearList)\n",
    "- [Delete element](#DeleteElement)\n",
    "- [Delete the last element of a list](#LastElementDelete)\n",
    "- [Read a list element](#ElementRead)\n",
    "- [Assign a new value to a list element](#AssignValue)\n",
    "- [Partial lists (slice operator)](#PartialLists)\n",
    "- [Number of elements of a list (length of a list)](#ListLength)\n",
    "- [Sort list](#SortList)"
   ]
  },
  {
   "cell_type": "markdown",
   "metadata": {},
   "source": [
    "### Create empty list\n",
    "<a id=\"EmptyList\">"
   ]
  },
  {
   "cell_type": "code",
   "execution_count": null,
   "metadata": {},
   "outputs": [],
   "source": [
    "list1 = []\n",
    "print(list1)"
   ]
  },
  {
   "cell_type": "markdown",
   "metadata": {},
   "source": [
    "### Create list\n",
    "<a id=\"CreateList\">"
   ]
  },
  {
   "cell_type": "code",
   "execution_count": 1,
   "metadata": {},
   "outputs": [
    {
     "name": "stdout",
     "output_type": "stream",
     "text": [
      "[1, 3, 'lists', True, 4.56]\n"
     ]
    }
   ],
   "source": [
    "list1 = [1, 3, \"listen\", True, 4.56]\n",
    "print(list1)"
   ]
  },
  {
   "cell_type": "markdown",
   "metadata": {},
   "source": [
    "### Append element to the back of a list\n",
    "<a id=\"Append element\">"
   ]
  },
  {
   "cell_type": "code",
   "execution_count": null,
   "metadata": {},
   "outputs": [],
   "source": [
    "list1 = [1, 3, \"listen\", True, 4.56]\n",
    "list1.append(23)\n",
    "print(list1)"
   ]
  },
  {
   "cell_type": "markdown",
   "metadata": {},
   "source": [
    "### Insert element in the middle of a list\n",
    "<a id=\"InsertElement\">"
   ]
  },
  {
   "cell_type": "code",
   "execution_count": null,
   "metadata": {},
   "outputs": [],
   "source": [
    "list1 = [1, 3, \"listen\", True, 4.56]\n",
    "list1.insert(4, \"New element\")\n",
    "print(list1)"
   ]
  },
  {
   "cell_type": "markdown",
   "metadata": {},
   "source": [
    "### Empty list\n",
    "<a id=\"ListeLeeren\">"
   ]
  },
  {
   "cell_type": "code",
   "execution_count": null,
   "metadata": {},
   "outputs": [],
   "source": [
    "list1 = [1, 3, \"listen\", True, 4.56]\n",
    "list1.clear()\n",
    "print(list1)"
   ]
  },
  {
   "cell_type": "markdown",
   "metadata": {},
   "source": [
    "### Delete an element from the list\n",
    "<a id=\"Delete element\">"
   ]
  },
  {
   "cell_type": "code",
   "execution_count": null,
   "metadata": {},
   "outputs": [],
   "source": [
    "list1 = [1, 3, \"listen\", True, 4.56]\n",
    "list1.remove(\"listen\")\n",
    "print(list1)"
   ]
  },
  {
   "cell_type": "markdown",
   "metadata": {},
   "source": [
    "### Delete last element of the list\n",
    "<a id=\"DeleteLastElement\">"
   ]
  },
  {
   "cell_type": "code",
   "execution_count": null,
   "metadata": {},
   "outputs": [],
   "source": [
    "list1 = [1, 3, \"listen\", True, 4.56]\n",
    "elem = list1.pop()\n",
    "print(elem)\n",
    "print(list1)"
   ]
  },
  {
   "cell_type": "markdown",
   "metadata": {},
   "source": [
    "### Read single list element\n",
    "<a id=\"ElementRead\">"
   ]
  },
  {
   "cell_type": "code",
   "execution_count": null,
   "metadata": {},
   "outputs": [],
   "source": [
    "list1 = [1, 3, \"listen\", True, 4.56]\n",
    "elem = list1[2]\n",
    "print(elem)"
   ]
  },
  {
   "cell_type": "markdown",
   "metadata": {},
   "source": [
    "### Assign a new value to a list item.\n",
    "<a id=\"AssignValue\">"
   ]
  },
  {
   "cell_type": "code",
   "execution_count": null,
   "metadata": {},
   "outputs": [],
   "source": [
    "list1 = [1, 3, \"listen\", True, 4.56]\n",
    "list1[2] = \"disturb\"\n",
    "print(list1)"
   ]
  },
  {
   "cell_type": "markdown",
   "metadata": {},
   "source": [
    "### Partial lists (slice operator)\n",
    "<a id=\"Partial lists\">"
   ]
  },
  {
   "cell_type": "code",
   "execution_count": null,
   "metadata": {},
   "outputs": [],
   "source": [
    "list1 = [1, 3, \"listen\", True, 4.56]\n",
    "print(list1[2:4])\n",
    "print(list1[:3])\n",
    "print(list1[1:])"
   ]
  },
  {
   "cell_type": "markdown",
   "metadata": {},
   "source": [
    "### Number of elements in a list (length of a list).\n",
    "<a id=\"ListLength\">"
   ]
  },
  {
   "cell_type": "code",
   "execution_count": 2,
   "metadata": {},
   "outputs": [
    {
     "name": "stdout",
     "output_type": "stream",
     "text": [
      "5\n"
     ]
    }
   ],
   "source": [
    "list1 = [1, 3, \"listen\", True, 4.56]\n",
    "print(len(list1))"
   ]
  },
  {
   "cell_type": "markdown",
   "metadata": {},
   "source": [
    "### Sort list (works only if elements are \"sortable\").\n",
    "<a id=\"SortList\"></a>\n",
    "    \n",
    "Please note the following difference: The `.sort` method sorts the list to which the method is applied. The `sorted()` function returns a sorted list as its return value. The list passed as argument remains unchanged."
   ]
  },
  {
   "cell_type": "code",
   "execution_count": null,
   "metadata": {},
   "outputs": [],
   "source": [
    "list1 = [3, 45, -20, 7, 2, 1, 1]\n",
    "print(sorted(list1))\n",
    "print(list1)\n",
    "list1.sort()\n",
    "print(list1)"
   ]
  }
 ],
 "metadata": {
  "kernelspec": {
   "display_name": "Python 3 (ipykernel)",
   "language": "python",
   "name": "python3"
  },
  "language_info": {
   "codemirror_mode": {
    "name": "ipython",
    "version": 3
   },
   "file_extension": ".py",
   "mimetype": "text/x-python",
   "name": "python",
   "nbconvert_exporter": "python",
   "pygments_lexer": "ipython3",
   "version": "3.10.2"
  }
 },
 "nbformat": 4,
 "nbformat_minor": 2
}
