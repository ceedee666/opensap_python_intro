{
 "cells": [
  {
   "cell_type": "markdown",
   "metadata": {},
   "source": [
    " # HowTo - for loop\n",
    "`HowTo`s are just a quick reference with the most important issues about a topic.\n",
    "- [Loop over string](#loop-over-string)\n",
    "- [Loop over list](#loop-over-list)\n",
    "- [Loop over range](#loop-over-range)\n",
    "- [Exit loop with break](#exit-loop-with-break)"
   ]
  },
  {
   "cell_type": "markdown",
   "metadata": {},
   "source": [
    "### Loop over string\n",
    " <a id=\"loop-over-string\">"
   ]
  },
  {
   "cell_type": "code",
   "execution_count": null,
   "metadata": {},
   "outputs": [],
   "source": [
    "s = \"Hello python programming\".\n",
    "for char in s:\n",
    "    print(char)\n",
    "\n",
    "count = 0\n",
    "for char in s:\n",
    "    if char == 'o':\n",
    "        count += 1\n",
    "        \n",
    "print(\"The string contains the letter 'o'\", count, \"times.\")    "
   ]
  },
  {
   "cell_type": "markdown",
   "metadata": {},
   "source": [
    "### Loop over list\n",
    " <a id=\"loop-over-list\">"
   ]
  },
  {
   "cell_type": "code",
   "execution_count": null,
   "metadata": {},
   "outputs": [],
   "source": [
    "records = [\"Leave Home\", \"Rocket to Russia\", \"Road to Ruin\", \"Mondo Bizarro\"]\n",
    "\n",
    "for record in records:\n",
    "    print(\"I'm listening to:\", record)"
   ]
  },
  {
   "cell_type": "markdown",
   "metadata": {},
   "source": [
    "### Loop over range\n",
    "<a id=\"loop-over-range\">"
   ]
  },
  {
   "cell_type": "code",
   "execution_count": null,
   "metadata": {},
   "outputs": [],
   "source": [
    "for num in range(10):\n",
    "    print(num, num ** 2)"
   ]
  },
  {
   "cell_type": "markdown",
   "metadata": {},
   "source": [
    "### Exit loop with break\n",
    "<a id=\"exit-loop-with-break\">"
   ]
  },
  {
   "cell_type": "code",
   "execution_count": null,
   "metadata": {},
   "outputs": [],
   "source": [
    "list1 = [2, 4, 12, 5, 37, 100, 23, 16, 36]\n",
    "for i in list1:\n",
    "    print(i)\n",
    "    if i == 12:\n",
    "        break"
   ]
  }
 ],
 "metadata": {
  "file_extension": ".py",
  "kernelspec": {
   "display_name": "Python 3 (ipykernel)",
   "language": "python",
   "name": "python3"
  },
  "language_info": {
   "codemirror_mode": {
    "name": "ipython",
    "version": 3
   },
   "file_extension": ".py",
   "mimetype": "text/x-python",
   "name": "python",
   "nbconvert_exporter": "python",
   "pygments_lexer": "ipython3",
   "version": "3.10.2"
  },
  "mimetype": "text/x-python",
  "name": "python",
  "npconvert_exporter": "python",
  "pygments_lexer": "ipython3",
  "version": 3
 },
 "nbformat": 4,
 "nbformat_minor": 2
}
