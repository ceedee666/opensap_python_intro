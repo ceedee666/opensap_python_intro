{
 "cells": [
  {
   "cell_type": "markdown",
   "metadata": {},
   "source": [
    "# Additional Exercises - Week 2\n",
    "## Lists and for loops and ranges\n",
    "If you are eager to practise a little more, here are some exercises. "
   ]
  },
  {
   "cell_type": "markdown",
   "metadata": {},
   "source": [
    "### Exercise 1: Combine Lists\n",
    "In the following cell, three lists are defined. Combine the three lists to one list containing all the elements of the lists `l1`, `l2` and `l3`.\n",
    "\n",
    "Example output:\n",
    "\n",
    "    [1, 2, 3, 4, 11, 12, 13, 14, 101, 102, 103, 104]"
   ]
  },
  {
   "cell_type": "code",
   "execution_count": null,
   "metadata": {},
   "outputs": [],
   "source": [
    "l1 = [1, 2, 3, 4]\n",
    "l2 = [11, 12, 13, 14]\n",
    "l3 = [101, 102, 103, 104]"
   ]
  },
  {
   "cell_type": "markdown",
   "metadata": {},
   "source": [
    "### Exercise 2: Which of the numbers are even?\n",
    "List `l1` contains some random numbers. Which of these numbers are even (that means they are divisible by 2)? Use a `for` loop to iterate through the `l1` and output all even numbers.\n",
    "\n",
    "Example output:\n",
    "\n",
    "    464\n",
    "    522\n",
    "    634\n",
    "    ..."
   ]
  },
  {
   "cell_type": "code",
   "execution_count": null,
   "metadata": {},
   "outputs": [],
   "source": [
    "l1 = [199, 339, 269, 464, 522, 634, 591, 863, 102, 31, 835, 40, 180, 655, 44, 478, 449, 833, 569, 423, 104, 27, 467, 668, 317, 413, 664, 111, 920, 561, 193, 29, 563, 841, 441, 92, 986, 905, 85, 555, 978, 140, 443, 628, 175, 549, 98, 424, 745, 63, 24, 38, 92, 80, 610, 73, 966, 934, 385, 892, 210, 471, 752, 55, 310, 478, 921, 864, 620, 973, 219, 650, 922, 893, 103, 789, 271, 894, 117, 588, 473, 823, 44, 102, 538, 620, 138, 569, 842, 378, 458, 535, 547, 913, 388, 710, 476, 352, 764, 162, 301, 435, 257, 934, 769, 365, 300, 947, 509, 48, 817, 338, 734, 808, 895, 613, 28, 269, 638, 290, 398, 66, 887]\n"
   ]
  },
  {
   "cell_type": "markdown",
   "metadata": {},
   "source": [
    "\n",
    "### Exercise 3: Create sublists of odd and even numbers\n",
    "The same list a before is given. Now iterate through this list and add the odd numberst to `odd_list` and the even numbers to `even_list`. Output how many numbers are contained in each list.\n",
    "\n",
    "Example output:\n",
    "\n",
    "    The odd list contains 62 numbers.\n",
    "    The even list contains 61 numbers."
   ]
  },
  {
   "cell_type": "code",
   "execution_count": null,
   "metadata": {},
   "outputs": [],
   "source": [
    "l1 = [199, 339, 269, 464, 522, 634, 591, 863, 102, 31, 835, 40, 180, 655, 44, 478, 449, 833, 569, 423, 104, 27, 467, 668, 317, 413, 664, 111, 920, 561, 193, 29, 563, 841, 441, 92, 986, 905, 85, 555, 978, 140, 443, 628, 175, 549, 98, 424, 745, 63, 24, 38, 92, 80, 610, 73, 966, 934, 385, 892, 210, 471, 752, 55, 310, 478, 921, 864, 620, 973, 219, 650, 922, 893, 103, 789, 271, 894, 117, 588, 473, 823, 44, 102, 538, 620, 138, 569, 842, 378, 458, 535, 547, 913, 388, 710, 476, 352, 764, 162, 301, 435, 257, 934, 769, 365, 300, 947, 509, 48, 817, 338, 734, 808, 895, 613, 28, 269, 638, 290, 398, 66, 887]\n"
   ]
  },
  {
   "cell_type": "markdown",
   "metadata": {},
   "source": [
    "### Exercise 4: Create a list of sublists\n",
    "The same lists as in exercise 1 are given. Put the lists into one new list. However, this new list should **not** contain the items of the original lists, but the original lists itself. There should be a list of lists.\n",
    "\n",
    "Example output:\n",
    "\n",
    "    [[1, 2, 3, 4], [11, 12, 13, 14], [101, 102, 103, 104]]"
   ]
  },
  {
   "cell_type": "code",
   "execution_count": null,
   "metadata": {},
   "outputs": [],
   "source": [
    "l1 = [1, 2, 3, 4]\n",
    "l2 = [11, 12, 13, 14]\n",
    "l3 = [101, 102, 103, 104]"
   ]
  },
  {
   "cell_type": "markdown",
   "metadata": {},
   "source": [
    "### Exercise 5: Create list of lists using ranges\n",
    "Create a list of lists. The first *inner* list contains the values [1, 2, ... 10]. The second list contains the values [2, 4, ... 20], ... the tenth list contains the values [10, 20, ... 100]. All these lists should be included in a the *outer* list. Finally, iterate through the outer list and print all the inner lists. There should be the multiplication table from primary school.\n",
    "\n",
    "Hint: You need two nested `for` loops, which iterate from 1 to 10.\n",
    "\n",
    "Example output:\n",
    "\n",
    "    [1, 2, 3, 4, 5, 6, 7, 8, 9, 10]\n",
    "    [2, 4, 6, 8, 10, 12, 14, 16, 18, 20]\n",
    "    ..."
   ]
  },
  {
   "cell_type": "code",
   "execution_count": null,
   "metadata": {},
   "outputs": [],
   "source": []
  },
  {
   "cell_type": "markdown",
   "metadata": {},
   "source": [
    "### Exercise 6: Range and divisibility\n",
    "Implement a program that outputs all numbers between 1500 and 3000 which are divisible by 5 and 7.\n",
    "\n",
    "Example output:\n",
    "\n",
    "    1505\n",
    "    1540\n",
    "    1575\n",
    "    ..."
   ]
  },
  {
   "cell_type": "code",
   "execution_count": null,
   "metadata": {},
   "outputs": [],
   "source": []
  },
  {
   "cell_type": "markdown",
   "metadata": {},
   "source": [
    "### Exercise 7: Reverse a list\n",
    "Again, there is the list containing the random numbers. Create a new list `l2`, which contains the same numbers but in reverse order, that means  [887, 66, 398, ..., 339, 199]\n",
    "\n",
    "Example output:\n",
    "\n",
    "    [887, 66, 398, ...]"
   ]
  },
  {
   "cell_type": "code",
   "execution_count": null,
   "metadata": {},
   "outputs": [],
   "source": [
    "l1 = [199, 339, 269, 464, 522, 634, 591, 863, 102, 31, 835, 40, 180, 655, 44, 478, 449, 833, 569, 423, 104, 27, 467, 668, 317, 413, 664, 111, 920, 561, 193, 29, 563, 841, 441, 92, 986, 905, 85, 555, 978, 140, 443, 628, 175, 549, 98, 424, 745, 63, 24, 38, 92, 80, 610, 73, 966, 934, 385, 892, 210, 471, 752, 55, 310, 478, 921, 864, 620, 973, 219, 650, 922, 893, 103, 789, 271, 894, 117, 588, 473, 823, 44, 102, 538, 620, 138, 569, 842, 378, 458, 535, 547, 913, 388, 710, 476, 352, 764, 162, 301, 435, 257, 934, 769, 365, 300, 947, 509, 48, 817, 338, 734, 808, 895, 613, 28, 269, 638, 290, 398, 66, 887]\n"
   ]
  },
  {
   "cell_type": "code",
   "execution_count": null,
   "metadata": {},
   "outputs": [],
   "source": []
  },
  {
   "cell_type": "markdown",
   "metadata": {},
   "source": [
    "### Exercise 8: Sum up all the numbers of a list\n",
    "There is the Python-function `sum()` which should be simulated by your program. So do not use this `sum()` function. \n",
    "\n",
    "Hint: Iterate through this list and add each number to a variable, which has been defined before.\n",
    "\n",
    "Example output:\n",
    "\n",
    "    The sum of the list is 58377"
   ]
  },
  {
   "cell_type": "code",
   "execution_count": null,
   "metadata": {},
   "outputs": [],
   "source": [
    "l1 = [199, 339, 269, 464, 522, 634, 591, 863, 102, 31, 835, 40, 180, 655, 44, 478, 449, 833, 569, 423, 104, 27, 467, 668, 317, 413, 664, 111, 920, 561, 193, 29, 563, 841, 441, 92, 986, 905, 85, 555, 978, 140, 443, 628, 175, 549, 98, 424, 745, 63, 24, 38, 92, 80, 610, 73, 966, 934, 385, 892, 210, 471, 752, 55, 310, 478, 921, 864, 620, 973, 219, 650, 922, 893, 103, 789, 271, 894, 117, 588, 473, 823, 44, 102, 538, 620, 138, 569, 842, 378, 458, 535, 547, 913, 388, 710, 476, 352, 764, 162, 301, 435, 257, 934, 769, 365, 300, 947, 509, 48, 817, 338, 734, 808, 895, 613, 28, 269, 638, 290, 398, 66, 887]\n"
   ]
  },
  {
   "cell_type": "code",
   "execution_count": null,
   "metadata": {},
   "outputs": [],
   "source": []
  }
 ],
 "metadata": {
  "kernelspec": {
   "display_name": "Python 3",
   "language": "python",
   "name": "python3"
  },
  "language_info": {
   "codemirror_mode": {
    "name": "ipython",
    "version": 3
   },
   "file_extension": ".py",
   "mimetype": "text/x-python",
   "name": "python",
   "nbconvert_exporter": "python",
   "pygments_lexer": "ipython3",
   "version": "3.7.7"
  }
 },
 "nbformat": 4,
 "nbformat_minor": 4
}
