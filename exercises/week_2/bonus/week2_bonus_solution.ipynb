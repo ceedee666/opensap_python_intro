{
 "cells": [
  {
   "cell_type": "markdown",
   "metadata": {},
   "source": [
    "# Week 2 - Bonus: FizzBuzz\n",
    "Write a Python program that prints the numbers from 1 to 100.\n",
    "If the number is dividable by 3 print *Fizz*, if the number is dividable by 5 print *Buzz* instead of the number.\n",
    "If the number is dividable by 3 and 5 print *FizzBuzz*.\n",
    "\n",
    "Below is the output of the program for the first 15 numbers:\n",
    "\n",
    "    1\n",
    "    2\n",
    "    Fizz\n",
    "    4\n",
    "    Buzz\n",
    "    Fizz\n",
    "    7\n",
    "    8\n",
    "    Fizz\n",
    "    Buzz\n",
    "    11\n",
    "    Fizz\n",
    "    13\n",
    "    14\n",
    "    FizzBuzz\n",
    "\n",
    "## Optional Variant (quite difficult ☠️)\n",
    "Can you use a list comprehension to solve this exercise?\n"
   ]
  },
  {
   "cell_type": "code",
   "execution_count": null,
   "metadata": {},
   "outputs": [],
   "source": [
    "for i in range(1, 101):\n",
    "    if i % 3 == 0:\n",
    "        if i % 5 == 0:\n",
    "            print(\"FizzBuzz\")\n",
    "        else:\n",
    "            print(\"Fizz\")\n",
    "    elif i % 5 == 0:\n",
    "        print(\"Buzz\")\n",
    "    else:\n",
    "        print(i)  "
   ]
  },
  {
   "cell_type": "code",
   "execution_count": null,
   "metadata": {},
   "outputs": [],
   "source": [
    "for i in range(1, 101):\n",
    "    if i % 3 == 0 and i % 5 == 0:\n",
    "        print(\"FizzBuzz\")\n",
    "    elif i % 3 == 0:\n",
    "        print(\"Fizz\")\n",
    "    elif i % 5 == 0:\n",
    "        print(\"Buzz\")\n",
    "    else:\n",
    "        print(i)"
   ]
  },
  {
   "cell_type": "code",
   "execution_count": null,
   "metadata": {},
   "outputs": [],
   "source": [
    "fb = [\"FizzBuzz\" if i % 3 == 0 and i % 5 == 0 else\n",
    "      \"Fizz\" if i % 3 == 0 else\n",
    "      \"Buzz\" if i % 5 == 0 else\n",
    "      i for i in range(1, 101)]\n",
    "for i in fb:\n",
    "    print(i)"
   ]
  },
  {
   "cell_type": "code",
   "execution_count": null,
   "metadata": {},
   "outputs": [],
   "source": []
  }
 ],
 "metadata": {
  "kernelspec": {
   "display_name": "Python 3",
   "language": "python",
   "name": "python3"
  },
  "language_info": {
   "codemirror_mode": {
    "name": "ipython",
    "version": 3
   },
   "file_extension": ".py",
   "mimetype": "text/x-python",
   "name": "python",
   "nbconvert_exporter": "python",
   "pygments_lexer": "ipython3",
   "version": "3.7.7"
  }
 },
 "nbformat": 4,
 "nbformat_minor": 4
}
