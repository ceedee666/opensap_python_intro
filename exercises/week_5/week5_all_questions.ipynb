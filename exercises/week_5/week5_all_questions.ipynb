{
 "cells": [
  {
   "cell_type": "markdown",
   "metadata": {},
   "source": [
    "# Week 5 Functions\n",
    "## Unit 1 Motivation\n",
    "No Screenshots\n",
    "\n",
    "## Unit 2 Return Value\n",
    "PY0502_002"
   ]
  },
  {
   "cell_type": "code",
   "execution_count": null,
   "metadata": {},
   "outputs": [],
   "source": [
    "def f1():\n",
    "    return 7\n",
    "    return 8\n",
    "    return 9\n",
    "\n",
    "print(f1())"
   ]
  },
  {
   "cell_type": "markdown",
   "metadata": {},
   "source": [
    "PY0502_003"
   ]
  },
  {
   "cell_type": "code",
   "execution_count": null,
   "metadata": {},
   "outputs": [],
   "source": [
    "def f2()):\n",
    "    print(23)"
   ]
  },
  {
   "cell_type": "markdown",
   "metadata": {},
   "source": [
    "PY0502_004"
   ]
  },
  {
   "cell_type": "code",
   "execution_count": null,
   "metadata": {},
   "outputs": [],
   "source": [
    "def f3():\n",
    "    print(1)\n",
    "    return 2\n",
    "\n",
    "print(3)\n",
    "print(f3())"
   ]
  },
  {
   "cell_type": "markdown",
   "metadata": {},
   "source": [
    "PY0502_005   "
   ]
  },
  {
   "cell_type": "code",
   "execution_count": null,
   "metadata": {},
   "outputs": [],
   "source": [
    "def f4():\n",
    "    print(4)\n",
    "    return 3\n",
    "\n",
    "print(f4() + f4())"
   ]
  },
  {
   "cell_type": "markdown",
   "metadata": {},
   "source": [
    "PY0502_006"
   ]
  },
  {
   "cell_type": "code",
   "execution_count": null,
   "metadata": {},
   "outputs": [],
   "source": [
    "def f5():\n",
    "    return 3\n",
    "    print(4)\n",
    "\n",
    "print(f5() + f5())"
   ]
  },
  {
   "cell_type": "markdown",
   "metadata": {},
   "source": [
    "## Unit 3 Parameters\n",
    "PY0503_003"
   ]
  },
  {
   "cell_type": "code",
   "execution_count": null,
   "metadata": {},
   "outputs": [],
   "source": [
    "def f1(x):\n",
    "    print(x)\n",
    "    x += 1\n",
    "    return x + 1\n",
    "\n",
    "print(f1(1))"
   ]
  },
  {
   "cell_type": "markdown",
   "metadata": {},
   "source": [
    "PY0503_004"
   ]
  },
  {
   "cell_type": "code",
   "execution_count": null,
   "metadata": {},
   "outputs": [],
   "source": [
    "def f2(x = 5):\n",
    "    print(x)\n",
    "    x += 1\n",
    "    return x + 1\n",
    "\n",
    "print(f2(1) + f2())"
   ]
  },
  {
   "cell_type": "markdown",
   "metadata": {},
   "source": [
    "PY0503_005"
   ]
  },
  {
   "cell_type": "code",
   "execution_count": null,
   "metadata": {},
   "outputs": [],
   "source": [
    "def f1(x = 2, y = 3):\n",
    "    return x * y\n",
    "\n",
    "print(f1(), f1(3, 4), f1(8), f1(y = 5))"
   ]
  },
  {
   "cell_type": "markdown",
   "metadata": {},
   "source": [
    "## Unit 4 Visibility of Variables\n",
    "PY0504_002"
   ]
  },
  {
   "cell_type": "code",
   "execution_count": null,
   "metadata": {
    "scrolled": true
   },
   "outputs": [],
   "source": [
    "def f1():\n",
    "    print(x)\n",
    "\n",
    "x = 3\n",
    "f1()\n",
    "print(x + 1)"
   ]
  },
  {
   "cell_type": "markdown",
   "metadata": {},
   "source": [
    "PY0504_003"
   ]
  },
  {
   "cell_type": "code",
   "execution_count": null,
   "metadata": {},
   "outputs": [],
   "source": [
    "def f2():\n",
    "    x += 1\n",
    "    print(x)\n",
    "\n",
    "x = 3\n",
    "f2()\n",
    "print(x + 1)"
   ]
  },
  {
   "cell_type": "markdown",
   "metadata": {},
   "source": [
    "PY0504_004"
   ]
  },
  {
   "cell_type": "code",
   "execution_count": null,
   "metadata": {},
   "outputs": [],
   "source": [
    "def f3():\n",
    "    x = 10\n",
    "    print(x)\n",
    "\n",
    "x = 3\n",
    "f3()\n",
    "print(x + 1)"
   ]
  },
  {
   "cell_type": "markdown",
   "metadata": {},
   "source": [
    "PY0504_005"
   ]
  },
  {
   "cell_type": "code",
   "execution_count": null,
   "metadata": {},
   "outputs": [],
   "source": [
    "def f3(x):\n",
    "    x += 10\n",
    "    print(x)\n",
    "\n",
    "x = 3\n",
    "f3(x)\n",
    "print(x + 1)"
   ]
  },
  {
   "cell_type": "markdown",
   "metadata": {},
   "source": [
    "## Unit 5 Combining Functions\n",
    "PY0505_002"
   ]
  },
  {
   "cell_type": "code",
   "execution_count": null,
   "metadata": {},
   "outputs": [],
   "source": [
    "def f1(i):\n",
    "    return i ** 2\n",
    "\n",
    "def f2(j):\n",
    "    return (f1(j + 1))\n",
    "\n",
    "print(f2(3))"
   ]
  },
  {
   "cell_type": "markdown",
   "metadata": {},
   "source": [
    "PY0505_003"
   ]
  },
  {
   "cell_type": "code",
   "execution_count": null,
   "metadata": {},
   "outputs": [],
   "source": [
    "def fib(x):\n",
    "    if x == 0:\n",
    "        return 0\n",
    "    elif x == 1:\n",
    "        return 1\n",
    "    else:\n",
    "        return fib(x - 1) + fib(x - 2)\n",
    "    \n",
    "print(fib(6))"
   ]
  },
  {
   "cell_type": "markdown",
   "metadata": {},
   "source": [
    "PY0505_004"
   ]
  },
  {
   "cell_type": "code",
   "execution_count": null,
   "metadata": {},
   "outputs": [],
   "source": [
    "def f3(i):\n",
    "    return i + 5\n",
    "\n",
    "def f4(i):\n",
    "    return i * 3\n",
    "\n",
    "print(f3(3) * f4(5))"
   ]
  },
  {
   "cell_type": "markdown",
   "metadata": {},
   "source": [
    "PY0505_005"
   ]
  },
  {
   "cell_type": "code",
   "execution_count": null,
   "metadata": {},
   "outputs": [],
   "source": [
    "light_on = True\n",
    "\n",
    "def switch_light(x):\n",
    "    return not x\n",
    "\n",
    "def print_light_state(light):\n",
    "    if light:\n",
    "        print(\"Light is on\")\n",
    "    else:\n",
    "        print(\"Light is off\")\n",
    "\n",
    "print_light_state(switch_light(switch_light(light_on)))"
   ]
  },
  {
   "cell_type": "markdown",
   "metadata": {},
   "source": [
    "PY0505_006"
   ]
  },
  {
   "cell_type": "code",
   "execution_count": null,
   "metadata": {},
   "outputs": [],
   "source": [
    "example_string = \"This is a long sentence with many letters.\"\n",
    "\n",
    "def slice_string(s):\n",
    "    return s[2:-2]\n",
    "\n",
    "def remove_spaces(s):\n",
    "    return s.replace(\" \", \"\")\n",
    "\n",
    "print(remove_spaces(slice_string(example_string)))"
   ]
  },
  {
   "cell_type": "markdown",
   "metadata": {},
   "source": [
    "## Unit 5 Methods and Functions\n",
    "PY0506_002"
   ]
  },
  {
   "cell_type": "code",
   "execution_count": null,
   "metadata": {},
   "outputs": [],
   "source": [
    "n = 64\n",
    "n.bit_length()"
   ]
  },
  {
   "cell_type": "markdown",
   "metadata": {},
   "source": [
    "PY0506_003"
   ]
  },
  {
   "cell_type": "code",
   "execution_count": null,
   "metadata": {},
   "outputs": [],
   "source": [
    "s = \"1_000_000\"\n",
    "\n",
    "print(s.replace(\"_\", \"\").isdigit())"
   ]
  },
  {
   "cell_type": "markdown",
   "metadata": {},
   "source": [
    "PY0506_004"
   ]
  },
  {
   "cell_type": "code",
   "execution_count": null,
   "metadata": {},
   "outputs": [],
   "source": [
    "x = 10\n",
    "y = 3\n",
    "\n",
    "def check_div(x, y):\n",
    "    if x % y == 0:\n",
    "        return \"is divisble\"\n",
    "    else:\n",
    "        return \"is not divisble\"\n",
    "\n",
    "print(f\"{x} is divisible by {y}\".replace(\"is divisible\", check_div(x, y)))"
   ]
  },
  {
   "cell_type": "markdown",
   "metadata": {},
   "source": [
    "## Unit 7 Destructuring\n",
    "PY0507_002"
   ]
  },
  {
   "cell_type": "code",
   "execution_count": null,
   "metadata": {},
   "outputs": [],
   "source": [
    "x = (1, 2, 3, 4, 5)\n",
    "i, j, k, l, m = x"
   ]
  },
  {
   "cell_type": "markdown",
   "metadata": {},
   "source": [
    "PY0507_003"
   ]
  },
  {
   "cell_type": "code",
   "execution_count": null,
   "metadata": {},
   "outputs": [],
   "source": [
    "x = (1, 2, 3, 4, 5)\n",
    "_, i, *j = x"
   ]
  },
  {
   "cell_type": "markdown",
   "metadata": {},
   "source": [
    "PY0507_004\n"
   ]
  },
  {
   "cell_type": "code",
   "execution_count": null,
   "metadata": {},
   "outputs": [],
   "source": [
    "x = (1, 2, 3, 4, 5)\n",
    "_, i, *j = x"
   ]
  },
  {
   "cell_type": "code",
   "execution_count": 1,
   "metadata": {},
   "outputs": [
    {
     "data": {
      "text/html": [
       "<style>\n",
       ".code_cell .run_this_cell {\n",
       "    display: none;\n",
       "}\n",
       "</style>\n"
      ],
      "text/plain": [
       "<IPython.core.display.HTML object>"
      ]
     },
     "metadata": {},
     "output_type": "display_data"
    }
   ],
   "source": [
    "%%html\n",
    "<style>\n",
    ".code_cell .run_this_cell {\n",
    "    display: none;\n",
    "}\n",
    "</style>"
   ]
  },
  {
   "cell_type": "code",
   "execution_count": null,
   "metadata": {},
   "outputs": [],
   "source": []
  }
 ],
 "metadata": {
  "kernelspec": {
   "display_name": "Python 3",
   "language": "python",
   "name": "python3"
  },
  "language_info": {
   "codemirror_mode": {
    "name": "ipython",
    "version": 3
   },
   "file_extension": ".py",
   "mimetype": "text/x-python",
   "name": "python",
   "nbconvert_exporter": "python",
   "pygments_lexer": "ipython3",
   "version": "3.7.7"
  }
 },
 "nbformat": 4,
 "nbformat_minor": 4
}
