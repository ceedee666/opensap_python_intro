{
 "cells": [
  {
   "cell_type": "markdown",
   "metadata": {},
   "source": [
    "# Assignment Week 4 - Another secret message\n",
    "\n",
    "There is a file `secret.txt`, which contains one character per line. There is a second file `key.txt`, which contains\n",
    "two lines with one number per line (the number could have several digits). The first number `col` represents the number\n",
    "of columns of a grid, the second number `row` represents the number of rows of the grid. The characters of the first\n",
    "file should now be filled into this grid. Take the characters one by one and fill them into a string until the string\n",
    "contains `col` characters. Append the string to a list. Then create a new string the same way. Continue, until the\n",
    "number of strings is equal to `row`.  Now, write all the strings into a file `public.txt`. Open the the file and check\n",
    "the content.\n",
    "\n",
    "# Example\n",
    "If the file `secret.txt` contains the following input:\n",
    "\n",
    "    #\n",
    "    #\n",
    "    #\n",
    "    .\n",
    "    #\n",
    "    .\n",
    "    .\n",
    "    #\n",
    "    .\n",
    "    .\n",
    "    #\n",
    "    .\n",
    "\n",
    "And the file `key.txt` contains the following numbers:\n",
    "\n",
    "    3\n",
    "    4\n",
    "\n",
    "Then the content in the file `public.txt` should be as follows:\n",
    "\n",
    "    ###\n",
    "    .#.\n",
    "    .#.\n",
    "    .#.\n"
   ]
  },
  {
   "cell_type": "code",
   "execution_count": 7,
   "metadata": {},
   "outputs": [],
   "source": [
    "size = []\n",
    "with open(\"key.txt\", \"r\") as file:\n",
    "    for line in file:\n",
    "        line = line.strip()\n",
    "        line = int(line)\n",
    "        size.append(line)\n",
    "col = size[0]\n",
    "row = size[1]\n",
    "\n",
    "chars = []\n",
    "with open(\"secret.txt\", \"r\") as file:\n",
    "    for line in file:\n",
    "        line = line.strip()\n",
    "        chars.append(line)\n",
    "        \n",
    "count = 1\n",
    "public = []\n",
    "line = \"\"\n",
    "for char in chars:\n",
    "    line += char\n",
    "    count += 1\n",
    "    if count == col:\n",
    "        public.append(line)\n",
    "        line = \"\"\n",
    "        count = 1\n",
    "\n",
    "with open(\"public.txt\", \"w\") as file:\n",
    "    for line in public:\n",
    "        line += \"\\n\"\n",
    "        file.write(line)"
   ]
  }
 ],
 "metadata": {
  "kernelspec": {
   "display_name": "Python 3",
   "language": "python",
   "name": "python3"
  },
  "language_info": {
   "codemirror_mode": {
    "name": "ipython",
    "version": 3
   },
   "file_extension": ".py",
   "mimetype": "text/x-python",
   "name": "python",
   "nbconvert_exporter": "python",
   "pygments_lexer": "ipython3",
   "version": "3.7.7"
  }
 },
 "nbformat": 4,
 "nbformat_minor": 4
}
