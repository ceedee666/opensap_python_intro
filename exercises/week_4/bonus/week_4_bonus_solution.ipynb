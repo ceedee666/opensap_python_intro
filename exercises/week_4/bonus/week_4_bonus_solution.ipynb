{
 "cells": [
  {
   "cell_type": "markdown",
   "metadata": {},
   "source": [
    "# Week 4 Bonus - Rock, Paper Scissors\n",
    "You probably know the game [\"Rock, Paper, Scissors\"](https://en.wikipedia.org/wiki/Rock_paper_scissors). A game for two\n",
    "players. Each player has three options, namely rock, paper, scissors, which are formed by the player's hand. The rules\n",
    "are quite easy:\n",
    "- rock beats scissors\n",
    "- scissors beats paper\n",
    "- paper beats rock.\n",
    "\n",
    "If both players have chosen the same object, it's a draw.\n",
    "\n",
    "In the following, we play 100 consecutive games. Each player has to hand in a file consisting of one letter per line.\n",
    "The letters are either \"R\", \"P\" or \"S\".\n",
    "\n",
    "Write a Python program that reads two files `player1.txt` and `player2.txt`. These files are organized according to the\n",
    "above rules. The program should compare both inputs and calculate how many games have been won by player1, by player2\n",
    "and how many games ended in a draw. The results are written into a file `result.txt` which looks as follows:\n",
    "\n",
    "\tPlayer1 wins: 23\n",
    "\tPlayer2 wins: 48\n",
    "\tDraws: 29\n",
    "\n",
    "The sum should always be 100."
   ]
  },
  {
   "cell_type": "code",
   "execution_count": 4,
   "metadata": {},
   "outputs": [],
   "source": [
    "p1 = []\n",
    "with open(\"player1.txt\", \"r\") as file:\n",
    "    for line in file:\n",
    "        line = line.strip()\n",
    "        p1.append(line)\n",
    "        \n",
    "p2 = []\n",
    "with open(\"player2.txt\", \"r\") as file:\n",
    "    for line in file:\n",
    "        line = line.strip()\n",
    "        p2.append(line)\n",
    "\n",
    "results = [0, 0, 0]\n",
    "\n",
    "for i in range(100):\n",
    "    if p1[i] == \"R\":\n",
    "        if p2[i] == \"R\":\n",
    "            results[2] += 1\n",
    "        elif p2[i] == \"S\":\n",
    "            results[0] += 1\n",
    "        else:\n",
    "            results[1] += 1\n",
    "    elif p1[i] == \"S\":\n",
    "        if p2[i] == \"R\":\n",
    "            results[1] += 1\n",
    "        elif p2[i] == \"S\":\n",
    "            results[2] += 1\n",
    "        else:\n",
    "            results[0] += 1\n",
    "    else:\n",
    "        if p2[i] == \"R\":\n",
    "            results[0] += 1\n",
    "        elif p2[i] == \"S\":\n",
    "            results[1] += 1\n",
    "        else:\n",
    "            results[2] += 1\n",
    "            \n",
    "with open(\"results.txt\", \"w\") as file:\n",
    "    file.write(\"Player1 wins: \" + str(results[0]) + \"\\n\")\n",
    "    file.write(\"Player2 wins: \" + str(results[1]) + \"\\n\")\n",
    "    file.write(\"Draw2: \" + str(results[2]) + \"\\n\")\n",
    "            "
   ]
  }
 ],
 "metadata": {
  "kernelspec": {
   "display_name": "Python 3",
   "language": "python",
   "name": "python3"
  },
  "language_info": {
   "codemirror_mode": {
    "name": "ipython",
    "version": 3
   },
   "file_extension": ".py",
   "mimetype": "text/x-python",
   "name": "python",
   "nbconvert_exporter": "python",
   "pygments_lexer": "ipython3",
   "version": "3.7.7"
  }
 },
 "nbformat": 4,
 "nbformat_minor": 4
}
