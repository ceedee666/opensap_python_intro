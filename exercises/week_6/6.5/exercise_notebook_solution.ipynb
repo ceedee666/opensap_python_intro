{
 "cells": [
  {
   "cell_type": "code",
   "execution_count": 10,
   "id": "ae0382a2",
   "metadata": {},
   "outputs": [
    {
     "name": "stdout",
     "output_type": "stream",
     "text": [
      "+-------+-------+-------+\n",
      "| 6 7   |   3   | 4     |\n",
      "|   3   | 4 6   |   9   |\n",
      "|       |   5   |     7 |\n",
      "+-------+-------+-------+\n",
      "|     2 | 8     |       |\n",
      "|   4   |   9   |     2 |\n",
      "|       |       | 9     |\n",
      "+-------+-------+-------+\n",
      "|   5 3 |   2   |   7 4 |\n",
      "| 9   1 |       |       |\n",
      "| 4     |       |   2   |\n",
      "+-------+-------+-------+\n",
      "\n",
      "+-------+-------+-------+\n",
      "| 6 7 9 | 2 3 8 | 4 1 5 |\n",
      "| 1 3 5 | 4 6 7 | 2 9 8 |\n",
      "| 2 8 4 | 1 5 9 | 3 6 7 |\n",
      "+-------+-------+-------+\n",
      "| 3 9 2 | 8 7 5 | 6 4 1 |\n",
      "| 5 4 6 | 3 9 1 | 7 8 2 |\n",
      "| 7 1 8 | 6 4 2 | 9 5 3 |\n",
      "+-------+-------+-------+\n",
      "| 8 5 3 | 9 2 6 | 1 7 4 |\n",
      "| 9 2 1 | 7 8 4 | 5 3 6 |\n",
      "| 4 6 7 | 5 1 3 | 8 2 9 |\n",
      "+-------+-------+-------+\n",
      "\n"
     ]
    }
   ],
   "source": [
    "from sudoku import Sudoku\n",
    "\n",
    "puzzle = Sudoku(3).difficulty(0.7)\n",
    "puzzle.show()\n",
    "\n",
    "solution = puzzle.solve()\n",
    "solution.show()"
   ]
  },
  {
   "cell_type": "code",
   "execution_count": null,
   "id": "649ff010",
   "metadata": {},
   "outputs": [],
   "source": []
  }
 ],
 "metadata": {
  "kernelspec": {
   "display_name": "Python 3 (ipykernel)",
   "language": "python",
   "name": "python3"
  },
  "language_info": {
   "codemirror_mode": {
    "name": "ipython",
    "version": 3
   },
   "file_extension": ".py",
   "mimetype": "text/x-python",
   "name": "python",
   "nbconvert_exporter": "python",
   "pygments_lexer": "ipython3",
   "version": "3.10.2"
  }
 },
 "nbformat": 4,
 "nbformat_minor": 5
}
