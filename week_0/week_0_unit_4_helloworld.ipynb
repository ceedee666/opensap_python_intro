{
 "cells": [
  {
   "cell_type": "markdown",
   "metadata": {},
   "source": [
    "# Introduction to Jupyter Notebooks\n",
    "We will use Juypter Notebooks for the introduction to Python programming. The Juypter Project (https://jupyter.org/)\n",
    "develops open source software that can be used to create special documents called Jupyter Notebooks. These documents can\n",
    "contain:\n",
    "\n",
    "- program code\n",
    "- formatted text\n",
    "- equations\n",
    "- Visualisations\n",
    "\n",
    "The notebooks are therefore very suitable for learning a programming language, such as Python. In practice, Jupyter\n",
    "Notebooks are used for applications in data cleaning and transformation, numerical simulation, statistical modelling,\n",
    "data visualisation and machine learning. You can see this practical relevance in the fact that virtually all cloud\n",
    "providers offer options for hosting Jupyter Notebooks (Microsoft: (https://notebooks.azure.com/), Google:\n",
    "(https://cloud.google.com/datalab/)).\n",
    "\n",
    "Within the MOOC \"Python for Beginners\" we will provide you with Juypter Notebooks. These notebooks contain the\n",
    "theoretical background of the lecture as well as the exercises."
   ]
  },
  {
   "cell_type": "markdown",
   "metadata": {},
   "source": [
    "# Jupyter Notebooks are based on cells\n",
    "Jupyter Notebooks are based on cells. There are two types of cells, which are interesting for this MOOC:\n",
    "\n",
    "- Cells containing text and explanations (Markdown Cells)\n",
    "- Cells to do the programming (Code Cells)\n",
    "\n",
    "Actually, the text you are just reading is part of a Markdown Cell!\n",
    "\n",
    "## Markdown Cells\n",
    "This is a markdown cell. These cells contain formatted text. (That's why they are called text cells as well.)\n",
    "\n",
    "## Code Cells\n",
    "The following cell is a code cell. This cell contains Python code, which can be excecuted within this notebook."
   ]
  },
  {
   "cell_type": "code",
   "execution_count": null,
   "metadata": {},
   "outputs": [],
   "source": [
    "print(\"Hello World\")"
   ]
  },
  {
   "cell_type": "markdown",
   "metadata": {},
   "source": [
    "## Active Cells\n",
    "If you click on a cell, the cell becomes active. Typically, there is one active cell, which can be identified by the\n",
    "frame around the cell and the green or blue bar on the left side."
   ]
  },
  {
   "cell_type": "markdown",
   "metadata": {},
   "source": [
    "# Edit Mode and Command Mode\n",
    "There are two different modes for the cells: Edit mode and command mode. In command mode, the markdown cells (text\n",
    "cells) are good to read, the text is well layouted. In edit mode you have to get used to the layout. Actually, you can\n",
    "see all the *markdown-commands* which control the layout in command mode. To get into edit mode simply click twice on\n",
    "the cell, to get back into command mode, simply type shift-return or ctrl-return. In this course, you do not have to\n",
    "change text cells. However, you might double-click on a text cell by accident and you should know how to get back into\n",
    "command mode. So give it a try: First double-click on a text cell, then bring it back with shift-return.\n",
    "\n",
    "If you click into a code cell, you are able to edit the code. If you then type shift-return of ctrl-return the code in\n",
    "the cell will be executed. Give it a try with the code cell further up. Click into it and type shift-return. The code\n",
    "should be executed, the output of the program should be printed right under the cell. In addition the text left to the\n",
    "cell stating `In [ ]` will be changed to `In [1]`. The `1` indicates the *sequence of executions*. The `1` states, this\n",
    "has been the first execution in this notebook. If you run the cell a second time, the `1` will be changed to a `2`. This\n",
    "is of importance later on.\n",
    "\n",
    "# The Menu Bar\n",
    "The menu bar on top is mostly self-explanatory. But maybe the `Kernel` menu is worth some explanation. This menu offer\n",
    "some commands to steer the connection of your notebook in the browser and the jupyter server running in the background.\n",
    "If you should ever run into a situation that a cell or the notebook is hanging, you can restart the kernel with one of\n",
    "the three restart commands. `Restart & Clear Output` will in addition set back all code cells. Just give it a try. "
   ]
  },
  {
   "cell_type": "markdown",
   "metadata": {},
   "source": [
    "# More about Jupyter Notebooks\n",
    "For the time being, that's all you have to know about Jupyter Notebooks. If you are interested in further readings, you\n",
    "can have a look at https://docs.jupyter.org/en/latest/ . However, there are lots of tutorials in the internet. Just\n",
    "search for it ..."
   ]
  }
 ],
 "metadata": {
  "kernelspec": {
   "display_name": "Python 3 (ipykernel)",
   "language": "python",
   "name": "python3"
  },
  "language_info": {
   "codemirror_mode": {
    "name": "ipython",
    "version": 3
   },
   "file_extension": ".py",
   "mimetype": "text/x-python",
   "name": "python",
   "nbconvert_exporter": "python",
   "pygments_lexer": "ipython3",
   "version": "3.9.10"
  }
 },
 "nbformat": 4,
 "nbformat_minor": 4
}
