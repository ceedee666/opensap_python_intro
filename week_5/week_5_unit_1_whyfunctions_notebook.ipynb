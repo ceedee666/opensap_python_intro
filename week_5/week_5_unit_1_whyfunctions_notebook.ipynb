{
 "cells": [
  {
   "cell_type": "markdown",
   "metadata": {},
   "source": [
    "# Why are functions necessary?\n",
    "## Motivation\n",
    "\n",
    "One of the basic concepts of mathematics is that of functions. A function $ f $ assigns to each element $ x $ of\n",
    "a set $ D $ one element $ y $ of a set $ D $. The following examples show some well known functions.\n",
    "\n",
    "Examples:\n",
    "\n",
    "* $ f (x) = x ^ 2 \\text{ for } x \\in \\mathbb{N} $\n",
    "* $ s (x, y) = x + y $ for $ x \\in \\mathbb{R} $\n",
    "\n",
    "A function is therefore clearly defined by its parameters and the associated mapping rule(s).\n",
    "\n",
    "\n",
    "## Functions in programming\n",
    "A function in programming is structured similarly to a function in mathematics. A function in programming\n",
    "usually consists of a *name*, a series of *parameters* and a set of *instructions*. Furthermore,\n",
    "functions usually yield some result. \n",
    "\n",
    "The main goals of functions \n",
    "in programming are: \n",
    "\n",
    "- to structure programs\n",
    "- to make programs more readable\n",
    "- to enable reuse. \n",
    "\n",
    "As an example consider the following small program:"
   ]
  },
  {
   "cell_type": "code",
   "execution_count": null,
   "metadata": {},
   "outputs": [],
   "source": [
    "names = [\"Christian\", \"Stephan\", \"Lukas\"]\n",
    "\n",
    "for name in names:\n",
    "    print(\"Hallo\", name)"
   ]
  },
  {
   "cell_type": "markdown",
   "metadata": {},
   "source": [
    "In this program the `print()` function is used to create some output. Using the\n",
    "`print()` function has several advantages:\n",
    "\n",
    "1. The `print` function is reusable. We already used it in several of our programs\n",
    "1. The `print` function makes the program more readable \n",
    "    - as it gives a name to some functionality (*print* in this case)\n",
    "    - because the details of the implementation of the functionality are hidden\n",
    "\n",
    "The content of this week focuses on writing functions in Python and using them to structure programs."
   ]
  },
  {
   "cell_type": "markdown",
   "metadata": {},
   "source": [
    "# Functions in Python\n",
    "As already mentioned in the previous section we have already used some functions from the Python standard library. For\n",
    "example, we already used the function [`print()`](https://docs.python.org/3/library/functions.html#print) to create\n",
    "output or the function [`int()`](https://docs.python.org/3/library/functions.html#int) to convert other data types into\n",
    "an integer.\n",
    "\n",
    "Of course, as in other programming languages, it is also possible to define own functions in Python. The following cell\n",
    "shows the definition of a simple function `double()`. This function doubles the value of a passed parameter and returns\n",
    "the result."
   ]
  },
  {
   "cell_type": "code",
   "execution_count": null,
   "metadata": {},
   "outputs": [],
   "source": [
    "def double(x):\n",
    "    \"\"\"\n",
    "    Doubles the value x\n",
    "    \"\"\"\n",
    "    return x * 2"
   ]
  },
  {
   "cell_type": "markdown",
   "metadata": {},
   "source": [
    "Once the function is defined it can be called as shown in the following cell."
   ]
  },
  {
   "cell_type": "code",
   "execution_count": null,
   "metadata": {},
   "outputs": [],
   "source": [
    "d = double(21)\n",
    "print(d)\n",
    "\n",
    "print(double(\"Hello \"))"
   ]
  },
  {
   "cell_type": "markdown",
   "metadata": {},
   "source": [
    "Functions in Python are defined using the following syntax:"
   ]
  },
  {
   "cell_type": "code",
   "execution_count": null,
   "metadata": {},
   "outputs": [],
   "source": [
    "def function_name(parameter_list):\n",
    "    \"\"\"\n",
    "    docstring\n",
    "    \"\"\"\n",
    "    statements\n",
    "    return output_value(s)"
   ]
  },
  {
   "cell_type": "markdown",
   "metadata": {},
   "source": [
    "A function in Python consists of the following components:\n",
    "\n",
    "- The keyword `def` followed by a *function name*. The function name can be used to call the function\n",
    "- An optional *parameter list*. The parameter list can, therefore, be empty or contain multiple parameters. Several\n",
    "  parameters are separated by commas\n",
    "- An optional *docstring (between the `\"\"\"`)*. It can be used to add a documentation for the function\n",
    "- The function body. The function body is a code block consisting of statements and optional return values\n",
    "    - As with all code blocks in Python the functional body is indented\n",
    "    - The function body must contain at least one statement\n",
    "    - The return values of the function follow the keyword `return`. Return values are optional\n",
    "\n",
    "The individual components a function comprises are explained in detail in the following sections. First, however, we\n",
    "learn how a function is called."
   ]
  },
  {
   "cell_type": "markdown",
   "metadata": {},
   "source": [
    "## Function calls \n",
    "\n",
    "The cell below contains a Python program consisting of several parts. First, a function `greet()` is defined. Next, this\n",
    "function is called two times with different parameters."
   ]
  },
  {
   "cell_type": "code",
   "execution_count": null,
   "metadata": {},
   "outputs": [],
   "source": [
    "def greet(name):\n",
    "    return \"May the force be with you, \" + name\n",
    "\n",
    "\n",
    "n = \"Luke\"\n",
    "greeting = greet(n)\n",
    "print(greeting)\n",
    "\n",
    "print(greet(\"Christian\"))"
   ]
  },
  {
   "cell_type": "markdown",
   "metadata": {},
   "source": [
    "If this Python program is executed, the function `greet()` is defined first. This definition has no output. Then the\n",
    "function `greet()` is called twice with different parameters. The result of the function calls is displayed using a call\n",
    "to the function `print()`.\n",
    "\n",
    "The execution of the program is shown graphically in the figure below.\n",
    "\n",
    "![Calling a function](img/function_calls.drawio.png)"
   ]
  },
  {
   "cell_type": "markdown",
   "metadata": {},
   "source": [
    "First, the variable n is set to the value `\"Luke\"`. Then the function `greet()` is called and the variable `n` is passed\n",
    "as a parameter. By calling the function, the value of the variable `n` is assigned to the parameter `name`. Inside the\n",
    "function the parameter `name` has now the value `\"Luke\"`.  \n",
    "The result of the function is constructed by concatenating value `\"May the force be with you, \"` and the value of the\n",
    "parameter `name`. The outcome is `\"May the force be with you, Luke\"`.  \n",
    "It is returned from the function. In the example the returned value is assigned to the variable `greeting`. Finally, the\n",
    "value of the variable greeting is displayed by calling the function `print()`. \n",
    "\n",
    "In the next step the function `greet()` is called again. This time the string `\"Christian\"` is passed as a parameter.\n",
    "The return value of the function is, therefore `\"May the force be with you, Christian\"`. This result is passed to the\n",
    "`print()` function directly without assigning it to any variable first."
   ]
  }
 ],
 "metadata": {
  "interpreter": {
   "hash": "9fd0e282e2343d8b38b390b803aabc7fcea80a18eee8e5bd23ce64f6435b30a1"
  },
  "kernelspec": {
   "display_name": "Python 3.9.7 64-bit ('opensap_python_intro-SgMpohZV': pipenv)",
   "name": "python3"
  },
  "language_info": {
   "codemirror_mode": {
    "name": "ipython",
    "version": 3
   },
   "file_extension": ".py",
   "mimetype": "text/x-python",
   "name": "python",
   "nbconvert_exporter": "python",
   "pygments_lexer": "ipython3",
   "version": "3.9.7"
  }
 },
 "nbformat": 4,
 "nbformat_minor": 2
}
