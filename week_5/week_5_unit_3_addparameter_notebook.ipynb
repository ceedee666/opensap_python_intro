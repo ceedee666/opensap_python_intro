{
 "cells": [
  {
   "cell_type": "markdown",
   "metadata": {},
   "source": [
    "# Adding parameters to functions\n",
    "## Motivation\n",
    "In the previous units you have seen that you can use functions with parameters. There are cases, where no parameter is\n",
    "needed in a function, for example a function for some kind of greeting, which should always be the same. Or a function\n",
    "which will write the current time in a predefined format to a terminal or a log.\n",
    "\n",
    "Parameters, however make it possible to customize these functions to your need. In case of the above examples, you could\n",
    "add a name to the greeting to personalize it or use a parameter in the *current time*-function to change the formatting\n",
    "of the output, e.g. 24h/12h format.  \n",
    "Parameters make it possible to *recycle* a function for different inputs and do the same operation on different values.\n",
    "\n",
    "\n",
    "# Using parameters\n",
    "A function has an optional parameter list. This means that a function has either:\n",
    "- no parameter\n",
    "- one parameter\n",
    "- multiple parameters\n",
    "\n",
    "The following cell contains examples of functions with different parameter lists.  "
   ]
  },
  {
   "cell_type": "code",
   "execution_count": null,
   "metadata": {},
   "outputs": [],
   "source": [
    "def the_answer_to_everything():\n",
    "    return 42\n",
    "\n",
    "\n",
    "print(\n",
    "    \"What is the Answer to Life, The Universe, and Everything?\",\n",
    "    the_answer_to_everything(),\n",
    ")\n",
    "\n",
    "\n",
    "def sum(a, b):\n",
    "    return a + b\n",
    "\n",
    "\n",
    "print(\"What is the sum of 39 and 3?\", sum(39, 3))"
   ]
  },
  {
   "cell_type": "markdown",
   "metadata": {},
   "source": [
    "# Exercise\n",
    "Now it is your turn. Write a Python function that checks whether a given string is a\n",
    "[palindrome](https://en.wikipedia.org/wiki/Palindrome).  Examples of palindromes are Anna, Otto, racecar or 24742. So\n",
    "palindromes are words or phrases that read the same backward and forward.\n",
    "\n",
    "The return value of your function should simply be `True` or `False`, depending on whether the string passed as a\n",
    "parameter is a palindrome or not."
   ]
  },
  {
   "cell_type": "code",
   "execution_count": null,
   "metadata": {},
   "outputs": [],
   "source": []
  },
  {
   "cell_type": "markdown",
   "metadata": {},
   "source": [
    "# Default Values \n",
    "It is also possible to define default values for parameters. These default values are used if no value is passed for a\n",
    "parameter upon calling the function.\n",
    "\n",
    "The following example shows a function for multiplying a number by a certain factor. The parameter factor is set to the\n",
    "default value `2`. The function can now be called with or without passing the parameter factor."
   ]
  },
  {
   "cell_type": "code",
   "execution_count": null,
   "metadata": {},
   "outputs": [],
   "source": [
    "def multiply_with_factor(number, factor=2):\n",
    "    return number * factor\n",
    "\n",
    "\n",
    "print(multiply_with_factor(5))\n",
    "print(multiply_with_factor(5, 3))"
   ]
  },
  {
   "cell_type": "markdown",
   "metadata": {},
   "source": [
    "So far, functions in our examples have been called by passing parameters according to the order of the parameter list.\n",
    "But Python also offers the possibility to address particular parameters using their names. \n",
    "\n",
    "Addressing function parameters using their names makes especially sense if it is combined with standard values. A good\n",
    "example for this are the parameters of the `print()` function already mentioned. You can access the `docstring` of\n",
    "functions in Jupyter Notebooks pretty easily by entering the function name (without brackets!) followed by a \"?\" into a\n",
    "cell and executing it:"
   ]
  },
  {
   "cell_type": "code",
   "execution_count": null,
   "metadata": {},
   "outputs": [],
   "source": [
    "print?"
   ]
  },
  {
   "cell_type": "markdown",
   "metadata": {},
   "source": [
    "Otherwise in the [Python Standard library](https://docs.python.org/3/library/functions.html#print) it is defined as\n",
    "follows:\n",
    "\n",
    "```\n",
    "print(* objects, sep = ' ', end = '\\n', file = sys.stdout, flush = False)\n",
    "```\n",
    "\n",
    "The `print()`function defines the parameters `sep` and `end`, with the default values `' '` and `'\\n'` respectively. For\n",
    "now, we are ignoring the other parameters.  \n",
    "Using the parameter `sep` we can provide a different separator for the parameters of the `print()` function.  \n",
    "Using the `end` parameter, we can provide a different value to end the line (instead of the\n",
    "[newline](https://en.wikipedia.org/wiki/Newline) escape sequence). Of cause, its also possible to combine both."
   ]
  },
  {
   "cell_type": "code",
   "execution_count": null,
   "metadata": {},
   "outputs": [],
   "source": [
    "print(\"Happy\", \"Python\", \"programming\")\n",
    "print(\"Happy\", \"Python\", \"programming\", sep=\" 🐍 \")\n",
    "\n",
    "print(\"Happy\", \"Python\", \"programming\", end=\" 👍\")\n",
    "print()\n",
    "print(\"Happy\", \"Python\", \"programming\", end=\" 👍\", sep=\" 🐍 \")"
   ]
  },
  {
   "cell_type": "markdown",
   "metadata": {},
   "source": [
    "# Appendix: Escape characters\n",
    "To be able to display some special characters in Python, there are so-called\n",
    "[escape characters](https://docs.python.org/3/reference/lexical_analysis.html#string-and-bytes-literals).\n",
    "These are introduced with a backslash `\\` and have special\n",
    "[meanings]((https://www.w3schools.com/python/gloss_python_escape_characters.asp)) (table not complete):\n",
    "\n",
    "| Character | Meaning              |\n",
    "| --------- | -------------------- |\n",
    "| `\\n`      | Line break, new line |\n",
    "| `\\t`      | Tabulator            |\n",
    "| `\\\"`      | Quotation mark       |\n",
    "\n",
    "A short addition to the last entry in the table: If you want to make a quotation mark in a string, you can use this.\n",
    "\n",
    "Quiz question: Why is the `0` of the second loop placed behind the numbers of the first loop? How can this be changed?"
   ]
  },
  {
   "cell_type": "code",
   "execution_count": null,
   "metadata": {},
   "outputs": [],
   "source": [
    "for i in range(5):\n",
    "    print(i, end=\" \")\n",
    "\n",
    "for i in range(5):\n",
    "    print(i, end=\"\\n\\n\")"
   ]
  }
 ],
 "metadata": {
  "interpreter": {
   "hash": "fb768b9b3ecf961ba38b0c7e836f7f85a23c08c1797458e7c652470f2ae90c9c"
  },
  "kernelspec": {
   "display_name": "Python 3.9.7 64-bit ('opensap_python_intro-I0JzIr5f': pipenv)",
   "language": "python",
   "name": "python3"
  },
  "language_info": {
   "codemirror_mode": {
    "name": "ipython",
    "version": 3
   },
   "file_extension": ".py",
   "mimetype": "text/x-python",
   "name": "python",
   "nbconvert_exporter": "python",
   "pygments_lexer": "ipython3",
   "version": "3.10.1"
  }
 },
 "nbformat": 4,
 "nbformat_minor": 2
}
