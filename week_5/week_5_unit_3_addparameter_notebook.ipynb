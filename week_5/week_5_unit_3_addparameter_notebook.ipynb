{
 "cells": [
  {
   "cell_type": "markdown",
   "metadata": {},
   "source": [
    "# Function Parameters\n",
    "\n",
    "A function has an optional parameter list. This means that a function has either:\n",
    "\n",
    "- no parameter\n",
    "- one parameter\n",
    "- multiple parameters.\n",
    "\n",
    "The following cell contains examples of functions with different parameter lists.  "
   ]
  },
  {
   "cell_type": "code",
   "execution_count": null,
   "metadata": {},
   "outputs": [],
   "source": [
    "def the_answer_to_everything():\n",
    "    return 42\n",
    "\n",
    "\n",
    "print(\n",
    "    \"What is the Answer to Life, The Universe, and Everything?\",\n",
    "    the_answer_to_everything(),\n",
    ")\n",
    "\n",
    "\n",
    "def sum(a, b):\n",
    "    return a + b\n",
    "\n",
    "\n",
    "print(\"What is the sum of 39 and 3?\", sum(39, 3))"
   ]
  },
  {
   "cell_type": "markdown",
   "metadata": {},
   "source": [
    "## Exercise\n",
    "\n",
    "Now it is your turn. Write a Python function that checks whether a given string is\n",
    "a [palindrome](https://en.wikipedia.org/wiki/Palindrome).  Examples of palindromes are Anna, Otto, \n",
    "racecar or 24742. So palindromes are words or phrases that read the same backward and forward.\n",
    "\n",
    "The return value of your function should simply be `True` or `False`, depending on whether the string\n",
    "passed as a parameter is a palindrome or not."
   ]
  },
  {
   "cell_type": "code",
   "execution_count": null,
   "metadata": {},
   "outputs": [],
   "source": []
  },
  {
   "cell_type": "markdown",
   "metadata": {},
   "source": [
    "## Default Values \n",
    "\n",
    "It is also possible to define default values for parameters. These default values are used \n",
    "if no value is passed for a parameter upon calling the function.\n",
    "\n",
    "The following example shows a function for multiplying a number by a certain factor.\n",
    "The parameter factor is set to the default value `2`. The function can now be called with or without\n",
    "passing the parameter factor."
   ]
  },
  {
   "cell_type": "code",
   "execution_count": null,
   "metadata": {},
   "outputs": [],
   "source": [
    "def multiply_with_factor(number, factor=2):\n",
    "    return number * factor\n",
    "\n",
    "\n",
    "print(multiply_with_factor(5))\n",
    "print(multiply_with_factor(5, 3))"
   ]
  },
  {
   "cell_type": "markdown",
   "metadata": {},
   "source": [
    "So far, functions have been called in our example by passing parameters according to the order of the parameter list.\n",
    "But Python also offers the possibility to address particular parameters using their names. \n",
    "\n",
    "Addressing function parameters using their names makes especially sense if it is combined with standard values.\n",
    "A good example for this is the `print()` function. It is defined in the \n",
    "[standard Python library](https://docs.python.org/3/library/functions.html#print) as follows:\n",
    "\n",
    "```\n",
    "print(* objects, sep = ' ', end = '\\n', file = sys.stdout, flush = False)\n",
    "````\n",
    "\n",
    "The `print()`function defines the parameters `sep` and `end`, with the default values `' '` and `'\\n'` respectively.\n",
    "For now, we are ignoring the other parameters. Using the parameter `sep` we can provide a different separator \n",
    "for the parameters of the `print()` function. Using the `end` parameter, we can provide a different value to \n",
    "end the line (instead of the [newline](https://en.wikipedia.org/wiki/Newline) escape sequence). Of cause, its also\n",
    "possible to combine both. "
   ]
  },
  {
   "cell_type": "markdown",
   "metadata": {},
   "source": [
    "print(\"Happy\", \"Python\", \"programming\")\n",
    "print(\"Happy\", \"Python\", \"programming\", sep=\" 🐍 \")\n",
    "\n",
    "print(\"Happy\", \"Python\", \"programming\" , end=\" 👍\")\n",
    "print()\n",
    "print(\"Happy\", \"Python\", \"programming\" , end=\" 👍\", sep=\" 🐍 \")"
   ]
  }
 ],
 "metadata": {
  "language_info": {
   "name": "python"
  }
 },
 "nbformat": 4,
 "nbformat_minor": 2
}
