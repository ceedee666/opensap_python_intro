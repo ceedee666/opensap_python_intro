{
 "cells": [
  {
   "cell_type": "markdown",
   "metadata": {},
   "source": [
    "# Returning Results from Functions\n",
    "\n",
    "\n",
    "The previous examples already showed that functions have an optional return value.\n",
    "The return value of a function is defined using the `return` keyword. A function\n",
    "in Python only has one return value. \n",
    "\n",
    "The following cell shows an example of a function *without* a return value. This function simply \n",
    "prints a result. The return value is empty. This is shown using the special value `None`."
   ]
  },
  {
   "cell_type": "code",
   "execution_count": null,
   "metadata": {},
   "outputs": [],
   "source": [
    "def print_greeting():\n",
    "    print(\"No, I'm your father!\")\n",
    "\n",
    "\n",
    "return_value = print_greeting()\n",
    "print(return_value)"
   ]
  },
  {
   "cell_type": "markdown",
   "metadata": {},
   "source": [
    "The following cell show a similar function to the previous one. In this case the function returns the value `\"No, I', your father!\"`."
   ]
  },
  {
   "cell_type": "code",
   "execution_count": null,
   "metadata": {},
   "outputs": [],
   "source": [
    "def print_greeting():\n",
    "    return \"No, I'm your father!\"\n",
    "\n",
    "\n",
    "return_value = print_greeting()\n",
    "print(return_value)"
   ]
  },
  {
   "cell_type": "markdown",
   "metadata": {},
   "source": [
    "Of cause it is also possible to return other datatypes from functions."
   ]
  },
  {
   "cell_type": "code",
   "execution_count": null,
   "metadata": {},
   "outputs": [],
   "source": [
    "def the_answer_to_everything():\n",
    "    return 42\n",
    "\n",
    "\n",
    "print(\n",
    "    \"What is the Answer to Life, The Universe, and Everything?\",\n",
    "    the_answer_to_everything(),\n",
    ")"
   ]
  },
  {
   "cell_type": "code",
   "execution_count": null,
   "metadata": {},
   "outputs": [],
   "source": [
    "def is_python_the_best_programming_language():\n",
    "    return True\n",
    "\n",
    "\n",
    "if is_python_the_best_programming_language:\n",
    "    print(\"🐍\")"
   ]
  },
  {
   "cell_type": "markdown",
   "metadata": {},
   "source": [
    "In particular, it is also possible to return complex datatypes like lists and tuples from functions. "
   ]
  },
  {
   "cell_type": "code",
   "execution_count": null,
   "metadata": {},
   "outputs": [],
   "source": [
    "def ramones_records():\n",
    "    return [\"Ramones\", \"Leave Home\", \"Rocket to Russia\", \"Road to Ruin\"]\n",
    "\n",
    "\n",
    "for record in ramones_records():\n",
    "    print(\"I'm listening to\", record)"
   ]
  },
  {
   "cell_type": "code",
   "execution_count": null,
   "metadata": {},
   "outputs": [],
   "source": []
  }
 ],
 "metadata": {
  "interpreter": {
   "hash": "9fd0e282e2343d8b38b390b803aabc7fcea80a18eee8e5bd23ce64f6435b30a1"
  },
  "kernelspec": {
   "display_name": "Python 3.9.7 64-bit ('opensap_python_intro-SgMpohZV': pipenv)",
   "name": "python3"
  },
  "language_info": {
   "codemirror_mode": {
    "name": "ipython",
    "version": 3
   },
   "file_extension": ".py",
   "mimetype": "text/x-python",
   "name": "python",
   "nbconvert_exporter": "python",
   "pygments_lexer": "ipython3",
   "version": "3.9.7"
  }
 },
 "nbformat": 4,
 "nbformat_minor": 2
}
