{
 "cells": [
  {
   "cell_type": "markdown",
   "metadata": {},
   "source": [
    "# Functions vs. Methods\n",
    "\n",
    "You might have noticed in one of the previous units that sometimes the term *function* and \n",
    "sometimes the term *method* was used to refer to some functionality in the Python 🐍 standard\n",
    "library. This was not by mistake but a conscious usage of the terms to refer to different concepts.\n",
    "After learning about functions in Python 🐍 earlier this unit highlights the main difference between \n",
    "functions and methods. \n",
    "\n",
    "## Programming paradigms \n",
    "\n",
    "To cope with the ever increasing\n",
    "[complexity of software systems](https://informationisbeautiful.net/visualizations/million-lines-of-code/)\n",
    "different [programming paradigms](https://en.wikipedia.org/wiki/Programming_paradigm)\n",
    "have been developed. Two well know paradigms are the procedural programming paradigm and the object oriented\n",
    "programming paradigm. A detailed discussions of these paradigms is beyond the scope of this\n",
    "introductory lecture. Nevertheless the main aspects of these paradigms are described in the following.\n",
    "\n",
    "In the procedural programming paradigm the programs are structured using procedures. These procedures contain\n",
    "the program statements. In contrast to that the object oriented programming paradigm\n",
    "uses the notion of objects to structure programs. An object encapsulates data and\n",
    "methods to manipulate this data. \n",
    "\n",
    "Python 🐍 supports the procedural and the object oriented\n",
    "programming paradigm. Procedures are called functions in Python. As discussed earlier, a function contains\n",
    "several statements. \n",
    "\n",
    "## Invoking functions\n",
    "\n",
    "## Invoking methods"
   ]
  }
 ],
 "metadata": {
  "language_info": {
   "name": "python"
  }
 },
 "nbformat": 4,
 "nbformat_minor": 2
}
