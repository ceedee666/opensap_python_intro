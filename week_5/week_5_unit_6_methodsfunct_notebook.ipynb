{
 "cells": [
  {
   "cell_type": "markdown",
   "metadata": {},
   "source": [
    "# Functions vs. Methods\n",
    "\n",
    "You might have noticed in one of the previous units that sometimes the term *function* and \n",
    "sometimes the term *method* was used to refer to some functionality in the Python 🐍 standard\n",
    "library. This was not by mistake but a conscious usage of the terms to refer to different concepts.\n",
    "After learning about functions in Python 🐍 earlier this unit highlights the main difference between \n",
    "functions and methods. \n",
    "\n",
    "## Programming paradigms \n",
    "\n",
    "To cope with the ever increasing\n",
    "[complexity of software systems](https://informationisbeautiful.net/visualizations/million-lines-of-code/)\n",
    "different [programming paradigms](https://en.wikipedia.org/wiki/Programming_paradigm)\n",
    "have been developed. Two well know paradigms are the procedural programming paradigm and the object oriented\n",
    "programming paradigm. A detailed discussions of these paradigms is beyond the scope of this\n",
    "introductory lecture. Nevertheless the main aspects of these paradigms are described in the following.\n",
    "\n",
    "In the procedural programming paradigm the programs are structured using procedures. These procedures contain\n",
    "the program statements. In contrast to that the object oriented programming paradigm\n",
    "uses the notion of objects to structure programs. An object encapsulates data and\n",
    "methods to manipulate this data.[<sup id=\"fn1-back\">1</sup>](#fn1) \n",
    "\n",
    "Python 🐍 supports the procedural and the object oriented\n",
    "programming paradigm. Procedures are called functions in Python. As discussed earlier, a function contains\n",
    "several statements. The following discussion focuses on the differences when invoking functions and methods. \n",
    "\n",
    "## Invoking functions\n",
    "\n",
    "As shown in the previous units a function is invoked using its name. As an example consider the `print()` function in the following cell."
   ]
  },
  {
   "cell_type": "code",
   "execution_count": null,
   "metadata": {},
   "outputs": [],
   "source": [
    "song = \"Blue Train\"\n",
    "\n",
    "print(\"Listening to\", song)"
   ]
  },
  {
   "cell_type": "markdown",
   "metadata": {},
   "source": [
    "The `print()` function is invoked by using its name followed parenthesis. Inside the parenthesis *all* the data\n",
    "required for the execution of the function is provided as parameters. In the example above two parameters are provided:\n",
    "\n",
    "- The string `\"Listening to\"`\n",
    "- The variable `song` containing the value `\"Blue Train\"`.\n",
    "\n",
    "The `print()` function uses these parameters to perform its functionality. In case of the `print()` function this is\n",
    "printing the text `Listening to Blue Train`."
   ]
  },
  {
   "cell_type": "markdown",
   "metadata": {},
   "source": [
    "## Invoking methods\n",
    "\n",
    "In contrast to functions methods can not be invokes by only using the method name. Instead an object is required to invoke a method.\n",
    "This is shown in the following example. "
   ]
  },
  {
   "cell_type": "code",
   "execution_count": null,
   "metadata": {},
   "outputs": [],
   "source": [
    "song = \"Ace of Spades\"\n",
    "turned_up_song = song.upper()\n",
    "\n",
    "print(\"Listening to\", turned_up_song)"
   ]
  },
  {
   "cell_type": "markdown",
   "metadata": {},
   "source": [
    "In the example a variable `song` of type string is defined. Note, that in Python 🐍 there are actually no primitive data types.\n",
    "Instead everything is a object in the sense of the object oriented programming paradigm. Using the `song` object the method `upper()`\n",
    "is invoked. This is done by adding a `.` to the object followed by the method name. Invoking the method `upper()` returns a new\n",
    "string with all characters converted to upper case. Consequently the output of the print function ist `Listening to ACE OF SPADES`.\n",
    "\n",
    "As the method `upper()` is invoked on the object `song` no parameters are provided. Instead the method uses the data of the object \n",
    "(in this case the value `Ace of Spades`) to perform its functionality. \n",
    "\n",
    "Of cause, methods can also have optional parameters. This is shown in the following example."
   ]
  },
  {
   "cell_type": "code",
   "execution_count": null,
   "metadata": {},
   "outputs": [],
   "source": [
    "songs = \"Ace of Spaces, Blitzkrieg Bob, Blue Train\"\n",
    "song_list = songs.split(\", \")\n",
    "\n",
    "for song in song_list:\n",
    "    print(\"Listening to\", song)"
   ]
  },
  {
   "cell_type": "markdown",
   "metadata": {},
   "source": [
    "In this example the variable songs contains a comma separated list of songs. Using the `split()` method this string ist split\n",
    "into a list of strings. The parameter of the `split()` method is the delimiter used to split the string. In the example above \n",
    "the delimiter is `\", \"` (a comma followed by a space). As the result the `split()` method returns a list of strings, which is\n",
    "stored in the `song_list` variable. "
   ]
  },
  {
   "cell_type": "markdown",
   "metadata": {},
   "source": [
    "## Footnotes\n",
    "[<sup id=\"fn1\">1</sup>](#fn1-back) Key concept of the object oriented programming paradigm like message passing, encapsulation or polymorphism \n",
    "were deliberately omitted. A brief introduction to object oriented programming in python is available\n",
    "[here](https://docs.python.org/3/tutorial/classes.html). "
   ]
  }
 ],
 "metadata": {
  "interpreter": {
   "hash": "9fd0e282e2343d8b38b390b803aabc7fcea80a18eee8e5bd23ce64f6435b30a1"
  },
  "kernelspec": {
   "display_name": "Python 3.9.9 64-bit ('opensap_python_intro-SgMpohZV': pipenv)",
   "language": "python",
   "name": "python3"
  },
  "language_info": {
   "codemirror_mode": {
    "name": "ipython",
    "version": 3
   },
   "file_extension": ".py",
   "mimetype": "text/x-python",
   "name": "python",
   "nbconvert_exporter": "python",
   "pygments_lexer": "ipython3",
   "version": "3.9.9"
  }
 },
 "nbformat": 4,
 "nbformat_minor": 2
}
