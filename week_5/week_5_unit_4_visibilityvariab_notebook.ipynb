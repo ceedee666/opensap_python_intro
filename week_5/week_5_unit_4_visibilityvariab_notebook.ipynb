{
 "cells": [
  {
   "cell_type": "markdown",
   "metadata": {},
   "source": [
    "# Visibility of Variables\n",
    "\n",
    "All variables defined in Python 🐍 have a scope in which they are visible. So far we have not seen these scopes in our programs. Them\n",
    "main reason is, that we implicitly only used the *global* scope in our programs. However, as sone as we define functions we need to be\n",
    "aware of the different visibility scopes. \n",
    "\n",
    "## Global vs. local scope\n",
    "\n",
    "As mentioned above, we defined variables so far only in the *global* scope. Besides the *global* scope there is also a *local* scope in\n",
    "Python 🐍. What is the difference between these two scopes? Each variable defined outside of a function is a variable with a *global* scope.\n",
    "This variable can also be called a *global variable*. A global variable can be accessed anywhere in the program. This is shown by the following\n",
    "example. The variable `global_song` is defined outside the `play_music()` function. Nevertheless, it is possible to access the variable \n",
    "`global_song` inside the function."
   ]
  },
  {
   "cell_type": "code",
   "execution_count": null,
   "metadata": {},
   "outputs": [],
   "source": [
    "global_song = \"Blitzkrieg Bop\"\n",
    "\n",
    "\n",
    "def play_music():\n",
    "    print(\"Listening to\", global_song)\n",
    "\n",
    "\n",
    "play_music()"
   ]
  },
  {
   "cell_type": "markdown",
   "metadata": {},
   "source": [
    "In the example above, the definition of the function `play_music()` created a new, *local* scope. This becomes obvious as soon as\n",
    "the program tries to change the global variable in the local scope. In this case an error message is raised."
   ]
  },
  {
   "cell_type": "code",
   "execution_count": null,
   "metadata": {},
   "outputs": [],
   "source": [
    "global_song = \"Blue Train\"\n",
    "\n",
    "\n",
    "def play_music():\n",
    "    global_song = \"Listening to\" + global_song\n",
    "    print(global_song)\n",
    "\n",
    "\n",
    "play_music()"
   ]
  },
  {
   "cell_type": "markdown",
   "metadata": {},
   "source": [
    "## Local scope and hiding\n",
    "\n",
    "In general, all variables defined inside a function have a local scope. Due to the local scope the variable can only\n",
    "be access inside the function where it was defined. Outside the function the variable is unknown. The previous statement\n",
    "is not only true for variable, but also for the parameters defined for a function. Parameters have a local scope as well. \n",
    "Futhermore, a local variable with the same name as a global \n",
    "variable \"hides\" the global variable. In this case only the local variable is \"visible\" in the local scope. \n",
    "\n",
    "These to properties are shown in the following examples. \n",
    "\n",
    "The first example shows, that a variable defined inside a function has a local scope. Trying to access the variable outside the function raises\n",
    "an error message."
   ]
  },
  {
   "cell_type": "code",
   "execution_count": null,
   "metadata": {},
   "outputs": [],
   "source": [
    "def play_music():\n",
    "    song = \"Listening to 100%\"\n",
    "\n",
    "\n",
    "print(song)"
   ]
  },
  {
   "cell_type": "markdown",
   "metadata": {},
   "source": [
    "As variables inside functions have local scopes it is possible to define variables with the same name inside different functions.\n",
    "Due to the local scopes these variables do not influence each other. This is shown in the next example.\n",
    "Each function defines a local variable `song`. Changing the value of this local variable does not change the value of the other local\n",
    "variables. "
   ]
  },
  {
   "cell_type": "code",
   "execution_count": null,
   "metadata": {},
   "outputs": [],
   "source": [
    "def play_ramones():\n",
    "    song = \"Blitzkrieg Bop\"\n",
    "    print(\"Listening to\", song)\n",
    "\n",
    "\n",
    "def play_sonic_youth():\n",
    "    song = \"100%\"\n",
    "    print(\"Listening to\", song)\n",
    "\n",
    "\n",
    "def play_coltrane():\n",
    "    song = \"Blue Train\"\n",
    "    print(\"Listening to\", song)\n",
    "\n",
    "\n",
    "play_sonic_youth()\n",
    "play_ramones()\n",
    "play_coltrane()"
   ]
  },
  {
   "cell_type": "markdown",
   "metadata": {},
   "source": [
    "The next example shows the hiding of a global variable by a local variable. the global variable `song` defined in line 1 \n",
    "is hidden by the local variable `song` definde in line 4 inside the function `play_sonic_youth()`."
   ]
  },
  {
   "cell_type": "code",
   "execution_count": null,
   "metadata": {},
   "outputs": [],
   "source": [
    "song = \"Blue Train\"\n",
    "\n",
    "\n",
    "def play_sonic_youth():\n",
    "    song = \"100%\"\n",
    "    print(\"Listening to\", song)\n",
    "\n",
    "\n",
    "play_sonic_youth()"
   ]
  },
  {
   "cell_type": "markdown",
   "metadata": {},
   "source": [
    "A parameter with the same name can also hide a global variable as shown in the next example."
   ]
  },
  {
   "cell_type": "code",
   "execution_count": null,
   "metadata": {},
   "outputs": [],
   "source": [
    "song = \"Washing Machine\"\n",
    "\n",
    "\n",
    "def play_music(song):\n",
    "    print(\"Listening to\", song)\n",
    "\n",
    "\n",
    "play_music(\"Blue Train\")\n",
    "print(\"Value of the global variable song:\", song)"
   ]
  },
  {
   "cell_type": "markdown",
   "metadata": {},
   "source": [
    "## Common patterns\n",
    "\n",
    "With the information above it is now possible to analyse a quite common pattern used in many Python 🐍 programs. As shown in the following example\n",
    "variables and parameters often use the same name. In the example, global variable `song`is defined in line 1. Furthermore, a parameter `song` is defined in the function definition in line 3 and a local variable `song` inside the function `play_ramones` in line 7.\n",
    "\n",
    "When the function `play_ramones()` in line 10 in invoked the following happens:\n",
    "1. The local variable `song` is initializes with the value \"Blitzkrieg Bop\" (Line 8)\n",
    "1. The function `play_music()` is invoked an teh local variable `song` is passed as a parameter (line 9). Through this invocation the value\n",
    "of the parameter `song` is set to the value of the local variable `song`\n",
    "1. The `print()` function is invoked and the parameter `song` is passed as a parameter.\n",
    "\n",
    "The global variable `song` is never read or changed. The local variable `song` in the function `play_ramones()` and the parameter \n",
    "`song` of the function `play_music` hide the global variable.\n",
    "\n",
    "It is important to note, that although the global variable, the local variable and the parameter have the name `song` are very different\n",
    "from the point of view of the Python interpreter. Using the same name is just a hint for humans reading the program to understand\n",
    "how values are passed along.\n"
   ]
  },
  {
   "cell_type": "code",
   "execution_count": null,
   "metadata": {},
   "outputs": [],
   "source": [
    "song = \"\"\n",
    "\n",
    "\n",
    "def play_music(song):\n",
    "    print(\"Listening to\", song)\n",
    "\n",
    "\n",
    "def play_ramones():\n",
    "    song = \"Blitzkrieg Bop\"\n",
    "    play_music(song)\n",
    "\n",
    "\n",
    "play_ramones()"
   ]
  }
 ],
 "metadata": {
  "interpreter": {
   "hash": "9fd0e282e2343d8b38b390b803aabc7fcea80a18eee8e5bd23ce64f6435b30a1"
  },
  "kernelspec": {
   "display_name": "Python 3.9.7 64-bit ('opensap_python_intro-SgMpohZV': pipenv)",
   "language": "python",
   "name": "python3"
  },
  "language_info": {
   "codemirror_mode": {
    "name": "ipython",
    "version": 3
   },
   "file_extension": ".py",
   "mimetype": "text/x-python",
   "name": "python",
   "nbconvert_exporter": "python",
   "pygments_lexer": "ipython3",
   "version": "3.9.9"
  }
 },
 "nbformat": 4,
 "nbformat_minor": 2
}
