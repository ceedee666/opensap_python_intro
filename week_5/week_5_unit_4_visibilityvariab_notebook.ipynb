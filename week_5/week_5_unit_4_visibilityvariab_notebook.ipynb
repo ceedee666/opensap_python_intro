{
 "cells": [
  {
   "cell_type": "markdown",
   "metadata": {},
   "source": [
    "# Visibility of Variables\n",
    "All variables defined in Python 🐍 have a scope in which they are visible. So far we have not seen these scopes in our\n",
    "programs. Them main reason is that we implicitly only used the *global* scope in our programs. However, as soon as we\n",
    "define functions we need to be aware of the different visibility scopes. \n",
    "\n",
    "\n",
    "## Global vs. local scope\n",
    "As mentioned above, up to now we defined variables only in the *global* scope. Besides the *global* scope there is also\n",
    "a *local* scope in 🐍.  \n",
    "What is the difference between these two scopes? Each variable defined outside of a function is a variable with a\n",
    "*global* scope. This variable can also be called a *global variable*. A global variable can be accessed anywhere in the\n",
    "program. This is shown by the following example. The variable `global_song` is defined outside the `play_music()`\n",
    "function. Nevertheless, it is possible to access the variable `global_song` inside the function."
   ]
  },
  {
   "cell_type": "code",
   "execution_count": null,
   "metadata": {},
   "outputs": [],
   "source": [
    "global_song = \"Blitzkrieg Bop\"\n",
    "\n",
    "\n",
    "def play_music():\n",
    "    print(\"Listening to\", global_song)\n",
    "\n",
    "\n",
    "play_music()"
   ]
  },
  {
   "cell_type": "markdown",
   "metadata": {},
   "source": [
    "In the example above, the definition of the function `play_music()` created a new, *local* scope. This becomes obvious\n",
    "as soon as the program tries to change the global variable in the local scope. In this case an error message is raised."
   ]
  },
  {
   "cell_type": "code",
   "execution_count": null,
   "metadata": {},
   "outputs": [],
   "source": [
    "global_song = \"Blue Train\"\n",
    "\n",
    "\n",
    "def play_music():\n",
    "    global_song = \"Listening to\" + global_song\n",
    "    print(global_song)\n",
    "\n",
    "\n",
    "play_music()"
   ]
  },
  {
   "cell_type": "markdown",
   "metadata": {},
   "source": [
    "# Local scope and hiding\n",
    "In general, all variables defined inside a function have a local scope. Due to the local scope the variable can only be\n",
    "accessed inside the function where it was defined. Outside the function the variable is unknown. The previous statement\n",
    "is not only true for variables, but also for the parameters defined for a function. Parameters have a local scope as\n",
    "well.  \n",
    "Futhermore, a local variable with the same name as a global variable \"hides\" the global variable. In this case only the\n",
    "local variable is \"visible\" in the local scope. \n",
    "\n",
    "These 2 properties are shown in the following examples.  \n",
    "The first example shows that a variable defined inside a function has a local scope. Trying to access the variable\n",
    "outside the function raises an error message."
   ]
  },
  {
   "cell_type": "code",
   "execution_count": null,
   "metadata": {},
   "outputs": [],
   "source": [
    "def play_music():\n",
    "    song = \"Listening to 100%\"\n",
    "\n",
    "\n",
    "print(song)"
   ]
  },
  {
   "cell_type": "markdown",
   "metadata": {},
   "source": [
    "As variables inside functions have local scopes, it is possible to define variables with the same name inside different\n",
    "functions. Due to the local scopes these variables do not influence each other.  \n",
    "This is shown in the next example. Each function defines a local variable `song`. Changing the value of this local\n",
    "variable does not change the value of the other local variables. "
   ]
  },
  {
   "cell_type": "code",
   "execution_count": null,
   "metadata": {},
   "outputs": [],
   "source": [
    "def play_ramones():\n",
    "    song = \"Blitzkrieg Bop\"\n",
    "    print(\"Listening to\", song)\n",
    "\n",
    "\n",
    "def play_sonic_youth():\n",
    "    song = \"100%\"\n",
    "    print(\"Listening to\", song)\n",
    "\n",
    "\n",
    "def play_coltrane():\n",
    "    song = \"Blue Train\"\n",
    "    print(\"Listening to\", song)\n",
    "\n",
    "\n",
    "play_sonic_youth()\n",
    "play_ramones()\n",
    "play_coltrane()"
   ]
  },
  {
   "cell_type": "markdown",
   "metadata": {},
   "source": [
    "The next example shows the hiding of a global variable by a local variable. The global variable `song` defined in line 1\n",
    "is hidden by the local variable `song` defined in line 4 inside the function `play_sonic_youth()`."
   ]
  },
  {
   "cell_type": "code",
   "execution_count": null,
   "metadata": {},
   "outputs": [],
   "source": [
    "song = \"Blue Train\"\n",
    "\n",
    "\n",
    "def play_sonic_youth():\n",
    "    song = \"100%\"\n",
    "    print(\"Listening to\", song)\n",
    "\n",
    "\n",
    "play_sonic_youth()"
   ]
  },
  {
   "cell_type": "markdown",
   "metadata": {},
   "source": [
    "A parameter with the same name can also hide or replace the value of a global variable as shown in the next example."
   ]
  },
  {
   "cell_type": "code",
   "execution_count": null,
   "metadata": {},
   "outputs": [],
   "source": [
    "song = \"Washing Machine\"\n",
    "\n",
    "\n",
    "def play_music(song):\n",
    "    print(\"Listening to\", song)\n",
    "\n",
    "\n",
    "play_music(\"Blue Train\")\n",
    "print(\"Value of the global variable song:\", song)"
   ]
  },
  {
   "cell_type": "markdown",
   "metadata": {},
   "source": [
    "# Common patterns\n",
    "With the information above it is now possible to analyse a quite common pattern used in many 🐍 programs. As shown in\n",
    "the following example variables and parameters often use the same name. In the example, a global variable `song` is\n",
    "defined in line 1. Furthermore, a parameter `song` is defined in the function definition in line 3 and a local variable\n",
    "`song` inside the function `play_ramones()` in line 7.\n",
    "\n",
    "When the function `play_ramones()` *(line 13)* is invoked the following happens:\n",
    "1. The local variable `song` is initialized with the value \"Blitzkrieg Bop\" *(line 9)*\n",
    "1. The function `play_music()` is invoked and the local variable `song` is passed as a parameter *(line 10)*. Through\n",
    "   this invocation the value of the parameter `song` is set to the value of the local variable `song`\n",
    "1. The `print()` function is invoked and the parameter `song` is passed as a parameter *(line 5)*\n",
    "\n",
    "The global variable `song` is never read or changed. The local variable `song` in the function `play_ramones()` and the\n",
    "parameter `song` of the function `play_music` hide the global variable.\n",
    "\n",
    "It is important to note that, although the name *`song`* of the global variable, the local variable and the parameter is\n",
    "the same, they are very different from the point of view of the Python interpreter. Using the same name is just a hint\n",
    "for humans reading the program to understand how values are passed along."
   ]
  },
  {
   "cell_type": "code",
   "execution_count": null,
   "metadata": {},
   "outputs": [],
   "source": [
    "song = \"\"\n",
    "\n",
    "\n",
    "def play_music(song):\n",
    "    print(\"Listening to\", song)\n",
    "\n",
    "\n",
    "def play_ramones():\n",
    "    song = \"Blitzkrieg Bop\"\n",
    "    play_music(song)\n",
    "\n",
    "\n",
    "play_ramones()"
   ]
  }
 ],
 "metadata": {
  "interpreter": {
   "hash": "9fd0e282e2343d8b38b390b803aabc7fcea80a18eee8e5bd23ce64f6435b30a1"
  },
  "kernelspec": {
   "display_name": "Python 3.9.7 64-bit ('opensap_python_intro-SgMpohZV': pipenv)",
   "language": "python",
   "name": "python3"
  },
  "language_info": {
   "codemirror_mode": {
    "name": "ipython",
    "version": 3
   },
   "file_extension": ".py",
   "mimetype": "text/x-python",
   "name": "python",
   "nbconvert_exporter": "python",
   "pygments_lexer": "ipython3",
   "version": "3.9.7"
  }
 },
 "nbformat": 4,
 "nbformat_minor": 2
}
