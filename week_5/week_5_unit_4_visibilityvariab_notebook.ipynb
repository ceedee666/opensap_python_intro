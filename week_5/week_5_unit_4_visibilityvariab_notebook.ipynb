{
 "cells": [
  {
   "cell_type": "markdown",
   "metadata": {},
   "source": [
    "# Visibility of Variables\n",
    "All variables defined in Python 🐍 have a scope in which they are visible. So far we have not seen these scopes in our\n",
    "programs. The main reason is that we implicitly only used the *global* scope in our programs. However, as soon as we\n",
    "define functions, we need to be aware of the different visibility scopes, i.e. the *global* and the *local* scope.\n",
    "\n",
    "\n",
    "## Global vs. local scope  \n",
    "What is the difference between these two scopes? Each variable defined outside of a function is a variable with a\n",
    "*global* scope. This variable can also be called a *global variable*. A global variable can be accessed anywhere in the\n",
    "program. This is shown by the following example. The variable `global_song` is defined outside the `play_music()`\n",
    "function. Nevertheless, it is possible to access the variable `global_song` inside the function."
   ]
  },
  {
   "cell_type": "code",
   "execution_count": 3,
   "metadata": {},
   "outputs": [
    {
     "name": "stdout",
     "output_type": "stream",
     "text": [
      "Listening to Blitzkrieg Bop\n"
     ]
    }
   ],
   "source": [
    "global_song = \"Blitzkrieg Bop\"\n",
    "\n",
    "\n",
    "def play_music():\n",
    "    print(\"Listening to\", global_song)\n",
    "\n",
    "\n",
    "play_music()"
   ]
  },
  {
   "cell_type": "markdown",
   "metadata": {},
   "source": [
    "In the example above, the definition of the function `play_music()` created a new, *local* scope. This becomes obvious\n",
    "as soon as the program tries to change the global variable in the local scope. In this case an error message is raised. (Why is no error triggered in the first cell? When there is only *read access* to a variable within the function, then the local and the global scope are identical.)"
   ]
  },
  {
   "cell_type": "code",
   "execution_count": 4,
   "metadata": {},
   "outputs": [
    {
     "ename": "UnboundLocalError",
     "evalue": "local variable 'global_song' referenced before assignment",
     "output_type": "error",
     "traceback": [
      "\u001b[1;31m---------------------------------------------------------------------------\u001b[0m",
      "\u001b[1;31mUnboundLocalError\u001b[0m                         Traceback (most recent call last)",
      "\u001b[1;32m<ipython-input-4-eeeb11ef63c8>\u001b[0m in \u001b[0;36m<module>\u001b[1;34m\u001b[0m\n\u001b[0;32m      7\u001b[0m \u001b[1;33m\u001b[0m\u001b[0m\n\u001b[0;32m      8\u001b[0m \u001b[1;33m\u001b[0m\u001b[0m\n\u001b[1;32m----> 9\u001b[1;33m \u001b[0mplay_music\u001b[0m\u001b[1;33m(\u001b[0m\u001b[1;33m)\u001b[0m\u001b[1;33m\u001b[0m\u001b[1;33m\u001b[0m\u001b[0m\n\u001b[0m",
      "\u001b[1;32m<ipython-input-4-eeeb11ef63c8>\u001b[0m in \u001b[0;36mplay_music\u001b[1;34m()\u001b[0m\n\u001b[0;32m      3\u001b[0m \u001b[1;33m\u001b[0m\u001b[0m\n\u001b[0;32m      4\u001b[0m \u001b[1;32mdef\u001b[0m \u001b[0mplay_music\u001b[0m\u001b[1;33m(\u001b[0m\u001b[1;33m)\u001b[0m\u001b[1;33m:\u001b[0m\u001b[1;33m\u001b[0m\u001b[1;33m\u001b[0m\u001b[0m\n\u001b[1;32m----> 5\u001b[1;33m     \u001b[0mglobal_song\u001b[0m \u001b[1;33m=\u001b[0m \u001b[1;34m\"Listening to\"\u001b[0m \u001b[1;33m+\u001b[0m \u001b[0mglobal_song\u001b[0m\u001b[1;33m\u001b[0m\u001b[1;33m\u001b[0m\u001b[0m\n\u001b[0m\u001b[0;32m      6\u001b[0m     \u001b[0mprint\u001b[0m\u001b[1;33m(\u001b[0m\u001b[0mglobal_song\u001b[0m\u001b[1;33m)\u001b[0m\u001b[1;33m\u001b[0m\u001b[1;33m\u001b[0m\u001b[0m\n\u001b[0;32m      7\u001b[0m \u001b[1;33m\u001b[0m\u001b[0m\n",
      "\u001b[1;31mUnboundLocalError\u001b[0m: local variable 'global_song' referenced before assignment"
     ]
    }
   ],
   "source": [
    "global_song = \"Blue Train\"\n",
    "\n",
    "\n",
    "def play_music():\n",
    "    global_song = \"Listening to\" + global_song\n",
    "    print(global_song)\n",
    "\n",
    "\n",
    "play_music()"
   ]
  },
  {
   "cell_type": "markdown",
   "metadata": {},
   "source": [
    "# Local scope and hiding\n",
    "In general, all variables defined inside a function have a local scope. Due to the local scope the variable can only be\n",
    "accessed inside the function where it was defined. Outside the function the variable is unknown. The previous statement\n",
    "is not only true for variables, but also for the parameters defined for a function. Parameters have a local scope as\n",
    "well.  \n",
    "Futhermore, a local variable with the same name as a global variable \"hides\" the global variable. In this case only the\n",
    "local variable is \"visible\" in the local scope. \n",
    "\n",
    "These twp properties are shown in the following examples.  \n",
    "The first example shows that a variable defined inside a function has a local scope. Trying to access the variable\n",
    "outside the function raises an error message."
   ]
  },
  {
   "cell_type": "code",
   "execution_count": 1,
   "metadata": {},
   "outputs": [
    {
     "ename": "NameError",
     "evalue": "name 'song' is not defined",
     "output_type": "error",
     "traceback": [
      "\u001b[1;31m---------------------------------------------------------------------------\u001b[0m",
      "\u001b[1;31mNameError\u001b[0m                                 Traceback (most recent call last)",
      "\u001b[1;32m<ipython-input-1-75674d329735>\u001b[0m in \u001b[0;36m<module>\u001b[1;34m\u001b[0m\n\u001b[0;32m      3\u001b[0m \u001b[1;33m\u001b[0m\u001b[0m\n\u001b[0;32m      4\u001b[0m \u001b[1;33m\u001b[0m\u001b[0m\n\u001b[1;32m----> 5\u001b[1;33m \u001b[0mprint\u001b[0m\u001b[1;33m(\u001b[0m\u001b[0msong\u001b[0m\u001b[1;33m)\u001b[0m\u001b[1;33m\u001b[0m\u001b[1;33m\u001b[0m\u001b[0m\n\u001b[0m",
      "\u001b[1;31mNameError\u001b[0m: name 'song' is not defined"
     ]
    }
   ],
   "source": [
    "def play_music():\n",
    "    song = \"Listening to 100%\"\n",
    "\n",
    "\n",
    "print(song)"
   ]
  },
  {
   "cell_type": "markdown",
   "metadata": {},
   "source": [
    "As variables inside functions have local scopes, it is possible to define variables with the same name inside different\n",
    "functions. Due to the local scopes these variables do not influence each other.  \n",
    "This is shown in the next example. Each function defines a local variable `song`. Changing the value of this local\n",
    "variable does not change the value of the other local variables. "
   ]
  },
  {
   "cell_type": "code",
   "execution_count": null,
   "metadata": {},
   "outputs": [],
   "source": [
    "def play_ramones():\n",
    "    song = \"Blitzkrieg Bop\"\n",
    "    print(\"Listening to\", song)\n",
    "\n",
    "\n",
    "def play_sonic_youth():\n",
    "    song = \"100%\"\n",
    "    print(\"Listening to\", song)\n",
    "\n",
    "\n",
    "def play_coltrane():\n",
    "    song = \"Blue Train\"\n",
    "    print(\"Listening to\", song)\n",
    "\n",
    "\n",
    "play_sonic_youth()\n",
    "play_ramones()\n",
    "play_coltrane()"
   ]
  },
  {
   "cell_type": "markdown",
   "metadata": {},
   "source": [
    "The next example shows the hiding of a global variable by a local variable. The global variable `song` defined in the \n",
    "first line is hidden by the local variable `song` defined inside the function `play_sonic_youth()`."
   ]
  },
  {
   "cell_type": "code",
   "execution_count": 2,
   "metadata": {},
   "outputs": [
    {
     "name": "stdout",
     "output_type": "stream",
     "text": [
      "Listening to 100%\n",
      "Blue Train\n"
     ]
    }
   ],
   "source": [
    "song = \"Blue Train\"\n",
    "\n",
    "\n",
    "def play_sonic_youth():\n",
    "    song = \"100%\"\n",
    "    print(\"Listening to\", song)\n",
    "\n",
    "\n",
    "play_sonic_youth()\n",
    "print(song)"
   ]
  },
  {
   "cell_type": "markdown",
   "metadata": {},
   "source": [
    "A parameter with the same name can also hide or replace the value of a global variable as shown in the next example."
   ]
  },
  {
   "cell_type": "code",
   "execution_count": null,
   "metadata": {},
   "outputs": [],
   "source": [
    "song = \"Washing Machine\"\n",
    "\n",
    "\n",
    "def play_music(song):\n",
    "    print(\"Listening to\", song)\n",
    "\n",
    "\n",
    "play_music(\"Blue Train\")\n",
    "print(\"Value of the global variable song:\", song)"
   ]
  },
  {
   "cell_type": "markdown",
   "metadata": {},
   "source": [
    "# Common patterns\n",
    "With the information above it is now possible to analyse a quite common pattern used in many Python 🐍 programs. As shown in\n",
    "the following example variables and parameters often use the same name. In the example, a global variable `song` is\n",
    "defined in the first line. Furthermore, a parameter `song` is defined in the function `play_music` and a local variable\n",
    "`song` inside the function `play_ramones()`.\n",
    "\n",
    "When the function `play_ramones()` *at the end of the cell* is invoked the following happens:\n",
    "1. The local variable `song` is initialized with the value \"Blitzkrieg Bop\" *within the function* `play_ramones()`\n",
    "1. The function `play_music()` is invoked and the local variable `song` is passed as a parameter *last statement in the function* `play_ramones()`. Through\n",
    "   this invocation the value of the parameter `song` is set to the value of the local variable `song`\n",
    "1. The `print()` function is invoked and the parameter `song` is passed as a parameter *first line of function* `play_music()`.\n",
    "\n",
    "The global variable `song` is never read or changed. The local variable `song` in the function `play_ramones()` and the\n",
    "parameter `song` of the function `play_music` hide the global variable.\n",
    "\n",
    "It is important to note that, although the name *`song`* of the global variable, the local variable and the parameter is\n",
    "the same, they are very different from the point of view of the Python interpreter. Using the same name is just a hint\n",
    "for humans reading the program to understand how values are passed along."
   ]
  },
  {
   "cell_type": "code",
   "execution_count": 5,
   "metadata": {},
   "outputs": [
    {
     "name": "stdout",
     "output_type": "stream",
     "text": [
      "Listening to Blitzkrieg Bop\n"
     ]
    }
   ],
   "source": [
    "song = \"\"\n",
    "\n",
    "\n",
    "def play_music(song):\n",
    "    print(\"Listening to\", song)\n",
    "\n",
    "\n",
    "def play_ramones():\n",
    "    song = \"Blitzkrieg Bop\"\n",
    "    play_music(song)\n",
    "\n",
    "\n",
    "play_ramones()"
   ]
  },
  {
   "cell_type": "markdown",
   "metadata": {},
   "source": [
    "## Explicitly using global variables\n",
    "In some situations, you want to use a globally defined variable within a function, without passing this variable as a parameter. In this situation you can *explicitly* declare this variable to be global using the keyword `global`. \n",
    "\n",
    "Have a look at the following cell. In the first line, the value \"Blitzkrieg Bop\" is assigned to the global variable `song`. Within the definition of the function `play_music()` the variable song is declared as a `global` variable. That means, the local variable and the global variable `song` are actually the same. Assigning the value \"Bad brain\" to `song` wihtin the function changes the value of the global variable. In the last statement of the cell, the variable `song` is in the global scope. Executing the cell shows, that the value of the cell has changed."
   ]
  },
  {
   "cell_type": "code",
   "execution_count": 6,
   "metadata": {},
   "outputs": [
    {
     "name": "stdout",
     "output_type": "stream",
     "text": [
      "Bad brain\n",
      "Bad brain\n"
     ]
    }
   ],
   "source": [
    "song = \"Blitzkrieg Bop\"\n",
    "\n",
    "def play_music():\n",
    "    global song\n",
    "    song = \"Bad brain\"\n",
    "    print(song)\n",
    "\n",
    "play_music()\n",
    "\n",
    "print(song)"
   ]
  },
  {
   "cell_type": "markdown",
   "metadata": {},
   "source": [
    "## Summary and recommendations\n",
    "Not taking care of the local and global scope of variables is often a root cause for errors. The following recommendations can help, to minimize these errors:\n",
    "\n",
    "1. Be aware of global and local scopes.\n",
    "1. Try to avoid using global variables within functions.\n",
    "1. If global variables are required within functions, pass them as parameter into the function, and if necessary pass the variable back using `return`\n",
    "1. If global variables are used within a function without passing them as parameter, these variables should explicitly be declared as global variables. (That means, a situation as the one in the very first cell should be avoided. This cell makes use of a global variable *without* an explicit declaration. This only works, as there is no write access. Again: Avoid this situation!)"
   ]
  }
 ],
 "metadata": {
  "interpreter": {
   "hash": "9fd0e282e2343d8b38b390b803aabc7fcea80a18eee8e5bd23ce64f6435b30a1"
  },
  "kernelspec": {
   "display_name": "Python 3",
   "language": "python",
   "name": "python3"
  },
  "language_info": {
   "codemirror_mode": {
    "name": "ipython",
    "version": 3
   },
   "file_extension": ".py",
   "mimetype": "text/x-python",
   "name": "python",
   "nbconvert_exporter": "python",
   "pygments_lexer": "ipython3",
   "version": "3.7.1"
  }
 },
 "nbformat": 4,
 "nbformat_minor": 2
}
