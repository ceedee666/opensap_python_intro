{
 "cells": [
  {
   "cell_type": "markdown",
   "metadata": {},
   "source": [
    "# Combining functions\n",
    "\n",
    "A quite common pattern in Python is to directly use the result fo one function as parameter for another function.\n",
    "This unit focuses on this pattern. Furthermore, this unit also shows when not to combine functions.\n",
    "\n",
    "## Introduction\n",
    "\n",
    "Using the result of one function as a parameter of another function is something that was used already in previous units. \n",
    "For example, to get a input from the user and convert it to an integer the following Python 🐍 snippet can be used."
   ]
  },
  {
   "cell_type": "code",
   "execution_count": null,
   "metadata": {},
   "outputs": [],
   "source": [
    "number = int(input(\"Please enter a number: \"))"
   ]
  },
  {
   "cell_type": "markdown",
   "metadata": {},
   "source": [
    "Although this snippet should look familiar by now, there are a few things to note. First, two functions are used in the snippet:\n",
    "\n",
    "- `input()` - to output a message an read input from the user\n",
    "- `int()` - to convert the user input to an integer.\n",
    "\n",
    "Second, the return value of the `input()` function is passed as a parameter to the `int()` function. This becomes obvious if an \n",
    "auxillary variable is used."
   ]
  },
  {
   "cell_type": "code",
   "execution_count": null,
   "metadata": {},
   "outputs": [],
   "source": [
    "user_input = input(\"Please enter a number: \")\n",
    "number = int(user_input)"
   ]
  },
  {
   "cell_type": "markdown",
   "metadata": {},
   "source": [
    "Third, the evaluation of the function is performed from the inside out. I.e. that the innermost function, in our example the\n",
    "`input()` function is evaluated first. The outer function (`int()` in the example) is evaluate as soon as a result is returned\n",
    "from the `input()` function. "
   ]
  },
  {
   "cell_type": "markdown",
   "metadata": {},
   "source": [
    "## Combining multiple functions\n",
    "\n",
    "Of cause, it is not only possible to combine two functions. This is shown in the example below."
   ]
  },
  {
   "cell_type": "code",
   "execution_count": null,
   "metadata": {},
   "outputs": [],
   "source": [
    "def multiply(a, b):\n",
    "    return a * b\n",
    "\n",
    "\n",
    "print(\n",
    "    \"The product of the two numbers is\",\n",
    "    multiply(\n",
    "        int(input(\"Please enter a number: \")),\n",
    "        int(input(\"Please enter another number:\")),\n",
    "    ),\n",
    ")"
   ]
  },
  {
   "cell_type": "markdown",
   "metadata": {},
   "source": [
    "In the example first the function `multiply()` is defined. The function expects two parameters, the factors `a` and `b`.\n",
    "Next, the function is use to implement the following functionally:\n",
    "\n",
    "1. Ask the user to input a number\n",
    "1. Ask the user to input another number\n",
    "1. Print the product of the two numbers.\n",
    "\n",
    "To implement this functionality, the following three functions are used in addition:\n",
    "\n",
    "- `input()`\n",
    "- `int()`\n",
    "- `print()`.\n",
    "\n",
    "Again, the evaluation of the combined function call is performed starting with the innermost function. In the example the functions are evaluated\n",
    "in the following order:\n",
    "\n",
    "1. The first `input()` function is evaluated (i.e. `input(\"Please enter a number: \"))\n",
    "1. The result of the `input()` function is passed to the `int()` function\n",
    "1. The second `input()` function is evaluated (i.e. `input(\"Please enter another number: \"))\n",
    "1. The result of the `input()` function is passed to the `int()` function\n",
    "1. The `multiply()` function is evaluated\n",
    "1. The `print()` function is evaluated. "
   ]
  },
  {
   "cell_type": "markdown",
   "metadata": {},
   "source": [
    "## Caveats \n",
    "\n",
    "The previous example show one of the important caveats when combining functions. Combining of functions can be used to\n",
    "make the Python code very concise. In case of combing the `int()` and the `input()` function this helps the \n",
    "reader to quickly understand the purpose of the Python code. In case of the previous example the combination of multiple\n",
    "functions actually hinder understanding of the code. In this example it is not immediately clear to the reader \n",
    "what exactly happens. \n",
    "\n",
    "In summary, combining functions is a nice possibility to write very concise code. However, misusing the combination of \n",
    "functions quickly leads to unreadable Python code. When to combine functions and when not to combine functions \n",
    "is something that requires experience. In general it is better to split the Python code in to multiple lines\n",
    "by using auxillary variables then trying to write overly concise programs. Always remember: [With great power comes great responsibility]."
   ]
  },
  {
   "cell_type": "markdown",
   "metadata": {},
   "source": []
  }
 ],
 "metadata": {
  "interpreter": {
   "hash": "9fd0e282e2343d8b38b390b803aabc7fcea80a18eee8e5bd23ce64f6435b30a1"
  },
  "kernelspec": {
   "display_name": "Python 3.9.9 64-bit ('opensap_python_intro-SgMpohZV': pipenv)",
   "language": "python",
   "name": "python3"
  },
  "language_info": {
   "codemirror_mode": {
    "name": "ipython",
    "version": 3
   },
   "file_extension": ".py",
   "mimetype": "text/x-python",
   "name": "python",
   "nbconvert_exporter": "python",
   "pygments_lexer": "ipython3",
   "version": "3.9.9"
  }
 },
 "nbformat": 4,
 "nbformat_minor": 2
}
