{
 "cells": [
  {
   "cell_type": "markdown",
   "metadata": {},
   "source": [
    "# Additional learning material for unit 2-5\n",
    "# Exercise 1\n",
    "An integer is read in via `input()`. Calculate the sum of all numbers from 1 to the input number (including the input\n",
    "number!).  \n",
    "**Note:** You have to define a variable, which sums up all the numbers defined by the `for-loop`. This variable has to be defined before the loop. Which initial value has to be assigned to this variable?\n",
    "\n",
    "The output should look like this (user input **bold** for clarity):\n",
    "> Up to what number should the sum be calculated? **100**  \n",
    "5050"
   ]
  },
  {
   "cell_type": "code",
   "execution_count": null,
   "metadata": {},
   "outputs": [],
   "source": []
  },
  {
   "cell_type": "markdown",
   "metadata": {},
   "source": [
    "# Exercise 2 - Multiplication 101\n",
    "Write a program that outputs the numbers of all possible multiplications up to 100. I.e. the result of the following\n",
    "products:  \n",
    "`1*1, 1*2, 1*3, ... 1*10`  \n",
    "`2*1, 2*2, ... 2*10`  \n",
    "`3*1`  \n",
    "`4*1`  \n",
    "`...`  \n",
    "`10*1 ... 10*10`  \n",
    "\n",
    "**Note:** You need **two** nested for-loops. The result should look like this:\n",
    "> 1  \n",
    "> 2  \n",
    "> 3\n",
    "> \n",
    "> ...  \n",
    "> 100"
   ]
  },
  {
   "cell_type": "code",
   "execution_count": null,
   "metadata": {},
   "outputs": [],
   "source": []
  }
 ],
 "metadata": {
  "file_extension": ".py",
  "interpreter": {
   "hash": "ac59ebe37160ed0dfa835113d9b8498d9f09ceb179beaac4002f036b9467c963"
  },
  "kernelspec": {
   "display_name": "Python 3",
   "language": "python",
   "name": "python3"
  },
  "language_info": {
   "codemirror_mode": {
    "name": "ipython",
    "version": 3
   },
   "file_extension": ".py",
   "mimetype": "text/x-python",
   "name": "python",
   "nbconvert_exporter": "python",
   "pygments_lexer": "ipython3",
   "version": "3.7.1"
  },
  "mimetype": "text/x-python",
  "name": "python",
  "npconvert_exporter": "python",
  "pygments_lexer": "ipython3",
  "version": 3
 },
 "nbformat": 4,
 "nbformat_minor": 2
}
