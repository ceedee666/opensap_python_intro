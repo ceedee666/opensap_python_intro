{
 "cells": [
  {
   "cell_type": "markdown",
   "metadata": {},
   "source": [
    "# List Comprehension\n",
    "\n",
    "List are one of the core data structures in Python 🐍. Consequently, the Python programming language contains\n",
    "special features for working with lists. One of this feature is list comprehension. According to the Python \n",
    "[documentation](https://docs.python.org/3/glossary.html#term-list-comprehension) list comprehension is \n",
    "\n",
    "> A compact way to process all or part of the elements in a sequence and return a list with the results. \n",
    "\n",
    "In this unit list comprehension is introduces using examples from previous units. \n",
    "\n",
    "## Creating lists\n",
    "\n",
    "The first usage of list comprehension is to process all elements of a sequence. As an example consider a list containing\n",
    "the number from 1 to 20. In order to create a list containing the squares of these numbers the following Python code \n",
    "can be used."
   ]
  },
  {
   "cell_type": "code",
   "execution_count": null,
   "metadata": {},
   "outputs": [],
   "source": [
    "numbers = list(range(1, 21))\n",
    "\n",
    "squares = []\n",
    "\n",
    "for number in numbers:\n",
    "    squares.append(number * number)\n",
    "\n",
    "print(\"The list of squares is:\", squares)"
   ]
  },
  {
   "cell_type": "markdown",
   "metadata": {},
   "source": [
    "In this example a list of numbers is created from a [`range`](https://docs.python.org/3/library/stdtypes.html?highlight=range#range). Next \n",
    "a `for`-loop is used to calculate the square of every number in the list and append it to the list of squares stored in the variable\n",
    "`squares`.\n",
    "\n",
    "Using list comprehension the same functionality can be implemented much more concise and easier to read. This is shown in the following cell."
   ]
  },
  {
   "cell_type": "code",
   "execution_count": null,
   "metadata": {},
   "outputs": [],
   "source": [
    "numbers = list(range(1, 21))\n",
    "squares = [x * x for x in numbers]\n",
    "\n",
    "print(\"The list of squares is:\", squares)"
   ]
  },
  {
   "cell_type": "markdown",
   "metadata": {},
   "source": [
    "A list comprehension creates a new list. Therefore, the main statements of the list comprehension are \n",
    "enclosed in square brackets. Inside the square brackets first teh statement to create a list element is given.\n",
    "In the example above this is `x * x`. Next, the sequence, that is the basis of the list comprehension is specified. In\n",
    "the example above `for x in numbers` states that in turn every element of the list numbers is assigned to the variable `x`. \n",
    "In summary, the one line preforms the same operation as the for loop.\n",
    "\n",
    "If only the list of squares is needed the `range` could be used directly in the list comprehension. "
   ]
  },
  {
   "cell_type": "code",
   "execution_count": null,
   "metadata": {},
   "outputs": [],
   "source": [
    "squares = [x * x for x in range(1, 21)]\n",
    "print(\"The list of squares is:\", squares)"
   ]
  },
  {
   "cell_type": "markdown",
   "metadata": {},
   "source": [
    "Using a list comprehension it is also possible to create a list of 100 random integer numbers very easily."
   ]
  },
  {
   "cell_type": "code",
   "execution_count": null,
   "metadata": {},
   "outputs": [],
   "source": [
    "from random import randint\n",
    "\n",
    "random_numbers = [randint(1, 10) for _ in range(100)]\n",
    "print(\"The list of random numbers is:\", random_numbers)"
   ]
  },
  {
   "cell_type": "markdown",
   "metadata": {},
   "source": [
    "To generate the random numbers the `randint()` function from the `random` library is used. In order to create 100 random number a\n",
    "`range(100)` is used. However, in this example the values of the range are not used. Therefor a `_` is used instead of a variable.\n",
    "\n",
    "It is even possible to use multiple list inside a list comprehension. For example, to create a list containing the all combination \n",
    "of two list the following list comprehension can be used. This is much more concise and therefore more readable as the standard\n",
    "approach using two nested `for`-loops. "
   ]
  },
  {
   "cell_type": "code",
   "execution_count": null,
   "metadata": {},
   "outputs": [],
   "source": [
    "letters = [\"A\", \"B\", \"C\"]\n",
    "numbers = [1, 2, 3]\n",
    "\n",
    "combinations = [l + str(n) for l in letters for n in numbers]\n",
    "\n",
    "print(\"The possible combinations of letters and numbers are:\", combinations)"
   ]
  },
  {
   "cell_type": "markdown",
   "metadata": {},
   "source": [
    "## Filtering lists"
   ]
  },
  {
   "cell_type": "markdown",
   "metadata": {},
   "source": [
    "## Creating lists"
   ]
  },
  {
   "cell_type": "markdown",
   "metadata": {},
   "source": []
  }
 ],
 "metadata": {
  "interpreter": {
   "hash": "9fd0e282e2343d8b38b390b803aabc7fcea80a18eee8e5bd23ce64f6435b30a1"
  },
  "kernelspec": {
   "display_name": "Python 3.9.9 64-bit ('opensap_python_intro-SgMpohZV': pipenv)",
   "language": "python",
   "name": "python3"
  },
  "language_info": {
   "codemirror_mode": {
    "name": "ipython",
    "version": 3
   },
   "file_extension": ".py",
   "mimetype": "text/x-python",
   "name": "python",
   "nbconvert_exporter": "python",
   "pygments_lexer": "ipython3",
   "version": "3.9.9"
  }
 },
 "nbformat": 4,
 "nbformat_minor": 2
}
