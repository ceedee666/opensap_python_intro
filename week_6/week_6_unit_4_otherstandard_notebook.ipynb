{
 "cells": [
  {
   "cell_type": "markdown",
   "metadata": {},
   "source": [
    "# More standard libraries\n",
    "\n",
    "There are many more helpful libraries and modules even in the\n",
    "[Python Standard Library](https://docs.python.org/3/library/index.html), of which 3 common ones will be presented in\n",
    "this unit:\n",
    "- [`calendar`](https://docs.python.org/3/library/calendar.html)\n",
    "- [csv](https://docs.python.org/3/library/csv.html)\n",
    "- [defaultdict](https://docs.python.org/3/library/collections.html#collections.defaultdict) from the module\n",
    "  [collections](https://docs.python.org/3/library/collections.html)\n",
    "\n",
    "\n",
    "# [`calendar`](https://docs.python.org/3/library/calendar.html) - General calendar related functions\n",
    "\n",
    "With the `calendar` library, you can use many calendar-related functions like\n",
    "[getting the day of the week](https://docs.python.org/3/library/calendar.html#calendar.weekday)\n",
    "for a specific date for example."
   ]
  },
  {
   "cell_type": "code",
   "execution_count": null,
   "metadata": {},
   "outputs": [],
   "source": [
    "import calendar\n",
    "\n",
    "calendar.weekday(2022, 3, 1)"
   ]
  },
  {
   "cell_type": "code",
   "execution_count": null,
   "metadata": {},
   "outputs": [],
   "source": [
    "import calendar\n",
    "\n",
    "print(f\"The year 2022 began with a: {calendar.day_name[calendar.weekday(2022,1,1)]}\")"
   ]
  },
  {
   "cell_type": "markdown",
   "metadata": {},
   "source": [
    "With one method call you can also print a calendar of a month or even a complete year to the terminal window directly:"
   ]
  },
  {
   "cell_type": "code",
   "execution_count": null,
   "metadata": {},
   "outputs": [],
   "source": [
    "import calendar\n",
    "\n",
    "calendar.prmonth(2022, 5)\n",
    "calendar.prcal(2022)"
   ]
  },
  {
   "cell_type": "markdown",
   "metadata": {},
   "source": [
    "When looking at the\n",
    "[source code of the `calendar` module for Python version 3.10](https://github.com/python/cpython/blob/3.10/Lib/calendar.py),\n",
    "you can see that the method `prmonth()` for example also\n",
    "[uses another built-in function itself](https://github.com/python/cpython/blob/3.10/Lib/calendar.py#L346) - the\n",
    "well-known function [`print`](https://docs.python.org/3/library/functions.html#print).\n",
    "\n",
    "\n",
    "Try out more methods yourself!"
   ]
  },
  {
   "cell_type": "markdown",
   "metadata": {},
   "source": [
    "## Using `calendar.isleap(year)` to check for a leap year easily\n",
    "\n",
    "You might remember the exercise from week 1, unit 7. There you should write a program which calculates if the given year\n",
    "is a leap year. As you might expect by now, this can also be done using the method `.isleap(year)` of the integrated\n",
    "`calendar` library very minimalistic as the following cell shows."
   ]
  },
  {
   "cell_type": "code",
   "execution_count": null,
   "metadata": {},
   "outputs": [],
   "source": [
    "import calendar\n",
    "\n",
    "check_year = int(input(\"From which year do you want to know if it is a leap year?\"))\n",
    "\n",
    "print(f\"It is {calendar.isleap(check_year)} that {check_year} is/was a leap year.\")"
   ]
  },
  {
   "cell_type": "markdown",
   "metadata": {},
   "source": [
    "# "
   ]
  }
 ],
 "metadata": {
  "interpreter": {
   "hash": "b89b5cfaba6639976dc87ff2fec6d58faec662063367e2c229c520fe71072417"
  },
  "kernelspec": {
   "display_name": "Python 3.10.1 64-bit",
   "language": "python",
   "name": "python3"
  },
  "language_info": {
   "codemirror_mode": {
    "name": "ipython",
    "version": 3
   },
   "file_extension": ".py",
   "mimetype": "text/x-python",
   "name": "python",
   "nbconvert_exporter": "python",
   "pygments_lexer": "ipython3",
   "version": "3.10.1"
  }
 },
 "nbformat": 4,
 "nbformat_minor": 2
}
