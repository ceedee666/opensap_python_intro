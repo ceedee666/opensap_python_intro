{
 "cells": [
  {
   "cell_type": "markdown",
   "metadata": {},
   "source": [
    "# More standard libraries\n",
    "\n",
    "There are many more helpful libraries and modules even in the\n",
    "[Python Standard Library](https://docs.python.org/3/library/index.html), of which 3 common ones will be presented in\n",
    "this unit:\n",
    "- [calendar](https://docs.python.org/3/library/calendar.html)\n",
    "- [csv](https://docs.python.org/3/library/csv.html)\n",
    "- [defaultdict](https://docs.python.org/3/library/collections.html#collections.defaultdict) from the module\n",
    "  [collections](https://docs.python.org/3/library/collections.html)\n",
    "\n",
    "\n",
    "# [`calendar`](https://docs.python.org/3/library/calendar.html) - General calendar related functions\n",
    "\n",
    "With the `calendar` library, you can use many calendar-related functions like\n",
    "[getting the day of the week](https://docs.python.org/3/library/calendar.html#calendar.weekday)\n",
    "for a specific date for example."
   ]
  },
  {
   "cell_type": "code",
   "execution_count": null,
   "metadata": {},
   "outputs": [],
   "source": [
    "import calendar\n",
    "\n",
    "calendar.weekday(2022, 3, 1)"
   ]
  },
  {
   "cell_type": "code",
   "execution_count": null,
   "metadata": {},
   "outputs": [],
   "source": [
    "import calendar\n",
    "\n",
    "print(f\"The year 2022 began with a: {calendar.day_name[calendar.weekday(2022,1,1)]}\")"
   ]
  },
  {
   "cell_type": "markdown",
   "metadata": {},
   "source": [
    "With one method call you can also print a calendar of a month or even a complete year to the terminal window directly:"
   ]
  },
  {
   "cell_type": "code",
   "execution_count": null,
   "metadata": {},
   "outputs": [],
   "source": [
    "import calendar\n",
    "\n",
    "calendar.prmonth(2022, 5)\n",
    "calendar.prcal(2022)"
   ]
  },
  {
   "cell_type": "markdown",
   "metadata": {},
   "source": [
    "When looking at the\n",
    "[source code of the `calendar` module for Python version 3.10](https://github.com/python/cpython/blob/3.10/Lib/calendar.py),\n",
    "you can see that the method\n",
    "[`prmonth()`]((https://github.com/python/cpython/blob/3.10/Lib/calendar.py#L346)) for example also\n",
    "[uses another built-in function itself](https://github.com/python/cpython/blob/3.10/Lib/calendar.py#L350) - the\n",
    "well-known function [`print`](https://docs.python.org/3/library/functions.html#print).\n",
    "\n",
    "\n",
    "Try out more methods yourself!"
   ]
  },
  {
   "cell_type": "markdown",
   "metadata": {},
   "source": [
    "## Using `calendar.isleap(year)` to check for a leap year easily\n",
    "\n",
    "You might remember the exercise from week 1, unit 7. There you should write a program which calculates if the given year\n",
    "is a leap year. As you might expect by now, this can also be done using the method `.isleap(year)` of the integrated\n",
    "`calendar` library very minimalistic as the following cell shows."
   ]
  },
  {
   "cell_type": "code",
   "execution_count": null,
   "metadata": {},
   "outputs": [],
   "source": [
    "import calendar\n",
    "\n",
    "check_year = int(input(\"From which year do you want to know if it is a leap year?\"))\n",
    "\n",
    "print(f\"It is {calendar.isleap(check_year)} that {check_year} is/was a leap year.\")"
   ]
  },
  {
   "cell_type": "markdown",
   "metadata": {},
   "source": [
    "# [`csv`](https://docs.python.org/3/library/csv.html) - CSV File Reading and Writing\n",
    "\n",
    "You have already used `.csv` files in previous units of this course. Those files are also often used as exports from\n",
    "spreadsheets and databases. As mentioned earlier, the data from the cells is written in a text file where rows are\n",
    "separated by line breaks and the columns are separated by a delimiter - usually the comma.\n",
    "\n",
    "In week 4, unit 6, you used a file where a semicolon was used as a delimiter instead of a simple comma. That file was\n",
    "exported using a german localized version of Windows, which made Excel use the semicolon as separator (the comma is\n",
    "already used as a decimal mark). The file also contained no line with column headers, which will usually be the first\n",
    "line in such files. Of course this can happen to you in the real world, too! So make sure to check the contents of your\n",
    "files for the delimiter.  \n",
    "The file used in this unit was exported using an English\n",
    "[locale](https://en.wikipedia.org/wiki/Locale_(computer_software)) which defines commas as separation marks and it\n",
    "contains names for the different columns as the first line of the file.\n",
    "\n",
    "\n",
    "## Reading file contents into a list\n",
    "\n",
    "In unit 6 of week 4, `.split()` was used to break the content of the lines into individual list elements. By using\n",
    "`reader()` from the `csv` module, you do that, too."
   ]
  },
  {
   "cell_type": "code",
   "execution_count": null,
   "metadata": {},
   "outputs": [],
   "source": [
    "import csv\n",
    "\n",
    "with open(\"students_excel.csv\", \"r\") as f:\n",
    "    reader = csv.reader(f)\n",
    "    for row in reader:\n",
    "        print(row)"
   ]
  },
  {
   "cell_type": "markdown",
   "metadata": {},
   "source": [
    "You may have noticed that the first row containing the column headers was also split into a list. It is possible to\n",
    "either throw it away or - more useful - use it to create a dictionary utilizing the column headers as keys.\n",
    "\n",
    "\n",
    "## `DictReader` creates a `dictionary` for every line in a `.csv` file\n",
    "\n",
    "As mentioned before, dictionaries, which may be more useful than a plain list, can be constructed of the imported data.\n",
    "Have a look how you can use the `csv` library to make your life easier when constructing a `dictionary` for every\n",
    "student in the `.csv` file using `DictReader()`."
   ]
  },
  {
   "cell_type": "code",
   "execution_count": null,
   "metadata": {},
   "outputs": [],
   "source": [
    "import csv\n",
    "\n",
    "with open(\"students_excel.csv\", \"r\") as f:\n",
    "    dict_reader = csv.DictReader(f)\n",
    "    for row in dict_reader:\n",
    "        print(row)"
   ]
  },
  {
   "cell_type": "markdown",
   "metadata": {},
   "source": [
    "Beside some optional arguments that were not specified any further in the cell above, `DictReader` needs just one\n",
    "argument - the input file object.  \n",
    "When you look at the [documentation](https://docs.python.org/3/library/csv.html#csv.DictReader) you will notice an\n",
    "optional argument called `dialect`. Its default value is `excel` and it defines properties of common `csv` formats like\n",
    "delimiter signs and line breaks. Apart from the more general usage of commas as a delimiter, the\n",
    "[definition of a comma as a delimiter](https://github.com/python/cpython/blob/3.10/Lib/csv.py#L54) in the default\n",
    "`dialect` value `excel` is a reason why the `.csv` file used in this unit was exported with commas.\n",
    "\n",
    "With the cell below, the student dictionaries can be built into one dictionary using the matriculation number as a key\n",
    "for each student similar to the example in week 3, unit 2."
   ]
  },
  {
   "cell_type": "code",
   "execution_count": null,
   "metadata": {},
   "outputs": [],
   "source": [
    "import csv\n",
    "\n",
    "dict_of_students = {}\n",
    "\n",
    "with open(\"students_excel.csv\", \"r\") as f:\n",
    "    dict_reader = csv.DictReader(f)\n",
    "\n",
    "    for student in dict_reader:\n",
    "        mat_nr = student[\"Matriculation number\"]\n",
    "        del student[\"Matriculation number\"]\n",
    "        dict_of_students[mat_nr] = student\n",
    "\n",
    "print(dict_of_students)"
   ]
  },
  {
   "cell_type": "markdown",
   "metadata": {},
   "source": [
    "## Writing `dictionary` data to a `.csv` file\n",
    "\n",
    "Of course writing data back to a `.csv` file can be as important as reading. If you want to export a list of specific\n",
    "students from the above `dict_of_students`, you can use the *reverse* method `DictWriter` like shown below. Have a look\n",
    "at the code in the next cell, look at the [documentation](https://docs.python.org/3/library/csv.html#csv.DictWriter)\n",
    "of the function and try to make a prediction of what it will do.  \n",
    "Why are the arguments `newline` and `extrasaction` used?"
   ]
  },
  {
   "cell_type": "code",
   "execution_count": null,
   "metadata": {},
   "outputs": [],
   "source": [
    "import csv\n",
    "\n",
    "some_students = []\n",
    "\n",
    "for i in range(5):\n",
    "    stud_id = input(\n",
    "        \"Please enter a matriculation number of a student you want to add to the exported file:\"\n",
    "    )\n",
    "    if stud_id in dict_of_students:\n",
    "        some_students.append(dict_of_students[stud_id])\n",
    "\n",
    "# print(some_students)\n",
    "\n",
    "with open(\"some_students.csv\", \"w\", newline=\"\") as output_file:\n",
    "    field_names = [\"Surname\", \"First Name\", \"Mail\"]\n",
    "    writer = csv.DictWriter(output_file, field_names, extrasaction=\"ignore\")\n",
    "    writer.writerows(some_students)"
   ]
  },
  {
   "cell_type": "markdown",
   "metadata": {},
   "source": [
    "# [defaultdict](https://docs.python.org/3/library/collections.html#defaultdict-objects) - dictionary extension\n",
    "\n",
    "In previous units, you had to make sure that a `key` was in the dictionary before accessing it, otherwise you would get\n",
    "an error.\n",
    "With `defaultdict`, \n",
    "You can use it to return the information of a student, if it is already in the `dictionary` or add a new student with\n",
    "*default* values to the dictionary like shown below."
   ]
  },
  {
   "cell_type": "code",
   "execution_count": null,
   "metadata": {},
   "outputs": [],
   "source": [
    "from collections import defaultdict\n",
    "\n",
    "\n",
    "def default_value():\n",
    "    return {\n",
    "        \"Surname\": \"Fill\",\n",
    "        \"First Name\": \"those\",\n",
    "        \"Mail\": \"values.with@information.of\",\n",
    "        \"Enrolled study course\": \"the student\",\n",
    "    }\n",
    "\n",
    "\n",
    "dict = defaultdict(default_value, dict_of_students)\n",
    "\n",
    "print(\n",
    "    dict[\n",
    "        input(\n",
    "            \"Please enter the matriculation number of a student whose information you want to add or see:\"\n",
    "        )\n",
    "    ]\n",
    ")\n",
    "\n",
    "print(\"Complete dictionary:\\n\", dict)"
   ]
  }
 ],
 "metadata": {
  "interpreter": {
   "hash": "b89b5cfaba6639976dc87ff2fec6d58faec662063367e2c229c520fe71072417"
  },
  "kernelspec": {
   "display_name": "Python 3",
   "language": "python",
   "name": "python3"
  },
  "language_info": {
   "codemirror_mode": {
    "name": "ipython",
    "version": 3
   },
   "file_extension": ".py",
   "mimetype": "text/x-python",
   "name": "python",
   "nbconvert_exporter": "python",
   "pygments_lexer": "ipython3",
   "version": "3.7.1"
  }
 },
 "nbformat": 4,
 "nbformat_minor": 2
}
