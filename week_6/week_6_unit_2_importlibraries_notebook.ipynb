{
 "cells": [
  {
   "cell_type": "markdown",
   "metadata": {},
   "source": [
    "# Using Libraries\n",
    "\n",
    "In order to use the functionality provided by a library in own programs it is necessary to import the library. \n",
    "Importing a library make the provided functionality available. This unit focuses on the different possibilities \n",
    "to import libraries.\n",
    "\n",
    "## Importing libraries\n",
    "\n"
   ]
  },
  {
   "cell_type": "markdown",
   "metadata": {},
   "source": []
  }
 ],
 "metadata": {
  "language_info": {
   "name": "python"
  }
 },
 "nbformat": 4,
 "nbformat_minor": 2
}
