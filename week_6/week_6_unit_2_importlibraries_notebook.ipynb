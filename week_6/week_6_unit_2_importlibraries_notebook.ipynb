{
 "cells": [
  {
   "cell_type": "markdown",
   "metadata": {},
   "source": [
    "# Using Libraries\n",
    "\n",
    "In order to use the functionality provided by a library in own programs it is necessary to import the library. \n",
    "Importing a library make the provided functionality available. This unit focuses on the different possibilities \n",
    "to import libraries.\n",
    "\n",
    "## Importing libraries\n",
    "\n"
   ]
  },
  {
   "cell_type": "markdown",
   "metadata": {},
   "source": [
    "In Python 🐍 libraries are imported using the `import` statement. In the following examples different libraries\n",
    "form the Python Standard Library are used to explain the `import` statement. In order tho import the `math` library\n",
    "the following import statement can be use."
   ]
  },
  {
   "cell_type": "code",
   "execution_count": null,
   "metadata": {},
   "outputs": [],
   "source": [
    "import math"
   ]
  },
  {
   "cell_type": "markdown",
   "metadata": {},
   "source": [
    "The [math library](https://docs.python.org/3/library/math.html), as the name suggests, provides mathematical functions and constants. Examples of provided mathematical\n",
    "functions are [sin()](https://docs.python.org/3/library/math.html#math.sin) and [sqrt()](https://docs.python.org/3/library/math.html#math.sqrt). \n",
    "An Example of a provided constant is [π](https://docs.python.org/3/library/math.html#math.pi). \n",
    "\n",
    "After importing the `math` library the provided functions can be accessed using their *qualified* as shown in the example blow. This is neccessary as importing \n",
    "a library creates a *namespace* into which the functions of the library are imported. "
   ]
  },
  {
   "cell_type": "code",
   "execution_count": null,
   "metadata": {},
   "outputs": [],
   "source": [
    "x = math.cos(math.pi)\n",
    "print(\"The value of cos(π) is\", x)\n",
    "\n",
    "print(\"The value of sin(π/2) is\", math.sin(math.pi / 2))"
   ]
  },
  {
   "cell_type": "markdown",
   "metadata": {},
   "source": [
    "Always writing the complete library name is quite tedious. Therefore, the `import` statement enables the renaming of the namespace upon import. In case of the \n",
    "`math` library the namespace could be renamed to `m` to enable access to the functions using a shorter prefix."
   ]
  },
  {
   "cell_type": "code",
   "execution_count": null,
   "metadata": {},
   "outputs": [],
   "source": [
    "import math as m\n",
    "\n",
    "x = float(input(\"Please enter a number:\"))\n",
    "\n",
    "sin_x_square = m.pow(m.sin(x), 2)\n",
    "cos_x_square = m.pow(m.cos(x), 2)\n",
    "\n",
    "result = sin_x_square + cos_x_square\n",
    "\n",
    "print(\"The value of \", result)"
   ]
  },
  {
   "cell_type": "markdown",
   "metadata": {},
   "source": [
    "In the example above the the functions [sin()](https://docs.python.org/3/library/math.html#math.sin), [cos()](https://docs.python.org/3/library/math.html#math.cos) and\n",
    "[pow()](https://docs.python.org/3/library/math.html#math.pow) are used to\n",
    "calculate the [Pythagorean Identity](ttps://en.wikipedia.org/wiki/Pythagorean_trigonometric_identity) $(sin(x))^2 + (cos(x))^2 = 1$.\n",
    "\n",
    "## Partially importing libraries\n",
    "\n",
    "Besides importing all functions of a library it is also possible to import only individual functions of a library. This is done using the import variant shown below.\n",
    "If the `from`-`import` statement is used to import functions, these can be accessed without providing the library name. "
   ]
  },
  {
   "cell_type": "code",
   "execution_count": null,
   "metadata": {},
   "outputs": [],
   "source": [
    "from math import sin, pi\n",
    "\n",
    "x = sin(3 * pi / 2)\n",
    "print(\"The value of sin(3 * π /2) is\", x)"
   ]
  },
  {
   "cell_type": "markdown",
   "metadata": {},
   "source": [
    "## Namespaces\n",
    "\n",
    "As mentioned above importing a library creates a namespace. Why are namespaces useful? In Python 🐍 some names are assigned:\n",
    "\n",
    "- Keywords: `with`, `for`, `and`\n",
    "- Builtin functions: `print()`, `input()`\n",
    "\n",
    "By importing a library more names are assigned. By adding those to a namespace conflicts with already assigned names are avoided. Why this is necessary is shown by the\n",
    "following example."
   ]
  },
  {
   "cell_type": "code",
   "execution_count": null,
   "metadata": {},
   "outputs": [],
   "source": [
    "from math import sin\n",
    "\n",
    "print(\"The value of sin(0) is:\", sin(0))\n",
    "\n",
    "\n",
    "def sin(n):\n",
    "    return \"I don't know how to calculate the sine of \" + str(n)\n",
    "\n",
    "\n",
    "print(\"The value of sin(0) is:\", sin(0))"
   ]
  },
  {
   "cell_type": "markdown",
   "metadata": {},
   "source": [
    "In the example first the `sin()`function from the `math` library is imported. This adds teh function `sin()` to the default namespace. Therefore, it can be invoked\n",
    "using just the name `sin` to calculate $sin(0)$. Next a new function named `sin()` is defined. This function definitions assigns the name `sin` to the new function.\n",
    "Therefore, the `sin()` function from the `math` library cannot be invoked anymore. Instead the new function is invoked. \n",
    "\n",
    "If the `sin()` function from the `math` library is imported into an own namespace, this problems does not occur anymore."
   ]
  },
  {
   "cell_type": "code",
   "execution_count": null,
   "metadata": {},
   "outputs": [],
   "source": [
    "import math as m\n",
    "\n",
    "print(\"The value of sin(0) is:\", m.sin(0))\n",
    "\n",
    "\n",
    "def sin(n):\n",
    "    return \"I don't know how to calculate the sine of \" + str(n)\n",
    "\n",
    "\n",
    "print(\"The value of sin(0) is:\", m.sin(0))"
   ]
  }
 ],
 "metadata": {
  "interpreter": {
   "hash": "9fd0e282e2343d8b38b390b803aabc7fcea80a18eee8e5bd23ce64f6435b30a1"
  },
  "kernelspec": {
   "display_name": "Python 3.9.9 64-bit ('opensap_python_intro-SgMpohZV': pipenv)",
   "language": "python",
   "name": "python3"
  },
  "language_info": {
   "codemirror_mode": {
    "name": "ipython",
    "version": 3
   },
   "file_extension": ".py",
   "mimetype": "text/x-python",
   "name": "python",
   "nbconvert_exporter": "python",
   "pygments_lexer": "ipython3",
   "version": "3.9.9"
  }
 },
 "nbformat": 4,
 "nbformat_minor": 2
}
