{
 "cells": [
  {
   "cell_type": "markdown",
   "metadata": {},
   "source": [
    "# Examples of non-standard libraries\n",
    "\n",
    "There are many popular libraries which are not part of the default Python installation. You learned how to find and\n",
    "install them in the previous unit. Now a few libraries are presented. Note that this unit will not give \n",
    "a complete introduction in any of these libraries. Instead the goal of this unit is to give an overview \n",
    "of the large variety of available libraries. \n",
    "\n",
    "\n",
    "## [Requests](https://docs.python-requests.org/en/latest/) - HTTP for Humans\n",
    "\n",
    "Using the `requests` library, you can connect to web servers and fetch their content.\n",
    "The [Quickstart Guide](https://docs.python-requests.org/en/latest/user/quickstart/)\n",
    "contains examples on how to use it and what you can do with it."
   ]
  },
  {
   "cell_type": "code",
   "execution_count": null,
   "metadata": {},
   "outputs": [],
   "source": [
    "import requests\n",
    "\n",
    "r = requests.get(\"https://en.wikipedia.org/wiki/Python_(programming_language)\")\n",
    "print(\n",
    "    f\"The word 'Python' is used {r.text.count('Python')} times in its Wikipedia entry!\"\n",
    ")"
   ]
  },
  {
   "cell_type": "markdown",
   "metadata": {},
   "source": [
    "## [Tkinter](https://docs.python.org/3/library/tkinter.html) - Python interface to Tcl/Tk\n",
    "\n",
    "With `tkinter` you can create a graphical user interface (*GUI*) to extend your program. The\n",
    "[documentation](https://tkdocs.com/index.html) offers a detailed description how to start and how to use it. In the\n",
    "example below, a very basic program is shown to create a window containing a text and a button to close it."
   ]
  },
  {
   "cell_type": "code",
   "execution_count": null,
   "metadata": {},
   "outputs": [],
   "source": [
    "from tkinter import *\n",
    "from tkinter import ttk\n",
    "\n",
    "\n",
    "root = Tk()  # initialize and create main window\n",
    "frame = ttk.Frame(root, padding=10)  # create frame object inside root/main window\n",
    "frame.grid()  # create grid in frame\n",
    "\n",
    "# create and label text box and button\n",
    "ttk.Label(frame, text=\"Hello Python!\").grid(column=0, row=0)\n",
    "ttk.Button(frame, text=\"Quit\", command=root.destroy).grid(column=1, row=0)\n",
    "\n",
    "root.mainloop()  # show GUI and process user input"
   ]
  },
  {
   "cell_type": "markdown",
   "metadata": {},
   "source": [
    "## Working with large data sets\n",
    "\n",
    "### [Pandas](https://pandas.pydata.org/) - Python Data Analysis Library\n",
    "\n",
    "The Python module `pandas` can be used to process data sets, which size is only limited by the memory of your computer.\n",
    "It provides methods and functions to analyze and visualize these data sets. \n",
    "\n",
    "In the next cells, you can see some brief basic usage examples how to use `pandas`. The data used in this example\n",
    "contains angular rate and acceleration measurements from an IMU *(Intertial Measuremnt Unit)* which \n",
    "was sampled with 1 kHz (1.000 measurements per second).\n",
    "\n",
    "With `head(`*`x`*`)` and `tail(`*`x`*`)`, you can return the first/last *x* lines of your data."
   ]
  },
  {
   "cell_type": "code",
   "execution_count": null,
   "metadata": {},
   "outputs": [],
   "source": [
    "import pandas as pd\n",
    "\n",
    "dataframe = pd.read_csv(\"gyro_accel.csv\", sep=\";\")\n",
    "\n",
    "print(dataframe.info())\n",
    "\n",
    "print(dataframe.head(2))"
   ]
  },
  {
   "cell_type": "markdown",
   "metadata": {},
   "source": [
    "Or you can just select and print one specific column of your data:"
   ]
  },
  {
   "cell_type": "code",
   "execution_count": null,
   "metadata": {},
   "outputs": [],
   "source": [
    "print(dataframe[\"Z_ACCL (32 bit)\"])"
   ]
  },
  {
   "cell_type": "markdown",
   "metadata": {},
   "source": [
    "You could calculate the mean value of your columns iterating through your data yourself, but with `pandas`, this takes\n",
    "just one function call:"
   ]
  },
  {
   "cell_type": "code",
   "execution_count": null,
   "metadata": {},
   "outputs": [],
   "source": [
    "mean_values = dataframe.mean()\n",
    "print(mean_values)"
   ]
  },
  {
   "cell_type": "markdown",
   "metadata": {},
   "source": [
    "## [Matplotlib](https://matplotlib.org/) - Visualization with Python\n",
    "\n",
    "With `matplotlib` you can create graphs to visualize your data. It works seamlessly with `pandas`\n",
    "and is set as a default library for plotting graphs in pandas. Have a look at the next cell to see an example visualizing\n",
    "the angular rate with a dashed line indicating the mean value."
   ]
  },
  {
   "cell_type": "code",
   "execution_count": null,
   "metadata": {},
   "outputs": [],
   "source": [
    "import matplotlib.pyplot as plt\n",
    "\n",
    "# set plot size for good visibility\n",
    "plt.figure(figsize=(12, 6))\n",
    "\n",
    "dataframe[\"Z_GYRO (32 bit)\"].plot(color=\"blue\")\n",
    "\n",
    "# plot mean line for z_gyro values and show plot\n",
    "plt.axhline(y=mean_values[2], color=\"red\", linewidth=2, linestyle=\"--\")\n",
    "plt.show()"
   ]
  },
  {
   "cell_type": "markdown",
   "metadata": {},
   "source": [
    "Of course, it is also possible to use `matplotlib` directly. in the following cell a large number of normally \n",
    "distribute values are generated. These values are then displayed using a histogram."
   ]
  },
  {
   "cell_type": "code",
   "execution_count": null,
   "metadata": {},
   "outputs": [],
   "source": [
    "import random\n",
    "import matplotlib.pyplot as plt\n",
    "\n",
    "random_values = []\n",
    "for _ in range(100000):\n",
    "    random_values.append(random.gauss(mu=100, sigma=20))\n",
    "\n",
    "print(random_values[:10])\n",
    "\n",
    "plt.hist(random_values, bins=100, alpha=0.5)\n",
    "plt.ylabel(\"count\")\n",
    "plt.grid(True)\n",
    "plt.legend()"
   ]
  }
 ],
 "metadata": {
  "interpreter": {
   "hash": "b89b5cfaba6639976dc87ff2fec6d58faec662063367e2c229c520fe71072417"
  },
  "kernelspec": {
   "display_name": "Python 3",
   "language": "python",
   "name": "python3"
  },
  "language_info": {
   "codemirror_mode": {
    "name": "ipython",
    "version": 3
   },
   "file_extension": ".py",
   "mimetype": "text/x-python",
   "name": "python",
   "nbconvert_exporter": "python",
   "pygments_lexer": "ipython3",
   "version": "3.9.10"
  }
 },
 "nbformat": 4,
 "nbformat_minor": 2
}
