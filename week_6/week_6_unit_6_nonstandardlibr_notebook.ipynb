{
 "cells": [
  {
   "cell_type": "markdown",
   "metadata": {},
   "source": [
    "# Examples of non-standard libraries\n",
    "\n",
    "There are many more popular libraries which are not part of the default Python installation. You learned how to find and\n",
    "install them in the previous unit. Now some more libraries are presented.\n",
    "\n",
    "\n",
    "# [Requests](https://docs.python-requests.org/en/latest/) - HTTP for Humans\n",
    "\n",
    "Using the `requests` library, you can \"speak\" to websites or fetch their content and work with it. You can have a look\n",
    "at the [Quickstart Guide](https://docs.python-requests.org/en/latest/user/quickstart/), there you will find many\n",
    "examples how to use it and what you can do with it."
   ]
  },
  {
   "cell_type": "code",
   "execution_count": null,
   "metadata": {},
   "outputs": [],
   "source": [
    "import requests\n",
    "\n",
    "r = requests.get(\"https://en.wikipedia.org/wiki/Python_(programming_language)\")\n",
    "print(\n",
    "    f\"The word 'Python' is used {r.text.count('Python')} times in its Wikipedia entry!\"\n",
    ")"
   ]
  },
  {
   "cell_type": "markdown",
   "metadata": {},
   "source": [
    "# [Tkinter](https://docs.python.org/3/library/tkinter.html) - Python interface to Tcl/Tk\n",
    "\n",
    "With `tkinter` you can create a graphical user interface (*GUI*) to extend your programme. The\n",
    "[documentation](https://tkdocs.com/index.html) offers a detailed description how to start and how to use it. In the\n",
    "example below, a very basic programme is shown to create a window containing a text and a button to close it."
   ]
  },
  {
   "cell_type": "code",
   "execution_count": null,
   "metadata": {},
   "outputs": [],
   "source": [
    "import tkinter\n",
    "\n",
    "\n",
    "root = Tk()  # initialize and create main window\n",
    "frame = ttk.Frame(root, padding=10)  # create frame object inside root/main window\n",
    "frame.grid()  # create grid in frame\n",
    "\n",
    "# create and label text box and button\n",
    "ttk.Label(frame, text=\"Hello World!\").grid(column=0, row=0)\n",
    "ttk.Button(frame, text=\"Quit\", command=root.destroy).grid(column=1, row=0)\n",
    "\n",
    "root.mainloop()  # show GUI and process user input"
   ]
  }
 ],
 "metadata": {
  "interpreter": {
   "hash": "b89b5cfaba6639976dc87ff2fec6d58faec662063367e2c229c520fe71072417"
  },
  "kernelspec": {
   "display_name": "Python 3.10.1 64-bit",
   "language": "python",
   "name": "python3"
  },
  "language_info": {
   "codemirror_mode": {
    "name": "ipython",
    "version": 3
   },
   "file_extension": ".py",
   "mimetype": "text/x-python",
   "name": "python",
   "nbconvert_exporter": "python",
   "pygments_lexer": "ipython3",
   "version": "3.10.1"
  }
 },
 "nbformat": 4,
 "nbformat_minor": 2
}
