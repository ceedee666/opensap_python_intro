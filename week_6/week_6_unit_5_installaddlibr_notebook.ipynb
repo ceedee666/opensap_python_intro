{
 "cells": [
  {
   "cell_type": "markdown",
   "metadata": {},
   "source": [
    "# Finding more libraries for specific purposes\n",
    "\n",
    "Now that you know some common libraries, you might want to know how to use more libraries for your own\n",
    "code or projects. There may be some libraries pre-installed on your OS, but most of the available libraries will not be\n",
    "on your computer.  \n",
    "Here are some hints where you can look for libraries:\n",
    "\n",
    "- [20 Great Python Libraries You Must Know](https://blog.stoneriverelearning.com/20-great-python-libraries-you-must-know/)\n",
    "- [The 30 Best Python Libraries and Packages for Beginners](https://www.ubuntupit.com/best-python-libraries-and-packages-for-beginners/)\n",
    "- [The Python Package Index (PyPI)](https://pypi.org/)\n",
    "- A search engine of your choice. Works best with a precise search term, e.g.\n",
    "  [*python library for gui*](https://www.ecosia.org/search?q=python+library+for+gui)\n",
    "\n",
    "When looking for libraries in the PyPI, you can either search for a specific name or [browse](https://pypi.org/search/)\n",
    "all packages and filter by categories. To see packages for (grahpical) user interfaces for example you can filter by\n",
    "*Topic* and select *Software Development* -> *User Interfaces*.\n",
    "\n",
    "\n",
    "# [Installing](https://packaging.python.org/en/latest/guides/tool-recommendations/#installation-tool-recommendations) additional libraries - [pip](https://pip.pypa.io/en/stable/)\n",
    "\n",
    "The package **pip** (***p**ip **i**nstalls **p**ackages*) can be used to install packages from package indices like the\n",
    "*Python Package Index* mentioned before. Using the command\n",
    "\n",
    "> pip install *package_name*\n",
    "\n",
    "you can install any package from any indices and use it in your programs."
   ]
  }
 ],
 "metadata": {
  "interpreter": {
   "hash": "b89b5cfaba6639976dc87ff2fec6d58faec662063367e2c229c520fe71072417"
  },
  "kernelspec": {
   "display_name": "Python 3",
   "language": "python",
   "name": "python3"
  },
  "language_info": {
   "codemirror_mode": {
    "name": "ipython",
    "version": 3
   },
   "file_extension": ".py",
   "mimetype": "text/x-python",
   "name": "python",
   "nbconvert_exporter": "python",
   "pygments_lexer": "ipython3",
   "version": "3.7.1"
  }
 },
 "nbformat": 4,
 "nbformat_minor": 2
}
