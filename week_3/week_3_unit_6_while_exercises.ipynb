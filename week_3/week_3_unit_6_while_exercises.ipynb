{
 "cells": [
  {
   "cell_type": "markdown",
   "metadata": {},
   "source": [
    "## Exercise: Enter courses\n",
    "A course consists of course number, course name, lecturer and semester. These values are combined into a tuple and\n",
    "appended to a previously empty list. Create a program that takes in any number of new courses via `input()`. If an empty\n",
    "value is entered when the course number is requested (return only), then the loop is terminated and the list is output. \n",
    "\n",
    "**Addition**: When outputting, iterate over the list and output each tuple individually. "
   ]
  },
  {
   "cell_type": "code",
   "execution_count": null,
   "metadata": {},
   "outputs": [],
   "source": []
  }
 ],
 "metadata": {
  "kernelspec": {
   "display_name": "Python 3",
   "language": "python",
   "name": "python3"
  },
  "language_info": {
   "codemirror_mode": {
    "name": "ipython",
    "version": 3
   },
   "file_extension": ".py",
   "mimetype": "text/x-python",
   "name": "python",
   "nbconvert_exporter": "python",
   "pygments_lexer": "ipython3",
   "version": "3.9.10"
  }
 },
 "nbformat": 4,
 "nbformat_minor": 2
}
