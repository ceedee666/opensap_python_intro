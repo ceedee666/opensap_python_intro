{
 "cells": [
  {
   "cell_type": "markdown",
   "metadata": {},
   "source": [
    "# Safe dictionary access\n",
    "When trying to access a key which does not exist, you get a `KeyError` as you may have experienced before. This case is also\n",
    "shown in the following cell:"
   ]
  },
  {
   "cell_type": "code",
   "execution_count": null,
   "metadata": {},
   "outputs": [],
   "source": [
    "dict = {1234: \"Peter\", 2345: \"Jane\"}\n",
    "print(dict[1234])\n",
    "print(dict[3456])"
   ]
  },
  {
   "cell_type": "markdown",
   "metadata": {},
   "source": [
    "## Safe access to a dictionary using `in`\n",
    "It makes sense to catch those errors to prevent the program from interrupts. With the help of the keyword `in` the\n",
    "error can be prevented. *`key`* `in` *`dict`* returns the value `True` if the key exists in the dictionary and otherwise\n",
    "`False`. This way you can catch the error with an `if` statement."
   ]
  },
  {
   "cell_type": "code",
   "execution_count": null,
   "metadata": {},
   "outputs": [],
   "source": [
    "dict_of_students = {\n",
    "    477264: (\"Potter\", \"Harry\", \"harry@hogwarts.wiz\", \"Defence Against the Dark Arts\"),\n",
    "    490134: (\"Weasley\", \"Ron\", \"ron@hogwarts.wiz\", \"Care of Magical Creatures\"),\n",
    "    471617: (\"Granger\", \"Hermione\", \"hermione@hogwarts.wiz\", \"Alchemy\"),\n",
    "    432646: (\"Creevey\", \"Colin\", \"colin@hogwarts.wiz\", \"Music\"),\n",
    "    481989: (\"Finnigan\", \"Seamus\", \"seamus@hogwarts.wiz\", \"Ancient Studies\"),\n",
    "    488962: (\"Abbott\", \"Hannah\", \"hannah@hogwarts.wiz\", \"Apparition\"),\n",
    "    482103: (\"Parkinson\", \"Pansy\", \"pansy@hogwarts.wiz\", \"Dark Arts\"),\n",
    "    492010: (\"Malfoy\", \"Draco\", \"draco@hogwarts.wiz\", \"Defence Against the Dark Arts\"),\n",
    "    447924: (\"Thomas\", \"Dean\", \"dean.thomas@hogwarts.wiz\", \"Divination\"),\n",
    "}\n",
    "\n",
    "matrnr = int(input(\"Please enter matriculation number: \"))\n",
    "if matrnr in dict_of_students:\n",
    "    print(\"The student you are looking for is:\", dict_of_students[matrnr])\n",
    "else:\n",
    "    print(\"A student with this matriculation number does not exist\")"
   ]
  },
  {
   "cell_type": "markdown",
   "metadata": {},
   "source": [
    "## Alternative: Using [dict.get()](https://docs.python.org/3/library/stdtypes.html#dict.get) to get the value assigned to a key\n",
    "Another possibility to prevent an error is the `get()` method to get the value for the input `key`.\n",
    "\n",
    "This method takes two arguments as input:  \n",
    "`dict.get(key, default)`\n",
    "\n",
    "The first argument is the `key` you want the value for (the matriculation number in the previous example). The second,\n",
    "**optional** argument *`default`* is the return value the function will deliver if the `key` was not found in the\n",
    "dictionary. If you do not pass this argument, it will return `None` as a default value and raise no error. Thus, not\n",
    "interrupting your program. The following cell shows an example implementation for this method."
   ]
  },
  {
   "cell_type": "code",
   "execution_count": null,
   "metadata": {},
   "outputs": [],
   "source": [
    "input_num = int(input(\"Please enter matriculation number:\"))\n",
    "student = dict_of_students.get(\n",
    "    input_num, \"no matching student found for this matriculation number\"\n",
    ")\n",
    "\n",
    "print(\n",
    "    \"For the matriculation number\",\n",
    "    input_num,\n",
    "    \"the dictionary returned the following result:\",\n",
    "    student,\n",
    ")"
   ]
  }
 ],
 "metadata": {
  "file_extension": ".py",
  "interpreter": {
   "hash": "ac59ebe37160ed0dfa835113d9b8498d9f09ceb179beaac4002f036b9467c963"
  },
  "kernelspec": {
   "display_name": "Python 3",
   "language": "python",
   "name": "python3"
  },
  "language_info": {
   "codemirror_mode": {
    "name": "ipython",
    "version": 3
   },
   "file_extension": ".py",
   "mimetype": "text/x-python",
   "name": "python",
   "nbconvert_exporter": "python",
   "pygments_lexer": "ipython3",
   "version": "3.9.10"
  },
  "mimetype": "text/x-python",
  "name": "python",
  "npconvert_exporter": "python",
  "pygments_lexer": "ipython3",
  "version": 3
 },
 "nbformat": 4,
 "nbformat_minor": 2
}
