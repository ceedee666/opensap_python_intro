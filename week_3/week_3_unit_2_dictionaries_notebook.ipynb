{
 "cells": [
  {
   "cell_type": "markdown",
   "metadata": {},
   "source": [
    "# What are dictionaries?\n",
    "\n",
    "Within a `list` and a `tuple` the elements are accessed using the index. This leads to the following drawback: If you want to access a specific element, you have to know at which index it is stored. Knowing the index of specific elements can become even more complicated, when other element are deleted or added. In this case the index of all following elements changes. As a consequnec accessing elements using their index can make the programming really cumbersome.\n",
    "\n",
    "## Accessing elements by name\n",
    "\n",
    "This problem is solved in *dictionaries*. Dictionaries are similar to lists and tuples in that they can handle multiple elements. The big difference is: Within a dictionary the elements are not accessed by index but by *name*.\n",
    "\n",
    "What does this mean? Take as an example the telephone book. A telephone book collects lots of telephone numbers and each of this number is assigned to a name.\n",
    "\n",
    "| Name         | Telephone Number |\n",
    "|:-------------|-----------------:|\n",
    "| P. McCartney | 123 456          |\n",
    "| J. Lennon    | 987 654 321      |\n",
    "| G. Harrison  | 11 342 555       |\n",
    "| R. Starr     | 777 888 32       |\n",
    "\n",
    "Within the telephone book you do **not** look for the third element but you look for the number belonging to *G. Harrison*. Actually, you want to get the number by just using the name. \n",
    "\n",
    "Accessing an element by name is what dictionaries are good for. Instead of *name* the more general term *key* is used.\n",
    "\n",
    "## Using dictionaries\n",
    "\n",
    "A dictionary consists of so-called key-value pairs. Dictionaries are represented by curly brackets `{}`. The brackets\n",
    "contain the individual key-value pairs separated by commas.  Each key-value pair is represented as follows: `key : value`.   A dictionary therefore looks like this: `{key1 : value1, key2 : value2, ..., keyN : valueN}`. Have a look at the following\n",
    "example:"
   ]
  },
  {
   "cell_type": "code",
   "execution_count": null,
   "metadata": {},
   "outputs": [],
   "source": [
    "phone_book = {\n",
    "    \"P.McCartney\": 123456,\n",
    "    \"J.Lennon\": 987654321,\n",
    "    \"G.Harrison\": 11342555,\n",
    "    \"R.Starr\": 77788832,\n",
    "}\n",
    "print(phone_book)"
   ]
  },
  {
   "cell_type": "markdown",
   "metadata": {},
   "source": [
    "Now it is possible to access `phone_book` by the key, i.e. by the name of the person. To do that the key has to be placed in square brackets `[ ]` right after the name of the dictionary."
   ]
  },
  {
   "cell_type": "code",
   "execution_count": null,
   "metadata": {},
   "outputs": [],
   "source": [
    "print(phone_book[\"G.Harrison\"])"
   ]
  },
  {
   "cell_type": "markdown",
   "metadata": {},
   "source": [
    "To access the dictionary by index is *not* possible as the following example demonstrates."
   ]
  },
  {
   "cell_type": "code",
   "execution_count": null,
   "metadata": {},
   "outputs": [],
   "source": [
    "print(phone_book[2])"
   ]
  },
  {
   "cell_type": "markdown",
   "metadata": {},
   "source": [
    "It is not possible, to access a dictionary using the key. Actually, the error message above does not argue against the usage of indices. It has just checked, that `2` is not a key in the given  dictionary. Accessing a non-existing key leads to a so called key error.\n",
    "\n",
    "Generally spoken, accessing a dictionary with a key, which is not available, leads to an error. This is again demonstrated in the following example."
   ]
  },
  {
   "cell_type": "code",
   "execution_count": null,
   "metadata": {},
   "outputs": [],
   "source": [
    "print(phone_book[\"P.Best\"])"
   ]
  },
  {
   "cell_type": "markdown",
   "metadata": {},
   "source": [
    "## Adding key-value pairs to a dictionary\n",
    "A new key-value pair can be easily added to a dictionary using the following statement: `dictionary[key] = value`. In the following example, more\n",
    "telephone numbers are added to our telephone book."
   ]
  },
  {
   "cell_type": "code",
   "execution_count": null,
   "metadata": {},
   "outputs": [],
   "source": [
    "phone_book[\"Y.Ono\"] = 5463333\n",
    "phone_book[\"B.Epstein\"] = 9998777\n",
    "print(phone_book)"
   ]
  },
  {
   "cell_type": "markdown",
   "metadata": {},
   "source": [
    "## Replacing the value for an existing key\n",
    "If a key already exists when it is assigned to a dictionary, the existing value is overwritten by the new value. This\n",
    "can be used to change or update entries in the dictionary. But you need to be careful not to overwrite the wrong entries\n",
    "in your dictionary!"
   ]
  },
  {
   "cell_type": "code",
   "execution_count": null,
   "metadata": {},
   "outputs": [],
   "source": [
    "phone_book[\"P.McCartney\"] = 654321\n",
    "print(phone_book)"
   ]
  },
  {
   "cell_type": "markdown",
   "metadata": {},
   "source": [
    "## More about keys and values\n",
    "In the example of the telephone book all keys have been strings and all values have been integer. This is not a requirement of dictionaries. In fact, the *values* can be of all data types including lists, tuples and dictionaries. The *keys* can be of nearly all data types (cf. the following explanation about immutability). And data types can be mixed within one dictionary as demonstrated in the following example."
   ]
  },
  {
   "cell_type": "code",
   "execution_count": null,
   "metadata": {},
   "outputs": [],
   "source": [
    "stupid_dict = {\n",
    "    123: \"blabla\",\n",
    "    True: 123.456,\n",
    "    \"key\": False,\n",
    "    (123, \"abc\"): 1000,\n",
    "    34.5: [0, 1, 1, 2, 3, 5],\n",
    "}\n",
    "print(stupid_dict)"
   ]
  },
  {
   "cell_type": "markdown",
   "metadata": {},
   "source": [
    "## The key in a dictionary is immutable\n",
    "Unlike values, which can be changed, keys must not be mutable in a dictionary. Therefore, a key can be e.g. an `integer`, a\n",
    "`string` or a `tuple`, but not a list, since a list could be modified. Just have a look on the following two examples, which are quite similar. "
   ]
  },
  {
   "cell_type": "code",
   "execution_count": null,
   "metadata": {},
   "outputs": [],
   "source": [
    "new_phone_book = {(\"Paul\", \"McCartney\"): 123456}\n",
    "print(new_phone_book)"
   ]
  },
  {
   "cell_type": "code",
   "execution_count": null,
   "metadata": {},
   "outputs": [],
   "source": [
    "new_phone_book = {[\"Paul\", \"McCartney\"]: 123456}\n",
    "print(new_phone_book)"
   ]
  },
  {
   "cell_type": "markdown",
   "metadata": {},
   "source": [
    "## Deleting an element\n",
    "Of course, elements can be deleted from a dictionary. This can be done using the keyword `del`. Just check the following example. What happens, if you run the following cell twice? Why does this error occur?"
   ]
  },
  {
   "cell_type": "code",
   "execution_count": null,
   "metadata": {},
   "outputs": [],
   "source": [
    "del phone_book[\"P.McCartney\"]\n",
    "print(phone_book)"
   ]
  },
  {
   "cell_type": "markdown",
   "metadata": {},
   "source": [
    "## Iterating over a dictionary with a `for` loop\n",
    "Just like a `list` and a `tuple`, you can also iterate over a `dictionary` with the `for` loop. The syntax for this\n",
    "is as follows:"
   ]
  },
  {
   "cell_type": "code",
   "execution_count": null,
   "metadata": {},
   "outputs": [],
   "source": [
    "for name in phone_book:\n",
    "    print(name, phone_book[name])"
   ]
  },
  {
   "cell_type": "markdown",
   "metadata": {},
   "source": [
    "# Usage of functions and methods with dictionaries\n",
    "Of course, there are some functions and methods to handle dictionaries.\n",
    "\n",
    "## General functions and methods\n",
    "\n",
    "| Function/Method | Return value                                |\n",
    "| --------------- | ------------------------------------------- |\n",
    "| `len()`         | Number of key-value pairs in the dictionary |\n",
    "| `.keys()`       | All keys of a dictionary                    |\n",
    "| `.values()`     | All values of a dictionary                  |\n",
    "| `.items()`      | All `key:value` pairs as tuples             |\n",
    "\n",
    "\n",
    "> **NOTE:** The data type of the output of the `.keys()` method is `dict_keys`. With the help of the function `list()` this can be\n",
    "converted into a list."
   ]
  },
  {
   "cell_type": "code",
   "execution_count": null,
   "metadata": {},
   "outputs": [],
   "source": [
    "print(len(phone_book))"
   ]
  },
  {
   "cell_type": "code",
   "execution_count": null,
   "metadata": {},
   "outputs": [],
   "source": [
    "print(phone_book.keys())\n",
    "print(list(phone_book.keys()))"
   ]
  },
  {
   "cell_type": "code",
   "execution_count": null,
   "metadata": {},
   "outputs": [],
   "source": [
    "print(list(phone_book.values()))"
   ]
  },
  {
   "cell_type": "code",
   "execution_count": null,
   "metadata": {},
   "outputs": [],
   "source": [
    "print(phone_book.items())"
   ]
  },
  {
   "cell_type": "markdown",
   "metadata": {},
   "source": [
    "## Typical applications with dictionaries\n",
    "\n",
    "In the following two scenarios are given in which dictionaries are useful.\n",
    "\n",
    "### Example 1: Student Data\n",
    "\n",
    "In the telephone book example the key-value pairs were always *name - telephone number*. In the following example, the data for a student consisting of name,\n",
    "first-name, id, e-mail, city, etc.and is represented using a dictionary. \n",
    "\n",
    "This is again a dictionary with keys and values. However, the keys and values are quite different in nature.\n",
    "All keys describe different attributes of the same student.\n",
    "The advantage of this representation is, that you do not have to remember, at which index what kind of attribute is stored. \n",
    "Another advantage (in comparison to tuples) is, that additional attributes can be added and not required attributes can be deleted."
   ]
  },
  {
   "cell_type": "code",
   "execution_count": null,
   "metadata": {},
   "outputs": [],
   "source": [
    "student = {\n",
    "    \"name\": \"McCartney\",\n",
    "    \"firstname\": \"Paul\",\n",
    "    \"subject\": \"Music\",\n",
    "    \"musician\": True,\n",
    "    \"instruments\": [\"bass\", \"guitar\", \"piano\"],\n",
    "    \"bands\": [\"Beatles\", \"Wings\"],\n",
    "}\n",
    "print(student)\n",
    "print(student[\"name\"])"
   ]
  },
  {
   "cell_type": "markdown",
   "metadata": {},
   "source": [
    "### Example 2: Students and student IDs\n",
    "\n",
    "In the case that data has a unique identifier (ID), this identifier can be used as the key of a dictionary. \n",
    "Consider the following example. Each student has a student-ID which is used as the key."
   ]
  },
  {
   "cell_type": "code",
   "execution_count": null,
   "metadata": {},
   "outputs": [],
   "source": [
    "students = {\n",
    "    12345: \"Paul McCartney\",\n",
    "    23456: \"John Lennon\",\n",
    "    34567: \"George Harrison\",\n",
    "    45678: \"Ringo Starr\",\n",
    "}\n",
    "print(students)\n",
    "print(students[34567])"
   ]
  },
  {
   "cell_type": "markdown",
   "metadata": {},
   "source": [
    "## Exercise 1: Translation\n",
    "Create a dictionary which consists of the colors *red, green, blue, yellow* as keys and the German translation *rot, grün, blau, gelb* as values. Using `input()` ask for another English color and its German translation an add this pair to the dictionary"
   ]
  },
  {
   "cell_type": "code",
   "execution_count": null,
   "metadata": {},
   "outputs": [],
   "source": []
  },
  {
   "cell_type": "markdown",
   "metadata": {},
   "source": [
    "## Exercise 2: Translate\n",
    "Now make use of the translation dictionary from the last exercise. Again using `input()` ask for a color and give the translation as output. \n",
    "\n",
    "Example input:\n",
    "\n",
    "```\n",
    "Which color should be translated? red\n",
    "```\n",
    "\n",
    "\n",
    "Example output:\n",
    "\n",
    "```\n",
    "The German word for \"red\" is \"rot\".\n",
    "```"
   ]
  },
  {
   "cell_type": "code",
   "execution_count": null,
   "metadata": {},
   "outputs": [],
   "source": []
  }
 ],
 "metadata": {
  "file_extension": ".py",
  "interpreter": {
   "hash": "ac59ebe37160ed0dfa835113d9b8498d9f09ceb179beaac4002f036b9467c963"
  },
  "kernelspec": {
   "display_name": "Python 3 (ipykernel)",
   "language": "python",
   "name": "python3"
  },
  "language_info": {
   "codemirror_mode": {
    "name": "ipython",
    "version": 3
   },
   "file_extension": ".py",
   "mimetype": "text/x-python",
   "name": "python",
   "nbconvert_exporter": "python",
   "pygments_lexer": "ipython3",
   "version": "3.9.10"
  },
  "mimetype": "text/x-python",
  "name": "python",
  "npconvert_exporter": "python",
  "pygments_lexer": "ipython3",
  "version": 3
 },
 "nbformat": 4,
 "nbformat_minor": 2
}
