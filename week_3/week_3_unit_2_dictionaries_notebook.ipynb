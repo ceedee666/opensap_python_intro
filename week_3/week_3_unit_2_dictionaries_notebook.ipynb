{
 "cells": [
  {
   "cell_type": "markdown",
   "metadata": {},
   "source": [
    "# What are dictionaries?\n",
    "\n",
    "- Accessing Elements by name (comparison to tuple)\n",
    "- Example: Telephone-Book\n",
    "- defintion of dict\n",
    "- key - value\n",
    "- basics: New Element, read Element, change element, access non-existing key, delete element\n",
    "- loop dict\n",
    "- Application\n",
    "    - Example 1: Student (name, id, email, ...)\n",
    "    - Example 2: students (martr: name)\n",
    "\n",
    "\n",
    "# Accessing Elements using an ID\n",
    "The complex data types introduced so far (`list`, `tuple`), are accessing single elements by index. This is sometimes\n",
    "annoying. If you have e.g. a list of students and each student is having a unique student-ID, then using lists is\n",
    "cumbersome. Suppose, you would like to get the name of the student with ID `12345`. You have to go through the list,\n",
    "element by element, and check, if the ID of the current student corresponds to the searched one `12345`. Once you have\n",
    "found the right student, you must know, in which position of the tuple, specifying the student, his name is stored. It\n",
    "would be much easier, to directly access the student using his ID and accessing his name by simply asking for the name.\n",
    "\n",
    "In fact, very often different kind of IDs are used:\n",
    "\n",
    "- student ID\n",
    "- car's number plate\n",
    "- account number\n",
    "- ISBN (International Standard Book Number)\n",
    "- EAN (European Article Number)\n",
    "- ...\n",
    "\n",
    "A `dictionary` is a complex datatype (like `list` and `tuple`), in which the single elements of the dictionary are\n",
    "accessed by a key (i.e. an ID) and not by an index. \n",
    "\n",
    "## A Dictionary uses a key rather than an index\n",
    "In the following program, a list of tuples (as previously introduced) is created which contains the enrolled students\n",
    "with their student-ID, mail and their current subject of specialisation."
   ]
  },
  {
   "cell_type": "code",
   "execution_count": null,
   "metadata": {},
   "outputs": [],
   "source": [
    "list_of_students = [\n",
    "    (\"Potter\", \"Harry\", 477264, \"harry@hogwarts.wiz\", \"Defence Against the Dark Arts\"),\n",
    "    (\"Weasley\", \"Ron\", 490134, \"ron@hogwarts.wiz\", \"Care of Magical Creatures\"),\n",
    "    (\"Granger\", \"Hermione\", 471617, \"hermione@hogwarts.wiz\", \"Alchemy\"),\n",
    "    (\"Creevey\", \"Colin\", 432646, \"colin@hogwarts.wiz\", \"Music\"),\n",
    "    (\"Finnigan\", \"Seamus\", 481989, \"seamus@hogwarts.wiz\", \"Ancient Studies\"),\n",
    "    (\"Abbott\", \"Hannah\", 488962, \"hannah@hogwarts.wiz\", \"Apparition\"),\n",
    "    (\"Parkinson\", \"Pansy\", 482103, \"pansy@hogwarts.wiz\", \"Dark Arts\"),\n",
    "    (\"Malfoy\", \"Draco\", 492010, \"draco@hogwarts.wiz\", \"Defence Against the Dark Arts\"),\n",
    "    (\"Thomas\", \"Dean\", 447924, \"dean.thomas@hogwarts.wiz\", \"Divination\"),\n",
    "]\n",
    "\n",
    "for student in list_of_students:\n",
    "    print(student)"
   ]
  },
  {
   "cell_type": "markdown",
   "metadata": {},
   "source": [
    "As can be seen in the output, each student consists of surname, first name, student-ID, e-mail and the current\n",
    "study subject. Where is the problem?\n",
    "\n",
    "As stated before, each student is an element of the list `list_of_students` and is only accessible via the index. That means, if you want\n",
    "to change or delete an entry, you have to go through the list tuple by tuple until you find the right student. Each\n",
    "individual student can be identified by his/her student-ID. The student-ID is a good **key** to\n",
    "access a student, because each student-ID is unique. \n",
    "To handle the data of the students, it would be much easier, to\n",
    "be able to access the student **not** by index but directly by using the student-ID. And this is exactly\n",
    "what a dictionary is all about!"
   ]
  },
  {
   "cell_type": "markdown",
   "metadata": {},
   "source": [
    "# Using dictionaries\n",
    "A dictionary consists of so-called key-value pairs. Dictionaries are represented by curly brackets `{}`. The brackets\n",
    "contain the individual key-value pairs separated by commas.  \n",
    "Each key-value pair is represented as follows: `key : value`.  \n",
    "A dictionary therefore looks like this: `{key1 : value1, key2 : value2, ..., keyN : valueN}`. See the following\n",
    "example:"
   ]
  },
  {
   "cell_type": "code",
   "execution_count": null,
   "metadata": {},
   "outputs": [],
   "source": [
    "stud = {123: \"Peter\", 234: \"Jane\", 345: \"Jean\", 456: \"Lucy\"}\n",
    "print(stud)"
   ]
  },
  {
   "cell_type": "markdown",
   "metadata": {},
   "source": [
    "## Accessing an element of the dictionary using the key\n",
    "If you want to access individual values, **square** brackets are used just as with lists and tuples. However, instead of\n",
    "the index, the *key* is entered."
   ]
  },
  {
   "cell_type": "code",
   "execution_count": null,
   "metadata": {},
   "outputs": [],
   "source": [
    "print(stud[123])\n",
    "print(stud[234])"
   ]
  },
  {
   "cell_type": "markdown",
   "metadata": {},
   "source": [
    "### There is no index in dictionaries\n",
    "Accessing an item via the \"normal\" index doest not longer work. If a key \n",
    "is accessed, that does not exist, an error message is displayed:"
   ]
  },
  {
   "cell_type": "code",
   "execution_count": null,
   "metadata": {},
   "outputs": [],
   "source": [
    "print(stud[0])"
   ]
  },
  {
   "cell_type": "markdown",
   "metadata": {},
   "source": [
    "## Adding key-value pairs to a dictionary\n",
    "A new key-value pair can be easily added to a dictionary using `dictionary[key] = value`. In the following example, more\n",
    "students are added to our student file."
   ]
  },
  {
   "cell_type": "code",
   "execution_count": null,
   "metadata": {},
   "outputs": [],
   "source": [
    "stud[567] = \"Robert\"\n",
    "stud[678] = \"Ann\"\n",
    "print(stud)"
   ]
  },
  {
   "cell_type": "markdown",
   "metadata": {},
   "source": [
    "## Replacing the value for an existing key\n",
    "If a key already exists when it is assigned to a dictionary, the existing value is overwritten by the new value. This\n",
    "can be used to change or update entries in the dictionary. But you need to be careful not to overwrite the wrong entries\n",
    "in your dictionary!"
   ]
  },
  {
   "cell_type": "code",
   "execution_count": null,
   "metadata": {},
   "outputs": [],
   "source": [
    "stud[567] = \"Bob\"\n",
    "stud[789] = \"Wanda\"\n",
    "print(stud)"
   ]
  },
  {
   "cell_type": "markdown",
   "metadata": {},
   "source": [
    "## The key in a dictionary is immutable\n",
    "Unlike values, which can be changed, keys may not be mutable in a dictionary. Therefore, a key can be an `integer`,\n",
    "`string` or a `tuple`, but not a list, since a list could be modified.  "
   ]
  },
  {
   "cell_type": "code",
   "execution_count": null,
   "metadata": {},
   "outputs": [],
   "source": [
    "dict1 = {(123, \"Kurt\", \"Wagner\"): \"Arts\", (234, \"Erik\", \"Lensherr\"): \"Physics\"}\n",
    "dict1"
   ]
  },
  {
   "cell_type": "code",
   "execution_count": null,
   "metadata": {},
   "outputs": [],
   "source": [
    "dict1 = {[123, \"Kurt\", \"Wagner\"]: \"Arts\", [234, \"Erik\", \"Lensherr\"]: \"Physics\"}\n",
    "dict1"
   ]
  },
  {
   "cell_type": "markdown",
   "metadata": {},
   "source": [
    "## Iterating over a dictionary with a `for` loop\n",
    "Just like a `list` and a `tuple`, you can also iterate over a dictionary with the `for` loop. The syntax for this\n",
    "is as follows:"
   ]
  },
  {
   "cell_type": "code",
   "execution_count": null,
   "metadata": {},
   "outputs": [],
   "source": [
    "dict_of_students = {}\n",
    "for s in list_of_students:\n",
    "    key = s[2]\n",
    "    values = tuple(s[0:2] + s[3:])\n",
    "    dict_of_students[key] = values\n",
    "\n",
    "for stud_ID in dict_of_students:\n",
    "    print(\n",
    "        \"Student\",\n",
    "        dict_of_students[stud_ID],\n",
    "        \"has the following student_ID:\",\n",
    "        stud_ID,\n",
    "    )"
   ]
  },
  {
   "cell_type": "markdown",
   "metadata": {},
   "source": [
    "## Using `del()` to delete a value from a dictionary\n",
    "The `del()` function can be used to delete a value from a dictionary. To do this, simply pass the dictionary with the\n",
    "reference to the corresponding key as an argument to the function."
   ]
  },
  {
   "cell_type": "code",
   "execution_count": null,
   "metadata": {},
   "outputs": [],
   "source": [
    "print(\"Dictionary before deletion\", dict_of_students)\n",
    "stud_ID = int(input(\"Please enter student-ID of the student who should be removed: \"))\n",
    "\n",
    "if stud_ID in dict_of_students:\n",
    "    del dict_of_students[stud_ID]\n",
    "\n",
    "print(\"Dictionary after deletion:\\n\", dict_of_students)"
   ]
  },
  {
   "cell_type": "markdown",
   "metadata": {},
   "source": [
    "# Usage of functions and methods with dictionaries\n",
    "## General functions and methods\n",
    "\n",
    "| Function/Method | Return value                                |\n",
    "| --------------- | ------------------------------------------- |\n",
    "| `len()`         | Number of key-value pairs in the dictionary |\n",
    "| `.keys()`       | All keys of a dictionary                    |\n",
    "| `.values()`     | All values of a dictionary                  |\n",
    "| `.items()`      | All `key:value` pairs as tuples             |\n",
    "\n",
    "\n",
    "> **NOTE:** The data type of the output of the `.keys()` method is `dict_keys`. With the help of the function `list()` this can be\n",
    "converted into a list."
   ]
  },
  {
   "cell_type": "code",
   "execution_count": null,
   "metadata": {},
   "outputs": [],
   "source": [
    "len(dict_of_students)"
   ]
  },
  {
   "cell_type": "code",
   "execution_count": null,
   "metadata": {},
   "outputs": [],
   "source": [
    "print(dict_of_students.keys())"
   ]
  },
  {
   "cell_type": "code",
   "execution_count": null,
   "metadata": {},
   "outputs": [],
   "source": [
    "print(dict_of_students.values())"
   ]
  },
  {
   "cell_type": "code",
   "execution_count": null,
   "metadata": {},
   "outputs": [],
   "source": [
    "print(dict_of_students.items())"
   ]
  },
  {
   "cell_type": "markdown",
   "metadata": {},
   "source": [
    "# Dictionary as an alternative to the tuple\n",
    "One disadvantage of tuples is that you have to know at which position a value is located. If a value is not present\n",
    "(e.g., a student's email is not known), an empty value must be entered instead. This procedure becomes especially\n",
    "impractical if the tuples are very large, for example, if they contain many empty values, or if it is not clear which\n",
    "values are even eligible.\n",
    "\n",
    "Take the example of the students again: There are only four values in the tuple, all values are known, working with a\n",
    "tuple is no problem.  \n",
    "\n",
    "**Reminder:** *You need to run all the cells up to the following cell to have the dictionary with the students\n",
    "available.*"
   ]
  },
  {
   "cell_type": "code",
   "execution_count": null,
   "metadata": {},
   "outputs": [],
   "source": [
    "for student in dict_of_students:\n",
    "    print(student, dict_of_students[student])"
   ]
  },
  {
   "cell_type": "markdown",
   "metadata": {},
   "source": [
    "Imagine that all of the students' module grades should also be entered in these tuples. One could then add more fields\n",
    "to the tuple: grade for Maths, grade for Herbology, grade for Astronomy etc. What problems would arise?\n",
    "\n",
    "- The tuple would become very large, especially if you think about more specialization modules\n",
    "- Each student has written different modules, so for some students there is no grade in the same subject while there\n",
    "  might be a grade in this course for another student --> The distribution of empty values would be very different\n",
    "- If a new module is added, then the tuple would have to be adjusted directly. One tries to avoid such changes to data\n",
    "  structures\n",
    "- Altogether the clarity is lost with many empty values and data structure changes\n",
    "\n",
    "If one uses a dictionary instead of the tuple, the problems are (partly) solved. Above values of the person would be\n",
    "replaced by corresponding key-value pairs, e.g. `\"name\" : \"Potter\", \"first name\" : \"Harry\"` and so on. The exams could\n",
    "be supplemented by further key-value pairs: `\"Maths\" : 2.0, \"Herbology\" : 4.0, \"Astronomy\" : 3.7`.\n",
    "\n",
    "Summarized:\n",
    "- Empty values would not have to be added further\n",
    "- Dictionaries (in contrast to tuples) are mutable, i.e. one could add further subjects or results\n",
    "- Each mark (value) is always associated with the module name (key)"
   ]
  },
  {
   "cell_type": "code",
   "execution_count": null,
   "metadata": {},
   "outputs": [],
   "source": [
    "stud1 = {\n",
    "    \"mat_nr\": 12345,\n",
    "    \"surname\": \"Potter\",\n",
    "    \"name\": \"Harry\",\n",
    "    \"Herbology\": 3.0,\n",
    "    \"Astronomy\": 2.3,\n",
    "}\n",
    "stud2 = {\n",
    "    \"mat_nr\": 45678,\n",
    "    \"surname\": \"Weasly\",\n",
    "    \"name\": \"Ron\",\n",
    "    \"Herbology\": 4.0,\n",
    "    \"Ghoul Studies\": 1.3,\n",
    "    \"Alchemy\": 2.3,\n",
    "}\n",
    "\n",
    "print(stud1)\n",
    "print(stud2)"
   ]
  },
  {
   "cell_type": "markdown",
   "metadata": {},
   "source": [
    "### A dictionary can be changed\n",
    "If more exams are passed or a grade should be changed, the dictionaries can be easily adjusted:"
   ]
  },
  {
   "cell_type": "code",
   "execution_count": null,
   "metadata": {},
   "outputs": [],
   "source": [
    "# correction of the mark\n",
    "stud1[\"Herbology\"] = 2.7\n",
    "# passed another course\n",
    "stud2[\"Apparition\"] = 2.0\n",
    "print(stud1)\n",
    "print(stud2)"
   ]
  },
  {
   "cell_type": "markdown",
   "metadata": {},
   "source": [
    "# Dictionary of Dictionaries\n",
    "So far we have had dictionaries of tuples and lists of dictionaries. Of course you can also combine the two and build\n",
    "dictionaries of dictionaries.  example, you can still use a  student-ID as a key for his or her\n",
    "data, and the data is then stored in a dictionary."
   ]
  },
  {
   "cell_type": "code",
   "execution_count": null,
   "metadata": {},
   "outputs": [],
   "source": [
    "dictionary_of_students = {}\n",
    "stud1 = {\n",
    "    \"surname\": \"Granger\",\n",
    "    \"name\": \"Hermione\",\n",
    "    \"Arts\": 1.0,\n",
    "    \"Divination\": 1.0,\n",
    "    \"Muggle Studies\": 4.0,\n",
    "    \"Maths\": 1.0,\n",
    "}\n",
    "dictionary_of_students[12345] = stud1\n",
    "stud2 = {\n",
    "    \"surname\": \"Lovegood\",\n",
    "    \"name\": \"Luna\",\n",
    "    \"Arts\": 1.3,\n",
    "    \"Alchemy\": 1.7,\n",
    "    \"Transfiguration\": 2.0,\n",
    "}\n",
    "dictionary_of_students[23456] = stud2\n",
    "\n",
    "print(dictionary_of_students)"
   ]
  },
  {
   "cell_type": "markdown",
   "metadata": {},
   "source": [
    "# Typical applications of dictionaries\n",
    "Dictionaries can be used anytime suitable key-value pairs are available. Examples would be:\n",
    "- Student-IT and student\n",
    "- Exam number and module name\n",
    "- License plate number and car\n",
    "- Timestamp and measured value\n",
    "- Term and dictionary entry\n",
    "\n",
    "The list can easily be continued. For any key there are the following typical restrictions:\n",
    "- A key must be unique. If you have two cars with the same license plate, you just cannot identify the cars uniquely by\n",
    "  the plate. If several people can be reached by the same phone number, the phone number might be a bad key. Names are\n",
    "  often not unique and therefore critical as a key. Sometimes numbers are added, e.g. *Peter1, Peter2, Peter3, ...*, to\n",
    "  make the key unique.\n",
    "- A key should not be changed. As a student, the student-ID always remains the same. A car gets a license\n",
    "  plate e.g. when it is moved or sold. This creates difficulties in identifying cars uniquely.\n",
    "- A key should always be present. You cannot store students in a program until you have a student-ID. If there\n",
    "  are many candidates for which no key is available, you should choose a different key or consider whether a dictionary\n",
    "  is the appropriate data structure."
   ]
  },
  {
   "cell_type": "markdown",
   "metadata": {},
   "source": [
    "## Translation dictionary\n",
    "A typical application for a dictionary is a (simple) lexicon. Each English term (key) is assigned the German term as a\n",
    "value. The English translation can then be accessed quickly via the dictionary and the English search term."
   ]
  },
  {
   "cell_type": "code",
   "execution_count": null,
   "metadata": {},
   "outputs": [],
   "source": [
    "en_de = {\"red\": \"rot\", \"blue\": \"blau\", \"green\": \"grün\", \"white\": \"weiß\"}\n",
    "colour = input(\"Which colour should be translated?\")\n",
    "if colour in en_de:\n",
    "    print(colour, \"means\", en_de[colour], \"in German!\")\n",
    "else:\n",
    "    print(\"This translation is not available.\")"
   ]
  },
  {
   "cell_type": "markdown",
   "metadata": {},
   "source": [
    "# Exercise 1 - Phone book\n",
    "In a phone book there is always an assignment of phone number (value) to a name (key). In a phone book, the uniqueness\n",
    "of a key is not guaranteed, there are usually several \"Peter Smith\", each with a different phone number. In our task we\n",
    "assume a unique name. Create a phone book as a dictionary with the help of a loop that generates a key-value pair\n",
    "(name-phone number) in each pass and outputs it at the end."
   ]
  },
  {
   "cell_type": "code",
   "execution_count": null,
   "metadata": {},
   "outputs": [],
   "source": []
  },
  {
   "cell_type": "markdown",
   "metadata": {},
   "source": [
    "# Exercise 2 - Pirate language\n",
    "Given below is the translation table of English terms into pirate language. Write a program that expects a sentence in English language as input from the user. The output should be the translation of the sentence into the pirate language.\n",
    "\n",
    "| English    | pirate language |\n",
    "| ---------- | --------------- |\n",
    "| sir        | matey           |\n",
    "| hotel      | fleabag inn     |\n",
    "| student    | swabbie         |\n",
    "| boy        | matey           |\n",
    "| madam      | proud beauty    |\n",
    "| professor  | foul blaggart   |\n",
    "| restaurant | galley          |\n",
    "| your       | yer             |\n",
    "| excuse     | arr             |\n",
    "| students   | swabbies        |\n",
    "| are        | be              |\n",
    "| lawyer     | foul blaggart   |\n",
    "| the        | th'             |\n",
    "| restroom   | head            |\n",
    "| my         | me              |\n",
    "| hello      | avast           |\n",
    "| is         | be              |\n",
    "| man        | matey           |"
   ]
  },
  {
   "cell_type": "code",
   "execution_count": null,
   "metadata": {},
   "outputs": [],
   "source": []
  }
 ],
 "metadata": {
  "file_extension": ".py",
  "interpreter": {
   "hash": "ac59ebe37160ed0dfa835113d9b8498d9f09ceb179beaac4002f036b9467c963"
  },
  "kernelspec": {
   "display_name": "Python 3",
   "language": "python",
   "name": "python3"
  },
  "language_info": {
   "codemirror_mode": {
    "name": "ipython",
    "version": 3
   },
   "file_extension": ".py",
   "mimetype": "text/x-python",
   "name": "python",
   "nbconvert_exporter": "python",
   "pygments_lexer": "ipython3",
   "version": "3.7.7"
  },
  "mimetype": "text/x-python",
  "name": "python",
  "npconvert_exporter": "python",
  "pygments_lexer": "ipython3",
  "version": 3
 },
 "nbformat": 4,
 "nbformat_minor": 2
}
