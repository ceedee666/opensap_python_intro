{
 "cells": [
  {
   "cell_type": "markdown",
   "metadata": {},
   "source": [
    "# What are [tuples](https://docs.python.org/3/library/stdtypes.html?highlight=tuple#tuples)?\n",
    "## Definition\n",
    "Tuples are a complex data type just like lists. While lists are mutable, tuples are not. A tuple is a complex data type\n",
    "consisting of multiple elements. A tuple is represented by **round** brackets: `()`. The individual elements of the\n",
    "tuple are separated by commas. Just like lists and simple data types, you can assign a tuple to a variable. Tuples can\n",
    "also contain tuples or lists as elements."
   ]
  },
  {
   "cell_type": "code",
   "execution_count": null,
   "metadata": {},
   "outputs": [],
   "source": [
    "address = (52066, \"Aachen\", \"Eupener Str. 70\", \"0241-6009-12345\")\n",
    "print(address)\n",
    "student = (\"Peter\", \"Meier\", 123456, \"SAP basics\", \"pm12345s@university.edu\", address)\n",
    "print(student)\n",
    "tup1 = (12312, \"absbsb\", [1, 2, 3, 4], (\"a\", \"b\", \"c\"), \"end\")\n",
    "print(tup1)"
   ]
  },
  {
   "cell_type": "markdown",
   "metadata": {},
   "source": [
    "## No modification of tuples\n",
    "The big difference between a tuple and a list is: lists can be modified, tuples cannot, they are immutable. That is, you cannot add an\n",
    "element to an existing tuple, you cannot delete an element of a tuple or change the value of an element. This does not\n",
    "mean that you cannot assign another tuple to a variable (see the following example), but there are **no** methods\n",
    "for tuples like `tuple.append()` or `tuple.remove()` which would modify them."
   ]
  },
  {
   "cell_type": "code",
   "execution_count": null,
   "metadata": {},
   "outputs": [],
   "source": [
    "tup = (1, 2, \"a\")\n",
    "print(tup[2])\n",
    "tup[2] = \"b\""
   ]
  },
  {
   "cell_type": "code",
   "execution_count": null,
   "metadata": {},
   "outputs": [],
   "source": [
    "tup = (1, 2, 3)\n",
    "print(tup)\n",
    "tup = (\"a\", \"b\", \"c\", \"d\")\n",
    "print(tup)"
   ]
  },
  {
   "cell_type": "markdown",
   "metadata": {},
   "source": [
    "## What are tuples used for?\n",
    "Often one has the situation that a simple data type is not sufficient to describe a complex situation:\n",
    "- `address = (zip code, city, street, house number)`\n",
    "- `position = (x_coordinate, y_coordinate)`\n",
    "- `date = (year, month, date)`\n",
    "\n",
    "It makes no sense to add more elements to this data type or to delete a part. If a time would be added to the address,\n",
    "then it is no longer an address. In other programming languages there is the construct `struct` or `record` for this. Of\n",
    "course, you can move and assign a new value to `address`. But according to Python it would be a new address and not a changed address."
   ]
  },
  {
   "cell_type": "markdown",
   "metadata": {},
   "source": [
    "# Notations\n",
    "When using tuples in Python, some abbreviated notations can be used. They may look irritating the first time, but can\n",
    "come in handy (similar to `a += 1`).\n",
    "\n",
    "`student = \"Peter\", \"Parker\", 12345`\n",
    "\n",
    "is the same as\n",
    "\n",
    "`student = (\"Peter\", \"Parker\", 12345)`\n",
    "\n",
    "In this example, there are **not** three values assigned to the variable `student`. Instead, **one** tuple is created\n",
    "from the three values and this is assigned to the variable `student`.  \n",
    "This also works the other way round - the different values of a tuple can be assigned directly to several variables:\n",
    "\n",
    "`name, first_name, matriculation_number = student`\n",
    "\n",
    "seems strange, especially since it has been emphasized that there may only be **one** variable on the left side of an\n",
    "assignment so far. In fact, this is also a shortened notation in which the individual values of the tuple are unpacked\n",
    "and successively assigned to the variables on the left side. If the number of variables **does not** match the number of\n",
    "elements of the tuple, there will be an error message."
   ]
  },
  {
   "cell_type": "code",
   "execution_count": null,
   "metadata": {},
   "outputs": [],
   "source": [
    "student = \"Peter\", \"Parker\", 12345\n",
    "print(student)\n",
    "first_name, name, matriculation_number = student\n",
    "print(first_name)"
   ]
  },
  {
   "cell_type": "markdown",
   "metadata": {},
   "source": [
    "# Basic operations on tuples\n",
    "## Interactively create a tuple\n",
    "With the help of the function `input()` values can be read in successively and assembled to a tuple."
   ]
  },
  {
   "cell_type": "code",
   "execution_count": null,
   "metadata": {},
   "outputs": [],
   "source": [
    "name = input(\"Please enter name: \")\n",
    "first_name = input(\"Please enter first name: \")\n",
    "phone = input(\"Please enter phone number: \")\n",
    "age = input(\"Please enter age (integer): \")\n",
    "employee = (name, first_name, phone, age)\n",
    "\n",
    "print(employee)"
   ]
  },
  {
   "cell_type": "markdown",
   "metadata": {},
   "source": [
    "## Using an index with tuples\n",
    "Just like lists, tuples have an index. It is represented with **square** brackets just like lists. And as usual in\n",
    "programming, the index starts at 0. The same negative indices can be used as for lists.  \n",
    "**Important:** Even if the individual elements of a tuple are addressed with square brackets, it is still a tuple and\n",
    "not a list."
   ]
  },
  {
   "cell_type": "code",
   "execution_count": null,
   "metadata": {},
   "outputs": [],
   "source": [
    "address = (52066, \"Aachen\", \"Eupener Str. 70\", \"0241-6009-12345\")\n",
    "student = (\n",
    "    \"Peter\",\n",
    "    \"Parker\",\n",
    "    123456,\n",
    "    \"Python for Beginners\",\n",
    "    \"pp12345s@university.edu\",\n",
    "    address,\n",
    ")\n",
    "print(address[0])\n",
    "print(student[1])\n",
    "print(student[5])\n",
    "print(student[5][2])\n",
    "print(student[-1])\n",
    "print(address[-3])\n",
    "print(address[2])"
   ]
  },
  {
   "cell_type": "markdown",
   "metadata": {},
   "source": [
    "### Once again: Tuples are immutable\n",
    "If you want to change a single element of a tuple via using the index, there will be an error message."
   ]
  },
  {
   "cell_type": "code",
   "execution_count": null,
   "metadata": {},
   "outputs": [],
   "source": [
    "address = (52066, \"Aachen\", \"Eupener Str. 70\", \"0241-6009-12345\")\n",
    "address[2] = \"Goethestraße 1\""
   ]
  },
  {
   "cell_type": "markdown",
   "metadata": {},
   "source": [
    "## Slicing operator and functions & methods\n",
    "The slicing operator already known from lists also works with tuples to create a sub-tuple. There are also some more\n",
    "methods that can be applied to tuples. Just as with lists, indices can be used to access not only a single element of\n",
    "the tuple but also an entire range.\n",
    "\n",
    "\n",
    "### Functions and methods for tuples\n",
    "There are a few more functions and methods that also work for tuples. Some examples are shown in the table below.\n",
    "\n",
    "| Function / Method | Return value                                                                             |\n",
    "| ----------------- | ---------------------------------------------------------------------------------------- |\n",
    "| `len(tuple)`      | Number of elements in a tuple                                                            |\n",
    "| `tuple.count(x)`  | Number of elements in the tuple with value *x*                                           |\n",
    "| `tuple.index(x)`  | Index of the first element with value *x*. If *x* does not exist, an error will be shown |"
   ]
  },
  {
   "cell_type": "code",
   "execution_count": null,
   "metadata": {},
   "outputs": [],
   "source": [
    "numbers = (1, 2, \"trois\", \"four\", \"V\", 6)\n",
    "print(numbers[2:4])\n",
    "print(len(numbers))\n",
    "print(numbers.count(1))\n",
    "print(numbers.index(\"V\"))"
   ]
  },
  {
   "cell_type": "markdown",
   "metadata": {},
   "source": [
    "## Conversion of tuples\n",
    "There are functions, like `int()`, to convert the data type of e.g. a string to an integer. A similar conversion works\n",
    "between lists and tuples. `list()` converts the input into a list, `tuple()` has a tuple as return value."
   ]
  },
  {
   "cell_type": "code",
   "execution_count": null,
   "metadata": {},
   "outputs": [],
   "source": [
    "l = [1, 2, \"a\", 2.3]\n",
    "t = tuple(l)\n",
    "print(t)\n",
    "l = list(t)\n",
    "print(l)"
   ]
  },
  {
   "cell_type": "markdown",
   "metadata": {},
   "source": [
    "# More operations on tuples\n",
    "## Lists of tuples - a frequently used pattern\n",
    "Suppose that not only one student is to be processed, but many students. Each student is represented by a tuple. How do\n",
    "you deal with many students now? You combine the properties of lists and tuples! Each student is a tuple, the individual\n",
    "students (i.e. the individual tuples) are added to a complete list one after the other."
   ]
  },
  {
   "cell_type": "code",
   "execution_count": null,
   "metadata": {},
   "outputs": [],
   "source": [
    "student1 = (\"Peter\", \"Parker\", 12345, \"Python\", \"pp12345s@university.edu\")\n",
    "student2 = (\"Jean\", \"Grey\", 98765, \"Physics\", \"jg98765@university-ny\")\n",
    "list_of_students = [student1, student2]\n",
    "print(list_of_students)"
   ]
  },
  {
   "cell_type": "markdown",
   "metadata": {},
   "source": [
    "The combination of lists and tuples is often used in computer science. The two constructs are used as follows:\n",
    "- Tuples: a tuple is used to describe similar objects. The objects always consist of the same attributes, but they can\n",
    "  have different values. Example: Students (in the above example) always have a name, a first name, a matriculation\n",
    "  number, a study subject and an e-mail. Of course, the names and matriculation numbers are different. But the structure\n",
    "  of a student (in this program) is always identical.\n",
    "- Lists: Lists are used to group together elements that are always the same. It is deliberately avoided to create a list\n",
    "  of different data types. Instead, a list contains e.g. only students, which are always structured in the same way.\n",
    "\n",
    "This pattern is used for example when editing (relational) databases. Each record has the same structure, a relation\n",
    "consists of identically structured records. It is unkown, how many records there are in a relation. Every single record\n",
    "can be converted into a tuple with the same structure over and over again. The single tuples can be assembled in a list.\n",
    "Since the list is modifiable, individual tuples can be deleted, the order changed, or additional tuples added."
   ]
  },
  {
   "cell_type": "markdown",
   "metadata": {},
   "source": [
    "### Working with lists of tuples\n",
    "Since the above structure - lists of (similar) tuples - is frequently used, there are corresponding programming patterns\n",
    "that appear again and again.\n",
    "\n",
    "\n",
    "#### Creating a list of tuples using a loop\n",
    "First, an empty list is created, in which the tuples are then appended one by one (`list.append()`). Ideally, the\n",
    "list has a \"speaking\" name, so that you know what it is about, e.g. `list_of_students = []`. With the help of a loop you\n",
    "iterate a certain (or previously undetermined) number of repetitions. Within this repetition - that is, within the loop\n",
    "body - a tuple is created and eventually appended to the list."
   ]
  },
  {
   "cell_type": "code",
   "execution_count": null,
   "metadata": {},
   "outputs": [],
   "source": [
    "# Create empty list\n",
    "list_of_students = []\n",
    "\n",
    "# loop in which tuples are created\n",
    "for i in range(5):\n",
    "    name = input(\"Please enter name: \")\n",
    "    first_name = input(\"Please enter firstname: \")\n",
    "    subject = input(\"Please enter subject: \")\n",
    "    matriculation_number = int(input(\"Please enter matriculation number (integer): \"))\n",
    "    # Create a tuple from the single elements\n",
    "    student = (name, first_name, subject, matriculation_number)\n",
    "    # Append tuple to the list\n",
    "list_of_students.append(student)\n",
    "\n",
    "print(list_of_students)"
   ]
  },
  {
   "cell_type": "markdown",
   "metadata": {},
   "source": [
    "#### Edit list of tuples\n",
    "If a list of tuples already exists, then you can iterate over this list with a loop. Since you as a developer know how\n",
    "the individual elements are structured, you can exploit this knowledge. In the following example, this fact is exploited\n",
    "in the loop body. If each element of the list had a different type, the program would crash."
   ]
  },
  {
   "cell_type": "code",
   "execution_count": null,
   "metadata": {},
   "outputs": [],
   "source": [
    "# The above list of students is accessed\n",
    "for student in list_of_students:\n",
    "    name, first_name, subject, matriculationÄ_number = student\n",
    "    print(\n",
    "        \"The student\",\n",
    "        first_name,\n",
    "        name,\n",
    "        \"with the number\",\n",
    "        matriculation_number,\n",
    "        \"studies\",\n",
    "        subject,\n",
    "        \".\",\n",
    "    )"
   ]
  },
  {
   "cell_type": "markdown",
   "metadata": {},
   "source": [
    "## Modification of tuples\n",
    "Although tuples are immutable, you can change tuples using the above functions. More precisely: a tuple is changed into\n",
    "a list, the list is changed (for example, a value is added), the list is changed back into a tuple and assigned to the\n",
    "old variable. Strictly speaking, of course, the tuple was not changed. The variable has been assigned a new tuple."
   ]
  },
  {
   "cell_type": "code",
   "execution_count": null,
   "metadata": {},
   "outputs": [],
   "source": [
    "student = (\"Peter\", \"Parker\", 12345, \"Python\")\n",
    "# student switches from Python to aerospace engineering\n",
    "student = list(student)\n",
    "student[3] = \"Nuclear Biology\"\n",
    "student = tuple(student)\n",
    "print(student)"
   ]
  },
  {
   "cell_type": "markdown",
   "metadata": {},
   "source": [
    "# Task: Modify tuples\n",
    "Of course you can't. Tuples are immutable. But as seen above, you can \"trick\" at this point. Create a tuple for a\n",
    "lecturer \"Holmes\". The lecturer gets married and changes the name from \"Holmes\" to \"Watson\". Adjust the tuple\n",
    "accordingly and output it via `print()`."
   ]
  },
  {
   "cell_type": "code",
   "execution_count": null,
   "metadata": {},
   "outputs": [],
   "source": []
  }
 ],
 "metadata": {
  "interpreter": {
   "hash": "ac59ebe37160ed0dfa835113d9b8498d9f09ceb179beaac4002f036b9467c963"
  },
  "kernelspec": {
   "display_name": "Python 3",
   "language": "python",
   "name": "python3"
  },
  "language_info": {
   "codemirror_mode": {
    "name": "ipython",
    "version": 3
   },
   "file_extension": ".py",
   "mimetype": "text/x-python",
   "name": "python",
   "nbconvert_exporter": "python",
   "pygments_lexer": "ipython3",
   "version": "3.7.7"
  }
 },
 "nbformat": 4,
 "nbformat_minor": 2
}
