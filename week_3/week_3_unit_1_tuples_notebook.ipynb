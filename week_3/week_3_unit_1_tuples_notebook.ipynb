{
 "cells": [
  {
   "cell_type": "markdown",
   "metadata": {},
   "source": [
    "# What are [tuples](https://docs.python.org/3/library/stdtypes.html?highlight=tuple#tuples)?\n",
    "## Definition\n",
    "A `tuple` is a complex data type just like lists. While lists are mutable, tuples are not. A tuple is a complex data type\n",
    "consisting of multiple elements. A tuple is represented by parentheses: `()`. The individual elements of the\n",
    "tuple are separated by commas. Just like lists and simple data types, you can assign a tuple to a variable. Tuples can\n",
    "also contain tuples or lists as elements."
   ]
  },
  {
   "cell_type": "code",
   "execution_count": null,
   "metadata": {},
   "outputs": [],
   "source": [
    "address = (52066, \"Aachen\", \"Eupener Str. 70\", \"0241-6009-12345\")\n",
    "print(address)\n",
    "student = (\"Peter\", \"Meier\", 123456, \"SAP basics\", \"pm12345s@university.edu\", address)\n",
    "print(student)\n",
    "tup1 = (12312, \"absbsb\", [1, 2, 3, 4], (\"a\", \"b\", \"c\"), \"end\")\n",
    "print(tup1)"
   ]
  },
  {
   "cell_type": "markdown",
   "metadata": {},
   "source": [
    "## Tuples cannot be modified\n",
    "The big difference between a tuple and a list is: lists can be modified, tuples cannot, they are immutable. That is, you cannot add an\n",
    "element to an existing tuple, you cannot delete an element of a tuple or change the value of an element. This does not\n",
    "mean that you cannot assign another tuple to a variable (see the following example), but there are **no** methods\n",
    "for tuples like `tuple.append()` or `tuple.remove()` which would modify them."
   ]
  },
  {
   "cell_type": "code",
   "execution_count": null,
   "metadata": {},
   "outputs": [],
   "source": [
    "tup = (1, 2, \"a\")\n",
    "print(tup[2])\n",
    "tup[2] = \"b\""
   ]
  },
  {
   "cell_type": "code",
   "execution_count": null,
   "metadata": {},
   "outputs": [],
   "source": [
    "tup = (1, 2, 3)\n",
    "print(tup)\n",
    "tup = (\"a\", \"b\", \"c\", \"d\")\n",
    "print(tup)"
   ]
  },
  {
   "cell_type": "markdown",
   "metadata": {},
   "source": [
    "## What are tuples used for?\n",
    "\n",
    "Tuples are quite similar to lists. In this unit we are not going into detail regarding data modelling. \n",
    "This will be the topic of unit 3. Nevertheless, the following rule of thumb can be used to determine when to use list and when to use tuples:\n",
    "\n",
    "- List are used for many similar items\n",
    "- Tuples are used for items with many attributes. \n",
    "\n",
    "Consider the following data as suitable example of tuples:\n",
    "\n",
    "- `address = (zip code, city, street, house number)`\n",
    "- `position = (x_coordinate, y_coordinate)`\n",
    "- `date = (year, month, date)`"
   ]
  },
  {
   "cell_type": "markdown",
   "metadata": {},
   "source": [
    "# Basic operations on tuples\n",
    "## Interactively create a tuple\n",
    "With the help of the function `input()` values can be read in successively and assembled to a tuple."
   ]
  },
  {
   "cell_type": "code",
   "execution_count": null,
   "metadata": {},
   "outputs": [],
   "source": [
    "name = input(\"Please enter name: \")\n",
    "first_name = input(\"Please enter first name: \")\n",
    "phone = input(\"Please enter phone number: \")\n",
    "age = input(\"Please enter age (integer): \")\n",
    "\n",
    "employee = (name, first_name, phone, age)\n",
    "\n",
    "print(employee)"
   ]
  },
  {
   "cell_type": "markdown",
   "metadata": {},
   "source": [
    "## Using an index with tuples\n",
    "Just like lists, tuples have an index. It is represented with **square** brackets just like lists. And as usual in\n",
    "programming, the index starts at 0. The same negative indices can be used as for lists.  \n",
    "**Important:** Even if the individual elements of a tuple are addressed with square brackets, it is still a tuple and\n",
    "not a list."
   ]
  },
  {
   "cell_type": "code",
   "execution_count": null,
   "metadata": {},
   "outputs": [],
   "source": [
    "address = (52066, \"Aachen\", \"Eupener Str. 70\", \"0241-6009-12345\")\n",
    "\n",
    "student = (\n",
    "    \"Peter\",\n",
    "    \"Parker\",\n",
    "    123456,\n",
    "    \"Python for Beginners\",\n",
    "    \"pp12345s@university.edu\",\n",
    "    address,\n",
    ")\n",
    "\n",
    "print(address[0])\n",
    "print(student[1])\n",
    "print(student[5])\n",
    "print(student[5][2])\n",
    "print(student[-1])\n",
    "print(address[-3])\n",
    "print(address[2])"
   ]
  },
  {
   "cell_type": "markdown",
   "metadata": {},
   "source": [
    "## Once again: Tuples are immutable\n",
    "If you want to change a single element of a tuple via using the index, there will be an error message."
   ]
  },
  {
   "cell_type": "code",
   "execution_count": null,
   "metadata": {},
   "outputs": [],
   "source": [
    "address = (52066, \"Aachen\", \"Eupener Str. 70\", \"0241-6009-12345\")\n",
    "address[2] = \"Goethestraße 1\""
   ]
  },
  {
   "cell_type": "markdown",
   "metadata": {},
   "source": [
    "## Slicing operator and functions & methods\n",
    "The slicing operator already known from lists also works with tuples to create a sub-tuple. \n",
    "\n",
    "Just as with lists, indices can be used to access not only a single element of\n",
    "the tuple but also an entire range. There are functions and methods that also work for tuples. Some examples are shown in the table below.\n",
    "\n",
    "| Function / Method | Return value                                                                             |\n",
    "| ----------------- | ---------------------------------------------------------------------------------------- |\n",
    "| `len(tuple)`      | Number of elements in a tuple                                                            |\n",
    "| `tuple.count(x)`  | Number of elements in the tuple with value *x*                                           |\n",
    "| `tuple.index(x)`  | Index of the first element with value *x*. If *x* does not exist, an error will be shown |"
   ]
  },
  {
   "cell_type": "code",
   "execution_count": null,
   "metadata": {},
   "outputs": [],
   "source": [
    "numbers = (1, 2, \"trois\", \"four\", \"V\", 6)\n",
    "print(numbers[2:4])\n",
    "print(len(numbers))\n",
    "print(numbers.count(1))\n",
    "print(numbers.index(\"V\"))"
   ]
  },
  {
   "cell_type": "markdown",
   "metadata": {},
   "source": [
    "## Looping through tuples\n",
    "\n",
    "Similar to lists a `for` loop can be used to access individual elements of a tuple."
   ]
  },
  {
   "cell_type": "code",
   "execution_count": null,
   "metadata": {},
   "outputs": [],
   "source": [
    "address = (52066, \"Aachen\", \"Eupener Str. 70\", \"0241-6009-12345\")\n",
    "\n",
    "for address_part in address:\n",
    "    print(address_part)"
   ]
  },
  {
   "cell_type": "markdown",
   "metadata": {},
   "source": [
    "## Conversion of tuples\n",
    "There are functions, like `int()`, to convert the data type of e.g. a string to an integer. A similar conversion works\n",
    "between lists and tuples. `list()` converts the argument into a list, `tuple()` converts it into a tuple. "
   ]
  },
  {
   "cell_type": "code",
   "execution_count": null,
   "metadata": {},
   "outputs": [],
   "source": [
    "l = [1, 2, \"a\", 2.3]\n",
    "t = tuple(l)\n",
    "print(t)\n",
    "l = list(t)\n",
    "print(l)"
   ]
  }
 ],
 "metadata": {
  "interpreter": {
   "hash": "ac59ebe37160ed0dfa835113d9b8498d9f09ceb179beaac4002f036b9467c963"
  },
  "kernelspec": {
   "display_name": "Python 3 (ipykernel)",
   "language": "python",
   "name": "python3"
  },
  "language_info": {
   "codemirror_mode": {
    "name": "ipython",
    "version": 3
   },
   "file_extension": ".py",
   "mimetype": "text/x-python",
   "name": "python",
   "nbconvert_exporter": "python",
   "pygments_lexer": "ipython3",
   "version": "3.9.10"
  }
 },
 "nbformat": 4,
 "nbformat_minor": 2
}
