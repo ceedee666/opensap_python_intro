{
 "cells": [
  {
   "cell_type": "markdown",
   "metadata": {},
   "source": [
    "# When to use lists, tuples and dictionaries\n",
    "So far, we have introduced three complex data types, i.e. `list`, `tuple`, \n",
    "and `dictionary`. In principal, they are interchangeable, that means, you \n",
    "could e.g. simulate every list with a dictionary. Just use the index as a key. \n",
    "Some operations will become difficult. E.g. if you delete an element in a\n",
    "list, all subsequent indices will be decreased by one. You could simulate \n",
    "that behaviour with a dictionary, however it will require a complex \n",
    "operation. The same is with lists and tuples. \n",
    "You could simulate each tuple with a list. Actually, you will gain some more \n",
    "freedom as the immutability, which is part of a `tuple` will disappear. \n",
    "So why not use a list right from the beginning, if it offers more \n",
    "possibilities? What is the advantage of having different \n",
    "complex data types? Or when should which data type be used?\n",
    "\n",
    "The following proposals are based on personal experiences and personal \n",
    "programming styles. They should not be taken as *the truth* but simply as a \n",
    "recommendation. These recommendation might not be shared by other programmers. \n",
    "But that is okay ...\n",
    "\n",
    "## Lists should be used for many objects\n",
    "It is possible, to have completely different items, i.e. items with different \n",
    "data type in one list. For example `[23, \"abc\", True, (\"a\", \"b\", \"c\")]` is a well \n",
    "defined list in Python. But handling these kind of lists is very difficult. If\n",
    "however all elements have the same data type, then as a programmer you can plan with this data type and use functions and methods, which are appropriate \n",
    "for the chosen data. Take the telephone list from the last notebook as an \n",
    "example. If you go through the list and process each element, then you know it \n",
    "is a telephone number (i.e. an integer). So limiting yourself in NOT having elements\n",
    "of different data types simplifies your life as a programmer.\n",
    "\n",
    "In the following example, the list `l` just contains integer. The following \n",
    "'for' loop makes use of this knowledge and divides (integer division `\\\\`) all\n",
    "values by 2. If the list would contain other data types like strings or lists,\n",
    "this operation would lead to an error.\n"
   ]
  },
  {
   "cell_type": "code",
   "execution_count": null,
   "metadata": {},
   "outputs": [],
   "source": [
    "l = [2, 4, 8, 16, 32, 64]\n",
    "for i in l:\n",
    "    print(i // 2)"
   ]
  },
  {
   "cell_type": "markdown",
   "metadata": {},
   "source": [
    "## Tuples should be used for complex objects\n",
    "As argued in the first notebook of this week, tuples should be used for  objects, which require several attributes to be described. Take the \n",
    "students as an example: Each student is described by name, firstname,\n",
    "e-mail, student-ID, course of study, address, etc. For each student, these \n",
    "attributes are the same. So the combination of lists and tuples, i.e. lists \n",
    "of tuples is a good means to handle lots of complex objects of the same type.\n",
    "\n",
    "This combination, list of tuples, works especially fine if you get data from \n",
    "csv-files (csv = comma separated values), a format which is quite often used\n",
    "to store data."
   ]
  },
  {
   "cell_type": "code",
   "execution_count": null,
   "metadata": {},
   "outputs": [],
   "source": [
    "s1 = (\"Dylan\", \"Bob\", 334455, \"Philosophy\")\n",
    "s2 = (\"Cobain\", \"Kurt\", 987654, \"Mechanical Engineering\")\n",
    "s3 = (\"Winehouse\", \"Amy\", 123321, \"Medicine\")\n",
    "l_of_students = [s1, s2, s3]\n",
    "\n",
    "for s in l_of_students:\n",
    "    print(s[3])"
   ]
  },
  {
   "cell_type": "markdown",
   "metadata": {},
   "source": [
    "## If there is an ID, take a dictionary instead of a list\n",
    "If the elements to be handled have a unique ID, then dictionaries could be \n",
    "used instead of lists. The elements can then directly be accessed by their \n",
    "ID. It is not necessary to search through the list to find the ID you are\n",
    "looking for. Again take the students: Each student has a unique student-ID. \n",
    "Often, handling of students is done by using the student-ID rather then the \n",
    "name of the student. This helps for example to avoid mixing up students \n",
    "having the same name. In contrast to names, student-IDs are (by definition) \n",
    "unique. So in case of \n",
    "the students better take a dictionary of tuples.\n",
    "\n",
    "Dictionary of tuples works fine, if you get your data from \n",
    "relational databases. These databases are organized in the same way. Each data \n",
    "record has the same structure. Each record has a unique ID. This ID can be \n",
    "used as the key in a dictionary, the rest of the record is stored into a \n",
    "tuple which becomes the value of the key-value pair."
   ]
  },
  {
   "cell_type": "code",
   "execution_count": null,
   "metadata": {},
   "outputs": [],
   "source": [
    "s1 = (\"Dylan\", \"Bob\", \"Philosophy\")\n",
    "s2 = (\"Cobain\", \"Kurt\", \"Mechanical Engineering\")\n",
    "s3 = (\"Winehouse\", \"Amy\", \"Medicine\")\n",
    "d_of_students[334455] = s1\n",
    "d_of_students[987654] = s2\n",
    "d_of_students[123321] = s3\n",
    "for stud_ID in d_of_students:\n",
    "    print(stud_ID, d_of_students[stud_ID][2])"
   ]
  },
  {
   "cell_type": "markdown",
   "metadata": {},
   "source": [
    "## If the complex objects differ in the attributes, take a dictionary instead of the tuple\n",
    "In contrast to tuples, dictionaries offer more flexibility to describe objects. \n",
    "Again take the students as an example. If you have students from \n",
    "different departments, then they will take different classes and get marks in\n",
    "different modules. In this case, dictionaries could be used intstead of \n",
    "tuples. If there is no ID, then a list of dictionaries could be taken, if\n",
    "a student-ID is available, then a dictionary of dictionaries could be an\n",
    "option. \n",
    "\n",
    "But even more complex combinations could be a choice. Take again the students\n",
    "as an example. There are lots of students, which all have the same attributes\n",
    "like name, first-name, e-mail, ... Here a tuple would be fine. However, these\n",
    "students are studying different courses. The taken modules and the achieved \n",
    "results are different from student to student. Here a dictionary would be\n",
    "preferable. However, tuple and dictionary could be combined as follows: \n",
    "The student data is stored in a tuple, however one element of the tuple,\n",
    "containing the marks of this student, is a dictionary. So you end up with a\n",
    "list of tuples, where one element of the tuple is a dictionary. Puuh.\n",
    "\n",
    "You see, there are lot of different options. But choosing a well suited data \n",
    "structure often simplifies your life as programmer. So, better think twice when\n",
    "deciding, how to structure your data."
   ]
  },
  {
   "cell_type": "code",
   "execution_count": null,
   "metadata": {},
   "outputs": [],
   "source": [
    "s1 = (\"Dylan\", \"Bob\", 334455, \"Philosophy\", {\"Logic\": \"A\", \"Ethics\": \"B\"})\n",
    "s2 = (\"Cobain\", \"Kurt\", 987654, \"Mechanical Engineering\", {\"Math\": \"B\"})\n",
    "s3 = (\"Winehouse\", \"Amy\", 123321, \"Medicine\", {\"Math\": \"B\", \"Chemistry\": \"C\"})\n",
    "\n",
    "l_of_students = [s1, s2, s3]\n",
    "for s in l_of_students:\n",
    "    print(s)"
   ]
  },
  {
   "cell_type": "markdown",
   "metadata": {},
   "source": [
    "# Exercise 1: List of Tuples\n",
    "In the following cell, a list of students is given. All students are defined using a tuple. Implement some `input()` statements asking for the data of a new student. All the data is combined into a tuple, the tuple is then appended to the `list_of_students`. Finally the whole list is printed out using a `for` loop, which iterates over the list.\n",
    "\n",
    "Example Input:\n",
    "```\n",
    "    Name: Weasley\n",
    "    Firstname: Ginney\n",
    "    ...\n",
    "```\n",
    "\n",
    "Example Output:\n",
    "```\n",
    "    (\"Potter\", \"Harry\", 477264, \"harry@hogwarts.wiz\", \"Defence Against the Dark Arts\")\n",
    "    (\"Weasley\", \"Ron\", 490134, \"ron@hogwarts.wiz\", \"Care of Magical Creatures\")\n",
    "    ...\n",
    "```\n",
    "    "
   ]
  },
  {
   "cell_type": "code",
   "execution_count": null,
   "metadata": {},
   "outputs": [],
   "source": [
    "list_of_students = [\n",
    "    (\"Potter\", \"Harry\", 477264, \"harry@hogwarts.wiz\", \"Defence Against the Dark Arts\"),\n",
    "    (\"Weasley\", \"Ron\", 490134, \"ron@hogwarts.wiz\", \"Care of Magical Creatures\"),\n",
    "    (\"Granger\", \"Hermione\", 471617, \"hermione@hogwarts.wiz\", \"Alchemy\"),\n",
    "    (\"Creevey\", \"Colin\", 432646, \"colin@hogwarts.wiz\", \"Music\"),\n",
    "    (\"Finnigan\", \"Seamus\", 481989, \"seamus@hogwarts.wiz\", \"Ancient Studies\"),\n",
    "    (\"Abbott\", \"Hannah\", 488962, \"hannah@hogwarts.wiz\", \"Apparition\"),\n",
    "    (\"Parkinson\", \"Pansy\", 482103, \"pansy@hogwarts.wiz\", \"Dark Arts\"),\n",
    "    (\"Malfoy\", \"Draco\", 492010, \"draco@hogwarts.wiz\", \"Defence Against the Dark Arts\"),\n",
    "    (\"Thomas\", \"Dean\", 447924, \"dean.thomas@hogwarts.wiz\", \"Divination\"),\n",
    "]\n"
   ]
  },
  {
   "cell_type": "markdown",
   "metadata": {},
   "source": [
    "## Exercise 2: Transform the above list into a dictionary\n",
    "Take the `list_of_students` from the above exercise and transform it into a dictionary of tuples. Each student will still be stored as a `tuple`. However the third element, the ID, should be used as the key from the dictionary. That means a new `tuple` should be created, which contains all the elements from the old student `tuple` but not the ID."
   ]
  },
  {
   "cell_type": "code",
   "execution_count": null,
   "metadata": {},
   "outputs": [],
   "source": []
  },
  {
   "cell_type": "markdown",
   "metadata": {},
   "source": [
    "## Exercise 3: Transform the dictionary of tuples into a dictionary of dictionaries\n",
    "Again take the result of the last exercise. With a `for` loop iterate over the dictionary. The value is always a `tuple`. This `tuple` should be transformed into dictionary. Choose appropriate names for each entry."
   ]
  },
  {
   "cell_type": "code",
   "execution_count": null,
   "metadata": {},
   "outputs": [],
   "source": []
  }
 ],
 "metadata": {
  "file_extension": ".py",
  "interpreter": {
   "hash": "ac59ebe37160ed0dfa835113d9b8498d9f09ceb179beaac4002f036b9467c963"
  },
  "kernelspec": {
   "display_name": "Python 3",
   "language": "python",
   "name": "python3"
  },
  "language_info": {
   "codemirror_mode": {
    "name": "ipython",
    "version": 3
   },
   "file_extension": ".py",
   "mimetype": "text/x-python",
   "name": "python",
   "nbconvert_exporter": "python",
   "pygments_lexer": "ipython3",
   "version": "3.7.7"
  },
  "mimetype": "text/x-python",
  "name": "python",
  "npconvert_exporter": "python",
  "pygments_lexer": "ipython3",
  "version": 3
 },
 "nbformat": 4,
 "nbformat_minor": 2
}
