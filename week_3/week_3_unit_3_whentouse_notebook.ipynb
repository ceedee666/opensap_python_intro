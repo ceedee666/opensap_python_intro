{
 "cells": [
  {
   "cell_type": "markdown",
   "metadata": {},
   "source": [
    "# When to use lists, tuples and dictionaries\n",
    "So far, we have introduced three complex data types, i.e. `list`, `tuple`, \n",
    "and `dictionary`. In principal, these data types are interchangeable.<sup id=\"fn1-back\">1</sup>](#fn1) \n",
    "\n",
    "For example, every list could be simulated with a dictionary. To achieve this one could use the index of a list item as the key of a dictionary. \n",
    "However, this approach would make some operations very difficult. E.g. if you delete an item in a\n",
    "list, all subsequent indices will be decreased by one. You could simulate \n",
    "that behavior with a dictionary, however it will require a complex \n",
    "operation. The same is true for lists and tuples. \n",
    "You could simulate each tuple with a list. Actually, you will gain some more \n",
    "freedom as the immutability, which is part of a `tuple` will disappear. \n",
    "So why not use a list right from the beginning, if it offers more \n",
    "possibilities? What is the advantage of having different \n",
    "complex data types? Or when should which data type be used?\n",
    "\n",
    "The following proposals are based on personal experiences and personal \n",
    "programming styles. They should not be taken as *the truth* but simply as a \n",
    "recommendation. These recommendation might not be shared by other programmers.<sup id=\"fn2-back\">2</sup>](#fn2)  \n",
    "But that is okay ...\n",
    "\n",
    "## Lists should be used for many objects\n",
    "\n",
    "It is possible, to have completely different items, i.e. items with different \n",
    "data type in one list. For example `[23, \"abc\", True, (\"a\", \"b\", \"c\")]` is a well \n",
    "defined list in Python. But handling these kind of lists is very difficult. If,\n",
    "however, all elements have the same data type, handling of the list is simplifies. \n",
    "In the later case the programmer can be sure which data type is contained in the list and theres which functions and methods can be used. \n",
    "Take the telephone list from the previous notebook as an \n",
    "example. If you go through the list and process each element, then you know it \n",
    "is a telephone number (i.e. an integer). So limiting yourself in NOT having elements\n",
    "of different data types simplifies your life as a programmer.\n",
    "\n",
    "In the following example, the list `numbers` just contains integer. The following \n",
    "'for' loop makes use of this knowledge and divides (integer division `\\\\`) all\n",
    "values by 2. If the list would contain other data types like strings or lists,\n",
    "this operation would lead to an error.\n"
   ]
  },
  {
   "cell_type": "code",
   "execution_count": null,
   "metadata": {},
   "outputs": [],
   "source": [
    "numbers = [2, 4, 8, 16, 32, 64]\n",
    "for i in numbers:\n",
    "    print(i // 2)"
   ]
  },
  {
   "cell_type": "markdown",
   "metadata": {},
   "source": [
    "## Tuples should be used for complex objects\n",
    "As argued in the first notebook of this week, tuples should be used for complex objects.\n",
    "I.e. for objects which require several attributes to be described. Take the \n",
    "students as an example: Each student is described by name, first name,\n",
    "e-mail, student-ID, course of study, address, etc. For each student, these \n",
    "attributes are the same. So a tuple can be used to represent each student. \n",
    "\n",
    "If the program needs to handel multiple students the tuples representing each student can be stored in a list. \n",
    "So the combination of lists and tuples, i.e. lists \n",
    "of tuples is a good means to handle multiple complex objects of the same type.\n",
    "\n",
    "This combination, list of tuples, works nicely to access data data from \n",
    "csv-files (csv = comma separated values) files, a common data format. "
   ]
  },
  {
   "cell_type": "code",
   "execution_count": null,
   "metadata": {},
   "outputs": [],
   "source": [
    "student_1 = (\"Dylan\", \"Bob\", 334455, \"Philosophy\")\n",
    "student_2 = (\"Cobain\", \"Kurt\", 987654, \"Mechanical Engineering\")\n",
    "student_3 = (\"Winehouse\", \"Amy\", 123321, \"Medicine\")\n",
    "list_of_students = [student_1, student_2, student_3]\n",
    "\n",
    "for s in list_of_students:\n",
    "    print(s[3])"
   ]
  },
  {
   "cell_type": "markdown",
   "metadata": {},
   "source": [
    "## If there is an ID, take a dictionary instead of a list\n",
    "\n",
    "If the objects that need to be handled have a unique ID, a dictionary might be an option.\n",
    "In this case the objects can then directly be accessed by their \n",
    "IDs. It is therefore not necessary to search through the object you are\n",
    "looking for. \n",
    "\n",
    "Again take the students as an example. Each student has a unique student-ID. \n",
    "Often, handling of students is done by using the student-ID rather then the \n",
    "name of the student. This helps for example to avoid mixing up students \n",
    "having the same name. In contrast to names, student-IDs are (by definition) \n",
    "unique. So in case of \n",
    "the students better take a dictionary of tuples.\n",
    "\n",
    "A dictionary of tuples might be an option if you get your data from a\n",
    "relational databases. These databases are organized in the same way. Each data \n",
    "record has the same structure. Each record has a unique ID. This ID can be \n",
    "used as the key in a dictionary, the rest of the record is stored into a \n",
    "tuple which becomes the value of the key-value pair."
   ]
  },
  {
   "cell_type": "code",
   "execution_count": null,
   "metadata": {},
   "outputs": [],
   "source": [
    "student_1 = (\"Dylan\", \"Bob\", \"Philosophy\")\n",
    "student_2 = (\"Cobain\", \"Kurt\", \"Mechanical Engineering\")\n",
    "student_3 = (\"Winehouse\", \"Amy\", \"Medicine\")\n",
    "\n",
    "dict_of_students = {}\n",
    "dict_of_students[334455] = student_1\n",
    "dict_of_students[987654] = student_2\n",
    "dict_of_students[123321] = student_3\n",
    "\n",
    "for student_ID in dict_of_students:\n",
    "    print(student_ID, dict_of_students[student_ID][2])"
   ]
  },
  {
   "cell_type": "markdown",
   "metadata": {},
   "source": [
    "## If the complex objects differ in the attributes, take a dictionary instead of the tuple\n",
    "In contrast to tuples, dictionaries offer more flexibility to describe objects. \n",
    "Again take the students as an example. If you have students from \n",
    "different departments, then they will take different classes and get marks in\n",
    "different modules. In this case, dictionaries could be used intstead of \n",
    "tuples. If there is no ID, then a list of dictionaries could be taken, if\n",
    "a student-ID is available, then a dictionary of dictionaries could be an\n",
    "option. \n",
    "\n",
    "But even more complex combinations could be a choice. Take again the students\n",
    "as an example. There are lots of students, which all have the same attributes\n",
    "like name, first-name, e-mail, ... Here a tuple would be fine. However, these\n",
    "students are studying different courses. The taken modules and the achieved \n",
    "results are different from student to student. Here a dictionary would be\n",
    "preferable. However, tuple and dictionary could be combined as follows: \n",
    "The student data is stored in a tuple, however one element of the tuple,\n",
    "containing the marks of this student, is a dictionary. So you end up with a\n",
    "list of tuples, where one element of the tuple is a dictionary. Puuh.\n",
    "\n",
    "You see, there are lot of different options. But choosing a well suited data \n",
    "structure often simplifies your life as programmer. So, better think twice when\n",
    "deciding, how to structure your data."
   ]
  },
  {
   "cell_type": "code",
   "execution_count": null,
   "metadata": {},
   "outputs": [],
   "source": [
    "s1 = (\"Dylan\", \"Bob\", 334455, \"Philosophy\", {\"Logic\": \"A\", \"Ethics\": \"B\"})\n",
    "s2 = (\"Cobain\", \"Kurt\", 987654, \"Mechanical Engineering\", {\"Math\": \"B\"})\n",
    "s3 = (\"Winehouse\", \"Amy\", 123321, \"Medicine\", {\"Math\": \"B\", \"Chemistry\": \"C\"})\n",
    "\n",
    "l_of_students = [s1, s2, s3]\n",
    "for s in l_of_students:\n",
    "    print(s)"
   ]
  },
  {
   "cell_type": "markdown",
   "metadata": {},
   "source": [
    "# Exercise 1: List of Tuples\n",
    "In the following cell, a list of students is given. All students are defined using a tuple. Implement some `input()` statements asking for the data of a new student. All the data is combined into a tuple, the tuple is then appended to the `list_of_students`. Finally the whole list is printed out using a `for` loop, which iterates over the list.\n",
    "\n",
    "Example Input:\n",
    "```\n",
    "    Name: Weasley\n",
    "    Firstname: Ginney\n",
    "    ...\n",
    "```\n",
    "\n",
    "Example Output:\n",
    "```\n",
    "    (\"Potter\", \"Harry\", 477264, \"harry@hogwarts.wiz\", \"Defence Against the Dark Arts\")\n",
    "    (\"Weasley\", \"Ron\", 490134, \"ron@hogwarts.wiz\", \"Care of Magical Creatures\")\n",
    "    ...\n",
    "```\n",
    "    "
   ]
  },
  {
   "cell_type": "code",
   "execution_count": null,
   "metadata": {},
   "outputs": [],
   "source": [
    "list_of_students = [\n",
    "    (\"Potter\", \"Harry\", 477264, \"harry@hogwarts.wiz\", \"Defence Against the Dark Arts\"),\n",
    "    (\"Weasley\", \"Ron\", 490134, \"ron@hogwarts.wiz\", \"Care of Magical Creatures\"),\n",
    "    (\"Granger\", \"Hermione\", 471617, \"hermione@hogwarts.wiz\", \"Alchemy\"),\n",
    "    (\"Creevey\", \"Colin\", 432646, \"colin@hogwarts.wiz\", \"Music\"),\n",
    "    (\"Finnigan\", \"Seamus\", 481989, \"seamus@hogwarts.wiz\", \"Ancient Studies\"),\n",
    "    (\"Abbott\", \"Hannah\", 488962, \"hannah@hogwarts.wiz\", \"Apparition\"),\n",
    "    (\"Parkinson\", \"Pansy\", 482103, \"pansy@hogwarts.wiz\", \"Dark Arts\"),\n",
    "    (\"Malfoy\", \"Draco\", 492010, \"draco@hogwarts.wiz\", \"Defence Against the Dark Arts\"),\n",
    "    (\"Thomas\", \"Dean\", 447924, \"dean.thomas@hogwarts.wiz\", \"Divination\"),\n",
    "]"
   ]
  },
  {
   "cell_type": "markdown",
   "metadata": {},
   "source": [
    "## Exercise 2: Transform the above list into a dictionary\n",
    "Take the `list_of_students` from the above exercise and transform it into a dictionary of tuples. Each student will still be stored as a `tuple`. However the third element, the ID, should be used as the key from the dictionary. That means a new `tuple` should be created, which contains all the elements from the old student `tuple` but not the ID."
   ]
  },
  {
   "cell_type": "code",
   "execution_count": null,
   "metadata": {},
   "outputs": [],
   "source": []
  },
  {
   "cell_type": "markdown",
   "metadata": {},
   "source": [
    "## Exercise 3: Transform the dictionary of tuples into a dictionary of dictionaries\n",
    "Again take the result of the last exercise. With a `for` loop iterate over the dictionary. The value is always a `tuple`. This `tuple` should be transformed into dictionary. Choose appropriate names for each entry."
   ]
  },
  {
   "cell_type": "code",
   "execution_count": null,
   "metadata": {},
   "outputs": [],
   "source": []
  },
  {
   "cell_type": "markdown",
   "metadata": {},
   "source": [
    "# Footnote\n",
    "[<sup id=\"fn1\">1</sup>](#fn1-back) Of cause using a list instead of a dictionary or vice versa might have severe implications on the performance and memory usage of your program.\n",
    "However, a detailed discussion of the advantages and disadvantages of the list, tuples and dictionaries is beyond the scope of this course. \n",
    "\n",
    "[<sup id=\"fn2\">2</sup>](#fn2-back) Stefan and Christian had quite a few discussions about these recommendations. And they still are not in a complete agreement 😉."
   ]
  }
 ],
 "metadata": {
  "file_extension": ".py",
  "interpreter": {
   "hash": "ac59ebe37160ed0dfa835113d9b8498d9f09ceb179beaac4002f036b9467c963"
  },
  "kernelspec": {
   "display_name": "Python 3",
   "language": "python",
   "name": "python3"
  },
  "language_info": {
   "codemirror_mode": {
    "name": "ipython",
    "version": 3
   },
   "file_extension": ".py",
   "mimetype": "text/x-python",
   "name": "python",
   "nbconvert_exporter": "python",
   "pygments_lexer": "ipython3",
   "version": "3.9.10"
  },
  "mimetype": "text/x-python",
  "name": "python",
  "npconvert_exporter": "python",
  "pygments_lexer": "ipython3",
  "version": 3
 },
 "nbformat": 4,
 "nbformat_minor": 2
}
