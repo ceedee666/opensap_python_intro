{
 "cells": [
  {
   "cell_type": "markdown",
   "metadata": {},
   "source": [
    "# When to use lists, dictionaries and tuples\n",
    "So far, we have introduced three complex data types, i.e. `list`, `tuple`, \n",
    "and `dictionary`. In principal, they are interchangeable, that means, you \n",
    "could e.g. simulate every list with a dictionary. Just use the index as a key. \n",
    "Some operations will become difficult. E.g. if you delete an element in a\n",
    "list, all subsequent indices will be decreased by one. You could simulate \n",
    "that behaviour with a dictionary, however it will require a complex \n",
    "operation. The same is with lists and tuples. \n",
    "You could simulate each tuple with a list. Actually, you will gain some more \n",
    "freedom as the immutability, which is part of a `tuple` will disappear. \n",
    "So why not use a list right from the beginning, if it offers more \n",
    "possibilities? What is the advantage of having different \n",
    "complex data types? Or when should which data type be used?\n",
    "\n",
    "The following proposals are based on personal experiences and personal \n",
    "programming styles. They should not be taken as *the truth* but simply as a \n",
    "recommendation. These recommendation might not be shared by other programmers. \n",
    "But that is okay ...\n",
    "\n",
    "## Lists should be used for many objects\n",
    "It is possible, to have completely different items, i.e. items with different \n",
    "data type in one list. E.g. `[23, \"abc\", True, (\"a\", \"b\", \"c\")]` is a well \n",
    "defined list in Python. But handling these kind of lists is very difficult. If\n",
    "however all elements have the same data type, then as a programmer you can plan with this data type and use functions and methods, which are appropriate \n",
    "for the chosen data. Take the list of students from the last notebook as an \n",
    "example. If you go through the list and process each element, then you know it \n",
    "is a student. And the students are all defined in the same way: It is a tuple \n",
    "with clearly defined elements. So limiting yourself in NOT having elements\n",
    "of different data types simplifies your life as a programmer.\n"
   ]
  },
  {
   "cell_type": "code",
   "execution_count": null,
   "metadata": {},
   "outputs": [],
   "source": [
    "l = [2, 4, 8, 16, 32, 64]\n",
    "for i in l:\n",
    "    print(i)"
   ]
  },
  {
   "cell_type": "markdown",
   "metadata": {},
   "source": [
    "## Tuples should be used for complex objects\n",
    "As argued in the first notebook of this week, tuples should be used for  objects, which require several attributes to be described. Again, take the \n",
    "students as an example: Each student is described by name, firstname,\n",
    "e-mail, student-ID, course of study, address, etc. For each student, these \n",
    "attributes are the same. So the combination of lists and tuples, i.e. lists \n",
    "of tuples is a good means to handle lots of complex objects of the same type.\n",
    "\n",
    "This combination, list of tuples, works especially fine if you get data from \n",
    "csv-files (csv = comma separated values), a format which is quite often used\n",
    "to store data."
   ]
  },
  {
   "cell_type": "code",
   "execution_count": null,
   "metadata": {},
   "outputs": [],
   "source": [
    "s1 = (\"Dylan\", \"Bob\", 334455, \"Philosophy\")\n",
    "s2 = (\"Cobain\", \"Kurt\", 987654, \"Mechanical Engineering\")\n",
    "s3 = (\"Winehouse\", \"Amy\", 123321, \"Medicine\")\n",
    "l_of_students = [s1, s2, s3]\n",
    "\n",
    "for s in l_of_students:\n",
    "    print(s[3])"
   ]
  },
  {
   "cell_type": "markdown",
   "metadata": {},
   "source": [
    "## If there is an ID, take a dictionary instead of a list\n",
    "If the elements to be handled have a unique ID, then dictionaries could be \n",
    "used instead of lists. The elements can then directly be accessed by their \n",
    "ID. It is not necessary to search through the list to find the ID you are\n",
    "looking for. Again take the students: Each student has a unique student-ID. \n",
    "Often, handling of students is done by using the student-ID rather then the \n",
    "name of the student. This helps for exmaple to avoid mixing up students \n",
    "having the same name. In contrast to names, student-IDs are (by definition) \n",
    "unique. So in case of \n",
    "the students better take a dictionary of tuples.\n",
    "\n",
    "Dictionary of tuples works fine, if you get your data from \n",
    "relational databases. These databases are organized in the same way. Each data \n",
    "record has the same structure. Each record has a unique ID. This ID can be \n",
    "used as the key in a dictionary, the rest of the record is stored into a \n",
    "tuple which becomes the value of the key-value pair."
   ]
  },
  {
   "cell_type": "code",
   "execution_count": null,
   "metadata": {},
   "outputs": [],
   "source": [
    "d_of_students = {}\n",
    "for s in l_of_students:\n",
    "    d_of_students[s[2]] = tuple(s[:2] + s[3:])\n",
    "\n",
    "stud_ID = int(input(\"Please enter the student-ID: \"))\n",
    "print(d_of_students[stud_ID][1], \"studies\", d_of_students[stud_ID][2])"
   ]
  },
  {
   "cell_type": "markdown",
   "metadata": {},
   "source": [
    "## If the complex objects differ in the attributes, take a dictionary instead\n",
    "In contrast do tuples, dictionaries offer more flexibility to describe objects. \n",
    "Again take the students as an example. If you have students from \n",
    "different departments, then they will take different classes and get marks in\n",
    "different modules. In this case, dictionaries could be used intstead of \n",
    "tuples. If there is no ID, then a list of dictionaries could be taken, if\n",
    "a student-ID is available, then a dictionary of dictionaries could be an\n",
    "option. \n",
    "\n",
    "But even more complex combinations could be a choice. Take again the students\n",
    "as an example. There are lots of students, which all have the same attributes\n",
    "like name, first-name, e-mail, ... Here a tuple would be fine. However, these\n",
    "students are studying different courses. The taken modules and the achieved \n",
    "results are different from student to student. Here a dictionary would be\n",
    "preferable. However, tuple and dictionary could be combined as follows: \n",
    "The student data is stored in a tuple, however one element of the tuple,\n",
    "containing the marks of this student, is a dictionary. So you end up with a\n",
    "list of tuples, where one element of the tuple is a dictionary. Puuh.\n",
    "\n",
    "You see, there are lot of different options. But choosing a well suited data \n",
    "structure often simplifies your life as programmer. So, better think twice when\n",
    "deciding, how to structure your data."
   ]
  },
  {
   "cell_type": "raw",
   "metadata": {},
   "source": [
    "s1 = (\"Dylan\", \"Bob\", 334455, \"Philosophy\", {\"Logic\": \"A\", \"Ethics\": \"B\"})\n",
    "s2 = (\"Cobain\", \"Kurt\", 987654, \"Mechanical Engineering\", {\"Math\": \"B\"})\n",
    "s3 = (\"Winehouse\", \"Amy\", 123321, \"Medicine\", {\"Math\": \"B\", \"Chemistry\": \"C\"})\n",
    "\n",
    "l_of_students = [s1, s2, s3]\n",
    "for s in l_of_students:\n",
    "    print(s)"
   ]
  },
  {
   "cell_type": "markdown",
   "metadata": {},
   "source": [
    "# More operations on tuples\n",
    "## Lists of tuples - a frequently used pattern\n",
    "Suppose that not only one student is to be processed, but many students. Each student is represented by a tuple. How do\n",
    "you deal with many students now? You combine the properties of lists and tuples! Each student is a tuple, the individual\n",
    "students (i.e. the individual tuples) are added to a complete list one after the other."
   ]
  },
  {
   "cell_type": "code",
   "execution_count": null,
   "metadata": {},
   "outputs": [],
   "source": [
    "student1 = (\"Peter\", \"Parker\", 12345, \"Python\", \"pp12345s@university.edu\")\n",
    "student2 = (\"Jean\", \"Grey\", 98765, \"Physics\", \"jg98765@university-ny\")\n",
    "list_of_students = [student1, student2]\n",
    "print(list_of_students)"
   ]
  },
  {
   "cell_type": "markdown",
   "metadata": {},
   "source": [
    "The combination of lists and tuples is often used in computer science. The two constructs are used as follows:\n",
    "- Tuples: a tuple is used to describe similar objects. The objects always consist of the same attributes, but they can\n",
    "  have different values. Example: Students (in the above example) always have a name, a first name, a matriculation\n",
    "  number, a study subject and an e-mail. Of course, the names and matriculation numbers are different. But the structure\n",
    "  of a student (in this program) is always identical.\n",
    "- Lists: Lists are used to group together elements that are always the same. It is deliberately avoided to create a list\n",
    "  of different data types. Instead, a list contains e.g. only students, which are always structured in the same way.\n",
    "\n",
    "This pattern is used for example when editing (relational) databases. Each record has the same structure, a relation\n",
    "consists of identically structured records. It is unkown, how many records there are in a relation. Every single record\n",
    "can be converted into a tuple with the same structure over and over again. The single tuples can be assembled in a list.\n",
    "Since the list is modifiable, individual tuples can be deleted, the order changed, or additional tuples added."
   ]
  },
  {
   "cell_type": "markdown",
   "metadata": {},
   "source": [
    "### Working with lists of tuples\n",
    "Since the above structure - lists of (similar) tuples - is frequently used, there are corresponding programming patterns\n",
    "that appear again and again.\n",
    "\n",
    "\n",
    "#### Creating a list of tuples using a loop\n",
    "First, an empty list is created, in which the tuples are then appended one by one (`list.append()`). Ideally, the\n",
    "list has a \"speaking\" name, so that you know what it is about, e.g. `list_of_students = []`. With the help of a loop you\n",
    "iterate a certain (or previously undetermined) number of repetitions. Within this repetition - that is, within the loop\n",
    "body - a tuple is created and eventually appended to the list."
   ]
  },
  {
   "cell_type": "code",
   "execution_count": null,
   "metadata": {},
   "outputs": [],
   "source": [
    "# Create empty list\n",
    "list_of_students = []\n",
    "\n",
    "# loop in which tuples are created\n",
    "for i in range(5):\n",
    "    name = input(\"Please enter name: \")\n",
    "    first_name = input(\"Please enter firstname: \")\n",
    "    subject = input(\"Please enter subject: \")\n",
    "    matriculation_number = int(input(\"Please enter matriculation number (integer): \"))\n",
    "    # Create a tuple from the single elements\n",
    "    student = (name, first_name, subject, matriculation_number)\n",
    "    # Append tuple to the list\n",
    "list_of_students.append(student)\n",
    "\n",
    "print(list_of_students)"
   ]
  },
  {
   "cell_type": "code",
   "execution_count": null,
   "metadata": {},
   "outputs": [],
   "source": []
  }
 ],
 "metadata": {
  "file_extension": ".py",
  "interpreter": {
   "hash": "ac59ebe37160ed0dfa835113d9b8498d9f09ceb179beaac4002f036b9467c963"
  },
  "kernelspec": {
   "display_name": "Python 3",
   "language": "python",
   "name": "python3"
  },
  "language_info": {
   "codemirror_mode": {
    "name": "ipython",
    "version": 3
   },
   "file_extension": ".py",
   "mimetype": "text/x-python",
   "name": "python",
   "nbconvert_exporter": "python",
   "pygments_lexer": "ipython3",
   "version": "3.7.7"
  },
  "mimetype": "text/x-python",
  "name": "python",
  "npconvert_exporter": "python",
  "pygments_lexer": "ipython3",
  "version": 3
 },
 "nbformat": 4,
 "nbformat_minor": 2
}
