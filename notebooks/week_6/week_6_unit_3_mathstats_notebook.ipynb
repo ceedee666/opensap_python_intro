{
 "cells": [
  {
   "cell_type": "markdown",
   "metadata": {},
   "source": [
    "# The `math`, the `random` and the `statistics` libraries \n",
    "This unit focuses on using different functionalities provided by the `math`, `random` and `statistics` libraries. \n",
    "These libraries are part of the [Python Standard Library](https://docs.python.org/3/library/index.html).\n",
    "In order to explore these libraries two exercises are used. To familiarize yourself with the Python Standard Library and\n",
    "the documentation it is highly recommended that you try to solve the exercises yourself before looking at the solutions.\n",
    "\n",
    "\n",
    "## Exercises\n",
    "\n",
    "### Exercise 1 - The `math` library\n",
    "\n",
    "Write a program that performs the following tasks:\n",
    "1. Get a integer number from the user\n",
    "1. Calculate the factorial ($x!$) of this number\n",
    "1. Calculate the natural logarithm and the logarithm to the base 10 of the number\n",
    "\n",
    "Explore the [documentation](https://docs.python.org/3/library/math.html) of the `math` library to find suitable\n",
    "functions."
   ]
  },
  {
   "cell_type": "code",
   "execution_count": null,
   "metadata": {},
   "outputs": [],
   "source": [
    "# Implement your solution here"
   ]
  },
  {
   "cell_type": "markdown",
   "metadata": {},
   "source": [
    "### Exercise 2 - The `random` and `statistics` libraries\n",
    "\n",
    "Use functions from the `random` and `statistics` libraries to\n",
    "- generate a list of 100 random integer numbers between 1 and 10\n",
    "- calculate the mean of this list\n",
    "- calculate the median of this list\n",
    "- calculate the variance of this list\n",
    "\n",
    "Explore the documentation of the [`random`](https://docs.python.org/3/library/random.html) and the\n",
    "[`statistics`](https://docs.python.org/3/library/statistics.html) libraries to find suitable functions. "
   ]
  },
  {
   "cell_type": "code",
   "execution_count": null,
   "metadata": {},
   "outputs": [],
   "source": [
    "# Implement your solution here"
   ]
  }
 ],
 "metadata": {
  "interpreter": {
   "hash": "9fd0e282e2343d8b38b390b803aabc7fcea80a18eee8e5bd23ce64f6435b30a1"
  },
  "kernelspec": {
   "display_name": "Python 3",
   "language": "python",
   "name": "python3"
  },
  "language_info": {
   "codemirror_mode": {
    "name": "ipython",
    "version": 3
   },
   "file_extension": ".py",
   "mimetype": "text/x-python",
   "name": "python",
   "nbconvert_exporter": "python",
   "pygments_lexer": "ipython3",
   "version": "3.7.1"
  }
 },
 "nbformat": 4,
 "nbformat_minor": 2
}
