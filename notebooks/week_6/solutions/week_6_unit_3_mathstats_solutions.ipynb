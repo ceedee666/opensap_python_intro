{
 "cells": [
  {
   "cell_type": "markdown",
   "metadata": {},
   "source": [
    "# The `math`, the `random` and the `statistics` libraries \n",
    "This unit focuses on using different functionalities provided by the `math`, `random` and `statistics` libraries. \n",
    "These libraries are part of the [Python Standard Library](https://docs.python.org/3/library/index.html).\n",
    "In order to explore these libraries two exercises are used. To familiarize yourself with the Python Standard Library and\n",
    "the documentation it is highly recommended that you try to solve the exercises yourself before looking at the solutions."
   ]
  },
  {
   "cell_type": "markdown",
   "metadata": {},
   "source": [
    "# Solutions\n",
    "\n",
    "## Exercise 1\n",
    "\n",
    "Write a program that performs the following tasks:\n",
    "1. Get a integer number from the user\n",
    "1. Calculate the factorial ($x!$) of this number\n",
    "1. Calculate the natural logarithm and the logarithm to the base 10 of the number\n",
    "\n",
    "Explore the [documentation](https://docs.python.org/3/library/math.html) of the `math` library to find suitable\n",
    "functions.\n",
    "\n",
    "The cell below contains a possible solution for exercise 1. "
   ]
  },
  {
   "cell_type": "code",
   "execution_count": null,
   "metadata": {},
   "outputs": [],
   "source": [
    "import math as m\n",
    "\n",
    "x = int(input(\"Please enter a number:\"))\n",
    "\n",
    "x_factorial = m.factorial(x)\n",
    "ln_x = m.log(x)\n",
    "log_x = m.log10(x)\n",
    "\n",
    "print(\"The factorial of\", x, \"is\", x_factorial)\n",
    "print(\"The natural logarithm of\", x, \"is\", ln_x)\n",
    "print(\"The logarithm to the base 10 of\", x, \"is\", log_x)"
   ]
  },
  {
   "cell_type": "markdown",
   "metadata": {},
   "source": [
    "## Exercise 2\n",
    "\n",
    "Use functions from the `random` and `statistics` libraries to\n",
    "- generate a list of 100 random integer numbers between 1 and 10\n",
    "- calculate the mean of this list\n",
    "- calculate the median of this list\n",
    "- calculate the variance of this list\n",
    "\n",
    "Explore the documentation of the [`random`](https://docs.python.org/3/library/random.html) and the\n",
    "[`statistics`](https://docs.python.org/3/library/statistics.html) libraries to find suitable functions. \n",
    "\n",
    "The cell below contains a possible solution for exercise 2."
   ]
  },
  {
   "cell_type": "code",
   "execution_count": null,
   "metadata": {},
   "outputs": [],
   "source": [
    "from random import randint\n",
    "import statistics as s\n",
    "\n",
    "\n",
    "def create_random_numbers(count):\n",
    "    random_numbers = []\n",
    "\n",
    "    for _ in range(count):\n",
    "        random_number = randint(1, 10)\n",
    "        random_numbers.append(random_number)\n",
    "\n",
    "    return random_numbers\n",
    "\n",
    "\n",
    "random_numbers = create_random_numbers(100)\n",
    "print(\"The random number are: \", random_numbers)\n",
    "\n",
    "print(\"The mean of the random numbers is\", s.mean(random_numbers))\n",
    "print(\"The median of the random numbers is\", s.median(random_numbers))\n",
    "print(\"The variance of the random numbers is\", s.variance(random_numbers))"
   ]
  }
 ],
 "metadata": {
  "interpreter": {
   "hash": "9fd0e282e2343d8b38b390b803aabc7fcea80a18eee8e5bd23ce64f6435b30a1"
  },
  "kernelspec": {
   "display_name": "Python 3.9.9 64-bit ('opensap_python_intro-SgMpohZV': pipenv)",
   "language": "python",
   "name": "python3"
  },
  "language_info": {
   "codemirror_mode": {
    "name": "ipython",
    "version": 3
   },
   "file_extension": ".py",
   "mimetype": "text/x-python",
   "name": "python",
   "nbconvert_exporter": "python",
   "pygments_lexer": "ipython3",
   "version": "3.9.9"
  }
 },
 "nbformat": 4,
 "nbformat_minor": 2
}
