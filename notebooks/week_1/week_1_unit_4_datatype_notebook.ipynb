{
 "cells": [
  {
   "cell_type": "markdown",
   "metadata": {},
   "source": [
    "# Data Types\n",
    "In this unit, the *primitve* data types are discussed. \n",
    "## Primitive Data Types\n",
    "In Python, as in most other programming languages, each variable and each expression has a *data type*. In the previous Jupyter Notebooks we have already used a number of these *data types*, without explicitly mentioning them. For example, the following expression contains two values, which have the *data type* `Integer`, the result has the same data type, i.e. `Integer`."
   ]
  },
  {
   "cell_type": "code",
   "execution_count": null,
   "metadata": {},
   "outputs": [],
   "source": [
    "1 + 2"
   ]
  },
  {
   "cell_type": "markdown",
   "metadata": {},
   "source": [
    "Python distinguishes between *primitive* and *complex* data types. In this Notebook we will introduce the\n",
    "different primitive data types. These are shown in the following table:\n",
    "\n",
    "| Description       | Python data type | Example values |\n",
    "| ----------------- | ---------------- | -------------- |\n",
    "| Integer numbers   | `Integer`        | 42, 0, -11     |\n",
    "| Decimal numbers   | `Float`          | 2.0, -3.14     |\n",
    "| Logical values    | `Boolean`        | True, False    |\n",
    "| Character strings | `String`         | \"Hello world\"  |"
   ]
  },
  {
   "cell_type": "markdown",
   "metadata": {},
   "source": [
    "The built-in Python function\n",
    "`type()` ([Python documentation: type](https://docs.python.org/3/library/functions.html#type))\n",
    "can be used to determine the data type of an expression. In the following cell, the function `type()` is used to output\n",
    "the data type of the values *41*, *-3.14*, *True* and *\"Hello World\"*."
   ]
  },
  {
   "cell_type": "code",
   "execution_count": null,
   "metadata": {},
   "outputs": [],
   "source": [
    "print(type(42))\n",
    "print(type(-3.14))\n",
    "print(type(True))\n",
    "\n",
    "s = \"Hello World\"\n",
    "print(type(s))"
   ]
  },
  {
   "cell_type": "markdown",
   "metadata": {},
   "source": [
    "A short explanation of the notation of `print(type(42))`: Here the two functions `print()` and `type()` are nested into\n",
    "each other. That means, `type()` receives the 42 as input value. `type()` now generates some output value. This output\n",
    "now serves as input to `print()`. The output of the `print()` function is that `<class 'int'>` is finally printed below the cell.\n",
    "\n",
    "Functions can be nested inside each other. They are then called from inside out. The return value of the inner function serves as an input argument for the outer function. It is possible, to have several levels of nesting. However, the statements become less readable and less understandable."
   ]
  },
  {
   "cell_type": "markdown",
   "metadata": {},
   "source": [
    "## Integer\n",
    "The first primitive data type we will discuss in detail is the data type `Integer`. The `Integer` data type is used to\n",
    "represent [integers](https://en.wikipedia.org/wiki/Integer). The value range of the data type thus includes the numbers\n",
    "..., -3, -2, -1, 0, 1, 2, 3, ... (i.e. $\\mathbb{Z}$)\n",
    "\n",
    "It is important to note that the range of `Integer` values in Python is only limited by the available internal memory of\n",
    "the computer. Thus, calculations with very large numbers can be performed with Python. In the following cell you can see\n",
    "some examples for the data type `Integer`. Test some numbers by yourself!"
   ]
  },
  {
   "cell_type": "code",
   "execution_count": null,
   "metadata": {},
   "outputs": [],
   "source": [
    "print(type(2))\n",
    "print(type(-5))\n",
    "\n",
    "x = 10000000000000000000000000000000000000\n",
    "print(type(x))\n",
    "\n",
    "x_squared = x * x\n",
    "print(x_squared)\n",
    "print(type(x_squared))"
   ]
  },
  {
   "cell_type": "markdown",
   "metadata": {},
   "source": [
    "## Float\n",
    "In contrast to the data type `Integer`, the data type `Float` is used to represent [floating point\n",
    "numbers](https://en.wikipedia.org/wiki/Floating-point_arithmetic). Decimal places are separated by a dot (`.`). As shown\n",
    "in the following cell, the data type `Float` also supports the exponential notation. The notation 6.62e-34 represents the\n",
    "number $ 6.62 * 10^{-34} $."
   ]
  },
  {
   "cell_type": "code",
   "execution_count": null,
   "metadata": {},
   "outputs": [],
   "source": [
    "print(type(0.1))\n",
    "print(type(0.0))\n",
    "\n",
    "h = 6.63e-34  # https://en.wikipedia.org/wiki/Planck_constant\n",
    "print(h)\n",
    "print(type(h))\n",
    "\n",
    "g = 1e100  # https://en.wikipedia.org/wiki/Googol\n",
    "print(g)\n",
    "print(type(g))"
   ]
  },
  {
   "cell_type": "markdown",
   "metadata": {},
   "source": [
    "## Operations\n",
    "The following table has already been shown in the unit about variables. Once again  take a look from the data type point of view. \n",
    "\n",
    "| Description      | Operator | Example  | Result             |\n",
    "| ---------------- | -------- | -------- | ------------------ |\n",
    "| Addition         | +        | 2 + 3    | 5                  |\n",
    "| Subtraction      | -        | 2 - 3    | -1                 |\n",
    "| Multiplication   | *        | 2 * 3    | 6                  |\n",
    "| Division         | /        | 7 / 3    | 2.3333333333333335 |\n",
    "| Integer division | //       | 7 // 3   | 2                  |\n",
    "| Modulo           | %        | 7 % 3    | 1                  |\n",
    "| Exponentiation   | **       | 2 ** 0.5 | 1.4142135623730951 |\n",
    "\n",
    "As you can see, most of the operations have two integers as input an lead to the data type integer as output. Only the division `\\` returns the data type float. As can be seen in the last example, combinations of integer and float are possible as well. In the given case they result in the data type float."
   ]
  },
  {
   "cell_type": "markdown",
   "metadata": {},
   "source": [
    "## Exercise\n",
    "Test different operations for the data types `Integer` and `Float`. Use the function `type()` to determine the data type\n",
    "of a variable.\n",
    "\n",
    "Which data type is created when an `Integer` value is combined with a `Float` value using an operator? Will operations with `Integer` values always result in an `Integer` value?"
   ]
  },
  {
   "cell_type": "code",
   "execution_count": null,
   "metadata": {},
   "outputs": [],
   "source": [
    "integer_value = 5\n",
    "print(type(integer_value))\n",
    "\n",
    "float_value = 6.78\n",
    "print(type(float_value))\n",
    "\n",
    "combinated_value = integer_value + float_value\n",
    "print(\"The combined value's type is:\", type(combinated_value))\n",
    "\n",
    "# More values for experimentations:\n",
    "print(-12345678900000000000.0)\n",
    "print(3 / 1)\n",
    "print(2e306 * 10)"
   ]
  },
  {
   "cell_type": "markdown",
   "metadata": {},
   "source": [
    "## Accuracy of operations on 'float' values\n",
    "Execute the calculations in the following two cells.\n",
    "\n",
    "Are the calculated results correct? What could be the cause of these results?"
   ]
  },
  {
   "cell_type": "code",
   "execution_count": null,
   "metadata": {},
   "outputs": [],
   "source": [
    "a = 0.1\n",
    "b = 0.2\n",
    "\n",
    "sum = a + b\n",
    "print(sum)"
   ]
  },
  {
   "cell_type": "code",
   "execution_count": null,
   "metadata": {},
   "outputs": [],
   "source": [
    "root_of_2 = 2 ** 0.5\n",
    "\n",
    "two = root_of_2 ** 2\n",
    "print(two)"
   ]
  },
  {
   "cell_type": "markdown",
   "metadata": {},
   "source": [
    "Internally Python represents floating point numbers with a precision of 15 to 16 digits in the binary system\n",
    "([IEEE_754](https://de.wikipedia.org/wiki/IEEE_754)). This representation allows to work with both very large and very\n",
    "small numbers. However, rounding errors occur in certain cases. Some numbers cannot be represented precisely in the\n",
    "binary system (similar to the number $1/3$ in the decimal system).\n",
    "\n",
    "Some more examples of possible surprises when working with floating point numbers can be found in the\n",
    "[Python Documentation](https://docs.python.org/3/tutorial/floatingpoint.html)."
   ]
  },
  {
   "cell_type": "markdown",
   "metadata": {},
   "source": [
    "# More data types\n",
    "## Boolean\n",
    "Truth values are represented with the `Boolean` data type. The `Boolean` data type can only take two values: `True` or\n",
    "`False`.\n",
    "\n",
    "There is a set of special logical operators for the `Boolean` data type.\n",
    "\n",
    "| Operator | Explanation | Example     |\n",
    "| -------- | ----------- | ----------- |\n",
    "| not      | Negation    | not y       |\n",
    "| and      | Logical AND | x and y     |\n",
    "| or       | Logical OR  | a or b or c |"
   ]
  },
  {
   "cell_type": "markdown",
   "metadata": {},
   "source": [
    "### Exercise\n",
    "In the following cell you will find some examples for the use of `Boolean` values. What happens when you combine a\n",
    "`Boolean` value with an `Integer` value? What happens when you combine a `Boolean` value with a `Float` value? What\n",
    "operators can you use for this? Of which data type is the result?"
   ]
  },
  {
   "cell_type": "code",
   "execution_count": null,
   "metadata": {},
   "outputs": [],
   "source": [
    "print(False and False)\n",
    "print(not False)\n",
    "\n",
    "a = True\n",
    "b = False\n",
    "\n",
    "print(\"True and True: \", True and True)\n",
    "print(\"a and b: \", a and b)\n",
    "print(\"a or b: \", a or b)\n",
    "\n",
    "print(\"Complex logical expression: \", a and (b or (True and False)))"
   ]
  },
  {
   "cell_type": "markdown",
   "metadata": {},
   "source": [
    "## String\n",
    "To process character strings, the `String` data type is used. Strictly speaking `String` is not a primitive data type, but\n",
    "a [sequence data type](https://docs.python.org/3/library/stdtypes.html#typesseq). Since strings happen to occur very\n",
    "often in simple programs, the data type `String` will be introduced nevertheless.\n",
    "\n",
    "In Python, `Strings` can be created with either single or double quotes. There are subtle differences between the two\n",
    "variations, which will not be discussed further at this point. We will prefer to use double quotes (`\"`) when working\n",
    "with `Strings`.\n",
    "\n",
    "In the following cell you can see, that it is possible to use the `+` operator not only on integers (and floats) but as well on strings. Moreover, it is possible to multiply a string with an interger. What happens, if you multiply a string with a float?"
   ]
  },
  {
   "cell_type": "code",
   "execution_count": null,
   "metadata": {},
   "outputs": [],
   "source": [
    "print(type(\"Hello World\"))\n",
    "\n",
    "a = \"Hello\"\n",
    "b = \"World\"\n",
    "\n",
    "print(a, b)\n",
    "print(a + b)\n",
    "\n",
    "print(3 * a)"
   ]
  },
  {
   "cell_type": "markdown",
   "metadata": {},
   "source": [
    "### String methods\n",
    "There are a number of [methods]((https://docs.python.org/3/library/string.html).) in Python to process `Strings`.\n",
    "\n",
    "A small selection of these methods is shown below:\n",
    "* `.lower()`:    changes all upper case letters to lower case\n",
    "* `.upper()`:    changes all lowercase letters to uppercase\n",
    "* `.replace()`:  is used to replace a given sequence within a `String` with another one"
   ]
  },
  {
   "cell_type": "markdown",
   "metadata": {},
   "source": [
    "#### Exercise\n",
    "Test different operations for `Strings`.\n",
    "What happens when you try to add a `string` and an `integer`?\n",
    "Also use the above methods to manipulate `Strings`."
   ]
  },
  {
   "cell_type": "code",
   "execution_count": null,
   "metadata": {},
   "outputs": [],
   "source": [
    "a = \"Ramones\"\n",
    "print(a.upper())\n",
    "\n",
    "print(\"hitchhiker\".replace(\"hi\", \"ma\"))"
   ]
  },
  {
   "cell_type": "markdown",
   "metadata": {},
   "source": [
    "#### Exercise\n",
    "Ask the user to input two numbers (hint: use the function `input()`). Add up those numbers and print the result.\n",
    "\n",
    "Which problem occurs? Of which data type are the read-in values?"
   ]
  },
  {
   "cell_type": "code",
   "execution_count": null,
   "metadata": {},
   "outputs": [],
   "source": [
    "a = input(\"Please insert a number A: \")\n",
    "\n",
    "# Please add your code in the following lines\n",
    "\n",
    "b = "
   ]
  },
  {
   "cell_type": "markdown",
   "metadata": {},
   "source": [
    "# Conversion\n",
    "Operations on `Strings` sometimes lead to unexpected results. The attempt to add a `String` and an `Integer` leads to an\n",
    "error message. The addition of two `Strings` causes both strings to be concatenated.\n",
    "\n",
    "This is a common problem when working with user input. The data type of the input is always `String`. This may have to be\n",
    "converted to a different data type before it can be used. For the conversion between the different data types, Python\n",
    "provides a number of [built-in functions](https://docs.python.org/3/library/functions.html):\n",
    "\n",
    "| Function | Explanation                                              | Example        |\n",
    "| -------- | -------------------------------------------------------- | -------------- |\n",
    "| int()    | Converts the passed parameter to the data type `Integer` | int(\"10\")      |\n",
    "| float()  | Converts the given parameter to the data type `float`    | float(\"3.14\")  |\n",
    "| bool()   | Converts the given parameter to the data type `Boolean`  | bool(\"Hello \") |\n",
    "| str()    | Converts the given parameter to the data type `String`   | str(True)      |"
   ]
  },
  {
   "cell_type": "markdown",
   "metadata": {},
   "source": [
    "## Exercise\n",
    "Perform some conversions between the different data types. Analyze which data type and which value the result of the\n",
    "conversion has. What happens when you concatenate different conversions?"
   ]
  },
  {
   "cell_type": "code",
   "execution_count": null,
   "metadata": {},
   "outputs": [],
   "source": [
    "s = \"Hello\"\n",
    "i = 2019\n",
    "print(s + str(i))\n",
    "\n",
    "print(bool(0))\n",
    "\n",
    "print(int(bool(3)))\n",
    "\n",
    "bool(\" \")"
   ]
  },
  {
   "cell_type": "markdown",
   "metadata": {},
   "source": [
    "## Converting and the function `input()`\n",
    "As already mentioned, the result of the `input()` function is always a `String`. If you need another data type, you must\n",
    "convert the input data at first. The necessary procedure is shown in the following cells."
   ]
  },
  {
   "cell_type": "code",
   "execution_count": null,
   "metadata": {},
   "outputs": [],
   "source": [
    "age = input(\"Please insert your age: \")\n",
    "age = int(age)\n",
    "print(age)\n",
    "print(type(age))"
   ]
  },
  {
   "cell_type": "code",
   "execution_count": null,
   "metadata": {},
   "outputs": [],
   "source": [
    "# Alternatively it is also possible to nest these functions\n",
    "age = int(input(\"Please insert your Age: \"))\n",
    "print(type(age))"
   ]
  },
  {
   "cell_type": "markdown",
   "metadata": {},
   "source": [
    "### Exercise\n",
    "Create a new version of the cuboid program that reads length, width and height via the input function.\n",
    "\n",
    "**Notes:**\n",
    "- In the function `print()` you can output several parameters. These must be separated by commas.\n",
    "  Example: `print(a, b, c)`\n",
    "- In the function `print()` you can also pass `Strings` directly as parameters. Example: `print(\"The result is:\")`"
   ]
  },
  {
   "cell_type": "markdown",
   "metadata": {},
   "source": [
    "### Exercise 2\n",
    "\n",
    "Use the type() function to assign the type of the variable to `amount_us_presidencies`, then print it.\n"
   ]
  },
  {
   "cell_type": "code",
   "execution_count": null,
   "metadata": {},
   "outputs": [],
   "source": [
    "amount_us_presidencies = 46\n",
    "answer = #your function\n",
    "print(answer)"
   ]
  }
 ],
 "metadata": {
  "file_extension": ".py",
  "interpreter": {
   "hash": "ae5a99a2531053e9be9d669b7bfc08eaacd0186491e01eb4522a2d385742a1d5"
  },
  "kernelspec": {
   "display_name": "Python 3",
   "language": "python",
   "name": "python3"
  },
  "language_info": {
   "codemirror_mode": {
    "name": "ipython",
    "version": 3
   },
   "file_extension": ".py",
   "mimetype": "text/x-python",
   "name": "python",
   "nbconvert_exporter": "python",
   "pygments_lexer": "ipython3",
   "version": "3.7.7"
  },
  "mimetype": "text/x-python",
  "name": "python",
  "npconvert_exporter": "python",
  "pygments_lexer": "ipython3",
  "version": 3
 },
 "nbformat": 4,
 "nbformat_minor": 2
}
