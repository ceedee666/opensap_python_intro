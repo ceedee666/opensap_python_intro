{
 "cells": [
  {
   "cell_type": "markdown",
   "metadata": {},
   "source": [
    "# Important functions and methods for complex data types\n",
    "This unit serves as a recap to summarize the important functions and methods for\n",
    "[Lists](https://docs.python.org/3/library/stdtypes.html#lists),\n",
    "[Tuples](https://docs.python.org/3/library/stdtypes.html#tuples) and\n",
    "[Dictionaries](https://docs.python.org/3/library/stdtypes.html#mapping-types-dict).\n",
    "\n",
    "In the following table you can see an overview of different methods and functions and if they are working for the above\n",
    "data types:\n",
    "\n",
    "\n",
    "| Method             | Description                               | List | Tuple | Dictionary |\n",
    "| :----------------- | :---------------------------------------- | :--: | :---: | :--------: |\n",
    "| `.sort()`          | Sorts the object                          |  X   |       |            |\n",
    "| `.append(x)`       | Appends *x* to end of the object          |  X   |       |            |\n",
    "| `.pop(i)`          | Removes item at index *i* from the object |  X   |       |     X      |\n",
    "| `.insert(i, x)`    | Inserts *x* at index *i*                  |  X   |       |            |\n",
    "| `.remove(x)`       | Removes first occurrence of *x*           |  X   |       |            |\n",
    "| `.count(x)`        | Counts number of occurrences of *x*       |  X   |   X   |            |\n",
    "| `.index(x)`        | Returns index of *x*                      |  X   |   X   |            |\n",
    "| `.keys()`          | Returns all `keys` of dictionary          |      |       |     X      |\n",
    "| `.values()`        | Returns all `values` of dictionary        |      |       |     X      |\n",
    "| `.items()`         | Returns all `items` of dictionary         |      |       |     X      |\n",
    "| **Function**       |                                           |      |       |            |\n",
    "| `del object[item]` | Deletes *item* from *object*              |  X   |       |     X      |\n",
    "| `len(object)`      | Returns length of *object*                |  X   |   X   |     X      |\n",
    "| `min(object)`      | Returns smallest item of *object*         |  X   |   X   |     [<sup id=\"fn1-back\">1</sup>](#fn1)      |\n",
    "| `max(object)`      | Returns largest item of *object*          |  X   |   X   |     [<sup id=\"fn1-back\">1</sup>](#fn1)      |\n",
    "| `sorted()`         | Returns a sorted list of the input        |  X   |   X   |     [<sup id=\"fn1-back\">1</sup>](#fn1)      |\n",
    "\n",
    "\n",
    "At this point, it should be pretty obvious why the first 5 **methods** only work for lists - they modify the object and\n",
    "since tuples are immutable, those methods are not available.  \n",
    "For dictionaries, sorting is not necessary since the values are accessed using a `key` and not using an index. Inserting\n",
    "values into a dictionary uses another syntax and removing the first occurrence of a value does not make any sense since\n",
    "the dictionary can have any order and items are usually accessed using a key.  \n",
    "The last **methods** are dictionary specific, since lists and tuples do not have keys and values, hence they work only\n",
    "for this data type.\n",
    "\n",
    "The `del` keyword again only works for mutable data types and not for tuples. "
   ]
  },
  {
   "cell_type": "markdown",
   "metadata": {},
   "source": [
    "## Example\n",
    "\n",
    "The above mentioned methods could be used to identify which letters occurs most often in a text. Note that this\n",
    "example is only to illustrate the usage of the methods. A better solution would be to use a dictionary instead."
   ]
  },
  {
   "cell_type": "code",
   "execution_count": null,
   "metadata": {},
   "outputs": [],
   "source": [
    "text = \"lorem ipsum dolor sit amet, consectetur adipiscing elit, sed do eiusmod tempor incididunt ut labore et dolore magna aliqua. Ut enim ad minim veniam, quis nostrud exercitation ullamco laboris nisi ut aliquip ex ea commodo consequat.\"\n",
    "letters = \"abcdefghijklmnopqrstuvwxyz\"\n",
    "\n",
    "result = []\n",
    "for l in letters:\n",
    "    result.append(text.count(l))\n",
    "\n",
    "max_count = max(result)\n",
    "max_index = result.index(max_count)\n",
    "\n",
    "print(letters[max_index])"
   ]
  },
  {
   "cell_type": "markdown",
   "metadata": {},
   "source": [
    "# Footnote\n",
    "[<sup id=\"fn1\">1</sup>](#fn1-back) In general, the last three functions are also applicable for dictionaries. However, it is much more\n",
    "common to use these functions together with the values or keys of a dictionary. "
   ]
  }
 ],
 "metadata": {
  "interpreter": {
   "hash": "fb768b9b3ecf961ba38b0c7e836f7f85a23c08c1797458e7c652470f2ae90c9c"
  },
  "kernelspec": {
   "display_name": "Python 3",
   "language": "python",
   "name": "python3"
  },
  "language_info": {
   "codemirror_mode": {
    "name": "ipython",
    "version": 3
   },
   "file_extension": ".py",
   "mimetype": "text/x-python",
   "name": "python",
   "nbconvert_exporter": "python",
   "pygments_lexer": "ipython3",
   "version": "3.9.10"
  }
 },
 "nbformat": 4,
 "nbformat_minor": 2
}
