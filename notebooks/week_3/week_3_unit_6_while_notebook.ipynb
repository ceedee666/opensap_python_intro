{
 "cells": [
  {
   "cell_type": "markdown",
   "metadata": {},
   "source": [
    "# The [while](https://docs.python.org/3/reference/compound_stmts.html#while) loop\n",
    "\n",
    "You already know the `for` loop. There is a second loop, the `while` loop. The `while` loop offers more options, but is\n",
    "also a bit more complex in its usage.\n",
    "\n",
    "The `for` loop fits whenever you have a sequence, such as a list or a given number of elements like a `range`. However,\n",
    "there are also situations where no sequence is available and yet a certain operation needs to be repeated multiple times:\n",
    "- At the ATM a PIN has to be entered (again and again) until it is entered correctly\n",
    "- A number should be entered until it is actually a number and the input string can be converted to an integer\n",
    "- A user should answer questions until no new question comes up. In this case a `for` loop works only with \"trickery\",\n",
    "  it is better to use a `while` loop.\n",
    "\n",
    "\n",
    "## Syntax of the `while` loop\n",
    "\n",
    "A `while` loop is (in the simplest case) constructed as follows:\n",
    "\n",
    "```Python\n",
    "while condition:\n",
    "    statement1\n",
    "    statement2\n",
    "    ...\n",
    "    statementN\n",
    "```\n",
    "\n",
    "The loop begins with the keyword `while`, followed by a condition (like in an `if` branch) followed by a colon. The\n",
    "following block is indented as in all other control structures. When no more lines are indented, the `while` loop is\n",
    "finished and the program continues after the loop in the non-indented part.\n",
    "\n",
    "\n",
    "## Semantics of the `while` loop\n",
    "\n",
    "When the program reaches the loop, the condition behind the `while` keyword is checked. If this condition is `True`, the\n",
    "loop body is executed. At the end of the loop body, the program jumps back to the `while` and checks the condition\n",
    "again.  \n",
    "The loop is executed until the condition is `False`. After that, the program will continue after the\n",
    "loop.  \n",
    "What happens if the condition is `False` when the `while` loop is reached the first time? Then the loop body is simply\n",
    "skipped and the program continues directly after the loop.\n",
    "\n",
    "\n",
    "## Example: `input()` until a number is entered\n",
    "\n",
    "You know the problem: A number is to be entered via an `input()`. In order to execute calculations with the number, it\n",
    "must first be converted from a string to an number (e.g. an integer with the function `int()`). And if the user does\n",
    "not enter a number, the program crashes during the conversion."
   ]
  },
  {
   "cell_type": "code",
   "execution_count": null,
   "metadata": {},
   "outputs": [],
   "source": [
    "number = input(\"Please enter a number: \")\n",
    "number = int(number)"
   ]
  },
  {
   "cell_type": "markdown",
   "metadata": {},
   "source": [
    "This situation can be prevented with the help of a `while` loop: In the condition of the loop it is checked whether the\n",
    "input is a number (method `.isdecimal()`). As long as no number is entered, an `input()` must be entered again and\n",
    "again. Only when a number is finally entered, the conversion into a number takes place **after** the loop."
   ]
  },
  {
   "cell_type": "code",
   "execution_count": null,
   "metadata": {},
   "outputs": [],
   "source": [
    "# The loop runs until a suitable input is available\n",
    "number = \"x\"\n",
    "while not (number.isdecimal()):\n",
    "    number = input(\"Please enter number: \")\n",
    "\n",
    "number = int(number)\n",
    "print(number)"
   ]
  },
  {
   "cell_type": "markdown",
   "metadata": {},
   "source": [
    "One *imperfection* of the loop can already be seen in the above example: In order for the condition to be checked, the\n",
    "variable `number` must have been initialized previously. However **not** with a number, of course. The statement `number\n",
    "= \"x\"` has the only purpose to initialize the variable with something else than an integer.\n",
    "\n",
    "Alternatively, the following variant would also be possible:"
   ]
  },
  {
   "cell_type": "code",
   "execution_count": null,
   "metadata": {},
   "outputs": [],
   "source": [
    "# The loop runs until a suitable input is available\n",
    "number = input(\"Please enter number: \")\n",
    "while not (number.isdecimal()):\n",
    "    number = input(\"Please enter number: \")\n",
    "\n",
    "number = int(number)\n",
    "print(number)"
   ]
  },
  {
   "cell_type": "markdown",
   "metadata": {},
   "source": [
    "In this case, the statement in line two is not quite as \"meaningless\" as before. However, you now have an unpleasant\n",
    "code, since the same `input` statement appears twice in quick succession. This does not look like an elegant programming\n",
    "style either. Question: Why is the statement `int(number)` in both programs only allowed after the loop?\n",
    "\n",
    "\n",
    "## Example: Correct PIN\n",
    "In the following example a secret PIN is given. The user is supposed to enter a PIN and only gets further (i.e. past the\n",
    "`while` loop) when the correct PIN has been entered. Basically the program structure is very similar to the program\n",
    "above."
   ]
  },
  {
   "cell_type": "code",
   "execution_count": null,
   "metadata": {},
   "outputs": [],
   "source": [
    "secret_pin = 1234\n",
    "\n",
    "pin = int(input(\"Please enter PIN: \"))\n",
    "\n",
    "while pin != secret_pin:\n",
    "    print(\"The PIN was wrong.\")\n",
    "    pin = int(input(\"Please enter PIN: \"))\n",
    "\n",
    "print(pin, \"is correct\")"
   ]
  },
  {
   "cell_type": "markdown",
   "metadata": {},
   "source": [
    "In reality, you may not try a PIN that often until you succeed. At the ATM, it typically ends after three attempts. How\n",
    "can this be represented in the loop?\n",
    "\n",
    "A more complicated condition is needed that checks if the PIN is ok but also checks the number of attempts. In the\n",
    "following example exactly this is realized."
   ]
  },
  {
   "cell_type": "code",
   "execution_count": null,
   "metadata": {},
   "outputs": [],
   "source": [
    "secret_pin = 1234\n",
    "\n",
    "pin = int(input(\"Please enter PIN: \"))\n",
    "tries = 1\n",
    "\n",
    "while (pin != secret_pin) and (tries < 3):\n",
    "    print(\"The PIN was wrong.\")\n",
    "    pin = int(input(\"Please enter PIN: \"))\n",
    "    tries += 1\n",
    "\n",
    "if pin == secret_pin:\n",
    "    print(pin, \"is correct\")\n",
    "else:\n",
    "    print(\"You entered the wrong PIN three times, your card will be confiscated.\")"
   ]
  },
  {
   "cell_type": "markdown",
   "metadata": {},
   "source": [
    "This program has several *imperfections*, too. A second variable `attempts` is needed, which is initialized before the\n",
    "loop and must be incremented in the loop. After the loop it is not directly recognizable *why* the loop was terminated.\n",
    "Was the PIN correct or was the number of attempts exceeded? Since this is not directly clear, an `if` query must be used\n",
    "first."
   ]
  },
  {
   "cell_type": "markdown",
   "metadata": {},
   "source": [
    "# Example: Simple counter\n",
    "In the above example a counter (`tries`) was needed. This counting up of variables is relatively simple on the one hand,\n",
    "on the other hand very error-prone. \n",
    "\n",
    "In the following, the numbers 1 - 10 are to be output via `print()` with the help of a `while` loop."
   ]
  },
  {
   "cell_type": "code",
   "execution_count": null,
   "metadata": {},
   "outputs": [],
   "source": [
    "# Simple counter\n",
    "# The following program is to count from 1 - 10\n",
    "i = 1\n",
    "while i <= 10:\n",
    "    print(i)\n",
    "    i += 1"
   ]
  },
  {
   "cell_type": "markdown",
   "metadata": {},
   "source": [
    "It looks pretty straightforward, and it actually is. **But** the trick is in the details: Depending on how the program\n",
    "is structured, it reacts differently in detail:\n",
    "- Should the i be initialized with 1 or with 0?\n",
    "- Should the condition be `i <= 10` or `i < 10`?\n",
    "- Should the i be compared with a 10 or with an 11?\n",
    "- Should the increment (`i += 1`) come before or after the `print()` in the loop body?\n",
    "\n",
    "All these small differences lead to different behaviours of the program. Therefore, when using `while` loops, especially\n",
    "the boundary values should always be checked. Try to manipulate the above program yourself with these changes and make a\n",
    "prediction what the output of the program will be.\n",
    "\n",
    "\n",
    "# A classic error: The infinite loop\n",
    "Another error that can occur is the loop that never stops - the infinite loop. Such a loop is present when the condition\n",
    "always remains `True`. In case of the above example, if the increment is forgotten in the loop body.  \n",
    "Note: To stop the endless loop, you must press the Stop button at the top."
   ]
  },
  {
   "cell_type": "code",
   "execution_count": null,
   "metadata": {},
   "outputs": [],
   "source": [
    "# The following program is to count from 1 - 10\n",
    "i = 1\n",
    "while i <= 10:\n",
    "    print(i)\n",
    "    # Because of the commented out (forgotten) increment, the loop runs endlessly.\n",
    "    # i += 1"
   ]
  },
  {
   "cell_type": "markdown",
   "metadata": {},
   "source": [
    "It is much easier to implement the previous two examples using a `for` loop. This implementation is more robust \n",
    "as no manual checking of the boundary cases is required. If possible you should always choose a `for` loop, it's simpler and less error prone.\n",
    "\n",
    "# Example: Guessing a random number\n",
    "\n",
    "An example where the `while` loop comes in handy is the following: A random number between 1 and 100 is generated.\n",
    "Unlike the PIN program, this secret number is not known to the reader of the program. The number should be guessed. If\n",
    "guessed incorrectly, there is a hint that the number searched for is either larger or smaller than the number just\n",
    "guessed. If the number is found, the loop terminates."
   ]
  },
  {
   "cell_type": "code",
   "execution_count": null,
   "metadata": {},
   "outputs": [],
   "source": [
    "import random\n",
    "\n",
    "secret_number = random.randint(1, 100)\n",
    "\n",
    "guessed_number = int(input(\"Please guess a number: \"))\n",
    "\n",
    "while guessed_number != secret_number:\n",
    "    if guessed_number < secret_number:\n",
    "        print(\"The number\", guessed_number, \"was too small.\")\n",
    "    else:\n",
    "        print(\"The number\", guessed_number, \"was too big.\")\n",
    "\n",
    "    guessed_number = int(input(\"Please guess a number: \"))\n",
    "\n",
    "print(\"Correct!\", guessed_number, \"was the number you were looking for.\")"
   ]
  },
  {
   "cell_type": "markdown",
   "metadata": {},
   "source": [
    "# Exiting the loop with a `break`\n",
    "\n",
    "A `while` loop can be exited early using the `break` statement. If the `break` statement is executed, the\n",
    "loop is exited immediately. Also the condition is not checked any more. The `break`\n",
    "only makes sense in combination with an `if` query inside the loop.\n",
    "\n",
    "With the help of the `break` some things can be programmed surprisingly easy. Several students are to be read in (like\n",
    "in Unit 3-1 for tuples). Each student \"consists\" of matriculation number, name, first name. It is not clear how many\n",
    "students will be generated, so a `while` loop is appropriate. The loop should be terminated if an \"empty entry\" is made\n",
    "for the matriculation number, i.e. if the return key is simply pressed. The problem can be solved very nicely as\n",
    "follows."
   ]
  },
  {
   "cell_type": "code",
   "execution_count": null,
   "metadata": {},
   "outputs": [],
   "source": [
    "list_of_students = []\n",
    "\n",
    "while True:\n",
    "    matnr = input(\"Enter matriculation number: \")\n",
    "    if matnr == \"\":\n",
    "        break\n",
    "    name = input(\"Enter name: \")\n",
    "    firstname = input(\"Enter first name: \")\n",
    "    list_of_students.append((matnr, name, firstname))\n",
    "\n",
    "print(list_of_students)"
   ]
  },
  {
   "cell_type": "markdown",
   "metadata": {},
   "source": [
    "The beginning `while True:` actually ensures an endless loop, because `True` is always true. The loop can now only be\n",
    "exited with the `break` statement. After the first `input()`, it is checked whether there is a condition for ending the loop\n",
    "and if so, the `break` is called. That means the further `input()`s are not executed any more."
   ]
  },
  {
   "cell_type": "markdown",
   "metadata": {},
   "source": [
    "## Exercise: Increasing value\n",
    "The value of a property increases by *p* percent every year. Write a program that calculates the value of the property\n",
    "for each year until the value has doubled. Use `input()` to ask for the percentage and the initial value.  \n",
    "\n",
    "Example input:\n",
    "\n",
    "```\n",
    "What is the value of the property? 10000  \n",
    "By what percentages does the value increase per year? 5\n",
    "```\n",
    "\n",
    "\n",
    "Example output:\n",
    "\n",
    "```\n",
    "Year 0 - 10000.0  \n",
    "Year 1 - 10500.0 \n",
    "Year 2 - 11025.0\n",
    "Year 3 - 11576.25\n",
    "...\n",
    "```\n"
   ]
  },
  {
   "cell_type": "code",
   "execution_count": null,
   "metadata": {},
   "outputs": [],
   "source": []
  }
 ],
 "metadata": {
  "kernelspec": {
   "display_name": "Python 3",
   "language": "python",
   "name": "python3"
  },
  "language_info": {
   "codemirror_mode": {
    "name": "ipython",
    "version": 3
   },
   "file_extension": ".py",
   "mimetype": "text/x-python",
   "name": "python",
   "nbconvert_exporter": "python",
   "pygments_lexer": "ipython3",
   "version": "3.9.10"
  }
 },
 "nbformat": 4,
 "nbformat_minor": 2
}
