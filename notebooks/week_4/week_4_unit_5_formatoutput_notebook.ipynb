{
 "cells": [
  {
   "cell_type": "markdown",
   "metadata": {},
   "source": [
    "# Formatting output\n",
    "Up to now you have often used the output with the function `print()`. Either with one or with several arguments.\n",
    "The output of the `print()` function can still be customized to make the output a bit more readable, for example.\n",
    "\n",
    "If you look at the output of the next cell, you can see some properties of `print()`:"
   ]
  },
  {
   "cell_type": "code",
   "execution_count": null,
   "metadata": {},
   "outputs": [],
   "source": [
    "x = 10\n",
    "y = 20\n",
    "print(\"Simple output\")\n",
    "print(x, \"is a number\")\n",
    "print(x, \"times\", y, \"is\", x * y)"
   ]
  },
  {
   "cell_type": "markdown",
   "metadata": {},
   "source": [
    "- You can pass different data types (`int`, `string`, ...)\n",
    "- `print()` can be called with one or more arguments which must be separated by a comma\n",
    "- Between two arguments, `print()` always inserts a space at the output\n",
    "- At the end of the output there is always a line break, i.e. the next `print()` always writes to the next line\n",
    "\n",
    "When seeing those properties, questions arise:\n",
    "- Is it possible to separate the arguments by something different than a space (e.g. *nothing* or a colon)?\n",
    "- How can you continue to output in the same line when using the `print()` function a second time?"
   ]
  },
  {
   "cell_type": "markdown",
   "metadata": {},
   "source": [
    "## The `sep` and `end` parameters\n",
    "With the help of the parameters `sep` and `end` exactly this behaviour can be achieved. With the help of `sep` the\n",
    "separator is defined, which stands between the arguments. The default value - that is, the value that is used if nothing\n",
    "else is explicitly specified - is the space character. For example, `sep=\".\"` can be used to select the period as the\n",
    "separator.  \n",
    "Similarly, the `end` parameter specifies how to proceed at the end of the output. The default value is the line break.\n",
    "This can be specified with `\\n`. Some more explanation will be discussed in more detail in week 5."
   ]
  },
  {
   "cell_type": "code",
   "execution_count": null,
   "metadata": {},
   "outputs": [],
   "source": [
    "print(192, 168, 1, 1, sep=\".\")\n",
    "print(\"abc\", \"def\", \"ghi\", sep=\"\")"
   ]
  },
  {
   "cell_type": "markdown",
   "metadata": {},
   "source": [
    "## Formatting a string output using *formatted string literals*\n",
    "Since Python 🐍 v3.6 you can use\n",
    "[formatted string literals](https://docs.python.org/3/reference/lexical_analysis.html#formatted-string-literals) to\n",
    "format your output strings. To use the \"f-strings\", you need to create an f-string by prefixing your `string` with an\n",
    "`f`. In this string you can use curly brackets `{}` with a variable name inside for example. The expression in the\n",
    "brackets will be evaluated and replaced in the string before it will be sent to the output.  \n",
    "Using this, the above example can be implemented pretty straightforward like shown in the cell below:"
   ]
  },
  {
   "cell_type": "code",
   "execution_count": null,
   "metadata": {},
   "outputs": [],
   "source": [
    "print(f\"{x} times {y} is {x*y}\")"
   ]
  },
  {
   "cell_type": "markdown",
   "metadata": {},
   "source": [
    "Inside the curly braces you can even use function calls which will be evaluated when your program is executed, like\n",
    "shown in the cell below."
   ]
  },
  {
   "cell_type": "code",
   "execution_count": null,
   "metadata": {},
   "outputs": [],
   "source": [
    "print(f\"Why did you enter {input()} into this program?\")"
   ]
  },
  {
   "cell_type": "markdown",
   "metadata": {},
   "source": [
    "## Exercise: Multiplication 101\n",
    "Create a Multiplication 101 (remember?) using two `for` loops. However, the results are to be output line by line as\n",
    "follows:\n",
    "\n",
    "1 2 3 ... 9 10  \n",
    "2 4 6 ..... 20  \n",
    "\n",
    "\n",
    "10 20 .... 100"
   ]
  },
  {
   "cell_type": "code",
   "execution_count": null,
   "metadata": {},
   "outputs": [],
   "source": []
  },
  {
   "cell_type": "markdown",
   "metadata": {},
   "source": [
    "## Alignment using formatted string literals\n",
    "\n",
    "In the previous exercise the result did not look very nice. The reason is, that the resulting values were not aligned nicely.\n",
    "Using formatted string literals it is also possible to specify additional format information after a colon. This is shown in the following cell."
   ]
  },
  {
   "cell_type": "code",
   "execution_count": null,
   "metadata": {},
   "outputs": [],
   "source": [
    "products = [(\"Dining Table\", 3, 199.90), (\"Chair\", 12, 39.59), (\"Shelf\", 5, 9.90)]\n",
    "\n",
    "for product in products:\n",
    "    print(\n",
    "        f\"{product[0]:15s} Count: {product[1]:3d} Price: {product[2]:6.2f} Total: {product[1]*product[2]:6.2f}\"\n",
    "    )"
   ]
  },
  {
   "cell_type": "markdown",
   "metadata": {},
   "source": [
    "In the string literals it is possible to specify the format and the width of the content. For example, `:15s` states that the \n",
    "value should be 15 characters wide and is a string. As a result the data is left aligned. `:3d` states that the value is a decimal integer and\n",
    "should be 3 characters wide. Finally, `:6.2f` states that the data is a floating point number with 2 decimal digits and a total width of 6 characters. \n",
    "\n",
    "The complete description of the possible formatting options is available in the [Python documentation](https://docs.python.org/3/library/string.html#formatspec)"
   ]
  },
  {
   "cell_type": "markdown",
   "metadata": {},
   "source": [
    "## Exercise: Beautify the Multiplication 101\n",
    "Create a new version of the *Multiplication 101* with the numbers all nicely placed in columns."
   ]
  },
  {
   "cell_type": "code",
   "execution_count": null,
   "metadata": {},
   "outputs": [],
   "source": []
  }
 ],
 "metadata": {
  "file_extension": ".py",
  "kernelspec": {
   "display_name": "Python 3 (ipykernel)",
   "language": "python",
   "name": "python3"
  },
  "language_info": {
   "codemirror_mode": {
    "name": "ipython",
    "version": 3
   },
   "file_extension": ".py",
   "mimetype": "text/x-python",
   "name": "python",
   "nbconvert_exporter": "python",
   "pygments_lexer": "ipython3",
   "version": "3.9.10"
  },
  "mimetype": "text/x-python",
  "name": "python",
  "npconvert_exporter": "python",
  "pygments_lexer": "ipython3",
  "version": 3
 },
 "nbformat": 4,
 "nbformat_minor": 2
}
