{
 "cells": [
  {
   "cell_type": "markdown",
   "metadata": {},
   "source": [
    "# Reading data from files\n",
    "How to read from a file now? Files are organized sequentially as mentioned before, i.e. they consist of consecutive\n",
    "lines. For processing sequences the `for` loop is suitable. Specifically, one can iterate over the lines of a file like\n",
    "follows:"
   ]
  },
  {
   "cell_type": "code",
   "execution_count": null,
   "metadata": {},
   "outputs": [],
   "source": [
    "# open file\n",
    "with open(\"lorem_ipsum.txt\", \"r\") as file:\n",
    "    # read file line by line and output the lines\n",
    "    for line in file:\n",
    "        print(line)"
   ]
  },
  {
   "cell_type": "markdown",
   "metadata": {},
   "source": [
    "If you compare the output of the program with the content of the file (e.g. in a text editor), you notice that blank\n",
    "lines have been added to the output. What is the reason for this?  \n",
    "At the end of each line there is a line break `\\n` in the text file. This is only visible indirectly, because the text\n",
    "continues on the next line. On output, the function `print()` adds another line break, hence the blank line. \n",
    "\n",
    "You can correct this behaviour in several ways. One way is to set the `end` parameter in the `print()` function to an\n",
    "empty character `end = \"\"`.  \n",
    "Another way is to *strip* the line first. For strings there is a method `.strip()`. This removes spaces, tabs and line\n",
    "breaks at the beginning and at the end of a string. `.strip()` is often used when reading forms to prevent a leading\n",
    "space from changing the input. With one optional argument, you could also specify which characters should be removed.  \n",
    "Alternatively, `.lstrip()` or `.rstrip()` can be used. In this case something is deleted only left or right of the\n",
    "string."
   ]
  },
  {
   "cell_type": "code",
   "execution_count": null,
   "metadata": {},
   "outputs": [],
   "source": [
    "# Open file\n",
    "with open(\"lorem_ipsum.txt\", \"r\") as file:\n",
    "    # read file line by line, strip from  and output the lines\n",
    "    for line in file:\n",
    "        line = line.strip()\n",
    "        print(line)"
   ]
  },
  {
   "cell_type": "markdown",
   "metadata": {},
   "source": [
    "## Output the contents of a file twice\n",
    "In the following program, the `for` loop is run twice. What does the output look like? Why?"
   ]
  },
  {
   "cell_type": "code",
   "execution_count": null,
   "metadata": {},
   "outputs": [],
   "source": [
    "# open file\n",
    "with open(\"lorem_ipsum.txt\", \"r\") as file:\n",
    "    # read file line by line and print the lines\n",
    "    print(\"First round\")\n",
    "    for line in file:\n",
    "        line = line.strip()\n",
    "        print(line)\n",
    "\n",
    "    # read file line by line and print the lines\n",
    "    print(\"Second round\")\n",
    "    for line in file:\n",
    "        line = line.strip()\n",
    "        print(line)"
   ]
  },
  {
   "cell_type": "markdown",
   "metadata": {},
   "source": [
    "When reading a file, the \"read cursor\" or \"read pointer\" is moved character by character over the file. If the *read\n",
    "pointer* arrives at the end of the file and is **not** reset or set to another position, it can not continue reading as\n",
    "the file ends there. To place the *read cursor*, the method `.seek()` can be used. However, this is beyond the scope of the course. "
   ]
  },
  {
   "cell_type": "markdown",
   "metadata": {},
   "source": [
    "## Read a file into a list in one go\n",
    "It is possible that the line breaks are superfluous and only exist because a paper page has a limited width for example.\n",
    "In this case, it may make sense to read the entire text \"in one go\" without iterating over the lines using a loop. The\n",
    "method `.readlines()` is useful for this. The result is a list with entry per line."
   ]
  },
  {
   "cell_type": "code",
   "execution_count": null,
   "metadata": {},
   "outputs": [],
   "source": [
    "# Open file\n",
    "with open(\"lorem_ipsum.txt\", \"r\") as file:\n",
    "    # read file in one go\n",
    "    line = file.readlines()\n",
    "    print(line)"
   ]
  },
  {
   "cell_type": "markdown",
   "metadata": {},
   "source": [
    "It might be, that actually there are no line breaks, i.e. there is just one long line. Some editors or text processing programs will add an \"optical line break\". That means, there is no `/n` character. To avoid using the horizontal scrollbar, the editor or text processor breaks the line anyhow. In this case, `.readlines()` will lead to a list with only **one** entry. Depending on the program you are using, it might not be possible to see if there is a real line break or just an \"optical\" one. Thus, one should take care and double check the result of the program."
   ]
  },
  {
   "cell_type": "markdown",
   "metadata": {},
   "source": [
    "# Exercise 1:\n",
    "In the file `numbers2.txt` there is one number per line. Read the file and sum up the numbers. Output your result."
   ]
  },
  {
   "cell_type": "code",
   "execution_count": null,
   "metadata": {},
   "outputs": [],
   "source": []
  }
 ],
 "metadata": {
  "file_extension": ".py",
  "kernelspec": {
   "display_name": "Python 3",
   "language": "python",
   "name": "python3"
  },
  "language_info": {
   "codemirror_mode": {
    "name": "ipython",
    "version": 3
   },
   "file_extension": ".py",
   "mimetype": "text/x-python",
   "name": "python",
   "nbconvert_exporter": "python",
   "pygments_lexer": "ipython3",
   "version": "3.7.7"
  },
  "mimetype": "text/x-python",
  "name": "python",
  "npconvert_exporter": "python",
  "pygments_lexer": "ipython3",
  "version": 3
 },
 "nbformat": 4,
 "nbformat_minor": 2
}
