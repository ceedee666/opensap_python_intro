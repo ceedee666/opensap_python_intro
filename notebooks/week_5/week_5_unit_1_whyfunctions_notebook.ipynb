{
 "cells": [
  {
   "cell_type": "markdown",
   "metadata": {},
   "source": [
    "# Why are functions necessary?\n",
    "## Motivation\n",
    "\n",
    "One of the basic concepts of mathematics is that of functions. A function $ f $ assigns to each element $ x $ of\n",
    "a set $ D $ one element $ y $ of a set $ E $ ($ D $ and $ E $ can be the same like in the examples below). The following examples show some well known functions.\n",
    "\n",
    "Examples:\n",
    "\n",
    "* $ f (x) = x ^ 2 \\text{ for } x \\in \\mathbb{N} $\n",
    "* $ s (x, y) = x + y $ for $ x \\in \\mathbb{R} $\n",
    "\n",
    "A function is therefore clearly defined by its parameters and the associated mapping rule(s).\n",
    "\n",
    "\n",
    "## Functions in programming\n",
    "A function in programming\n",
    "usually consists of a *name*, a series of *(input-)parameters* and some *statements*, which define, what the function is actually doing. Furthermore,\n",
    "functions usually yield some result. \n",
    "\n",
    "The main goals of functions \n",
    "in programming are: \n",
    "\n",
    "- to structure programs\n",
    "- to make programs more readable\n",
    "- to enable reuse. \n",
    "\n",
    "As an example consider the following small program:"
   ]
  },
  {
   "cell_type": "code",
   "execution_count": null,
   "metadata": {},
   "outputs": [],
   "source": [
    "names = [\"Christian\", \"Stephan\", \"Lukas\"]\n",
    "\n",
    "for name in names:\n",
    "    print(\"Hallo\", name)"
   ]
  },
  {
   "cell_type": "markdown",
   "metadata": {},
   "source": [
    "In this program the `print()` function, a predefined function in Python, is used to create\n",
    "some output. Using the `print()` function has several advantages:\n",
    "\n",
    "1. The `print()` function is reusable. We already used it in several of our programs\n",
    "1. The `print()` function makes the program more readable \n",
    "    - as it gives a name to some functionality (`print` in this case)\n",
    "    - because the details of the implementation of the functionality are hidden\n",
    "\n",
    "The content of this week focuses on writing functions in Python and using them to structure programs."
   ]
  },
  {
   "cell_type": "markdown",
   "metadata": {},
   "source": [
    "# Functions in Python\n",
    "As already mentioned in the previous section we have already used some functions from the Python standard library. For\n",
    "example, we already used the function [`print()`](https://docs.python.org/3/library/functions.html#print) to create\n",
    "output or the function [`int()`](https://docs.python.org/3/library/functions.html#int) to convert other data types into\n",
    "an integer.\n",
    "\n",
    "Of course, as in other programming languages, it is also possible to define own functions in Python. The following cell\n",
    "shows the definition of a simple function `double()`. This function doubles the value of a passed parameter and returns\n",
    "the result."
   ]
  },
  {
   "cell_type": "code",
   "execution_count": null,
   "metadata": {},
   "outputs": [],
   "source": [
    "def double(x):\n",
    "    \"\"\"\n",
    "    Doubles the value x\n",
    "    \"\"\"\n",
    "    return x * 2"
   ]
  },
  {
   "cell_type": "markdown",
   "metadata": {},
   "source": [
    "If you execute the above cell, it seems, as if nothing would happen. Actually, the cell is only defining the function, but it is not executed yet. \n",
    "\n",
    "In the following cell, the function is now executed by simply *calling* it."
   ]
  },
  {
   "cell_type": "code",
   "execution_count": null,
   "metadata": {},
   "outputs": [],
   "source": [
    "d = double(21)\n",
    "print(d)\n",
    "\n",
    "print(double(\"Hello \"))"
   ]
  },
  {
   "cell_type": "markdown",
   "metadata": {},
   "source": [
    "Functions in Python are defined using the following syntax:\n",
    "\n",
    "```python\n",
    "def function_name(parameter_list):\n",
    "    \"\"\"\n",
    "    docstring\n",
    "    \"\"\"\n",
    "    statements\n",
    "    return output_value(s)\n",
    "```\n",
    "\n",
    "A function in Python consists of the following components:\n",
    "\n",
    "- The keyword `def` followed by a *function name*. The function name can be used to call the function\n",
    "- An optional *parameter list*. The parameter list can, therefore, be empty or contain multiple parameters. Several\n",
    "  parameters are separated by commas\n",
    "- An optional *docstring (between the `\"\"\"`)*. It can be used to add a documentation for the function\n",
    "- The function body. The function body is a code block consisting of statements and optional return values\n",
    "    - As with all code blocks in Python the functional body is indented\n",
    "    - The function body must contain at least one statement\n",
    "    - Optional: The keyword `return` followed by one or several return values, which are separated by commas\n",
    "\n",
    "These components of a function comprises are explained in detail in the following units. First, however, it is described, what happens, when a function is called."
   ]
  },
  {
   "cell_type": "markdown",
   "metadata": {},
   "source": [
    "## Function calls \n",
    "\n",
    "The cell below contains a Python program consisting of several parts. First, a function `greet()` is defined. Next, this\n",
    "function is called two times with different parameters."
   ]
  },
  {
   "cell_type": "code",
   "execution_count": null,
   "metadata": {},
   "outputs": [],
   "source": [
    "def greet(name):\n",
    "    return \"May the force be with you, \" + name\n",
    "\n",
    "\n",
    "n = \"Luke\"\n",
    "greeting = greet(n)\n",
    "print(greeting)\n",
    "\n",
    "print(greet(\"Christian\"))"
   ]
  },
  {
   "cell_type": "markdown",
   "metadata": {},
   "source": [
    "If this Python program is executed, the function `greet()` is defined first. This definition has no output. Then the\n",
    "function `greet()` is called twice with different parameters. The result of the function calls is displayed using a call\n",
    "to the function `print()`.\n",
    "\n",
    "The execution of the program is shown graphically in the figure below.\n",
    "\n",
    "![Calling a function](img/function_calls.drawio.png)"
   ]
  },
  {
   "cell_type": "markdown",
   "metadata": {},
   "source": [
    "First, the variable n is set to the value `\"Luke\"`. Then the function `greet()` is called and the variable `n` is passed\n",
    "as a parameter. By calling the function, the value of the variable `n` is assigned to the parameter `name`. Inside the\n",
    "function the parameter `name` has now the value `\"Luke\"`.  \n",
    "The result of the function is constructed by concatenating value `\"May the force be with you, \"` and the value of the\n",
    "parameter `name`. The outcome is `\"May the force be with you, Luke\"`.  \n",
    "It is returned from the function. In the example the returned value is assigned to the variable `greeting`. Finally, the\n",
    "value of the variable greeting is displayed by calling the function `print()`. \n",
    "\n",
    "In the next step the function `greet()` is called again. This time the string `\"Christian\"` is passed as a parameter.\n",
    "The return value of the function is, therefore `\"May the force be with you, Christian\"`. This result is passed to the\n",
    "`print()` function directly without assigning it to any variable first."
   ]
  },
  {
   "cell_type": "markdown",
   "metadata": {},
   "source": [
    "## Documenting what a function is all about: `docstring`\n",
    "As already mentioned above, one reason to use function is *reusability*. Certain functionality is required again and again. It makes sense to provide this functionality once, so that not every programmer has to implement it again and again.\n",
    "\n",
    "If a function is provided, then it is necessary to give information, what this function is all about and *how to use this function*. To keep this explanation together with the actual implementation, the `docstring` can be used. To access this explanation, simply type the name of the function followed by a question mark `?` into a cell and execute this cell.\n",
    "\n",
    "Run the following cell, compare the information given, with the text entered in the docstring above. What additional information is provided? Try to access information about other functions like `print` or `int`."
   ]
  },
  {
   "cell_type": "code",
   "execution_count": null,
   "metadata": {},
   "outputs": [],
   "source": [
    "double?"
   ]
  }
 ],
 "metadata": {
  "interpreter": {
   "hash": "9fd0e282e2343d8b38b390b803aabc7fcea80a18eee8e5bd23ce64f6435b30a1"
  },
  "kernelspec": {
   "display_name": "Python 3 (ipykernel)",
   "language": "python",
   "name": "python3"
  },
  "language_info": {
   "codemirror_mode": {
    "name": "ipython",
    "version": 3
   },
   "file_extension": ".py",
   "mimetype": "text/x-python",
   "name": "python",
   "nbconvert_exporter": "python",
   "pygments_lexer": "ipython3",
   "version": "3.9.10"
  }
 },
 "nbformat": 4,
 "nbformat_minor": 2
}
