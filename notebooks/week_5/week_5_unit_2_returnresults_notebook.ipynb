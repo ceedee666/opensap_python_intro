{
 "cells": [
  {
   "cell_type": "markdown",
   "metadata": {},
   "source": [
    "# Returning results from functions\n",
    "The previous examples already showed that functions have an optional return value. The return value of a function is\n",
    "defined using the `return` keyword. A function in Python only has one return value. If you want to return multiple\n",
    "values, they will be packed as one tuple and this will be the *one* return value of the function.\n",
    "\n",
    "The following cell shows an example of a function *without* a return value. This function simply prints a result. The\n",
    "return value is empty. This is shown using the special value `None`."
   ]
  },
  {
   "cell_type": "code",
   "execution_count": null,
   "metadata": {},
   "outputs": [],
   "source": [
    "def print_greeting():\n",
    "    print(\"No, I'm your father!\")\n",
    "\n",
    "\n",
    "empty_return_value = print_greeting()\n",
    "print(empty_return_value)"
   ]
  },
  {
   "cell_type": "markdown",
   "metadata": {},
   "source": [
    "The following cell show a similar function to the previous one.\n",
    "In this case the function returns the value `\"No, I'm your father!\"`."
   ]
  },
  {
   "cell_type": "code",
   "execution_count": null,
   "metadata": {},
   "outputs": [],
   "source": [
    "def famous_quote():\n",
    "    return \"No, I'm your father!\"\n",
    "\n",
    "\n",
    "greeting = famous_quote()\n",
    "print(greeting)"
   ]
  },
  {
   "cell_type": "markdown",
   "metadata": {},
   "source": [
    "Of course it is also possible to return other data types from functions."
   ]
  },
  {
   "cell_type": "code",
   "execution_count": null,
   "metadata": {},
   "outputs": [],
   "source": [
    "def the_answer_to_everything():\n",
    "    return 42\n",
    "\n",
    "\n",
    "print(\n",
    "    \"What is the Answer to Life, The Universe, and Everything?\",\n",
    "    the_answer_to_everything(),\n",
    ")"
   ]
  },
  {
   "cell_type": "code",
   "execution_count": null,
   "metadata": {},
   "outputs": [],
   "source": [
    "def is_python_the_best_programming_language():\n",
    "    return True\n",
    "\n",
    "\n",
    "if is_python_the_best_programming_language:\n",
    "    print(\"🐍\")"
   ]
  },
  {
   "cell_type": "markdown",
   "metadata": {},
   "source": [
    "In particular, it is also possible to return complex data types like lists or tuples from functions. "
   ]
  },
  {
   "cell_type": "code",
   "execution_count": null,
   "metadata": {},
   "outputs": [],
   "source": [
    "def ramones_records():\n",
    "    return [\"Ramones\", \"Leave Home\", \"Rocket to Russia\", \"Road to Ruin\"]\n",
    "\n",
    "\n",
    "for record in ramones_records():\n",
    "    print(\"I'm listening to\", record)"
   ]
  },
  {
   "cell_type": "markdown",
   "metadata": {},
   "source": [
    "## `return` ends the function\n",
    "\n",
    "It is important to note that a `return` statement immediately ends the execution of a function. Statements after the `return` statement are not executed anymore. This is shown in the following example:"
   ]
  },
  {
   "cell_type": "code",
   "execution_count": null,
   "metadata": {},
   "outputs": [],
   "source": [
    "def famous_quote():\n",
    "    return \"No, I'm your father!\"\n",
    "    print(\"--> This is not executed!\")\n",
    "\n",
    "\n",
    "print(famous_quote())"
   ]
  }
 ],
 "metadata": {
  "interpreter": {
   "hash": "9fd0e282e2343d8b38b390b803aabc7fcea80a18eee8e5bd23ce64f6435b30a1"
  },
  "kernelspec": {
   "display_name": "Python 3.9.7 64-bit ('opensap_python_intro-SgMpohZV': pipenv)",
   "name": "python3"
  },
  "language_info": {
   "codemirror_mode": {
    "name": "ipython",
    "version": 3
   },
   "file_extension": ".py",
   "mimetype": "text/x-python",
   "name": "python",
   "nbconvert_exporter": "python",
   "pygments_lexer": "ipython3",
   "version": "3.9.10"
  }
 },
 "nbformat": 4,
 "nbformat_minor": 2
}
