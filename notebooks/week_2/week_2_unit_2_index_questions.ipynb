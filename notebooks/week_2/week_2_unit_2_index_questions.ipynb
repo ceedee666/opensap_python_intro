{
 "cells": [
  {
   "cell_type": "markdown",
   "metadata": {},
   "source": [
    "# Self Test Questions\n",
    "\n",
    "## Question 1 - Free Text\n",
    "\n",
    "Given the following list \n",
    "\n",
    "```python\n",
    "fruit_list = [\"apple\", \"banana\", \"coconut\", \"damson\", \"elderberry\"]\n",
    "```\n",
    "\n",
    "Which index number can be used to access the item `\"elderberry\"`?\n",
    "\n",
    "### Answer\n",
    "\n",
    "4 or -1\n",
    "\n",
    "## Question 2 - Single Choice\n",
    "\n",
    "What is the output of the following Python program?"
   ]
  },
  {
   "cell_type": "code",
   "execution_count": null,
   "metadata": {},
   "outputs": [],
   "source": [
    "lottery_number = [2, 6, 21, 34, 43, 49]\n",
    "print(lottery[6])"
   ]
  },
  {
   "cell_type": "markdown",
   "metadata": {},
   "source": [
    "| Answer Options | correct / incorrect |\n",
    "| -------------- | ------------------- |\n",
    "| 49            | incorrect |\n",
    "| 2             | incorrect |\n",
    "| A error message | correct |"
   ]
  },
  {
   "cell_type": "markdown",
   "metadata": {},
   "source": []
  },
  {
   "cell_type": "markdown",
   "metadata": {},
   "source": [
    "## Question 3 - Free Text\n",
    "\n",
    "What is the output of the following Python program?"
   ]
  },
  {
   "cell_type": "code",
   "execution_count": null,
   "metadata": {},
   "outputs": [],
   "source": [
    "records = [\n",
    "    [\"Ramones\"],\n",
    "    [\"Leave\", \"Home\"],\n",
    "    [\"Rocket\", \"to\", \"Russia\"],\n",
    "    [\"Road\", \"to\", \"Ruin\"],\n"
    "]\n",
    "print(records[1][-1])"
   ]
  },
  {
   "cell_type": "markdown",
   "metadata": {},
   "source": [
    "### Answer\n",
    "\n",
    "Home or \"Home\""
   ]
  }
 ],
 "metadata": {
  "interpreter": {
   "hash": "ae5a99a2531053e9be9d669b7bfc08eaacd0186491e01eb4522a2d385742a1d5"
  },
  "kernelspec": {
   "display_name": "Python 3.9.6 64-bit ('opensap_python_intro-SgMpohZV': pipenv)",
   "name": "python3"
  },
  "language_info": {
   "codemirror_mode": {
    "name": "ipython",
    "version": 3
   },
   "file_extension": ".py",
   "mimetype": "text/x-python",
   "name": "python",
   "nbconvert_exporter": "python",
   "pygments_lexer": "ipython3",
   "version": "3.9.6"
  }
 },
 "nbformat": 4,
 "nbformat_minor": 2
}
