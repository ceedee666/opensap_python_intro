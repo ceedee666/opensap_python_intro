{
 "cells": [
  {
   "cell_type": "markdown",
   "metadata": {},
   "source": [
    "# What are lists in Python?\n",
    "# Motivation\n",
    "\n",
    "So far we have used only primitive data types in our programs. However, these primitive data types are quite limited. As an\n",
    "example consider the following task. You should write a Python 🐍 program that performs the following steps for a simple\n",
    "shopping list:\n",
    "- Let the user input several products of his/her shopping list \n",
    "- Once the user does not input further products\n",
    "    - Sort the products alphabetically\n",
    "    - Output the sorted shopping list\n",
    "\n",
    "Using only primitive data types and variables it is not possible to solve this task. The problem is that you do not know\n",
    "how many variables are necessary to store the user input before the program is executed. This is why complex\n",
    "data types like lists are necessary. These data types enable the storage of multiple items coherently."
   ]
  },
  {
   "cell_type": "markdown",
   "metadata": {},
   "source": [
    "# Lists in Python\n",
    "A `list` is one of the\n",
    "[sequence types](https://docs.python.org/3/library/stdtypes.html?highlight=list#sequence-types-list-tuple-range)\n",
    "in Python. We will learn about other sequence types in subsequent units.\n",
    "\n",
    "In Python square brackets (i.e. `[` and `]`) are used to create a list. The individual items of the list are separated\n",
    "by commas. Just like primitive data types, lists can be assigned to variables. The following example shows a simple list\n",
    "containing different integer values. This list is assigned to the variable `my_number_list`. Finally, the variable\n",
    "`my_number_list` is printed using the `print()` function."
   ]
  },
  {
   "cell_type": "code",
   "execution_count": null,
   "metadata": {},
   "outputs": [],
   "source": [
    "my_number_list = [0, 1, 1, 2, 3, 5, 8, 13, 21]\n",
    "print(my_number_list)"
   ]
  },
  {
   "cell_type": "markdown",
   "metadata": {},
   "source": [
    "Lists can not only contain numbers but any of the data types we have seen so far. In the following example lists\n",
    "containing different data types are created. The list `my_string_list` contains three strings, the list `my_float_list`\n",
    "two floating point numbers. Finally, the list `my_boolean_list` contains four boolean values."
   ]
  },
  {
   "cell_type": "code",
   "execution_count": null,
   "metadata": {},
   "outputs": [],
   "source": [
    "my_string_list = [\"Hello\", \"open\", \"SAP\"]\n",
    "my_float_list = [3.14, -6.63e-34]\n",
    "my_boolean_list = [True, False, False, True]\n",
    "\n",
    "print(my_string_list)"
   ]
  },
  {
   "cell_type": "markdown",
   "metadata": {},
   "source": [
    "It is even possible that lists contain elements of different data types.\n",
    "The `mixed_list` in the following example contains four integers, two strings, a floating point number and a boolean."
   ]
  },
  {
   "cell_type": "code",
   "execution_count": null,
   "metadata": {},
   "outputs": [],
   "source": [
    "my_mixed_list = [1, 3, 5, True, -23, \"a\", 3.234, \"abc\"]\n",
    "print(my_mixed_list)"
   ]
  },
  {
   "cell_type": "markdown",
   "metadata": {},
   "source": [
    "# Basic operations on lists\n",
    "Similar to the primitive data types there are a number of basic operation that can be performed on lists:\n",
    "\n",
    "| Description    | Operator | Example                              | Result               |\n",
    "| -------------- | -------- | ------------------------------------ | -------------------- |\n",
    "| Concatenation  | +        | `[1, 2] + [3, 4]`                    | `[1, 2, 3, 4]`       |\n",
    "| Multiplication | *        | `[1, 2] * 3` *or* <br/> `3 * [1, 2]` | `[1, 2, 1, 2, 1, 2]` |\n",
    "| Containment    | in       | `3 in [1, 2, 3]`                     | `True`               |\n",
    "\n",
    "The `+` operator can be used to concatenate two lists. The result is a new list containing elements of the first operand\n",
    "followed by the elements of the second operand. The `*` operator can be used to repeat a list a given number of times.\n",
    "In contrast to `+` and `*` the operator `in` is only defined for sequence types. It can be used to check if an element\n",
    "is contained in a list.\n",
    "\n",
    "The next example shows the usage of the `+` and the `*` operator."
   ]
  },
  {
   "cell_type": "code",
   "execution_count": null,
   "metadata": {},
   "outputs": [],
   "source": [
    "first_list = [1, 2, 3]\n",
    "second_list = [4, 5, 6]\n",
    "\n",
    "new_list = first_list + second_list\n",
    "print(new_list)\n",
    "\n",
    "print(3 * first_list)"
   ]
  },
  {
   "cell_type": "markdown",
   "metadata": {},
   "source": [
    "As mentioned above, the `in` operator is used to check if a list contains en element. The following cell contains an\n",
    "example in which the `in` operator is used to check if a number entered by the user is contained in a list of prime\n",
    "numbers."
   ]
  },
  {
   "cell_type": "code",
   "execution_count": null,
   "metadata": {},
   "outputs": [],
   "source": [
    "prime_numbers = [2, 3, 5, 7, 11, 13, 17, 19, 23, 29, 31, 37, 41, 43, 47]\n",
    "my_number = int(input(\"Please enter a number: \"))\n",
    "\n",
    "if my_number in prime_numbers:\n",
    "    print(\"The list contains the number\", my_number)\n",
    "else:\n",
    "    print(\"The list does not contain the number\", my_number)"
   ]
  }
 ],
 "metadata": {
  "interpreter": {
   "hash": "ac59ebe37160ed0dfa835113d9b8498d9f09ceb179beaac4002f036b9467c963"
  },
  "kernelspec": {
   "display_name": "Python 3",
   "language": "python",
   "name": "python3"
  },
  "language_info": {
   "codemirror_mode": {
    "name": "ipython",
    "version": 3
   },
   "file_extension": ".py",
   "mimetype": "text/x-python",
   "name": "python",
   "nbconvert_exporter": "python",
   "pygments_lexer": "ipython3",
   "version": "3.7.1"
  }
 },
 "nbformat": 4,
 "nbformat_minor": 2
}
