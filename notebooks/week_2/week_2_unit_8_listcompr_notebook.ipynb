{
 "cells": [
  {
   "cell_type": "markdown",
   "metadata": {},
   "source": [
    "# List Comprehension\n",
    "\n",
    "Lists are one of the core data structures in Python 🐍. Consequently, the Python programming language contains\n",
    "special features for working with lists. One of these features is *list comprehension*. According to the Python \n",
    "[documentation](https://docs.python.org/3/glossary.html#term-list-comprehension) list comprehension is \n",
    "\n",
    "> A compact way to process all or part of the elements in a sequence and return a list with the results. \n",
    "\n",
    "Using list comprehension it is possible to:\n",
    "\n",
    "- create a new list by performing an operation on the elements of an existing sequence\n",
    "- create a new list by filtering the elements of an existing sequence\n",
    "\n",
    "In this unit those two possibilities are introduced using examples.\n",
    "\n",
    "\n",
    "## Creating lists\n",
    "\n",
    "The first usage of list comprehension is to perform an operation on all elements of a sequence. As an example consider a\n",
    "list containing the numbers from 1 to 20. In order to create a list containing the squares of these numbers the following\n",
    "Python code can be used."
   ]
  },
  {
   "cell_type": "code",
   "execution_count": null,
   "metadata": {},
   "outputs": [],
   "source": [
    "numbers = list(range(1, 21))\n",
    "\n",
    "squares = []\n",
    "\n",
    "for number in numbers:\n",
    "    squares.append(number * number)\n",
    "\n",
    "print(\"The list of squares is:\", squares)"
   ]
  },
  {
   "cell_type": "markdown",
   "metadata": {},
   "source": [
    "In this example a list of numbers is created from a [`range`](https://docs.python.org/3/library/stdtypes.html#range).\n",
    "Next a `for` loop is used to calculate the square of every number in the list and append it to the list of squares\n",
    "stored in the variable `squares`.\n",
    "\n",
    "Using list comprehension the same functionality can be implemented much more concise and easier to read. This is shown\n",
    "in the following cell."
   ]
  },
  {
   "cell_type": "code",
   "execution_count": null,
   "metadata": {},
   "outputs": [],
   "source": [
    "numbers = list(range(1, 21))\n",
    "squares = [x ** 2 for x in numbers]\n",
    "\n",
    "print(\"The list of squares is:\", squares)"
   ]
  },
  {
   "cell_type": "markdown",
   "metadata": {},
   "source": [
    "A list comprehension creates a new list. Therefore, the main statements of the list comprehension are \n",
    "enclosed in square brackets. Inside the square brackets first the statement to create a list element is given.\n",
    "In the example above this is `x ** 2`. Next, the sequence, that is the basis of the list comprehension is specified. In\n",
    "the example above `for x in numbers` states that in turn every element of the list numbers is assigned to the variable `x`. \n",
    "In summary, the one line preforms the same operation as the for loop.\n",
    "\n",
    "If only the list of squares is needed the `range` could be used directly in the list comprehension. "
   ]
  },
  {
   "cell_type": "code",
   "execution_count": null,
   "metadata": {},
   "outputs": [],
   "source": [
    "squares = [x ** 2 for x in range(1, 21)]\n",
    "print(\"The list of squares is:\", squares)"
   ]
  },
  {
   "cell_type": "markdown",
   "metadata": {},
   "source": [
    "## Using multiple lists in a list comprehension\n",
    "\n",
    "It is even possible to use multiple lists inside a list comprehension. For example, to create a list containing all the\n",
    "combinations of two lists the following list comprehension can be used. This is much more concise and therefore more\n",
    "readable as the standard approach using two nested `for` loops. "
   ]
  },
  {
   "cell_type": "code",
   "execution_count": null,
   "metadata": {},
   "outputs": [],
   "source": [
    "letters = [\"A\", \"B\", \"C\"]\n",
    "numbers = [1, 2, 3]\n",
    "\n",
    "combinations = [l + str(n) for l in letters for n in numbers]\n",
    "\n",
    "print(\"The possible combinations of letters and numbers are:\", combinations)"
   ]
  },
  {
   "cell_type": "markdown",
   "metadata": {},
   "source": [
    "## Filtering lists\n",
    "\n",
    "As mentioned in the introduction, list comprehensions are also very useful in order to filter existing sequences. As an\n",
    "example consider a list containing songs and the number of times these songs were played. In order to create a list with\n",
    "all songs that were played at least 30 times, the following Python 🐍 code could be used."
   ]
  },
  {
   "cell_type": "code",
   "execution_count": null,
   "metadata": {},
   "outputs": [],
   "source": [
    "songs = [\n",
    "    [\"Ace of Spades\", 99],\n",
    "    [\"Anarchy in the UK\", 51],\n",
    "    [\"Blitzkrieg Bop\", 17],\n",
    "    [\"Blue Train\", 42],\n",
    "    [\"Dirty\", 23],\n",
    "    [\"No Sleep Til Brooklyn\", 15],\n",
    "    [\"Paranoid\", 33],\n",
    "]\n",
    "\n",
    "favorite_songs = []\n",
    "\n",
    "for song in songs:\n",
    "    if song[1] >= 30:\n",
    "        favorite_songs.append(song)\n",
    "\n",
    "print(\"The songs that were played at least 30 times are:\", favorite_songs)"
   ]
  },
  {
   "cell_type": "markdown",
   "metadata": {},
   "source": [
    "Using list comprehension the task can be solved as shown below."
   ]
  },
  {
   "cell_type": "code",
   "execution_count": null,
   "metadata": {},
   "outputs": [],
   "source": [
    "songs = [\n",
    "    [\"Ace of Spades\", 99],\n",
    "    [\"Anarchy in the UK\", 51],\n",
    "    [\"Blitzkrieg Bop\", 17],\n",
    "    [\"Blue Train\", 42],\n",
    "    [\"Dirty\", 23],\n",
    "    [\"No Sleep Til Brooklyn\", 15],\n",
    "    [\"Paranoid\", 33],\n",
    "]\n",
    "\n",
    "favorite_songs = [s for s in songs if s[1] >= 30]\n",
    "\n",
    "print(\"The songs that were played at least 30 times are:\", favorite_songs)"
   ]
  }
 ],
 "metadata": {
  "interpreter": {
   "hash": "9fd0e282e2343d8b38b390b803aabc7fcea80a18eee8e5bd23ce64f6435b30a1"
  },
  "kernelspec": {
   "display_name": "Python 3",
   "language": "python",
   "name": "python3"
  },
  "language_info": {
   "codemirror_mode": {
    "name": "ipython",
    "version": 3
   },
   "file_extension": ".py",
   "mimetype": "text/x-python",
   "name": "python",
   "nbconvert_exporter": "python",
   "pygments_lexer": "ipython3",
   "version": "3.7.7"
  }
 },
 "nbformat": 4,
 "nbformat_minor": 2
}
