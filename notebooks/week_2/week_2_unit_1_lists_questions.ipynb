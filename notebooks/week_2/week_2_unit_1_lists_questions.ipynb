{
 "cells": [
  {
   "cell_type": "markdown",
   "metadata": {},
   "source": [
    "# Self Test Questions\n",
    "\n",
    "## Question 1 - Single Choice\n",
    "\n",
    "Which syntax is used in Python to create a list?\n",
    "\n",
    "| Answer Options | correct / incorrect |\n",
    "| -------------- | --------------- |\n",
    "| `my_list = (1, 2, 3)` | false |\n",
    "| `my_list = [1, 2, 3]` | correct |\n",
    "| `my_list = {1, 2, 3}` | false |\n",
    "\n",
    "## Question 2 - Single Choice \n",
    "\n",
    "Python lists can only contain items of one data type.\n",
    "\n",
    "| Answer Options | correct / incorrect |\n",
    "| -------------- | --------------- |\n",
    "| The statement is true. | false |\n",
    "| The statement is false. | true |\n",
    "\n",
    "## Question 3 - Free Text \n",
    "\n",
    "| Question | Answer |\n",
    "| ---------| ------ |\n",
    "| What is the output of the following Python program? | \"pancakes\" or pancakes |"
   ]
  },
  {
   "cell_type": "code",
   "execution_count": null,
   "metadata": {},
   "outputs": [],
   "source": [
    "ingredients = [\"eggs\", \"flour\", \"milk\"]\n",
    "\n",
    "if \"apple\" in ingredients:\n",
    "    print(\"apple pancakes\")\n",
    "else:\n",
    "    print(\"pancakes\")"
   ]
  }
 ],
 "metadata": {
  "interpreter": {
   "hash": "ae5a99a2531053e9be9d669b7bfc08eaacd0186491e01eb4522a2d385742a1d5"
  },
  "kernelspec": {
   "display_name": "Python 3",
   "language": "python",
   "name": "python3"
  },
  "language_info": {
   "codemirror_mode": {
    "name": "ipython",
    "version": 3
   },
   "file_extension": ".py",
   "mimetype": "text/x-python",
   "name": "python",
   "nbconvert_exporter": "python",
   "pygments_lexer": "ipython3",
   "version": "3.7.1"
  }
 },
 "nbformat": 4,
 "nbformat_minor": 2
}
