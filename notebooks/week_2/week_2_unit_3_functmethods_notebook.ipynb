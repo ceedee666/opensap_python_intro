{
 "cells": [
  {
   "cell_type": "markdown",
   "metadata": {},
   "source": [
    "# Important functions and methods for lists\n",
    "# Introduction\n",
    "In the previous units we learned how to create lists and how to access list items using indices. Besides these basic\n",
    "operations [Python's standard library](https://docs.python.org/3/) offers a wide range of functions and methods to\n",
    "manipulate lists. Note that there\n",
    "is an important distinction between functions and methods regarding lists. We will use the correct terms in this course.\n",
    "However, the underlying details of the distinction are beyond the contents of this course and will therefore not be\n",
    "explained in detail.\n",
    "\n",
    "# Important functions\n",
    "\n",
    "First, we are going to introduce some of the important\n",
    "[functions](https://docs.python.org/3/library/stdtypes.html#common-sequence-operations) available for lists and strings\n",
    "(or sequence types to be precise).\n",
    "\n",
    "The following cell shows the usage of the `len()` function to get the length of a list or a string."
   ]
  },
  {
   "cell_type": "code",
   "execution_count": null,
   "metadata": {},
   "outputs": [],
   "source": [
    "fruit_list = [\"apple\", \"banana\", \"coconut\", \"pear\", \"prune\"]\n",
    "print(\"The fruit list contains\", len(fruit_list), \"items.\")\n",
    "\n",
    "course_name = \"Python Introduction\"\n",
    "print(course_name, \"consists of\", len(course_name), \"characters.\")"
   ]
  },
  {
   "cell_type": "markdown",
   "metadata": {},
   "source": [
    "The functions `min()` and `max()` can be used to get the smallest and largest item in a list. The example in the\n",
    "following cell uses a list of [SAP SE](https://en.wikipedia.org/wiki/SAP) stock prices. Using the `min()` and `max()`\n",
    "function the lowest and highest stock price in the list can be determined."
   ]
  },
  {
   "cell_type": "code",
   "execution_count": null,
   "metadata": {},
   "outputs": [],
   "source": [
    "sap_stock_price = [120.80, 121.68, 123.90, 125.46, 124.62, 124.88, 124.04, 123.54]\n",
    "print(\"The lowest price was:\", min(sap_stock_price), \"€.\")\n",
    "print(\"The highest price was:\", max(sap_stock_price), \"€.\")"
   ]
  },
  {
   "cell_type": "markdown",
   "metadata": {},
   "source": [
    "Using the function `sorted()` the items in a list can be sorted. Note that the function `sorted()` returns a new list\n",
    "instead of modifying the existing one. Again, this function can be used with any sequence type. Therefore, it is also\n",
    "possible to sort the characters in a string. In this case, however, the result is not a string but a list of characters."
   ]
  },
  {
   "cell_type": "code",
   "execution_count": null,
   "metadata": {},
   "outputs": [],
   "source": [
    "random_numbers = [7, 3, 6, 7, 12, 45, -21]\n",
    "sorted_numbers = sorted(random_numbers)\n",
    "print(random_numbers)\n",
    "print(sorted_numbers)\n",
    "\n",
    "print(sorted(\"Python Introduction\"))"
   ]
  },
  {
   "cell_type": "markdown",
   "metadata": {},
   "source": [
    "If the elements of a list cannot be compared, they cannot be sorted. In this case the `sorted()` function raises an\n",
    "error message."
   ]
  },
  {
   "cell_type": "code",
   "execution_count": null,
   "metadata": {},
   "outputs": [],
   "source": [
    "unsortable_list = [True, 56, \"abc\"]\n",
    "print(sorted(unsortable_list))"
   ]
  },
  {
   "cell_type": "markdown",
   "metadata": {},
   "source": [
    "# Important methods\n",
    "Besides the functions introduced above, there are also a large number of methods for lists. The syntax to execute a\n",
    "method is to add a `.` to the list name followed by the method name. This is called *invoking* a method. The first\n",
    "method we use is the `sort()` method. The following cell shows how to invoke the `sort()` method of a list."
   ]
  },
  {
   "cell_type": "code",
   "execution_count": null,
   "metadata": {},
   "outputs": [],
   "source": [
    "random_numbers = [7, 3, 6, 7, 12, 45, -21]\n",
    "random_numbers.sort()\n",
    "print(random_numbers)"
   ]
  },
  {
   "cell_type": "markdown",
   "metadata": {},
   "source": [
    "Methods are a part of an object (e.g. the list). Thus, they have to be called \n",
    "together with the objects name. More precisely: The method is executed or \n",
    "`invoked` by calling the object's name followed by a `.` followed by the \n",
    "method's name (cf. example above). In contras to methods, functions do not \n",
    "depend on an object. Thus, they are executed by simply calling their name. The object (e.g. the list) has to be handed over as an argument in parantheses (cf. example above).\n",
    "\n",
    "\n",
    "in the example above, the previously unsorted list `random_numbers` is sorted after the `sort()` method was invoked.  \n",
    "Compare this with the behaviour of the `sorted()` function. The function `sorted()` does not modify the list but instead\n",
    "returns a new, sorted list. \n",
    "\n",
    "Similarly, the methods `append()`,  `pop()`, `insert()`and `remove()` modify the list."
   ]
  },
  {
   "cell_type": "code",
   "execution_count": null,
   "metadata": {},
   "outputs": [],
   "source": [
    "numbers = [1, 2, 3, 4]\n",
    "numbers.append(10)\n",
    "print(numbers)"
   ]
  },
  {
   "cell_type": "markdown",
   "metadata": {},
   "source": [
    "Using the `append()` method, a new item can be added to the end of a list.\n",
    "In contrast to this, the method `pop()` can be used to remove the last element of a list and assign this element to a variable."
   ]
  },
  {
   "cell_type": "code",
   "execution_count": null,
   "metadata": {},
   "outputs": [],
   "source": [
    "numbers = [1, 2, 3, 4]\n",
    "last_item = numbers.pop()\n",
    "\n",
    "print(numbers)\n",
    "print(last_item)"
   ]
  },
  {
   "cell_type": "markdown",
   "metadata": {},
   "source": [
    "Append always adds items to the end of a list. In order to add an item at another position of the list the `insert()`\n",
    "method can be used. This method requires two parameters - a position and a value. In the example in the following cell\n",
    "the value 10 is inserted at index 2 of the `numbers` list."
   ]
  },
  {
   "cell_type": "code",
   "execution_count": null,
   "metadata": {},
   "outputs": [],
   "source": [
    "numbers = [1, 2, 3, 4]\n",
    "numbers.insert(2, 10)\n",
    "print(numbers)"
   ]
  },
  {
   "cell_type": "markdown",
   "metadata": {},
   "source": [
    "Using the `remove()` method, the fist occurrence of an item in the list can be removed."
   ]
  },
  {
   "cell_type": "code",
   "execution_count": null,
   "metadata": {},
   "outputs": [],
   "source": [
    "numbers = [1, 2, 3, 4, 3, 2, 1]\n",
    "numbers.remove(3)\n",
    "print(numbers)"
   ]
  },
  {
   "cell_type": "markdown",
   "metadata": {},
   "source": [
    "Note that this was only a small selection of the functions and methods available for lists. If you are looking for a\n",
    "particular functionality, it is a good approach to search in the [Python documentation](https://docs.python.org) for it.\n",
    "While you might find it difficult to read the documentation at first, you will quickly get used to it. Therefore, we\n",
    "recommend bookmarking it and start to work with it as early as possible."
   ]
  }
 ],
 "metadata": {
  "interpreter": {
   "hash": "ac59ebe37160ed0dfa835113d9b8498d9f09ceb179beaac4002f036b9467c963"
  },
  "kernelspec": {
   "display_name": "Python 3",
   "language": "python",
   "name": "python3"
  },
  "language_info": {
   "codemirror_mode": {
    "name": "ipython",
    "version": 3
   },
   "file_extension": ".py",
   "mimetype": "text/x-python",
   "name": "python",
   "nbconvert_exporter": "python",
   "pygments_lexer": "ipython3",
   "version": "3.7.1"
  }
 },
 "nbformat": 4,
 "nbformat_minor": 2
}
