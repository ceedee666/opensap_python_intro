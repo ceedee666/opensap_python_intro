{
 "cells": [
  {
   "cell_type": "markdown",
   "metadata": {},
   "source": [
    "# Using an index to access lists\n",
    "# Motivation\n",
    "In the previous unit we saw how to create lists in Python and how to check if an element is contained in a list or not.\n",
    "One common operation on lists is accessing a list item at a specific position. How to access a list \n",
    "item at a specific position is the topic of this unit.\n",
    "\n",
    "\n",
    "# Accessing and modifying list items\n",
    "Each item in a Python list is indexed. An individual item in a Python list can be accessed using its index number inside\n",
    "square brackets. The following cell gives an example of accessing the item with the index number `3` in the list\n",
    "`fruit_list`."
   ]
  },
  {
   "cell_type": "code",
   "execution_count": null,
   "metadata": {},
   "outputs": [],
   "source": [
    "fruit_list = [\"apple\", \"banana\", \"coconut\", \"pear\", \"prune\"]\n",
    "fruit = fruit_list[3]\n",
    "print(fruit)"
   ]
  },
  {
   "cell_type": "markdown",
   "metadata": {},
   "source": [
    "The example shows that the item with the index `3` is the fourth item in the list. The reason is that list items are\n",
    "indexed with numbers starting from 0. This is, because programmers and computer scientist start counting with 0, not\n",
    "with 1.\n",
    "(If you want to know why, have a look on the arguments by [Edsger W. Dijkstra](https://en.wikipedia.org/wiki/Edsger_W._Dijkstra) \n",
    "about the [correct way of using indices](https://www.cs.utexas.edu/users/EWD/transcriptions/EWD08xx/EWD831.html).)\n",
    "In the end, this leads to the unpleasant situation, that the fourth item in the list has the index `3`.\n",
    "\n",
    "As the indices start with `0`, indices from `0` to `4` exist in a list with five elements. Additionally, each list in\n",
    "Python has a second index. In this second index items are indexed backwards starting with -1. The following table shows\n",
    "the `fruit_list` as well as the two indices on the list.\n",
    "\n",
    "| index             |   0    |   1    |    2    |   3    |   4    |\n",
    "| ----------------- | :----: | :----: | :-----: | :----: | :----: |\n",
    "| fruit_list        | apple  | banana | coconut |  pear  | prune  |\n",
    "| **reverse index** | **-5** | **-4** | **-3**  | **-2** | **-1** |\n",
    "\n",
    "In the following code cell, the `fruit_list` is used to show another example of accessing list items using their index.\n",
    "Note that the reverse index is particular helpful in special cases. For example, using the index `-1`, it is possible to\n",
    "access the last element of a list."
   ]
  },
  {
   "cell_type": "code",
   "execution_count": null,
   "metadata": {},
   "outputs": [],
   "source": [
    "fruit_list = [\"apple\", \"banana\", \"coconut\", \"pear\", \"prune\"]\n",
    "print(fruit_list[4])\n",
    "print(fruit_list[-1])\n",
    "print(fruit_list[0])"
   ]
  },
  {
   "cell_type": "markdown",
   "metadata": {},
   "source": [
    "## Mutability of list elements\n",
    "Once you have a list with a few elements, there may be a point where you want to change a list element. You can do that\n",
    "by assigning the new value to the element selected by the index like shown in the following cell."
   ]
  },
  {
   "cell_type": "code",
   "execution_count": null,
   "metadata": {},
   "outputs": [],
   "source": [
    "some_primes_list = [2, 3, 4, 7, 11, 13, 17]\n",
    "print(some_primes_list)\n",
    "\n",
    "# replace the non-prime\n",
    "some_primes_list[2] = 5\n",
    "print(some_primes_list)"
   ]
  },
  {
   "cell_type": "markdown",
   "metadata": {},
   "source": [
    "# Possible Errors\n",
    "What happens if a list is accessed using a non-existing index? Lets try this out. In the following cell the\n",
    "`fruit_list` is accessed with index `10`."
   ]
  },
  {
   "cell_type": "code",
   "execution_count": null,
   "metadata": {},
   "outputs": [],
   "source": [
    "fruit_list = [\"apple\", \"banana\", \"coconut\", \"damson\", \"elderberry\"]\n",
    "fruit_list[10]"
   ]
  },
  {
   "cell_type": "markdown",
   "metadata": {},
   "source": [
    "Accessing a list with a non-existing index results in an error message from the Python interpreter. More specifically,\n",
    "an `IndexError` is raised. The error messages contains information enabling the user to identify the root cause of the\n",
    "error:\n",
    "\n",
    "1. `IndexError: list index out of range` - This tells us that a list index which is not inside the range of valid\n",
    "   indices was used to access the list.\n",
    "1. `----> 2 fruit_list[10]` - This shows us exactly where in our program code the error occurred."
   ]
  },
  {
   "cell_type": "markdown",
   "metadata": {},
   "source": [
    "# A list containing lists\n",
    "In the introduction to lists we learned that lists can contain any Python data type. Therefore, lists can also contain\n",
    "lists. The following cell shows an example of a list containing other lists.\n",
    "\n",
    "If the `records` list is accessed using one index (e.g. `records[1]`) the result is again a list. Consequently, it is\n",
    "possible to access the items of this *inner* list using a second index.  \n",
    "In the example below, `records[0][-1]` returns the last element of the list with the index `0`."
   ]
  },
  {
   "cell_type": "code",
   "execution_count": null,
   "metadata": {},
   "outputs": [],
   "source": [
    "records = [\n",
    "    [\"Ramones\", \"Leave Home\", \"Rocket to Russia\", \"Road to Ruin\"],\n",
    "    [\"Never Mind the Bollocks\", \"Flogging a Dead Horse\", \"Anarchy in the UK\"],\n",
    "]\n",
    "print(records[1])\n",
    "print(records[0][-1])"
   ]
  },
  {
   "cell_type": "markdown",
   "metadata": {},
   "source": [
    "# Accessing letters in a string\n",
    "In Python a list is one of several\n",
    "[Sequence Types](https://docs.python.org/3/library/stdtypes.html#sequence-types-list-tuple-range) as previously\n",
    "mentioned. In later units we will learn about other sequence types as well. One property of sequence types is that all\n",
    "offer some common operations. For example, all sequences types support the access of individual elements using indices. \n",
    "\n",
    "Strings in Python are also a Sequence Type, more specifically a\n",
    "[Text Sequence Type](https://docs.python.org/3/library/stdtypes.html#text-sequence-type-str).\n",
    "Therefore, it is possible to access the string items, i.e. the individual letters in a string, using indices. This\n",
    "approach is shown in the following cell."
   ]
  },
  {
   "cell_type": "code",
   "execution_count": null,
   "metadata": {},
   "outputs": [],
   "source": [
    "course_name = \"Python Introduction\"\n",
    "print(course_name[1])\n",
    "print(course_name[-2])\n",
    "\n",
    "if \"Python\" in course_name:\n",
    "    print(\"Happy Python 🐍 Programming!\")"
   ]
  }
 ],
 "metadata": {
  "interpreter": {
   "hash": "ac59ebe37160ed0dfa835113d9b8498d9f09ceb179beaac4002f036b9467c963"
  },
  "kernelspec": {
   "display_name": "Python 3",
   "language": "python",
   "name": "python3"
  },
  "language_info": {
   "codemirror_mode": {
    "name": "ipython",
    "version": 3
   },
   "file_extension": ".py",
   "mimetype": "text/x-python",
   "name": "python",
   "nbconvert_exporter": "python",
   "pygments_lexer": "ipython3",
   "version": "3.9.7"
  }
 },
 "nbformat": 4,
 "nbformat_minor": 2
}
