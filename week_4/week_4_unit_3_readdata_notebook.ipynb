{
 "cells": [
  {
   "cell_type": "markdown",
   "metadata": {},
   "source": [
    "## Examples and tasks\n",
    "In the following tasks and examples, the \"r\" and \"w\" modes are discussed in more detail.\n",
    "### Creating a file in write mode\n",
    "In the following program, a file is opened in write mode. Since the file (presumably) does not yet exist on your computer, this file is created. The program does not write anything to the file, but the file still exists. (Important: If no other path is given, the file will be created in the same folder where the notebook is located). \n",
    "\n",
    "Run the program and then check if the file was created. "
   ]
  },
  {
   "cell_type": "code",
   "execution_count": null,
   "metadata": {},
   "outputs": [],
   "source": [
    "# Program 1\n",
    "# file is opened for writing\n",
    "file = open(\"new_file.txt\", \"w\")\n",
    "# The file is closed again\n",
    "file.close()"
   ]
  },
  {
   "cell_type": "markdown",
   "metadata": {},
   "source": [
    "### Opening a file in read mode\n",
    "In the next program, open the file from the first program in read mode and close it again. Let the program run. **Delete** then the file \"new_file.txt\" and run the program again. What happens?"
   ]
  },
  {
   "cell_type": "code",
   "execution_count": null,
   "metadata": {},
   "outputs": [],
   "source": [
    "# Program 2\n",
    "# file is opened for reading\n",
    "file = open(\"new_file.txt\", \"r\")\n",
    "# The file is closed again\n",
    "file.close()"
   ]
  },
  {
   "cell_type": "markdown",
   "metadata": {},
   "source": [
    "### Opening an already existing file in write mode.\n",
    "Open the file \"new_file.txt\" with a text editor, enter a few characters and lines, save this file and close the text editor again. Now run program 1 (see above) again. Then check the contents of the file with the text editor. What happened?"
   ]
  },
  {
   "cell_type": "markdown",
   "metadata": {},
   "source": [
    "## Read files\n",
    "How to read from a file now? Files are organized sequentially (see above), i.e. they consist of consecutive lines. For processing sequences the `for` loop is suitable. Specifically, one can iterate over the lines of a file: "
   ]
  },
  {
   "cell_type": "code",
   "execution_count": null,
   "metadata": {},
   "outputs": [],
   "source": [
    "# Open file\n",
    "file = open(\"lorem_ipsum.txt\", \"r\")\n",
    "\n",
    "# read file line by line and output the lines\n",
    "for line in file:\n",
    "    print(line)\n",
    "\n",
    "# Close file\n",
    "file.close()"
   ]
  },
  {
   "cell_type": "markdown",
   "metadata": {},
   "source": [
    "If you compare the output with the program with the content of the file (e.g. in the text editor), you notice that blank lines have been added to the output. What is the reason for this?\n",
    "\n",
    "At the end of each line there is a line break 'n' in the text file. This is only indirectly visible, because the text continues on the next line. On output, the function `print()` adds another line break, hence the blank line. \n",
    "\n",
    "You can correct this behavior in several ways. One way is to set the `end` parameter in the `print()` function to an empty character `end = \"\"`. Another way is to `stripe` the line first. For strings there is a method `.strip()`. This removes spaces, tabs, line breaks at the beginning and at the end of a string. `.strip()` is often used when reading forms to prevent a leading space from changing the input. Alternatively, `.lstrip()` or `.rstrip()` can be used. In this case only left or right something is deleted."
   ]
  },
  {
   "cell_type": "code",
   "execution_count": null,
   "metadata": {},
   "outputs": [],
   "source": [
    "# Open file\n",
    "file = open(\"lorem_ipsum.txt\", \"r\")\n",
    "\n",
    "# read file line by line and output the lines\n",
    "for line in file:\n",
    "    line = line.strip()\n",
    "    print(line)\n",
    "\n",
    "# Close file\n",
    "file.close()"
   ]
  },
  {
   "cell_type": "markdown",
   "metadata": {},
   "source": [
    "### Output the contents of a file twice\n",
    "In the following program, the `for` loop is run twice. What does the output look like? Why?"
   ]
  },
  {
   "cell_type": "code",
   "execution_count": null,
   "metadata": {},
   "outputs": [],
   "source": [
    "# Open file\n",
    "file = open(\"lorem_ipsum.txt\", \"r\")\n",
    "\n",
    "# read file line by line and print the lines\n",
    "print(\"First round\")\n",
    "for line in file:\n",
    "    line = line.strip()\n",
    "    print(line)\n",
    "\n",
    "# Read file line by line and print the lines\n",
    "print(\"Second round\")\n",
    "for line in file:\n",
    "    line = line.strip()\n",
    "    print(line)\n",
    "\n",
    "# Close file\n",
    "file.close()"
   ]
  },
  {
   "cell_type": "markdown",
   "metadata": {},
   "source": [
    "When reading a file, the \"read head\" is moved character by character over the file. If the read head arrives at the end of the file and is **not** reset, it cannot continue reading there. To place the read head, the method `.seek()` is introduced further below."
   ]
  },
  {
   "cell_type": "markdown",
   "metadata": {},
   "source": [
    "### Read file into a list in one go.\n",
    "It is possible that the line breaks are superfluous and only exist because, for example, a paper page has a limited width. In this case, it may make sense to read the entire text \"in one go\" without iterating over the lines with a loop. The method `.readlines()` is useful for this. The result is a **list** with one entry."
   ]
  },
  {
   "cell_type": "code",
   "execution_count": null,
   "metadata": {},
   "outputs": [],
   "source": [
    "# Open file\n",
    "file = open(\"lorem_ipsum.txt\", \"r\")\n",
    "\n",
    "# read file in one go\n",
    "line = file.readlines()\n",
    "print(line)\n",
    "\n",
    "# Close file\n",
    "file.close()"
   ]
  },
  {
   "cell_type": "markdown",
   "metadata": {},
   "source": [
    "### Open file with `with`.\n",
    "As seen in the previous examples, files must always be closed after opening. Since forgetting to close a file is a common cause of errors, Python provides the keyword `with`. This ensures that opened files are always closed correctly."
   ]
  },
  {
   "cell_type": "code",
   "execution_count": null,
   "metadata": {},
   "outputs": [],
   "source": [
    "# Open file\n",
    "with open(\"lorem_ipsum.txt\", \"r\") as file:\n",
    "    # read file line by line and output the lines\n",
    "    for line in file:\n",
    "        line = line.strip()\n",
    "        print(line)\n",
    "\n",
    "# File will be closed automatically"
   ]
  },
  {
   "cell_type": "markdown",
   "metadata": {},
   "source": [
    "## Writing files\n",
    "To be able to write to a file it must be opened in a mode that allows writing (e.g. the `'w'` mode). Then data can be written to the file using the `write` method. This is shown in the following cell. "
   ]
  },
  {
   "cell_type": "code",
   "execution_count": null,
   "metadata": {},
   "outputs": [],
   "source": [
    "with open(\"numbers.txt\", \"w\") as f:\n",
    "    for i in range(100):\n",
    "        f.write(str(i) + \"\\n\")"
   ]
  },
  {
   "cell_type": "markdown",
   "metadata": {},
   "source": [
    "Check the result in the file \"zahlen.txt\" with a text editor. Question: Why is the integer `i` still transformed into a string? Another question: Why is a `\\n` added to the number? Experiment with the above program, check each time the change of the file with a text editor."
   ]
  },
  {
   "cell_type": "code",
   "execution_count": null,
   "metadata": {},
   "outputs": [],
   "source": []
  },
  {
   "cell_type": "markdown",
   "metadata": {},
   "source": [
    "### Task: Writing letters from a-z to a file\n",
    "Create a program (similar to the previous one) that writes all letters from a-z into one line of a file each. Note: The function `chr()` converts a number into a letter. Here, the number 97 corresponds to an a, the number 98 to a b, and so on. (see next code cell). Behind this assignment is the ASCII table. ASCII is a coding standard that assigns the characters and commands of a typewriter to bit combinations. The bit combinations are usually specified as numbers from 0 to 127. See also [here](https://de.wikipedia.org/wiki/American_Standard_Code_for_Information_Interchange#ASCII-Tabelle)."
   ]
  },
  {
   "cell_type": "code",
   "execution_count": null,
   "metadata": {},
   "outputs": [],
   "source": [
    "### Task: Writing letters from a-z to a file\n",
    "letter = chr(97)\n",
    "print(letter)\n",
    "letter = chr(98)\n",
    "print(letter)"
   ]
  },
  {
   "cell_type": "code",
   "execution_count": null,
   "metadata": {},
   "outputs": [],
   "source": [
    "with open ...\n",
    "\n"
   ]
  },
  {
   "cell_type": "markdown",
   "metadata": {},
   "source": [
    "## Using `.seek()` to place the read head\n",
    "The `.seek()` method can be used to reposition the read head (or read pointer). Two arguments are passed to the method. \n",
    "The first argument specifies by how many bytes (!) the pointer is moved. The second argument specifies from where to position. The following applies\n",
    "* Second argument = 0 → from start (default value).\n",
    "* Second argument = 1 → from current position\n",
    "* Second argument = 2 → from end.\n",
    "\n",
    "Example:\n",
    "* file.seek(3) → pointer is on the third byte\n",
    "* file.seek(5,1) → pointer is moved 5 positions from current position\n",
    "* file.seek(0,0) → pointer back to the beginning of the file\n",
    "\n",
    "The two files `numbers1.txt` as well as `numbers2.txt` each contain the numbers from 0 to 100. First look at the files in an editor. Experiment with these files. Try to adjust the parameters of `.seek()` so that only one number (e.g. the 50) is output."
   ]
  },
  {
   "cell_type": "code",
   "execution_count": null,
   "metadata": {},
   "outputs": [],
   "source": [
    "file = open(\"zahlen1.txt\", \"r\")\n",
    "file.seek(30, 0)\n",
    "for line in file:\n",
    "    print(line)\n",
    "\n",
    "datei.seek(0)\n",
    "for line in file:\n",
    "    line = line.strip()\n",
    "    print(line)\n",
    "file.close()"
   ]
  },
  {
   "cell_type": "markdown",
   "metadata": {},
   "source": [
    "## Aufgabe 1: Zwei Ausgaben\n",
    "Oben wurde eine Programm angekündigt, das den Inhalt einer Datei zweimal ausgibt. Kopieren Sie das Programm von oben in die folgende Zelle und ergänzen es so, dass jezt tatsächlich zwei Ausgaben erfolgen."
   ]
  },
  {
   "cell_type": "code",
   "execution_count": null,
   "metadata": {},
   "outputs": [],
   "source": []
  },
  {
   "cell_type": "markdown",
   "metadata": {},
   "source": [
    "## Aufgabe 2: Datei kopieren\n",
    "Erstellen Sie ein Programm, dass ein Datei kopiert. Erstellen Sie zuerst ein Programm, das eine Kopie von \"lorem_ipsum.txt\" erzeugt. Erweitern Sie das Programm anschließend so, dass zuerst nach dem Dateinamen der zu kopierenden Datei gefragt wird, anschließend nach dem Namen der neuen Datei. Danach wird kopiert. Gehen Sie davon aus, dass die Datei tatsächlich existiert."
   ]
  },
  {
   "cell_type": "code",
   "execution_count": null,
   "metadata": {},
   "outputs": [],
   "source": []
  },
  {
   "cell_type": "markdown",
   "metadata": {},
   "source": [
    "## Aufgabe 3: Erzeugen Sie eine Datei mit Zufallszahlen\n",
    "Erzeugen Sie eine Datei mit einer zufälligen Anzahl an Zahlen (500 < Anzahl < 1000) zwischen 0 und 10.000. Zur Erinnerung: Mit `import random` laden Sie die Bibliothek mit den Zufallszahlen. Anschließend können Sie mit `random.randint(0,100)` eine Zufallszahl zwischen 1 und 100 erzeugen."
   ]
  },
  {
   "cell_type": "code",
   "execution_count": null,
   "metadata": {},
   "outputs": [],
   "source": [
    "import random\n",
    "\n",
    "for i in range(10):\n",
    "    print(random.randint(0, 100))"
   ]
  },
  {
   "cell_type": "markdown",
   "metadata": {},
   "source": [
    "## Aufgabe 4: Zahlen aus einer Datei addieren\n",
    "Die gerade erzeugte Datei enthält mehrere Zahlen. In jeder Zeile steht eine Zahl. Lesen Sie die Datei ein. Geben Sie an wie viele Zahlen die Datei enthält und wie groß die Summe der Zahlen ist."
   ]
  },
  {
   "cell_type": "code",
   "execution_count": null,
   "metadata": {
    "scrolled": true
   },
   "outputs": [],
   "source": []
  }
 ],
 "metadata": {
  "file_extension": ".py",
  "kernelspec": {
   "display_name": "Python 3",
   "language": "python",
   "name": "python3"
  },
  "language_info": {
   "codemirror_mode": {
    "name": "ipython",
    "version": 3
   },
   "file_extension": ".py",
   "mimetype": "text/x-python",
   "name": "python",
   "nbconvert_exporter": "python",
   "pygments_lexer": "ipython3",
   "version": "3.8.8"
  },
  "mimetype": "text/x-python",
  "name": "python",
  "npconvert_exporter": "python",
  "pygments_lexer": "ipython3",
  "version": 3
 },
 "nbformat": 4,
 "nbformat_minor": 2
}
