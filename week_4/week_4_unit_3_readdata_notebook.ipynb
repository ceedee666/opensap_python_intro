{
 "cells": [
  {
   "cell_type": "markdown",
   "metadata": {},
   "source": [
    "# Reading data from files\n",
    "How to read from a file now? Files are organized sequentially as mentioned before, i.e. they consist of consecutive\n",
    "lines. For processing sequences the `for` loop is suitable. Specifically, one can iterate over the lines of a file like\n",
    "follows:"
   ]
  },
  {
   "cell_type": "code",
   "execution_count": null,
   "metadata": {},
   "outputs": [],
   "source": [
    "# open file\n",
    "file = open(\"lorem_ipsum.txt\", \"r\")\n",
    "\n",
    "# read file line by line and output the lines\n",
    "for line in file:\n",
    "    print(line)\n",
    "\n",
    "# close file\n",
    "file.close()"
   ]
  },
  {
   "cell_type": "markdown",
   "metadata": {},
   "source": [
    "If you compare the output of the program with the content of the file (e.g. in a text editor), you notice that blank\n",
    "lines have been added to the output. What is the reason for this?  \n",
    "At the end of each line there is a line break `\\n` in the text file. This is only visible indirectly, because the text\n",
    "continues on the next line. On output, the function `print()` adds another line break, hence the blank line. \n",
    "\n",
    "You can correct this behaviour in several ways. One way is to set the `end` parameter in the `print()` function to an\n",
    "empty character `end = \"\"`.  \n",
    "Another way is to *strip* the line first. For strings there is a method `.strip()`. This removes spaces, tabs and line\n",
    "breaks at the beginning and at the end of a string. `.strip()` is often used when reading forms to prevent a leading\n",
    "space from changing the input. With one optional argument, you could also specify which characters should be removed.  \n",
    "Alternatively, `.lstrip()` or `.rstrip()` can be used. In this case something is deleted only left or right of the\n",
    "string."
   ]
  },
  {
   "cell_type": "code",
   "execution_count": null,
   "metadata": {},
   "outputs": [],
   "source": [
    "# Open file\n",
    "file = open(\"lorem_ipsum.txt\", \"r\")\n",
    "\n",
    "# read file line by line, strip from  and output the lines\n",
    "for line in file:\n",
    "    line = line.strip()\n",
    "    print(line)\n",
    "\n",
    "# Close file\n",
    "file.close()"
   ]
  },
  {
   "cell_type": "markdown",
   "metadata": {},
   "source": [
    "## Output the contents of a file twice\n",
    "In the following program, the `for` loop is run twice. What does the output look like? Why?"
   ]
  },
  {
   "cell_type": "code",
   "execution_count": null,
   "metadata": {},
   "outputs": [],
   "source": [
    "# open file\n",
    "file = open(\"lorem_ipsum.txt\", \"r\")\n",
    "\n",
    "# read file line by line and print the lines\n",
    "print(\"First round\")\n",
    "for line in file:\n",
    "    line = line.strip()\n",
    "    print(line)\n",
    "\n",
    "# read file line by line and print the lines\n",
    "print(\"Second round\")\n",
    "for line in file:\n",
    "    line = line.strip()\n",
    "    print(line)\n",
    "\n",
    "# close file\n",
    "file.close()"
   ]
  },
  {
   "cell_type": "markdown",
   "metadata": {},
   "source": [
    "When reading a file, the \"read cursor\" or \"read pointer\" is moved character by character over the file. If the *read\n",
    "pointer* arrives at the end of the file and is **not** reset or set to another position, it can not continue reading as\n",
    "the file ends there. To place the *read cursor*, the method `.seek()` can be used."
   ]
  },
  {
   "cell_type": "markdown",
   "metadata": {},
   "source": [
    "### Using `.seek()` to place the read pointer\n",
    "The `.seek()` method can be used to reposition the read cursor (or read pointer). Two arguments are passed to the\n",
    "method. The first argument specifies by how many **bytes (!)** the pointer is moved. The second argument specifies from\n",
    "where to reposition. The second argument can be used as follows:\n",
    "\n",
    "| Value / Example            | Description                                        |\n",
    "| ---------------- | -------------------------------------------------- |\n",
    "| 0                | From start (default value)                         |\n",
    "| 1                | From current position                              |\n",
    "| 2                | From end                                           |\n",
    "| `file.seek(3)`   | Pointer is moved to 3rd byte                       |\n",
    "| `file.seek(5,1)` | Pointer is moved 5 positions from current position |\n",
    "| `file.seek(0,0)` | Pointer is moved back to the beginning of the file |\n",
    "\n",
    "The two files *numbers1.txt* as well as *numbers2.txt* each contain the numbers from 0 to 100. First look at the files\n",
    "in an editor. Experiment with these files. Try to adjust the parameters of `.seek()` in a way that only one number (e.g.\n",
    "the number 50) is output."
   ]
  },
  {
   "cell_type": "code",
   "execution_count": null,
   "metadata": {},
   "outputs": [],
   "source": [
    "file = open(\"numbers1.txt\", \"r\")\n",
    "file.seek(30, 0)\n",
    "for line in file:\n",
    "    print(line)\n",
    "\n",
    "file.seek(0)\n",
    "for line in file:\n",
    "    line = line.strip()\n",
    "    print(line)\n",
    "file.close()"
   ]
  },
  {
   "cell_type": "markdown",
   "metadata": {},
   "source": [
    "## Read a file into a list in one go\n",
    "It is possible that the line breaks are superfluous and only exist because a paper page has a limited width for example.\n",
    "In this case, it may make sense to read the entire text \"in one go\" without iterating over the lines using a loop. The\n",
    "method `.readlines()` is useful for this. The result is a list with **one** entry."
   ]
  },
  {
   "cell_type": "code",
   "execution_count": null,
   "metadata": {},
   "outputs": [],
   "source": [
    "# Open file\n",
    "file = open(\"lorem_ipsum.txt\", \"r\")\n",
    "\n",
    "# read file in one go\n",
    "line = file.readlines()\n",
    "print(line)\n",
    "\n",
    "# Close file\n",
    "file.close()"
   ]
  },
  {
   "cell_type": "markdown",
   "metadata": {},
   "source": [
    "# Exercise 1: 2 Outputs\n",
    "A program was announced above that outputs the contents of a file twice. Copy the programme from above into the\n",
    "following cell and modify it so that now there are really two outputs."
   ]
  },
  {
   "cell_type": "code",
   "execution_count": null,
   "metadata": {},
   "outputs": [],
   "source": []
  }
 ],
 "metadata": {
  "file_extension": ".py",
  "kernelspec": {
   "display_name": "Python 3",
   "language": "python",
   "name": "python3"
  },
  "language_info": {
   "codemirror_mode": {
    "name": "ipython",
    "version": 3
   },
   "file_extension": ".py",
   "mimetype": "text/x-python",
   "name": "python",
   "nbconvert_exporter": "python",
   "pygments_lexer": "ipython3",
   "version": "3.7.1"
  },
  "mimetype": "text/x-python",
  "name": "python",
  "npconvert_exporter": "python",
  "pygments_lexer": "ipython3",
  "version": 3
 },
 "nbformat": 4,
 "nbformat_minor": 2
}
