{
 "cells": [
  {
   "cell_type": "markdown",
   "metadata": {},
   "source": [
    "# [String methods](https://docs.python.org/3/library/stdtypes.html#string-methods)\n",
    "You already know some methods to modify strings in Python. In this unit, you will get to know some more possible string\n",
    "operations. Shown in the table below is a selection of common methods and a short description. They will be explained\n",
    "more detailed below.\n",
    "\n",
    "\n",
    "| Method         | Description                                                                                  |\n",
    "| -------------- | -------------------------------------------------------------------------------------------- |\n",
    "| `count()`      | Count occurrences of substrings                                                              |\n",
    "| `replace()`    | Replace a substring                                                                          |\n",
    "| `strip()`      | Deletes spaces, tabs, linebreaks and similar at the beginning and the end of a string        |\n",
    "| `split()`      | Return a list of the string elements, separated by given separator                           |\n",
    "| `join()`       | Join input strings, separated by string invoking the method                                  |\n",
    "| `upper()`      | Make all characters *UPPERCASE*                                                              |\n",
    "| `lower()`      | Make all characters *lowercase*                                                              |\n",
    "| `title()`      | Make the first letter of every *word* in the **string** *UPPERCASE* and the rest *lowercase* |\n",
    "| `capitalize()` | Change the first *letter* of a **string** to *UPPERCASE* while making the rest *lowercase*   |\n",
    "\n",
    "\n",
    "The following explanations are based on the notation of the\n",
    "[official Python documentation](https://docs.python.org/3/library/stdtypes.html#string-methods) where:\n",
    "- *str* is just a placeholder for the `String` object, from which the method is invoked\n",
    "- arguments in square brackets *[ ]* are optional\n",
    "- default values for arguments (if any) are notated with an *equal sign* ( = )"
   ]
  },
  {
   "cell_type": "markdown",
   "metadata": {},
   "source": [
    "# Counting with *`str.count(sub[,start][,end])`*\n",
    "Using this method you get the number of times *`sub`* is contained in *`str`*. You can use the 2 optional arguments to\n",
    "restrict counting to specific parts of the string using the same notation for slicing as in week 2, unit 7.  \n",
    "Try out different arguments for this method. Can you spot anything special about line 5?"
   ]
  },
  {
   "cell_type": "code",
   "execution_count": null,
   "metadata": {},
   "outputs": [],
   "source": [
    "test_string = \"This this is a string containing some letters: xyxyx and a few numbers: 123 456 778899\"\n",
    "print(test_string.count(\"T\"))\n",
    "print(test_string.count(\"xyx\"))"
   ]
  },
  {
   "cell_type": "markdown",
   "metadata": {},
   "source": [
    "# Replacing parts of a string using *`str.replace(old, new[,count])`*\n",
    "If you want to replace parts of a string, you can use the method mentioned above. It will replace *old* by *new* and you\n",
    "can specify to do it only *count* times. However, it is important to notice that the method will return a copy of the\n",
    "modified string and not modify the original one."
   ]
  },
  {
   "cell_type": "code",
   "execution_count": null,
   "metadata": {},
   "outputs": [],
   "source": [
    "string_modified = test_string.replace(\"This this\", \"Look here, this\")\n",
    "print(f\"The string ({test_string}) looks like this after modifying: {string_modified}\")\n",
    "\n",
    "print(test_string.replace(\"xy\", \"xyz\", 1))"
   ]
  },
  {
   "cell_type": "markdown",
   "metadata": {},
   "source": [
    "# Splitting strings or lines of files with *`str.split(sep=None[,maxsplit=-1])`*\n",
    "\n",
    "When reading data from a file, you may come across `.csv` files, for example from measured data or exporting a list of\n",
    "students from a web tool. The data is written in a text file with a special ending (`.csv`) where rows are separated by\n",
    "line breaks and the columns are separated by a delimiter - usually the comma, hence the name\n",
    "*[(csv - comma-separated-values)](https://en.wikipedia.org/wiki/Comma-separated_values)*.\n",
    "Usually commas (`,`) are used to isolate the data sets from each other, but also a semicolon (`;`) or other signs like\n",
    "spaces or even tab stops (`\\t`) can be used. So be sure to take a look at your input data to determine the delimiter\n",
    "beforehand.  \n",
    "With the method `.split()` you can extract the values from the lines in the file and assign them to separate list items\n",
    "like shown below."
   ]
  },
  {
   "cell_type": "code",
   "execution_count": null,
   "metadata": {},
   "outputs": [],
   "source": [
    "list_of_students = []\n",
    "with open(\"students.csv\", \"r\") as f:\n",
    "    for line in f:\n",
    "        line = line.strip()\n",
    "        student = line.split(\";\")\n",
    "        list_of_students.append(student)\n",
    "\n",
    "line_number = int(input(\"Which student do you want to show? \"))\n",
    "\n",
    "print(f\"Specified student in list: {list_of_students[line_number]}\")"
   ]
  },
  {
   "cell_type": "markdown",
   "metadata": {},
   "source": [
    "# Joining strings or lines again using *`str.join(iterable)`*\n",
    "If you would like to add your previously split student list together again, you can use `join()` to concatenate any\n",
    "*iterable* (e.g. list, tuple) of strings. You will get an output string which is separated by the string the method is\n",
    "invoked from."
   ]
  },
  {
   "cell_type": "code",
   "execution_count": null,
   "metadata": {},
   "outputs": [],
   "source": [
    "separator_string = \" - \"\n",
    "\n",
    "string_list = [\"Hey\", \"Ho\", \"Let's\", \"Go\"]\n",
    "print(separator_string.join(string_list))\n",
    "\n",
    "print(\" * \".join(list_of_students[0]))"
   ]
  },
  {
   "cell_type": "markdown",
   "metadata": {},
   "source": [
    "# Changing the letter case\n",
    "## *`str.upper()`* and *`str.lower()`*\n",
    "Whenever you want to change the case of a string, you can use `.upper()` or `.lower()` to make your string all\n",
    "*UPPERCASE* or completely lowercase. It will return a modified copy of the string.  \n",
    "This may be interesting when you want to design your program independent from case-sensitive search terms for example"
   ]
  },
  {
   "cell_type": "markdown",
   "metadata": {},
   "source": [
    "## *`str.title()`*\n",
    "With `.title()` you can capitalize every first letter of a word in a string whereas `.capitalize()` only makes the first\n",
    "letter in a string *UPPERCASE*."
   ]
  },
  {
   "cell_type": "code",
   "execution_count": null,
   "metadata": {},
   "outputs": [],
   "source": [
    "case_string = \"tHIS Is a TeSTString in different caSES\"\n",
    "\n",
    "print(case_string.upper())\n",
    "print(case_string.lower())\n",
    "print(case_string.title())\n",
    "print(case_string.capitalize())"
   ]
  },
  {
   "cell_type": "code",
   "execution_count": null,
   "metadata": {},
   "outputs": [],
   "source": []
  }
 ],
 "metadata": {
  "interpreter": {
   "hash": "b89b5cfaba6639976dc87ff2fec6d58faec662063367e2c229c520fe71072417"
  },
  "kernelspec": {
   "display_name": "Python 3 (ipykernel)",
   "language": "python",
   "name": "python3"
  },
  "language_info": {
   "codemirror_mode": {
    "name": "ipython",
    "version": 3
   },
   "file_extension": ".py",
   "mimetype": "text/x-python",
   "name": "python",
   "nbconvert_exporter": "python",
   "pygments_lexer": "ipython3",
   "version": "3.9.10"
  }
 },
 "nbformat": 4,
 "nbformat_minor": 2
}
