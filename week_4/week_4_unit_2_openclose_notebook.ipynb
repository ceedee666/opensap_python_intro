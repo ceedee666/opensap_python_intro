{
 "cells": [
  {
   "cell_type": "markdown",
   "metadata": {},
   "source": [
    "# Opening and closing files\n",
    "## Where is the file?\n",
    "Nowadays the programs and apps store the files \"somewhere\" on the computers or smartphones. You as a user should not\n",
    "worry about where the files are located. (Do you know where your music files are located on the smartphone?).  \n",
    "If you want to access files with programs, you need to know **where** exactly those files are located. \n",
    "\n",
    "\n",
    "## Important for this notebook\n",
    "The following applies to this and the other notebooks: Unless stated otherwise, the file that is accessed is located in\n",
    "the same directory as the notebook. If you download a notebook, then you must also download the files and save them in\n",
    "the same folder. Otherwise some things will not work."
   ]
  },
  {
   "cell_type": "markdown",
   "metadata": {},
   "source": [
    "# Accessing files in Python\n",
    "The basic handling of a file always consists of the following three steps:\n",
    "- Opening the file and assigning the file to a variable\n",
    "- Edit the file\n",
    "    - Reading from the file (read access)\n",
    "    - Writing to the file (write access)\n",
    "- Closing the file\n",
    "\n",
    "To open a file there is the function `open()`. For further operations on the file there are methods like `.write()`,\n",
    "`.read()` or `.close()`. Furthermore there are libraries which offer additional functions for special file formats like\n",
    ".csv, .json for example.\n",
    "\n",
    "\n",
    "## Open files\n",
    "The Python function `open()` can be used to open a file. The function expects the name of a file as parameter. (This can\n",
    "be extended by the path to the file if necessary, should the file not lie in the same directory as the program).\n",
    "Additionally, the mode in which the file is to be opened can be specified optionally. The available modes are listed in\n",
    "the [Python documentation](https://docs.python.org/3/tutorial/inputoutput.html#reading-and-writing-files). The most\n",
    "important modes are:\n",
    "\n",
    "| Mode | Description                                       | Error, when                      | Comment / Warning                 |\n",
    "| :--- | :------------------------------------------------ | :------------------------------- | --------------------------------- |\n",
    "| r    | Read-only                                         | Write access & file non-existent | Read pointer at beginning of file |\n",
    "| w    | Write-only; new file, if no file present          | Read access                      | Overwrites existing content       |\n",
    "| a    | Append new content to old content                 |                                  | Read point at end of file         |\n",
    "| r+   | Read & write access                               | File non-existent                |                                   |\n",
    "| w+   | Write & read access; new file, if no file present |                                  | Overwrites existing content       |\n",
    "\n",
    "When adding a *b* to a mode, the file will be created as a binary file and not a text file. If no mode is specified, the\n",
    "default value is `\"r\"`.\n",
    "\n",
    "**Recommendation:** *Always* specify a mode. This simplifies the maintenance of the program. The mode is always entered as\n",
    "a string, i.e. `\"r\"` or `'r'`, not `r`."
   ]
  },
  {
   "cell_type": "markdown",
   "metadata": {},
   "source": [
    "## Examples and tasks\n",
    "In the following tasks and examples, the \"r\" and \"w\" modes are discussed in more detail.\n",
    "### Creating a file in write mode\n",
    "In the following program, a file is opened in write mode. Since the file (presumably) does not yet exist on your computer, this file is created. The program does not write anything to the file, but the file still exists. (Important: If no other path is given, the file will be created in the same folder where the notebook is located). \n",
    "\n",
    "Run the program and then check if the file was created. "
   ]
  },
  {
   "cell_type": "code",
   "execution_count": null,
   "metadata": {},
   "outputs": [],
   "source": [
    "# Program 1\n",
    "# file is opened for writing\n",
    "file = open(\"new_file.txt\", \"w\")\n",
    "# The file is closed again\n",
    "file.close()"
   ]
  },
  {
   "cell_type": "markdown",
   "metadata": {},
   "source": [
    "### Opening a file in read mode\n",
    "In the next program, open the file from the first program in read mode and close it again. Let the program run. **Delete** then the file \"new_file.txt\" and run the program again. What happens?"
   ]
  },
  {
   "cell_type": "code",
   "execution_count": null,
   "metadata": {},
   "outputs": [],
   "source": [
    "# Program 2\n",
    "# file is opened for reading\n",
    "file = open(\"new_file.txt\", \"r\")\n",
    "# The file is closed again\n",
    "file.close()"
   ]
  },
  {
   "cell_type": "markdown",
   "metadata": {},
   "source": [
    "### Opening an already existing file in write mode.\n",
    "Open the file \"new_file.txt\" with a text editor, enter a few characters and lines, save this file and close the text editor again. Now run program 1 (see above) again. Then check the contents of the file with the text editor. What happened?"
   ]
  },
  {
   "cell_type": "markdown",
   "metadata": {},
   "source": [
    "### Open file with `with`.\n",
    "As seen in the previous examples, files must always be closed after opening. Since forgetting to close a file is a common cause of errors, Python provides the keyword `with`. This ensures that opened files are always closed correctly."
   ]
  },
  {
   "cell_type": "code",
   "execution_count": null,
   "metadata": {},
   "outputs": [],
   "source": [
    "# Open file\n",
    "with open(\"lorem_ipsum.txt\", \"r\") as file:\n",
    "    # read file line by line and output the lines\n",
    "    for line in file:\n",
    "        line = line.strip()\n",
    "        print(line)\n",
    "\n",
    "# File will be closed automatically"
   ]
  }
 ],
 "metadata": {
  "file_extension": ".py",
  "kernelspec": {
   "display_name": "Python 3",
   "language": "python",
   "name": "python3"
  },
  "language_info": {
   "codemirror_mode": {
    "name": "ipython",
    "version": 3
   },
   "file_extension": ".py",
   "mimetype": "text/x-python",
   "name": "python",
   "nbconvert_exporter": "python",
   "pygments_lexer": "ipython3",
   "version": "3.8.8"
  },
  "mimetype": "text/x-python",
  "name": "python",
  "npconvert_exporter": "python",
  "pygments_lexer": "ipython3",
  "version": 3
 },
 "nbformat": 4,
 "nbformat_minor": 2
}
