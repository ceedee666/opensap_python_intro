{
 "cells": [
  {
   "cell_type": "markdown",
   "metadata": {},
   "source": [
    "# Reading and writing data - motivation & definition\n",
    "When working with computers, files are ubiquitous. Files are created, read, modified, copied, sent, moved, deleted,\n",
    "restored, ... So far, in our programs, all data is lost as soon as the program is terminated. With the help of files it\n",
    "is possible to store data permanently (persistent) and to access this very data again later.\n",
    "\n",
    "Of course, it is also possible to work with files in Python 🐍. \n",
    "\n",
    "## What is a file?\n",
    "All of you have already worked with files: Word files, Excel files, this notebook, Python programs, text files,\n",
    "images... But what *exactly* is a file now? A possible definition could be:\n",
    "\n",
    "*A file is a set of **logically related** and usually **sequentially** ordered data that is **permanently** stored on a\n",
    "medium and is addressable by a **name** (identifier).*\n",
    "\n",
    "Feel free to check out the article on [Computer file](https://en.wikipedia.org/wiki/Computer_file) on Wikipedia.\n",
    "\n",
    "\n",
    "### Example: *textfile.txt*\n",
    "Save an e-mail as a text file with the name *textfile.txt*. If you open the textfile in an editor, you can \n",
    "identify the above mentioned characteristics.\n",
    "\n",
    "- The text of the mail is usually logically coherent, e.g. referring to a subject\n",
    "- The text is sequential: One line follows the other, in the lines there is one word after the other, in the words the\n",
    "  letters are lined up one after the other\n",
    "- The file *textfile.txt* is saved permanently (after you have saved it). Even if you close your texteditor or even\n",
    "  turn off the computer, the file is still present on the computer's harddisk. You can open the file again the next\n",
    "  time, even with another program\n",
    "- The file has a unique name: *textfile.txt*\n",
    "\n",
    "\n",
    "## Why are files necessary?\n",
    "In many cases you are interested in saving the current status of list entries or calculations you did. Even if you are\n",
    "only processing input data and are mainly interested in the result, you may want to save the calculation results for\n",
    "later analysis.  \n",
    "Let's see the below example taken from Unit 3-1. Information about an employee are entered and printed to let the user\n",
    "check them. After the program finishes, the information are only available printed on the screen, so they are just\n",
    "\"saved\" in the RAM of your machine. As the internal memory is a volatile memory, all information will be lost once the\n",
    "power is shut off. If you extend this program to let the user enter not only one but even multiple employees'\n",
    "information (e.g. a registration list for an upcoming event), you will be interested in saving those information\n",
    "permanently anywhere.  \n",
    "Closing the terminal or the browser window (wherever the program was executed and the `print` was seen) will result in a\n",
    "loss of data then."
   ]
  },
  {
   "cell_type": "code",
   "execution_count": null,
   "metadata": {},
   "outputs": [],
   "source": [
    "name = input(\"Please enter name: \")\n",
    "first_name = input(\"Please enter first name: \")\n",
    "phone = input(\"Please enter phone number: \")\n",
    "age = input(\"Please enter age (integer): \")\n",
    "employee = (name, first_name, phone, age)\n",
    "\n",
    "print(employee)"
   ]
  }
 ],
 "metadata": {
  "file_extension": ".py",
  "kernelspec": {
   "display_name": "Python 3",
   "language": "python",
   "name": "python3"
  },
  "language_info": {
   "codemirror_mode": {
    "name": "ipython",
    "version": 3
   },
   "file_extension": ".py",
   "mimetype": "text/x-python",
   "name": "python",
   "nbconvert_exporter": "python",
   "pygments_lexer": "ipython3",
   "version": "3.7.7"
  },
  "mimetype": "text/x-python",
  "name": "python",
  "npconvert_exporter": "python",
  "pygments_lexer": "ipython3",
  "version": 3
 },
 "nbformat": 4,
 "nbformat_minor": 2
}
