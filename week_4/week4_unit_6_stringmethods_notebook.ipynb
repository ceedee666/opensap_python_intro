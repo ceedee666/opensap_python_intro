{
 "cells": [
  {
   "cell_type": "markdown",
   "metadata": {},
   "source": [
    "# [String methods](https://docs.python.org/3/library/stdtypes.html#string-methods)\n",
    "You already know some methods to modify strings in Python. In this unit, you will get to know some more possible string\n",
    "operations. Shown in the table below is a selection of common methods and a short description. They will be explained\n",
    "more detailed below.\n",
    "\n",
    "\n",
    "| Method       | Description                                                                          |\n",
    "| ------------ | ------------------------------------------------------------------------------------ |\n",
    "| `count`      | Count occurrences of substrings                                                      |\n",
    "| `replace`    | Replace a substring                                                                  |\n",
    "| `split`      | Return a list of elements in the `string`, separated by given separator              |\n",
    "| `join`       | Join input `strings`, separated by `string` invoking the method                      |\n",
    "| `upper`      | Make all characters *UPPERCASE*                                                      |\n",
    "| `lower`      | Make all characters *lowercase*                                                      |\n",
    "| `title`      | Make the first letter of every word in the `string` UPPERCASE and the rest lowercase |\n",
    "| `capitalize` | Change the first letter of a `string` to UPPERCASE while making the rest lowercase   |\n",
    "\n",
    "\n",
    "The following explanations are based on the notation of the\n",
    "[official Python documentation](https://docs.python.org/3/library/stdtypes.html#string-methods) where:\n",
    "- *str* is just a placeholder for the `String` object, from which the method is invoked\n",
    "- arguments in square brackets *[ ]* are optional\n",
    "- default values for arguments (if any) are notated with an *equal sign* ( = )"
   ]
  },
  {
   "cell_type": "markdown",
   "metadata": {},
   "source": [
    "# Counting with *`str.`***`count`**`(sub`*`[,start][,end]`*`)`\n",
    "Using this method you get the number of times *`sub`* is contained in *`str`*"
   ]
  },
  {
   "cell_type": "code",
   "execution_count": null,
   "metadata": {},
   "outputs": [],
   "source": [
    "string = (\n",
    "    \"This is a string containing some letters: xyxyx and a few numbers: 123 456 778899\"\n",
    ")\n",
    "print(string.count(\"xyx\"))"
   ]
  },
  {
   "cell_type": "markdown",
   "metadata": {},
   "source": [
    "\n",
    "\n",
    "split --> read HP csv, split at ,\n"
   ]
  },
  {
   "cell_type": "code",
   "execution_count": null,
   "metadata": {},
   "outputs": [],
   "source": [
    "schtring = \",\"\n",
    "string2 = \"test23\"\n",
    "\n",
    "liste = [\"test1-string\", \"test34\"]\n",
    "print(schtring.join(liste))"
   ]
  }
 ],
 "metadata": {
  "interpreter": {
   "hash": "b89b5cfaba6639976dc87ff2fec6d58faec662063367e2c229c520fe71072417"
  },
  "kernelspec": {
   "display_name": "Python 3.10.1 64-bit",
   "language": "python",
   "name": "python3"
  },
  "language_info": {
   "codemirror_mode": {
    "name": "ipython",
    "version": 3
   },
   "file_extension": ".py",
   "mimetype": "text/x-python",
   "name": "python",
   "nbconvert_exporter": "python",
   "pygments_lexer": "ipython3",
   "version": "3.10.1"
  }
 },
 "nbformat": 4,
 "nbformat_minor": 2
}
