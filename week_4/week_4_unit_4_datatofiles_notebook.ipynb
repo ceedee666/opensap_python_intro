{
 "cells": [
  {
   "cell_type": "markdown",
   "metadata": {},
   "source": [
    "# Writing random numbers to a text file\n",
    "To be able to write to a file it must be opened in a mode that allows writing (e.g. the `w` mode). Then data can be\n",
    "written to the file using the `write()` method. This is shown in the following cell."
   ]
  },
  {
   "cell_type": "code",
   "execution_count": null,
   "metadata": {},
   "outputs": [],
   "source": [
    "with open(\"numbers.txt\", \"w\") as file:\n",
    "    for i in range(100):\n",
    "        file.write(str(i) + \"\\n\")"
   ]
  },
  {
   "cell_type": "markdown",
   "metadata": {},
   "source": [
    "Check the result in the file \"numbers.txt\" with a text editor.  \n",
    "\n",
    "\n",
    "# Saving a list of students into a file\n",
    "See another example below including the list of students we already used in a previous unit. Let's assume you have\n",
    "created this list by letting the user input the data. Now, you want to save the data permanently for later usage. Every\n",
    "tuple in the list represents a student and you want to save them to a file called *students.txt*:"
   ]
  },
  {
   "cell_type": "code",
   "execution_count": null,
   "metadata": {},
   "outputs": [],
   "source": [
    "list_of_students = [\n",
    "    (\"Potter\", \"Harry\", 477264, \"harry@hogwarts.wiz\", \"Defence Against the Dark Arts\"),\n",
    "    (\"Weasley\", \"Ron\", 490134, \"ron@hogwarts.wiz\", \"Care of Magical Creatures\"),\n",
    "    (\"Granger\", \"Hermione\", 471617, \"hermione@hogwarts.wiz\", \"Alchemy\"),\n",
    "    (\"Creevey\", \"Colin\", 432646, \"colin@hogwarts.wiz\", \"Music\"),\n",
    "    (\"Finnigan\", \"Seamus\", 481989, \"seamus@hogwarts.wiz\", \"Ancient Studies\"),\n",
    "    (\"Abbott\", \"Hannah\", 488962, \"hannah@hogwarts.wiz\", \"Apparition\"),\n",
    "    (\"Parkinson\", \"Pansy\", 482103, \"pansy@hogwarts.wiz\", \"Dark Arts\"),\n",
    "    (\"Malfoy\", \"Draco\", 492010, \"draco@hogwarts.wiz\", \"Defence Against the Dark Arts\"),\n",
    "    (\"Thomas\", \"Dean\", 447924, \"dean.thomas@hogwarts.wiz\", \"Divination\"),\n",
    "]\n",
    "\n",
    "with open(\"students.txt\", \"w\") as f:\n",
    "    for student in list_of_students:\n",
    "        f.write(str(student) + \"\\n\")"
   ]
  },
  {
   "cell_type": "markdown",
   "metadata": {},
   "source": [
    "**Question 1**: Why is the integer `i` transformed into a string in the first example?  \n",
    "**Question 2**: Why is a `\\n` added to the number? Experiment with the programs above, check the change of the files\n",
    "with a text editor each time.\n",
    "\n",
    "**Answers**: After using the `open()` function, the object will expect a `string` by default when writing to the file.\n",
    "You can change the [mode](https://docs.python.org/3.8/library/functions.html#open) using `b` for binary reading.\n",
    "\n",
    "You should have noticed that the `\\n` will add a line break after each number or student. Otherwise the file would just\n",
    "contain one long and confusing line. You can try this out by omitting the `\\n`."
   ]
  },
  {
   "cell_type": "markdown",
   "metadata": {},
   "source": [
    "# Exercise: Writing letters from a-z to a file\n",
    "Create a program (similar to the previous one) that writes all letters from a-z into one line of a file each.  \n",
    "*Note*: The function `chr()` converts a number into a letter. Here, the number 97 corresponds to an a, the number 98 to\n",
    "a b, and so on. (see next code cell).  \n",
    "The reason of this assignment is the [ASCII table](https://en.wikipedia.org/wiki/ASCII#Control_code_chart). ASCII is a\n",
    "coding standard that assigns the characters and commands of a typewriter to bit combinations. The bit combinations are\n",
    "usually specified as numbers from 0 to 127."
   ]
  },
  {
   "cell_type": "code",
   "execution_count": null,
   "metadata": {},
   "outputs": [],
   "source": [
    "### Task: Writing letters from a-z to a file test cell\n",
    "letter = chr(97)\n",
    "print(letter)\n",
    "letter = chr(98)\n",
    "print(letter)"
   ]
  },
  {
   "cell_type": "code",
   "execution_count": null,
   "metadata": {},
   "outputs": [],
   "source": []
  },
  {
   "cell_type": "markdown",
   "metadata": {},
   "source": [
    "# Exercise: Copy a file\n",
    "Create a program that copies a file. First create a program that creates a copy of \"lorem_ipsum.txt\". Then extend the\n",
    "programme so that it first asks for the file name of the file to be copied, then for the name of the new file. Then the\n",
    "file is copied. Assume that the file actually exists."
   ]
  },
  {
   "cell_type": "code",
   "execution_count": null,
   "metadata": {},
   "outputs": [],
   "source": []
  },
  {
   "cell_type": "markdown",
   "metadata": {},
   "source": [
    "# Exercise: Create a file containing random values\n",
    "Create a file with a random number of numbers (500 < number < 1000) between 0 and 10,000. Remember: With `import random`\n",
    "you load the library with the random numbers. Then you can create a random number between 1 and 100 with\n",
    "`random.randint(0, 100)`."
   ]
  },
  {
   "cell_type": "code",
   "execution_count": null,
   "metadata": {},
   "outputs": [],
   "source": [
    "import random\n",
    "\n",
    "for i in range(10):\n",
    "    print(random.randint(0, 100))"
   ]
  },
  {
   "cell_type": "markdown",
   "metadata": {},
   "source": [
    "# Exercise: Add numbers from a file\n",
    "The file just created contains several numbers. There is a number in each line. Read the file. Indicate how many numbers\n",
    "the file contains and how large the sum of the numbers is."
   ]
  },
  {
   "cell_type": "code",
   "execution_count": null,
   "metadata": {
    "scrolled": true
   },
   "outputs": [],
   "source": []
  }
 ],
 "metadata": {
  "file_extension": ".py",
  "kernelspec": {
   "display_name": "Python 3",
   "language": "python",
   "name": "python3"
  },
  "language_info": {
   "codemirror_mode": {
    "name": "ipython",
    "version": 3
   },
   "file_extension": ".py",
   "mimetype": "text/x-python",
   "name": "python",
   "nbconvert_exporter": "python",
   "pygments_lexer": "ipython3",
   "version": "3.9.7"
  },
  "mimetype": "text/x-python",
  "name": "python",
  "npconvert_exporter": "python",
  "pygments_lexer": "ipython3",
  "version": 3
 },
 "nbformat": 4,
 "nbformat_minor": 2
}
