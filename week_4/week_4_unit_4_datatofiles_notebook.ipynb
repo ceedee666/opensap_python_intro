{
 "cells": [
  {
   "cell_type": "markdown",
   "metadata": {},
   "source": [
    "## Writing files\n",
    "To be able to write to a file it must be opened in a mode that allows writing (e.g. the `'w'` mode). Then data can be written to the file using the `write` method. This is shown in the following cell. "
   ]
  },
  {
   "cell_type": "code",
   "execution_count": null,
   "metadata": {},
   "outputs": [],
   "source": [
    "with open(\"numbers.txt\", \"w\") as f:\n",
    "    for i in range(100):\n",
    "        f.write(str(i) + \"\\n\")"
   ]
  },
  {
   "cell_type": "markdown",
   "metadata": {},
   "source": [
    "Check the result in the file \"zahlen.txt\" with a text editor. Question: Why is the integer `i` still transformed into a string? Another question: Why is a `\\n` added to the number? Experiment with the above program, check each time the change of the file with a text editor."
   ]
  },
  {
   "cell_type": "code",
   "execution_count": null,
   "metadata": {},
   "outputs": [],
   "source": []
  },
  {
   "cell_type": "markdown",
   "metadata": {},
   "source": [
    "### Task: Writing letters from a-z to a file\n",
    "Create a program (similar to the previous one) that writes all letters from a-z into one line of a file each. Note: The function `chr()` converts a number into a letter. Here, the number 97 corresponds to an a, the number 98 to a b, and so on. (see next code cell). Behind this assignment is the ASCII table. ASCII is a coding standard that assigns the characters and commands of a typewriter to bit combinations. The bit combinations are usually specified as numbers from 0 to 127. See also [here](https://de.wikipedia.org/wiki/American_Standard_Code_for_Information_Interchange#ASCII-Tabelle)."
   ]
  },
  {
   "cell_type": "code",
   "execution_count": null,
   "metadata": {},
   "outputs": [],
   "source": [
    "### Task: Writing letters from a-z to a file\n",
    "letter = chr(97)\n",
    "print(letter)\n",
    "letter = chr(98)\n",
    "print(letter)"
   ]
  },
  {
   "cell_type": "code",
   "execution_count": null,
   "metadata": {},
   "outputs": [],
   "source": [
    "with open ...\n",
    "\n"
   ]
  },
  {
   "cell_type": "markdown",
   "metadata": {},
   "source": [
    "# Additional Exercise: Copy a file\n",
    "Create a program that copies a file. First create a programme that creates a copy of \"lorem_ipsum.txt\". Then extend the\n",
    "programme so that it first asks for the file name of the file to be copied, then for the name of the new file. Then the\n",
    "file is copied. Assume that the file actually exists."
   ]
  },
  {
   "cell_type": "code",
   "execution_count": null,
   "metadata": {},
   "outputs": [],
   "source": []
  },
  {
   "cell_type": "markdown",
   "metadata": {},
   "source": [
    "# Additional Exercise: Create a file containing random values\n",
    "Create a file with a random number of numbers (500 < number < 1000) between 0 and 10,000. Remember: With `import random`\n",
    "you load the library with the random numbers. Then you can create a random number between 1 and 100 with\n",
    "`random.randint(0,100)`."
   ]
  },
  {
   "cell_type": "code",
   "execution_count": null,
   "metadata": {},
   "outputs": [],
   "source": [
    "import random\n",
    "\n",
    "for i in range(10):\n",
    "    print(random.randint(0, 100))"
   ]
  },
  {
   "cell_type": "markdown",
   "metadata": {},
   "source": [
    "# Additional Exercise: Add numbers from a file\n",
    "The file just created contains several numbers. There is a number in each line. Read the file. Indicate how many numbers\n",
    "the file contains and how large the sum of the numbers is."
   ]
  },
  {
   "cell_type": "code",
   "execution_count": null,
   "metadata": {
    "scrolled": true
   },
   "outputs": [],
   "source": []
  }
 ],
 "metadata": {
  "file_extension": ".py",
  "kernelspec": {
   "display_name": "Python 3",
   "language": "python",
   "name": "python3"
  },
  "language_info": {
   "codemirror_mode": {
    "name": "ipython",
    "version": 3
   },
   "file_extension": ".py",
   "mimetype": "text/x-python",
   "name": "python",
   "nbconvert_exporter": "python",
   "pygments_lexer": "ipython3",
   "version": "3.9.7"
  },
  "mimetype": "text/x-python",
  "name": "python",
  "npconvert_exporter": "python",
  "pygments_lexer": "ipython3",
  "version": 3
 },
 "nbformat": 4,
 "nbformat_minor": 2
}
